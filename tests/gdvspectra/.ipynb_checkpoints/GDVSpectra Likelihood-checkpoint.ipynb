{
 "cells": [
  {
   "cell_type": "markdown",
   "metadata": {},
   "source": [
    "# GDVSpectra Likelihood module tests"
   ]
  },
  {
   "cell_type": "markdown",
   "metadata": {},
   "source": [
    "## Globals"
   ]
  },
  {
   "cell_type": "code",
   "execution_count": 4,
   "metadata": {},
   "outputs": [],
   "source": [
    "# set globals paths\n",
    "FOLDER_MODULES = r'C:\\Users\\Lewis\\Documents\\GitHub\\tenement-tools\\modules'  \n",
    "FOLDER_SHARED = r'C:\\Users\\Lewis\\Documents\\GitHub\\tenement-tools\\shared'\n",
    "TEST_MODULE = r'C:\\Users\\Lewis\\Documents\\GitHub\\tenement-tools\\tests\\code'\n",
    "GRP_LYR_FILE = r'C:\\Users\\Lewis\\Documents\\GitHub\\tenement-tools\\arc\\lyr\\group_template.lyrx'    "
   ]
  },
  {
   "cell_type": "markdown",
   "metadata": {},
   "source": [
    "## Setup"
   ]
  },
  {
   "cell_type": "markdown",
   "metadata": {},
   "source": [
    "### Imports"
   ]
  },
  {
   "cell_type": "code",
   "execution_count": 5,
   "metadata": {},
   "outputs": [
    {
     "data": {
      "text/plain": [
       "<module 'toolbox'>"
      ]
     },
     "execution_count": 5,
     "metadata": {},
     "output_type": "execute_result"
    }
   ],
   "source": [
    "# imports\n",
    "import os\n",
    "import random\n",
    "import numpy as np\n",
    "import xarray as xr\n",
    "from IPython.utils import io\n",
    "\n",
    "# import testing functions\n",
    "sys.path.append(TEST_MODULE)\n",
    "import test_funcs\n",
    "\n",
    "# import full arcpy toolbox\n",
    "arcpy.ImportToolbox(r\"C:\\Users\\Lewis\\Documents\\GitHub\\tenement-tools\\arc\\toolbox\\tenement-tools-toolbox.pyt\")"
   ]
  },
  {
   "cell_type": "markdown",
   "metadata": {},
   "source": [
    "### Reload libraries"
   ]
  },
  {
   "cell_type": "code",
   "execution_count": 6,
   "metadata": {},
   "outputs": [
    {
     "data": {
      "text/plain": [
       "<module 'test_funcs' from 'C:\\\\Users\\\\Lewis\\\\Documents\\\\GitHub\\\\tenement-tools\\\\tests\\\\code\\\\test_funcs.py'>"
      ]
     },
     "execution_count": 6,
     "metadata": {},
     "output_type": "execute_result"
    }
   ],
   "source": [
    "# if scripts change, reload\n",
    "from importlib import reload\n",
    "reload(test_funcs)"
   ]
  },
  {
   "cell_type": "markdown",
   "metadata": {},
   "source": [
    "### Set data files and locations"
   ]
  },
  {
   "cell_type": "code",
   "execution_count": 7,
   "metadata": {},
   "outputs": [],
   "source": [
    "# setup general io. nc ins and outs exist in these folders\n",
    "input_folder = r'E:\\Curtin\\GDVII - General\\Work Package 2\\test_data\\gdvspectra_likelihood\\inputs'\n",
    "output_folder = r'E:\\Curtin\\GDVII - General\\Work Package 2\\test_data\\gdvspectra_likelihood\\outputs'\n",
    "\n",
    "# temp nc file for use when breaking ncs\n",
    "temp_nc = os.path.join(input_folder, 'temp_nc.nc')  \n",
    "\n",
    "# setup landsat cubes paths\n",
    "ls_cubes = [\n",
    "    r\"E:\\Curtin\\GDVII - General\\Work Package 2\\test_data\\gdvspectra_likelihood\\inputs\\yandi_1_ls_90_20_raw_odc.nc\",\n",
    "    r\"E:\\Curtin\\GDVII - General\\Work Package 2\\test_data\\gdvspectra_likelihood\\inputs\\yandi_2_ls_90_20_raw_odc.nc\", # done all\n",
    "    r\"E:\\Curtin\\GDVII - General\\Work Package 2\\test_data\\gdvspectra_likelihood\\inputs\\yandi_3_ls_90_20_raw_odc.nc\",\n",
    "    r\"E:\\Curtin\\GDVII - General\\Work Package 2\\test_data\\gdvspectra_likelihood\\inputs\\yandi_4_ls_90_20_raw_odc.nc\", # done all\n",
    "    r\"E:\\Curtin\\GDVII - General\\Work Package 2\\test_data\\gdvspectra_likelihood\\inputs\\dwer_1_ls_90_20_raw_odc.nc\",  # done all\n",
    "    r\"E:\\Curtin\\GDVII - General\\Work Package 2\\test_data\\gdvspectra_likelihood\\inputs\\roy_1_ls_10_20_raw_odc.nc\",\n",
    "    r\"E:\\Curtin\\GDVII - General\\Work Package 2\\test_data\\gdvspectra_likelihood\\inputs\\roy_3_ls_10_20_raw_odc.nc\",\n",
    "    r\"E:\\Curtin\\GDVII - General\\Work Package 2\\test_data\\gdvspectra_likelihood\\inputs\\tute_1_ls_10_20_raw_odc.nc\",  # done all\n",
    "]\n",
    "\n",
    "# setup sentinel2 cubes paths\n",
    "s2_cubes = [\n",
    "    r\"E:\\Curtin\\GDVII - General\\Work Package 2\\test_data\\gdvspectra_likelihood\\inputs\\yandi_2_s2_16_20_raw_odc.nc\", # done all\n",
    "    r\"E:\\Curtin\\GDVII - General\\Work Package 2\\test_data\\gdvspectra_likelihood\\inputs\\yandi_3_s2_16_20_raw_odc.nc\",\n",
    "    r\"E:\\Curtin\\GDVII - General\\Work Package 2\\test_data\\gdvspectra_likelihood\\inputs\\yandi_4_s2_16_20_raw_odc.nc\",\n",
    "    r\"E:\\Curtin\\GDVII - General\\Work Package 2\\test_data\\gdvspectra_likelihood\\inputs\\dwer_1_s2_16_20_raw_odc.nc\",  # done def\n",
    "    r\"E:\\Curtin\\GDVII - General\\Work Package 2\\test_data\\gdvspectra_likelihood\\inputs\\roy_2_s2_16_21_raw_odc.nc\",   # done def\n",
    "    r\"E:\\Curtin\\GDVII - General\\Work Package 2\\test_data\\gdvspectra_likelihood\\inputs\\tute_1_s2_18_20_raw_odc.nc\",\n",
    "]"
   ]
  },
  {
   "cell_type": "markdown",
   "metadata": {},
   "source": [
    "### Set specific raw netcdf file"
   ]
  },
  {
   "cell_type": "code",
   "execution_count": 8,
   "metadata": {},
   "outputs": [],
   "source": [
    "# set specific dataset\n",
    "#nc_file = ls_cubes[6]\n",
    "nc_file = s2_cubes[-1]"
   ]
  },
  {
   "cell_type": "markdown",
   "metadata": {},
   "source": [
    "### Set up function to iterate corruptor and tests"
   ]
  },
  {
   "cell_type": "code",
   "execution_count": 9,
   "metadata": {},
   "outputs": [],
   "source": [
    "def run_corruptors_through_tests(in_nc, nc_coors, tests, verbose):\n",
    "    \"\"\"\n",
    "    this func takes a path to nc file or raw sat imagery, a list of nc\n",
    "    corruptor funcs and params, a list of test funcs and params. Each \n",
    "    nc corruptor func is iterated through, and for each corrupted nc, \n",
    "    each test in tests is applied to corrupted nc. verbose sets how\n",
    "    much information is printed.\n",
    "    \"\"\"\n",
    "    \n",
    "    for nc_corr in nc_corrs:\n",
    "        corr_name = nc_corr[0].__name__                   # name of current corruptor func\n",
    "        corr_func, corr_params = nc_corr[0], nc_corr[1]   # pointer to corruptor func and dict of params\n",
    "        \n",
    "        # notify\n",
    "        print('Corrupting NetCDF via: {}.\\n'.format(corr_name) + '- ' * 30)\n",
    "\n",
    "        # create temp nc and corrupt it with current corruptor\n",
    "        if not verbose:\n",
    "            with io.capture_output() as cap:\n",
    "                test_funcs.create_temp_nc(in_nc=in_nc, out_nc=temp_nc)\n",
    "        else:\n",
    "            test_funcs.create_temp_nc(in_nc=in_nc, out_nc=temp_nc)\n",
    "\n",
    "        # run current corruptor function\n",
    "        try:\n",
    "            corr_func(**corr_params)\n",
    "        except Exception as e:    \n",
    "            print(e)\n",
    "            print('Corruptor did not have enough data to work with. Skipping.\\n')\n",
    "\n",
    "        # iter each test func and apply to current corrupt nc\n",
    "        for test in tests:\n",
    "            test_nc_name = corr_name + '_' + test[0]    # name of current test nc\n",
    "            test_func, test_params = test[1], test[2]   # pointer to test func and dict of params\n",
    "            test_msg = test[3]\n",
    "            \n",
    "            # notify of test message\n",
    "            print(test_msg)\n",
    "\n",
    "            # create output nc file path and name and update params for in/out paths\n",
    "            out_nc_file = os.path.join(output_folder, test_nc_name)\n",
    "            \n",
    "            # remove output nc if exists\n",
    "            if os.path.exists(out_nc_file):\n",
    "                os.remove(out_nc_file)\n",
    "            \n",
    "            # update params\n",
    "            test_params.update({'in_nc_file': temp_nc, 'out_likelihood_nc_file': out_nc_file})\n",
    "\n",
    "            # perform current test\n",
    "            try:\n",
    "                # notify\n",
    "                print('Performing test: {}.'.format(test_nc_name))\n",
    "\n",
    "                # perform test, provide prints if requested\n",
    "                if not verbose:\n",
    "                    with io.capture_output() as cap:\n",
    "                        test_func(**test_params)\n",
    "                else:\n",
    "                    test_func(**test_params)\n",
    "                    print('\\n')\n",
    "\n",
    "            except Exception as e:    \n",
    "                print(e)\n",
    "\n",
    "        # notify\n",
    "        print('All tests applied to corruptor NetCDF.\\n\\n')"
   ]
  },
  {
   "cell_type": "markdown",
   "metadata": {},
   "source": [
    "### Set up netcdf corruptor functions"
   ]
  },
  {
   "cell_type": "code",
   "execution_count": 10,
   "metadata": {},
   "outputs": [],
   "source": [
    "# these are numerous netcdf corruptors. feed a raw nc in, break it, output as temp nc\n",
    "# comment out any that are irrelevant\n",
    "# each of these uncommented will be fed through the tests below\n",
    "def build_nc_corruptors(temp_nc):\n",
    "    \"\"\"\n",
    "    each one of these is a unique netcdf corruptor functions and \n",
    "    associated parameters. \n",
    "    \"\"\"\n",
    "    \n",
    "    # set up list\n",
    "    cs = []\n",
    "\n",
    "    # func: raw default dataset, no changes\n",
    "    #cs.append([test_funcs.nc_default, {'in_nc': temp_nc}])\n",
    "\n",
    "    # func: remove x, y, time, spatial_ref coords\n",
    "    #cs.append([test_funcs.remove_coord, {'in_nc': temp_nc, 'coord': 'x'}])\n",
    "    #cs.append([test_funcs.remove_coord, {'in_nc': temp_nc, 'coord': 'y'}])\n",
    "    #cs.append([test_funcs.remove_coord, {'in_nc': temp_nc, 'coord': 'time'}])\n",
    "    #cs.append([test_funcs.remove_coord, {'in_nc': temp_nc, 'coord': 'spatial_ref'}])\n",
    "\n",
    "    #func: remove red and oa_fmask band vars\n",
    "    #cs.append([test_funcs.remove_var, {'in_nc': temp_nc, 'var': 'nbart_red'}])\n",
    "    #cs.append([test_funcs.remove_var, {'in_nc': temp_nc, 'var': 'oa_fmask'}])\n",
    "\n",
    "    #func: limit number of years in various combos\n",
    "    #cs.append([test_funcs.limit_years, {'in_nc': temp_nc, 's_year': 1990, 'e_year': 1990}])\n",
    "    #cs.append([test_funcs.limit_years, {'in_nc': temp_nc, 's_year': 2010, 'e_year': 2010}])\n",
    "    #cs.append([test_funcs.limit_years, {'in_nc': temp_nc, 's_year': 2012, 'e_year': 2012}])\n",
    "    #cs.append([test_funcs.limit_years, {'in_nc': temp_nc, 's_year': 1991, 'e_year': 1992}])\n",
    "    #cs.append([test_funcs.limit_years, {'in_nc': temp_nc, 's_year': 2005, 'e_year': 2006}])\n",
    "    #cs.append([test_funcs.limit_years, {'in_nc': temp_nc, 's_year': 2019, 'e_year': 2020}])\n",
    "    #cs.append([test_funcs.limit_years, {'in_nc': temp_nc, 's_year': 1993, 'e_year': 1995}])\n",
    "    #cs.append([test_funcs.limit_years, {'in_nc': temp_nc, 's_year': 2010, 'e_year': 2012}])\n",
    "    #cs.append([test_funcs.limit_years, {'in_nc': temp_nc, 's_year': 2011, 'e_year': 2013}])\n",
    "\n",
    "    #func: set all vars to nan\n",
    "    cs.append([test_funcs.set_nc_vars_all_nan, {'in_nc': temp_nc}])\n",
    "\n",
    "    #func: set all vars to zero\n",
    "    #cs.append([test_funcs.set_nc_vars_all_zero, {'in_nc': temp_nc}])\n",
    "\n",
    "    #func: set all vars for 10 rand times to all nan\n",
    "    #cs.append([test_funcs.set_nc_vars_random_all_nan, {'in_nc': temp_nc, 'num': 10}])\n",
    "\n",
    "    #func: strip all attrs from nc    \n",
    "    #cs.append([test_funcs.strip_nc_attributes, {'in_nc': temp_nc}])\n",
    "\n",
    "    #func: set vars in first and last time index to all nan\n",
    "    #cs.append([test_funcs.set_end_times_to_all_nan, {'in_nc': temp_nc}])\n",
    "\n",
    "    #func: reduce whole nc to one random time slice\n",
    "    #cs.append([test_funcs.reduce_to_one_scene, {'in_nc': temp_nc}])\n",
    "\n",
    "    #func: set wet months all nan, all years, for specific months\n",
    "    #cs.append([test_funcs.set_all_specific_season_nan, {'in_nc': temp_nc, 'months': [1]}])\n",
    "    #cs.append([test_funcs.set_all_specific_season_nan, {'in_nc': temp_nc, 'months': [1, 2, 3]}])\n",
    "    #cs.append([test_funcs.set_all_specific_season_nan, {'in_nc': temp_nc, 'months': [7, 8, 9, 10, 11, 12]}])\n",
    "\n",
    "    #func: set wet months all nan, specific years, for specific months\n",
    "    #cs.append([test_funcs.set_specific_years_season_nan, {'in_nc': temp_nc, 'years': [1990], 'months': [1, 2, 3]}])\n",
    "    #cs.append([test_funcs.set_specific_years_season_nan, {'in_nc': temp_nc, 'years': [2005], 'months': [1, 2, 3]}])\n",
    "    #cs.append([test_funcs.set_specific_years_season_nan, {'in_nc': temp_nc, 'years': [2006, 2007], 'months': [1, 2, 3]}])\n",
    "\n",
    "    #func: drop wet months, all years, for specific months\n",
    "    #cs.append([test_funcs.remove_all_specific_season_nan, {'in_nc': temp_nc, 'months': [1]}])\n",
    "    #cs.append([test_funcs.remove_all_specific_season_nan, {'in_nc': temp_nc, 'months': [1, 2, 3]}])\n",
    "    #cs.append([test_funcs.remove_all_specific_season_nan, {'in_nc': temp_nc, 'months': [7, 8, 9, 10, 11, 12]}])\n",
    "\n",
    "    #func: drop wet months, specific years, for specific months (note: seperate tests)\n",
    "    #cs.append([test_funcs.remove_specific_years_season_nan, {'in_nc': temp_nc, 'years': [1990], 'months': [1, 2, 3]}])\n",
    "    #cs.append([test_funcs.remove_specific_years_season_nan, {'in_nc': temp_nc, 'years': [2009], 'months': [1, 2, 3]}])\n",
    "    #cs.append([test_funcs.remove_specific_years_season_nan, {'in_nc': temp_nc, 'years': [2007, 2008], 'months': [1, 2, 3]}])\n",
    "\n",
    "    #func: remove crs attribute\n",
    "    #cs.append([test_funcs.remove_crs_attr, {'in_nc': temp_nc}])\n",
    "\n",
    "    #func: invalidate crs attribute\n",
    "    #cs.append([test_funcs.invalidate_crs_attr, {'in_nc': temp_nc, 'crs_text': 'EPSG:4326'}])\n",
    "    #cs.append([test_funcs.invalidate_crs_attr, {'in_nc': temp_nc, 'crs_text': ''}])\n",
    "\n",
    "    #func: remove nodatavals attribute\n",
    "    #cs.append([test_funcs.remove_nodatavals_attr, {'in_nc': temp_nc}])\n",
    "    \n",
    "    return cs\n",
    "\n",
    "nc_corruptors = build_nc_corruptors(temp_nc=temp_nc)"
   ]
  },
  {
   "cell_type": "markdown",
   "metadata": {},
   "source": [
    "## Run tests"
   ]
  },
  {
   "cell_type": "markdown",
   "metadata": {},
   "source": [
    "### Test One: Wet Months"
   ]
  },
  {
   "cell_type": "code",
   "execution_count": 50,
   "metadata": {},
   "outputs": [],
   "source": [
    "def build_test_one_funcs(in_nc, temp_nc):\n",
    "    \"\"\"sets up test one functions\"\"\"\n",
    "    \n",
    "    # set default params for tool\n",
    "    inputs = {\n",
    "        'in_nc_file': '',                         # input nc (i.e. temp nc)\n",
    "        'out_likelihood_nc_file': '',             # output nc (i.e. t1a nc)\n",
    "        'in_wet_months': '',                      # wet months \n",
    "        'in_dry_months': '9;10;11',               # dry months \n",
    "        'in_veg_idx': 'MAVI',                     # vege index name\n",
    "        'in_mst_idx': 'NDMI',                     # moisture index name       \n",
    "        'in_aggregate': False,                    # aggregate output\n",
    "        'in_zscore_pvalue': None,                 # zscore pvalue\n",
    "        'in_stand_qupper': 0.99,                  # upper quantile for standardisation\n",
    "        'in_stand_qlower': 0.05,                  # lower quantile for standardisation\n",
    "        'in_fmask_flags': 'Valid;Snow;Water',     # fmask flag values\n",
    "        'in_max_cloud': 10,                       # max cloud percentage\n",
    "        'in_interpolate': True,                   # interpolate missing pixels\n",
    "        'in_add_result_to_map': True,             # add result to map\n",
    "    }\n",
    "    \n",
    "    # set up list\n",
    "    ts = []\n",
    "\n",
    "    # func: default wet months 1, 2, 3\n",
    "    msg = 'Running Test One: default wet months.'\n",
    "    params = inputs.copy()\n",
    "    params.update({'in_wet_months': '1;2;3'})\n",
    "    ts.append(['t_1_def.nc', arcpy.GDVSpectra_Likelihood_toolbox , params, msg])\n",
    "    \n",
    "    # func: no wet months\n",
    "    msg = 'Running Test One: \"\" wet months.'\n",
    "    params = inputs.copy()\n",
    "    params.update({'in_wet_months': ''})\n",
    "    ts.append(['t_1_a.nc', arcpy.GDVSpectra_Likelihood_toolbox , params, msg])\n",
    "    \n",
    "    # func: one random month\n",
    "    rand = str(random.randint(1, 5))\n",
    "    msg = 'Running Test One: single random wet month ({}).'.format(rand)\n",
    "    params = inputs.copy()\n",
    "    params.update({'in_wet_months': rand})\n",
    "    ts.append(['t_1_b.nc', arcpy.GDVSpectra_Likelihood_toolbox , params, msg])    \n",
    "\n",
    "    # func: three months (2, 3, 4)\n",
    "    msg = 'Running Test One: 2;3;4 as wet months.'\n",
    "    params = inputs.copy()\n",
    "    params.update({'in_wet_months': '2;3;4'})\n",
    "    ts.append(['t_1_c.nc', arcpy.GDVSpectra_Likelihood_toolbox , params, msg])    \n",
    "    \n",
    "    # func: all dry season months in wet season\n",
    "    msg = 'Running Test One: dry months 5;6;7;8;9 as wet months.'\n",
    "    params = inputs.copy()\n",
    "    params.update({'in_wet_months': '5;6;7;8;9'})\n",
    "    ts.append(['t_1_d.nc', arcpy.GDVSpectra_Likelihood_toolbox , params, msg]) \n",
    "\n",
    "    # func: wet season includes a month in dec\n",
    "    msg = 'Running Test One: wet months contain dec (12).'\n",
    "    params = inputs.copy()\n",
    "    params.update({'in_wet_months': '12;1;2'})\n",
    "    ts.append(['t_1_e.nc', arcpy.GDVSpectra_Likelihood_toolbox , params, msg]) \n",
    "    \n",
    "    # func: wet season includes only one month in dec\n",
    "    msg = 'Running Test One: single wet month in dec (12).'\n",
    "    params = inputs.copy()\n",
    "    params.update({'in_wet_months': '12'})\n",
    "    ts.append(['t_1_f.nc', arcpy.GDVSpectra_Likelihood_toolbox , params, msg])     \n",
    "        \n",
    "    return ts"
   ]
  },
  {
   "cell_type": "markdown",
   "metadata": {},
   "source": [
    "### Test One: Run!"
   ]
  },
  {
   "cell_type": "code",
   "execution_count": 51,
   "metadata": {
    "scrolled": true
   },
   "outputs": [
    {
     "name": "stdout",
     "output_type": "stream",
     "text": [
      "Corrupting NetCDF via: nc_default.\n",
      "- - - - - - - - - - - - - - - - - - - - - - - - - - - - - - \n",
      "No changes, setting up for default dataset.\n",
      "Running Test One: default wet months.\n",
      "Performing test: nc_default_t_1_def.nc.\n",
      "Running Test One: \"\" wet months.\n",
      "Performing test: nc_default_t_1_a.nc.\n",
      "Failed to execute. Parameters are not valid.\n",
      "ERROR 000735: Wet month(s): Value is required\n",
      "Failed to execute (GDVSpectra_Likelihood).\n",
      "\n",
      "Running Test One: single random wet month (2).\n",
      "Performing test: nc_default_t_1_b.nc.\n",
      "Running Test One: 2;3;4 as wet months.\n",
      "Performing test: nc_default_t_1_c.nc.\n",
      "Running Test One: dry months 5;6;7;8;9 as wet months.\n",
      "Performing test: nc_default_t_1_d.nc.\n",
      "Cannot use same month in wet and dry months.\n",
      "Failed to execute (GDVSpectra_Likelihood).\n",
      "\n",
      "Running Test One: wet months contain dec (12).\n",
      "Performing test: nc_default_t_1_e.nc.\n",
      "Running Test One: single wet month in dec (12).\n",
      "Performing test: nc_default_t_1_f.nc.\n",
      "All tests applied to corruptor NetCDF.\n",
      "\n",
      "\n"
     ]
    }
   ],
   "source": [
    "# build lsit of nc corruptors and tests to iterate\n",
    "nc_corrs = build_nc_corruptors(temp_nc)\n",
    "tests = build_test_one_funcs(in_nc=nc_file, temp_nc=temp_nc)\n",
    "\n",
    "# run!\n",
    "run_corruptors_through_tests(in_nc=nc_file, nc_coors=nc_corrs, tests=tests, verbose=False)"
   ]
  },
  {
   "cell_type": "markdown",
   "metadata": {
    "heading_collapsed": true,
    "scrolled": false
   },
   "source": [
    "### Test Two: Dry Months"
   ]
  },
  {
   "cell_type": "code",
   "execution_count": 52,
   "metadata": {
    "hidden": true
   },
   "outputs": [],
   "source": [
    "def build_test_two_funcs(in_nc, temp_nc):\n",
    "    \"\"\"sets up test two functions\"\"\"\n",
    "    \n",
    "    # set default params for tool\n",
    "    inputs = {\n",
    "        'in_nc_file': '',                         # input nc (i.e. temp nc)\n",
    "        'out_likelihood_nc_file': '',             # output nc (i.e. t1a nc)\n",
    "        'in_wet_months': '1;2;3',                      # wet months \n",
    "        'in_dry_months': '',                      # dry months \n",
    "        'in_veg_idx': 'MAVI',                     # vege index name\n",
    "        'in_mst_idx': 'NDMI',                     # moisture index name       \n",
    "        'in_aggregate': False,                    # aggregate output\n",
    "        'in_zscore_pvalue': None,                 # zscore pvalue\n",
    "        'in_stand_qupper': 0.99,                  # upper quantile for standardisation\n",
    "        'in_stand_qlower': 0.05,                  # lower quantile for standardisation\n",
    "        'in_fmask_flags': 'Valid;Snow;Water',     # fmask flag values\n",
    "        'in_max_cloud': 10,                       # max cloud percentage\n",
    "        'in_interpolate': True,                   # interpolate missing pixels\n",
    "        'in_add_result_to_map': True,             # add result to map\n",
    "    }\n",
    "    \n",
    "    # set up list\n",
    "    ts = []\n",
    "            \n",
    "    # func: default dry months 9, 10, 11\n",
    "    msg = 'Running Test Two: default dry months.'\n",
    "    params = inputs.copy()\n",
    "    params.update({'in_dry_months': '9;10;11'})\n",
    "    ts.append(['t_2_def.nc', arcpy.GDVSpectra_Likelihood_toolbox , params, msg])\n",
    "    \n",
    "    # func: no dry months\n",
    "    msg = 'Running Test Two: \"\" dry months.'\n",
    "    params = inputs.copy()\n",
    "    params.update({'in_dry_months': ''})\n",
    "    ts.append(['t_2_a.nc', arcpy.GDVSpectra_Likelihood_toolbox , params, msg])\n",
    "    \n",
    "    # func: one random month\n",
    "    rand = str(random.randint(7, 12))\n",
    "    msg = 'Running Test Two: single random dry month ({}).'.format(rand)\n",
    "    params = inputs.copy()\n",
    "    params.update({'in_dry_months': rand})\n",
    "    ts.append(['t_2_b.nc', arcpy.GDVSpectra_Likelihood_toolbox , params, msg])    \n",
    "\n",
    "    # func: three months (8, 9, 10)\n",
    "    msg = 'Running Test Two: 10;11;12 as dry months.'\n",
    "    params = inputs.copy()\n",
    "    params.update({'in_dry_months': '10;11;12'})\n",
    "    ts.append(['t_2_c.nc', arcpy.GDVSpectra_Likelihood_toolbox , params, msg])    \n",
    "    \n",
    "    # func: all dry season months in wet season\n",
    "    msg = 'Running Test Two: dry months 1;2;3;4;5 as dry months.'\n",
    "    params = inputs.copy()\n",
    "    params.update({'in_dry_months': '1;2;3;4;5'})\n",
    "    ts.append(['t_2_d.nc', arcpy.GDVSpectra_Likelihood_toolbox , params, msg]) \n",
    "\n",
    "    # func: wet season includes a month in dec\n",
    "    msg = 'Running Test Two: dry months contain one month in jan (1).'\n",
    "    params = inputs.copy()\n",
    "    params.update({'in_dry_months': '11;12;1'})\n",
    "    ts.append(['t_2_e.nc', arcpy.GDVSpectra_Likelihood_toolbox , params, msg]) \n",
    "        \n",
    "    return ts"
   ]
  },
  {
   "cell_type": "markdown",
   "metadata": {},
   "source": [
    "### Test Two: Run!"
   ]
  },
  {
   "cell_type": "code",
   "execution_count": 53,
   "metadata": {
    "scrolled": true
   },
   "outputs": [
    {
     "name": "stdout",
     "output_type": "stream",
     "text": [
      "Corrupting NetCDF via: nc_default.\n",
      "- - - - - - - - - - - - - - - - - - - - - - - - - - - - - - \n",
      "No changes, setting up for default dataset.\n",
      "Running Test Two: default dry months.\n",
      "Performing test: nc_default_t_2_def.nc.\n",
      "Running Test Two: \"\" dry months.\n",
      "Performing test: nc_default_t_2_a.nc.\n",
      "Failed to execute. Parameters are not valid.\n",
      "ERROR 000735: Dry month(s): Value is required\n",
      "Failed to execute (GDVSpectra_Likelihood).\n",
      "\n",
      "Running Test Two: single random dry month (10).\n",
      "Performing test: nc_default_t_2_b.nc.\n",
      "Running Test Two: 10;11;12 as dry months.\n",
      "Performing test: nc_default_t_2_c.nc.\n",
      "Running Test Two: dry months 1;2;3;4;5 as dry months.\n",
      "Performing test: nc_default_t_2_d.nc.\n",
      "Cannot use same month in wet and dry months.\n",
      "Failed to execute (GDVSpectra_Likelihood).\n",
      "\n",
      "Running Test Two: dry months contain one month in jan (1).\n",
      "Performing test: nc_default_t_2_e.nc.\n",
      "Cannot use same month in wet and dry months.\n",
      "Failed to execute (GDVSpectra_Likelihood).\n",
      "\n",
      "All tests applied to corruptor NetCDF.\n",
      "\n",
      "\n"
     ]
    }
   ],
   "source": [
    "# build lsit of nc corruptors and tests to iterate\n",
    "nc_corrs = build_nc_corruptors(temp_nc)\n",
    "tests = build_test_two_funcs(in_nc=nc_file, temp_nc=temp_nc)\n",
    "\n",
    "# run!\n",
    "run_corruptors_through_tests(in_nc=nc_file, nc_coors=nc_corrs, tests=tests, verbose=False)"
   ]
  },
  {
   "cell_type": "markdown",
   "metadata": {
    "heading_collapsed": true
   },
   "source": [
    "### Test Three: Vegetation Idx"
   ]
  },
  {
   "cell_type": "code",
   "execution_count": 54,
   "metadata": {
    "hidden": true
   },
   "outputs": [],
   "source": [
    "def build_test_three_funcs(in_nc, temp_nc):\n",
    "    \"\"\"sets up test three functions\"\"\"\n",
    "    \n",
    "    # set default params for tool\n",
    "    inputs = {\n",
    "        'in_nc_file': '',                         # input nc (i.e. temp nc)\n",
    "        'out_likelihood_nc_file': '',             # output nc (i.e. t1a nc)\n",
    "        'in_wet_months': '1;2;3',                 # wet months \n",
    "        'in_dry_months': '9;10;11',               # dry months \n",
    "        'in_veg_idx': '',                     # vege index name\n",
    "        'in_mst_idx': 'NDMI',                     # moisture index name       \n",
    "        'in_aggregate': False,                    # aggregate output\n",
    "        'in_zscore_pvalue': None,                 # zscore pvalue\n",
    "        'in_stand_qupper': 0.99,                  # upper quantile for standardisation\n",
    "        'in_stand_qlower': 0.05,                  # lower quantile for standardisation\n",
    "        'in_fmask_flags': 'Valid;Snow;Water',     # fmask flag values\n",
    "        'in_max_cloud': 10,                       # max cloud percentage\n",
    "        'in_interpolate': True,                   # interpolate missing pixels\n",
    "        'in_add_result_to_map': True,             # add result to map\n",
    "    }\n",
    "    \n",
    "    # set up list\n",
    "    ts = []\n",
    "            \n",
    "    # func: default veg idx mavi\n",
    "    msg = 'Running Test Three: default veg idx (mavi).'\n",
    "    params = inputs.copy()\n",
    "    params.update({'in_veg_idx': 'MAVI'})\n",
    "    ts.append(['t_3_def.nc', arcpy.GDVSpectra_Likelihood_toolbox , params, msg])\n",
    "    \n",
    "    # func: veg idx is ''\n",
    "    msg = 'Running Test Three: veg idx is \"\".'\n",
    "    params = inputs.copy()\n",
    "    params.update({'in_veg_idx': ''})\n",
    "    ts.append(['t_3_a.nc', arcpy.GDVSpectra_Likelihood_toolbox , params, msg])\n",
    "    \n",
    "    # func: veg idx is ndvi\n",
    "    msg = 'Running Test Three: veg idx is NDVI.'\n",
    "    params = inputs.copy()\n",
    "    params.update({'in_veg_idx': 'NDVI'})\n",
    "    ts.append(['t_3_b.nc', arcpy.GDVSpectra_Likelihood_toolbox , params, msg])\n",
    "    \n",
    "    # func: veg idx is evi\n",
    "    msg = 'Running Test Three: veg idx is EVI.'\n",
    "    params = inputs.copy()\n",
    "    params.update({'in_veg_idx': 'EVI'})\n",
    "    ts.append(['t_3_c.nc', arcpy.GDVSpectra_Likelihood_toolbox , params, msg])\n",
    "    \n",
    "    # func: veg idx is savi\n",
    "    msg = 'Running Test Three: veg idx is SAVI.'\n",
    "    params = inputs.copy()\n",
    "    params.update({'in_veg_idx': 'SAVI'})\n",
    "    ts.append(['t_3_d.nc', arcpy.GDVSpectra_Likelihood_toolbox , params, msg])\n",
    "    \n",
    "    # func: veg idx is msavi\n",
    "    msg = 'Running Test Three: veg idx is MSAVI.'\n",
    "    params = inputs.copy()\n",
    "    params.update({'in_veg_idx': 'MSAVI'})\n",
    "    ts.append(['t_3_e.nc', arcpy.GDVSpectra_Likelihood_toolbox , params, msg])\n",
    "\n",
    "    # func: veg idx is slavi\n",
    "    msg = 'Running Test Three: veg idx is SLAVI.'\n",
    "    params = inputs.copy()\n",
    "    params.update({'in_veg_idx': 'SLAVI'})\n",
    "    ts.append(['t_3_f.nc', arcpy.GDVSpectra_Likelihood_toolbox , params, msg])\n",
    "\n",
    "    # func: veg idx is mavi\n",
    "    msg = 'Running Test Three: veg idx is MAVI.'\n",
    "    params = inputs.copy()\n",
    "    params.update({'in_veg_idx': 'MAVI'})\n",
    "    ts.append(['t_3_g.nc', arcpy.GDVSpectra_Likelihood_toolbox , params, msg])\n",
    "    \n",
    "    # func: veg idx is kndvi\n",
    "    msg = 'Running Test Three: veg idx is kNDVI.'\n",
    "    params = inputs.copy()\n",
    "    params.update({'in_veg_idx': 'kNDVI'})\n",
    "    ts.append(['t_3_h.nc', arcpy.GDVSpectra_Likelihood_toolbox , params, msg])    \n",
    "\n",
    "    # func: veg idx is tcg\n",
    "    msg = 'Running Test Three: veg idx is TCG.'\n",
    "    params = inputs.copy()\n",
    "    params.update({'in_veg_idx': 'TCG'})\n",
    "    ts.append(['t_3_i.nc', arcpy.GDVSpectra_Likelihood_toolbox , params, msg])    \n",
    "    \n",
    "    # func: veg idx is nrva (non-existant)\n",
    "    msg = 'Running Test Three: veg idx is NRVA (non-existant).'\n",
    "    params = inputs.copy()\n",
    "    params.update({'in_veg_idx': 'NRVA'})\n",
    "    ts.append(['t_3_j.nc', arcpy.GDVSpectra_Likelihood_toolbox , params, msg])    \n",
    "        \n",
    "    return ts"
   ]
  },
  {
   "cell_type": "markdown",
   "metadata": {},
   "source": [
    "### Test Three: Run!"
   ]
  },
  {
   "cell_type": "code",
   "execution_count": 55,
   "metadata": {
    "scrolled": true
   },
   "outputs": [
    {
     "name": "stdout",
     "output_type": "stream",
     "text": [
      "Corrupting NetCDF via: nc_default.\n",
      "- - - - - - - - - - - - - - - - - - - - - - - - - - - - - - \n",
      "No changes, setting up for default dataset.\n",
      "Running Test Three: default veg idx (mavi).\n",
      "Performing test: nc_default_t_3_def.nc.\n",
      "Running Test Three: veg idx is \"\".\n",
      "Performing test: nc_default_t_3_a.nc.\n",
      "Running Test Three: veg idx is NDVI.\n",
      "Performing test: nc_default_t_3_b.nc.\n",
      "Running Test Three: veg idx is EVI.\n",
      "Performing test: nc_default_t_3_c.nc.\n",
      "Running Test Three: veg idx is SAVI.\n",
      "Performing test: nc_default_t_3_d.nc.\n",
      "Running Test Three: veg idx is MSAVI.\n",
      "Performing test: nc_default_t_3_e.nc.\n",
      "Running Test Three: veg idx is SLAVI.\n",
      "Performing test: nc_default_t_3_f.nc.\n",
      "Running Test Three: veg idx is MAVI.\n",
      "Performing test: nc_default_t_3_g.nc.\n",
      "Running Test Three: veg idx is kNDVI.\n",
      "Performing test: nc_default_t_3_h.nc.\n",
      "Running Test Three: veg idx is TCG.\n",
      "Performing test: nc_default_t_3_i.nc.\n",
      "Running Test Three: veg idx is NRVA (non-existant).\n",
      "Performing test: nc_default_t_3_j.nc.\n",
      "Failed to execute. Parameters are not valid.\n",
      "ERROR 000800: The value is not a member of NDVI | EVI | SAVI | MSAVI | SLAVI | MAVI | kNDVI | TCG.\n",
      "Failed to execute (GDVSpectra_Likelihood).\n",
      "\n",
      "All tests applied to corruptor NetCDF.\n",
      "\n",
      "\n"
     ]
    }
   ],
   "source": [
    "# build lsit of nc corruptors and tests to iterate\n",
    "nc_corrs = build_nc_corruptors(temp_nc)\n",
    "tests = build_test_three_funcs(in_nc=nc_file, temp_nc=temp_nc)\n",
    "\n",
    "# run!\n",
    "run_corruptors_through_tests(in_nc=nc_file, nc_coors=nc_corrs, tests=tests, verbose=False)"
   ]
  },
  {
   "cell_type": "markdown",
   "metadata": {
    "heading_collapsed": true
   },
   "source": [
    "### Test Four: Moisture Idx"
   ]
  },
  {
   "cell_type": "code",
   "execution_count": 56,
   "metadata": {
    "hidden": true
   },
   "outputs": [],
   "source": [
    "def build_test_four_funcs(in_nc, temp_nc):\n",
    "    \"\"\"sets up test four functions\"\"\"\n",
    "    \n",
    "    # set default params for tool\n",
    "    inputs = {\n",
    "        'in_nc_file': '',                         # input nc (i.e. temp nc)\n",
    "        'out_likelihood_nc_file': '',             # output nc (i.e. t1a nc)\n",
    "        'in_wet_months': '1;2;3',                 # wet months \n",
    "        'in_dry_months': '9;10;11',               # dry months \n",
    "        'in_veg_idx': 'MAVI',                     # vege index name\n",
    "        'in_mst_idx': '',                         # moisture index name       \n",
    "        'in_aggregate': False,                    # aggregate output\n",
    "        'in_zscore_pvalue': None,                 # zscore pvalue\n",
    "        'in_stand_qupper': 0.99,                  # upper quantile for standardisation\n",
    "        'in_stand_qlower': 0.05,                  # lower quantile for standardisation\n",
    "        'in_fmask_flags': 'Valid;Snow;Water',     # fmask flag values\n",
    "        'in_max_cloud': 10,                       # max cloud percentage\n",
    "        'in_interpolate': True,                   # interpolate missing pixels\n",
    "        'in_add_result_to_map': True,             # add result to map\n",
    "    }\n",
    "    \n",
    "    # set up list\n",
    "    ts = []\n",
    "            \n",
    "    # func: default mst idx ndmi\n",
    "    msg = 'Running Test Four: default mst idx (ndmi).'\n",
    "    params = inputs.copy()\n",
    "    params.update({'in_mst_idx': 'NDMI'})\n",
    "    ts.append(['t_4_def.nc', arcpy.GDVSpectra_Likelihood_toolbox , params, msg])\n",
    "    \n",
    "    # func: mst idx is ''\n",
    "    msg = 'Running Test Four: mst idx is \"\".'\n",
    "    params = inputs.copy()\n",
    "    params.update({'in_mst_idx': ''})\n",
    "    ts.append(['t_4_a.nc', arcpy.GDVSpectra_Likelihood_toolbox , params, msg])\n",
    "    \n",
    "    # func: mst idx is gvmi\n",
    "    msg = 'Running Test Four: mst idx is gvmi.'\n",
    "    params = inputs.copy()\n",
    "    params.update({'in_mst_idx': 'GVMI'})\n",
    "    ts.append(['t_4_b.nc', arcpy.GDVSpectra_Likelihood_toolbox , params, msg])\n",
    "    \n",
    "    # func: mst idx is rasd\n",
    "    msg = 'Running Test Four: mst idx is rasd.'\n",
    "    params = inputs.copy()\n",
    "    params.update({'in_mst_idx': 'RASD'})\n",
    "    ts.append(['t_4_c.nc', arcpy.GDVSpectra_Likelihood_toolbox , params, msg])   \n",
    "            \n",
    "    return ts"
   ]
  },
  {
   "cell_type": "markdown",
   "metadata": {},
   "source": [
    "### Test Four: Run!"
   ]
  },
  {
   "cell_type": "code",
   "execution_count": 57,
   "metadata": {
    "scrolled": true
   },
   "outputs": [
    {
     "name": "stdout",
     "output_type": "stream",
     "text": [
      "Corrupting NetCDF via: nc_default.\n",
      "- - - - - - - - - - - - - - - - - - - - - - - - - - - - - - \n",
      "No changes, setting up for default dataset.\n",
      "Running Test Four: default mst idx (ndmi).\n",
      "Performing test: nc_default_t_4_def.nc.\n",
      "Running Test Four: mst idx is \"\".\n",
      "Performing test: nc_default_t_4_a.nc.\n",
      "Running Test Four: mst idx is gvmi.\n",
      "Performing test: nc_default_t_4_b.nc.\n",
      "Running Test Four: mst idx is rasd.\n",
      "Performing test: nc_default_t_4_c.nc.\n",
      "Failed to execute. Parameters are not valid.\n",
      "ERROR 000800: The value is not a member of NDMI | GVMI.\n",
      "Failed to execute (GDVSpectra_Likelihood).\n",
      "\n",
      "All tests applied to corruptor NetCDF.\n",
      "\n",
      "\n"
     ]
    }
   ],
   "source": [
    "# build lsit of nc corruptors and tests to iterate\n",
    "nc_corrs = build_nc_corruptors(temp_nc)\n",
    "tests = build_test_four_funcs(in_nc=nc_file, temp_nc=temp_nc)\n",
    "\n",
    "# run!\n",
    "run_corruptors_through_tests(in_nc=nc_file, nc_coors=nc_corrs, tests=tests, verbose=False)"
   ]
  },
  {
   "cell_type": "markdown",
   "metadata": {
    "heading_collapsed": true
   },
   "source": [
    "### Test Five: Aggregate"
   ]
  },
  {
   "cell_type": "code",
   "execution_count": 58,
   "metadata": {
    "hidden": true
   },
   "outputs": [],
   "source": [
    "def build_test_five_funcs(in_nc, temp_nc):\n",
    "    \"\"\"sets up test five functions\"\"\"\n",
    "    \n",
    "    # set default params for tool\n",
    "    inputs = {\n",
    "        'in_nc_file': '',                         # input nc (i.e. temp nc)\n",
    "        'out_likelihood_nc_file': '',             # output nc (i.e. t1a nc)\n",
    "        'in_wet_months': '1;2;3',                 # wet months \n",
    "        'in_dry_months': '9;10;11',               # dry months \n",
    "        'in_veg_idx': 'MAVI',                     # vege index name\n",
    "        'in_mst_idx': '',                         # moisture index name       \n",
    "        'in_aggregate': True,                     # aggregate output\n",
    "        'in_zscore_pvalue': None,                 # zscore pvalue\n",
    "        'in_stand_qupper': 0.99,                  # upper quantile for standardisation\n",
    "        'in_stand_qlower': 0.05,                  # lower quantile for standardisation\n",
    "        'in_fmask_flags': 'Valid;Snow;Water',     # fmask flag values\n",
    "        'in_max_cloud': 10,                       # max cloud percentage\n",
    "        'in_interpolate': True,                   # interpolate missing pixels\n",
    "        'in_add_result_to_map': True,             # add result to map\n",
    "    }\n",
    "    \n",
    "    # set up list\n",
    "    ts = []\n",
    "            \n",
    "    # func: default aggregate (True)\n",
    "    msg = 'Running Test Five: default aggregate (True).'\n",
    "    params = inputs.copy()\n",
    "    params.update({'in_aggregate': True})\n",
    "    ts.append(['t_5_def.nc', arcpy.GDVSpectra_Likelihood_toolbox , params, msg])\n",
    "    \n",
    "    # func: aggregate is False\n",
    "    msg = 'Running Test Five: aggregate is False'\n",
    "    params = inputs.copy()\n",
    "    params.update({'in_aggregate': False})\n",
    "    ts.append(['t_5_a.nc', arcpy.GDVSpectra_Likelihood_toolbox , params, msg])    \n",
    "\n",
    "    # func: aggregate is None\n",
    "    msg = 'Running Test Five: aggregate is None'\n",
    "    params = inputs.copy()\n",
    "    params.update({'in_aggregate': None})\n",
    "    ts.append(['t_5_b.nc', arcpy.GDVSpectra_Likelihood_toolbox , params, msg])     \n",
    "            \n",
    "    return ts"
   ]
  },
  {
   "cell_type": "markdown",
   "metadata": {},
   "source": [
    "### Test Five: Run!"
   ]
  },
  {
   "cell_type": "code",
   "execution_count": 59,
   "metadata": {
    "scrolled": true
   },
   "outputs": [
    {
     "name": "stdout",
     "output_type": "stream",
     "text": [
      "Corrupting NetCDF via: nc_default.\n",
      "- - - - - - - - - - - - - - - - - - - - - - - - - - - - - - \n",
      "No changes, setting up for default dataset.\n",
      "Running Test Five: default aggregate (True).\n",
      "Performing test: nc_default_t_5_def.nc.\n",
      "Running Test Five: aggregate is False\n",
      "Performing test: nc_default_t_5_a.nc.\n",
      "Running Test Five: aggregate is None\n",
      "Performing test: nc_default_t_5_b.nc.\n",
      "All tests applied to corruptor NetCDF.\n",
      "\n",
      "\n"
     ]
    }
   ],
   "source": [
    "# build lsit of nc corruptors and tests to iterate\n",
    "nc_corrs = build_nc_corruptors(temp_nc)\n",
    "tests = build_test_five_funcs(in_nc=nc_file, temp_nc=temp_nc)\n",
    "\n",
    "# run!\n",
    "run_corruptors_through_tests(in_nc=nc_file, nc_coors=nc_corrs, tests=tests, verbose=False)"
   ]
  },
  {
   "cell_type": "markdown",
   "metadata": {
    "heading_collapsed": true
   },
   "source": [
    "### Test Six: Outlier Correction"
   ]
  },
  {
   "cell_type": "code",
   "execution_count": 60,
   "metadata": {
    "hidden": true
   },
   "outputs": [],
   "source": [
    "def build_test_six_funcs(in_nc, temp_nc):\n",
    "    \"\"\"sets up test six functions\"\"\"\n",
    "    \n",
    "    # set default params for tool\n",
    "    inputs = {\n",
    "        'in_nc_file': '',                         # input nc (i.e. temp nc)\n",
    "        'out_likelihood_nc_file': '',             # output nc (i.e. t1a nc)\n",
    "        'in_wet_months': '1;2;3',                 # wet months \n",
    "        'in_dry_months': '9;10;11',               # dry months \n",
    "        'in_veg_idx': 'MAVI',                     # vege index name\n",
    "        'in_mst_idx': 'NDMI',                     # moisture index name       \n",
    "        'in_aggregate': False,                    # aggregate output\n",
    "        'in_zscore_pvalue': None,                 # zscore pvalue\n",
    "        'in_stand_qupper': 0.99,                  # upper quantile for standardisation\n",
    "        'in_stand_qlower': 0.05,                  # lower quantile for standardisation\n",
    "        'in_fmask_flags': 'Valid;Snow;Water',     # fmask flag values\n",
    "        'in_max_cloud': 10,                       # max cloud percentage\n",
    "        'in_interpolate': True,                   # interpolate missing pixels\n",
    "        'in_add_result_to_map': True,             # add result to map\n",
    "    }\n",
    "    \n",
    "    # set up list\n",
    "    ts = []\n",
    "            \n",
    "    # func: default zscore p-value\n",
    "    msg = 'Running Test Five: default zscore p-value (None).'\n",
    "    params = inputs.copy()\n",
    "    params.update({'in_zscore_pvalue': None})\n",
    "    ts.append(['t_6_def.nc', arcpy.GDVSpectra_Likelihood_toolbox , params, msg])\n",
    "    \n",
    "    # func: zscore p-value is ''\n",
    "    msg = 'Running Test Five: zscore p-value is \"\".'\n",
    "    params = inputs.copy()\n",
    "    params.update({'in_zscore_pvalue': ''})\n",
    "    ts.append(['t_6_a.nc', arcpy.GDVSpectra_Likelihood_toolbox , params, msg])\n",
    " \n",
    "    # func: zscore p-value is string of 0.01\n",
    "    msg = 'Running Test Five: zscore p-value is 0.01.'\n",
    "    params = inputs.copy()\n",
    "    params.update({'in_zscore_pvalue': 0.01})\n",
    "    ts.append(['t_6_b.nc', arcpy.GDVSpectra_Likelihood_toolbox , params, msg])\n",
    "\n",
    "    # func: zscore p-value is string of 0.05\n",
    "    msg = 'Running Test Five: zscore p-value is 0.05.'\n",
    "    params = inputs.copy()\n",
    "    params.update({'in_zscore_pvalue': 0.05})\n",
    "    ts.append(['t_6_c.nc', arcpy.GDVSpectra_Likelihood_toolbox , params, msg])\n",
    "\n",
    "    # func: zscore p-value is string of 0.1\n",
    "    msg = 'Running Test Five: zscore p-value is 0.1.'\n",
    "    params = inputs.copy()\n",
    "    params.update({'in_zscore_pvalue': 0.1})\n",
    "    ts.append(['t_6_d.nc', arcpy.GDVSpectra_Likelihood_toolbox , params, msg])\n",
    "    \n",
    "    # func: zscore p-value is string of 1.0 (not supported)\n",
    "    msg = 'Running Test Five: zscore p-value is 1.0 (not supported).'\n",
    "    params = inputs.copy()\n",
    "    params.update({'in_zscore_pvalue': 1.0})\n",
    "    ts.append(['t_6_e.nc', arcpy.GDVSpectra_Likelihood_toolbox , params, msg])    \n",
    "\n",
    "    # func: zscore p-value is float of 0.01\n",
    "    msg = 'Running Test Five: zscore p-value is \"0.01\".'\n",
    "    params = inputs.copy()\n",
    "    params.update({'in_zscore_pvalue': '0.01'})\n",
    "    ts.append(['t_6_f.nc', arcpy.GDVSpectra_Likelihood_toolbox , params, msg]) \n",
    "    \n",
    "    # func: zscore p-value is int of 1 (not supported)\n",
    "    msg = 'Running Test Five: zscore p-value is \"1\" (not supported).'\n",
    "    params = inputs.copy()\n",
    "    params.update({'in_zscore_pvalue': '1'})\n",
    "    ts.append(['t_6_g.nc', arcpy.GDVSpectra_Likelihood_toolbox , params, msg])     \n",
    "            \n",
    "    return ts"
   ]
  },
  {
   "cell_type": "markdown",
   "metadata": {},
   "source": [
    "### Test Six: Run!"
   ]
  },
  {
   "cell_type": "code",
   "execution_count": 61,
   "metadata": {
    "scrolled": true
   },
   "outputs": [
    {
     "name": "stdout",
     "output_type": "stream",
     "text": [
      "Corrupting NetCDF via: nc_default.\n",
      "- - - - - - - - - - - - - - - - - - - - - - - - - - - - - - \n",
      "No changes, setting up for default dataset.\n",
      "Running Test Five: default zscore p-value (None).\n",
      "Performing test: nc_default_t_6_def.nc.\n",
      "Running Test Five: zscore p-value is \"\".\n",
      "Performing test: nc_default_t_6_a.nc.\n",
      "Running Test Five: zscore p-value is 0.01.\n",
      "Performing test: nc_default_t_6_b.nc.\n",
      "Running Test Five: zscore p-value is 0.05.\n",
      "Performing test: nc_default_t_6_c.nc.\n",
      "Running Test Five: zscore p-value is 0.1.\n",
      "Performing test: nc_default_t_6_d.nc.\n",
      "Running Test Five: zscore p-value is 1.0 (not supported).\n",
      "Performing test: nc_default_t_6_e.nc.\n",
      "Failed to execute. Parameters are not valid.\n",
      "ERROR 000800: The value is not a member of 0.01 | 0.05 | 0.1.\n",
      "Failed to execute (GDVSpectra_Likelihood).\n",
      "\n",
      "Running Test Five: zscore p-value is \"0.01\".\n",
      "Performing test: nc_default_t_6_f.nc.\n",
      "Running Test Five: zscore p-value is \"1\" (not supported).\n",
      "Performing test: nc_default_t_6_g.nc.\n",
      "Failed to execute. Parameters are not valid.\n",
      "ERROR 000800: The value is not a member of 0.01 | 0.05 | 0.1.\n",
      "Failed to execute (GDVSpectra_Likelihood).\n",
      "\n",
      "All tests applied to corruptor NetCDF.\n",
      "\n",
      "\n"
     ]
    }
   ],
   "source": [
    "# build lsit of nc corruptors and tests to iterate\n",
    "nc_corrs = build_nc_corruptors(temp_nc)\n",
    "tests = build_test_six_funcs(in_nc=nc_file, temp_nc=temp_nc)\n",
    "\n",
    "# run!\n",
    "run_corruptors_through_tests(in_nc=nc_file, nc_coors=nc_corrs, tests=tests, verbose=False)"
   ]
  },
  {
   "cell_type": "markdown",
   "metadata": {
    "heading_collapsed": true
   },
   "source": [
    "### Test Seven: IVT Standardisation"
   ]
  },
  {
   "cell_type": "code",
   "execution_count": 62,
   "metadata": {
    "hidden": true
   },
   "outputs": [],
   "source": [
    "def build_test_seven_funcs(in_nc, temp_nc):\n",
    "    \"\"\"sets up test seven functions\"\"\"\n",
    "    \n",
    "    # set default params for tool\n",
    "    inputs = {\n",
    "        'in_nc_file': '',                         # input nc (i.e. temp nc)\n",
    "        'out_likelihood_nc_file': '',             # output nc (i.e. t1a nc)\n",
    "        'in_wet_months': '1;2;3',                 # wet months \n",
    "        'in_dry_months': '9;10;11',               # dry months \n",
    "        'in_veg_idx': 'MAVI',                     # vege index name\n",
    "        'in_mst_idx': 'NDMI',                     # moisture index name       \n",
    "        'in_aggregate': False,                    # aggregate output\n",
    "        'in_zscore_pvalue': None,                 # zscore pvalue\n",
    "        'in_stand_qupper': None,                  # upper quantile for standardisation\n",
    "        'in_stand_qlower': None,                  # lower quantile for standardisation\n",
    "        'in_fmask_flags': 'Valid;Snow;Water',     # fmask flag values\n",
    "        'in_max_cloud': 10,                       # max cloud percentage\n",
    "        'in_interpolate': True,                   # interpolate missing pixels\n",
    "        'in_add_result_to_map': True,             # add result to map\n",
    "    }\n",
    "    \n",
    "    # set up list\n",
    "    ts = []\n",
    "            \n",
    "    # func: default ivt lower and upper\n",
    "    msg = 'Running Test Seven: default IVT lower, upper input (0.05, 0.99).'\n",
    "    params = inputs.copy()\n",
    "    params.update({'in_stand_qlower': 0.05, 'in_stand_qupper': 0.99})\n",
    "    ts.append(['t_7_def.nc', arcpy.GDVSpectra_Likelihood_toolbox , params, msg])\n",
    "\n",
    "    # func: ivt lower and upper \"\", \"\"\n",
    "    msg = 'Running Test Seven: IVT lower, upper input \"\", \"\".'\n",
    "    params = inputs.copy()\n",
    "    params.update({'in_stand_qlower': '', 'in_stand_qupper': ''})\n",
    "    ts.append(['t_7_a.nc', arcpy.GDVSpectra_Likelihood_toolbox , params, msg])\n",
    "    \n",
    "    # func: ivt lower and upper 0.0, 0.99\n",
    "    msg = 'Running Test Seven: IVT lower, upper input 0.0, 0.99.'\n",
    "    params = inputs.copy()\n",
    "    params.update({'in_stand_qlower': 0.0, 'in_stand_qupper': 0.99})\n",
    "    ts.append(['t_7_b.nc', arcpy.GDVSpectra_Likelihood_toolbox , params, msg]) \n",
    "    \n",
    "    # func: ivt lower and upper 0.05, 0.0\n",
    "    msg = 'Running Test Seven: IVT lower, upper input 0.05, 0.0.'\n",
    "    params = inputs.copy()\n",
    "    params.update({'in_stand_qlower': 0.05, 'in_stand_qupper': 0.0})\n",
    "    ts.append(['t_7_c.nc', arcpy.GDVSpectra_Likelihood_toolbox , params, msg])    \n",
    "\n",
    "    # func: ivt lower and upper 0.25, 0.80\n",
    "    msg = 'Running Test Seven: IVT lower, upper input 0.25, 0.80.'\n",
    "    params = inputs.copy()\n",
    "    params.update({'in_stand_qlower': 0.25, 'in_stand_qupper': 0.80})\n",
    "    ts.append(['t_7_d.nc', arcpy.GDVSpectra_Likelihood_toolbox , params, msg])    \n",
    "\n",
    "    # func: ivt lower and upper 0.4, 0.6\n",
    "    msg = 'Running Test Seven: IVT lower, upper input 0.4, 0.6.'\n",
    "    params = inputs.copy()\n",
    "    params.update({'in_stand_qlower': 0.4, 'in_stand_qupper': 0.6})\n",
    "    ts.append(['t_7_e.nc', arcpy.GDVSpectra_Likelihood_toolbox , params, msg]) \n",
    "    \n",
    "    # func: ivt lower and upper 0.5, 0.5\n",
    "    msg = 'Running Test Seven: IVT lower, upper input 0.5, 0.5.'\n",
    "    params = inputs.copy()\n",
    "    params.update({'in_stand_qlower': 0.5, 'in_stand_qupper': 0.5})\n",
    "    ts.append(['t_7_f.nc', arcpy.GDVSpectra_Likelihood_toolbox , params, msg])     \n",
    "\n",
    "    # func: ivt lower and upper \"0.2\", \"0.8\"\n",
    "    msg = 'Running Test Seven: IVT lower, upper input \"0.2\", \"0.8\".'\n",
    "    params = inputs.copy()\n",
    "    params.update({'in_stand_qlower': \"0.2\", 'in_stand_qupper': \"0.8\"})\n",
    "    ts.append(['t_7_g.nc', arcpy.GDVSpectra_Likelihood_toolbox , params, msg]) \n",
    "    \n",
    "    return ts"
   ]
  },
  {
   "cell_type": "markdown",
   "metadata": {},
   "source": [
    "### Test Seven: Run!"
   ]
  },
  {
   "cell_type": "code",
   "execution_count": 63,
   "metadata": {
    "scrolled": true
   },
   "outputs": [
    {
     "name": "stdout",
     "output_type": "stream",
     "text": [
      "Corrupting NetCDF via: nc_default.\n",
      "- - - - - - - - - - - - - - - - - - - - - - - - - - - - - - \n",
      "No changes, setting up for default dataset.\n",
      "Running Test Seven: default IVT lower, upper input (0.05, 0.99).\n",
      "Performing test: nc_default_t_7_def.nc.\n",
      "Running Test Seven: IVT lower, upper input \"\", \"\".\n",
      "Performing test: nc_default_t_7_a.nc.\n",
      "Running Test Seven: IVT lower, upper input 0.0, 0.99.\n",
      "Performing test: nc_default_t_7_b.nc.\n",
      "Running Test Seven: IVT lower, upper input 0.05, 0.0.\n",
      "Performing test: nc_default_t_7_c.nc.\n",
      "Upper quantile must be > than lower quantile value.\n",
      "Failed to execute (GDVSpectra_Likelihood).\n",
      "\n",
      "Running Test Seven: IVT lower, upper input 0.25, 0.80.\n",
      "Performing test: nc_default_t_7_d.nc.\n",
      "Running Test Seven: IVT lower, upper input 0.4, 0.6.\n",
      "Performing test: nc_default_t_7_e.nc.\n",
      "Running Test Seven: IVT lower, upper input 0.5, 0.5.\n",
      "Performing test: nc_default_t_7_f.nc.\n",
      "Upper quantile must be > than lower quantile value.\n",
      "Failed to execute (GDVSpectra_Likelihood).\n",
      "\n",
      "Running Test Seven: IVT lower, upper input \"0.2\", \"0.8\".\n",
      "Performing test: nc_default_t_7_g.nc.\n",
      "All tests applied to corruptor NetCDF.\n",
      "\n",
      "\n"
     ]
    }
   ],
   "source": [
    "# build lsit of nc corruptors and tests to iterate\n",
    "nc_corrs = build_nc_corruptors(temp_nc)\n",
    "tests = build_test_seven_funcs(in_nc=nc_file, temp_nc=temp_nc)\n",
    "\n",
    "# run!\n",
    "run_corruptors_through_tests(in_nc=nc_file, nc_coors=nc_corrs, tests=tests, verbose=False)"
   ]
  },
  {
   "cell_type": "markdown",
   "metadata": {
    "heading_collapsed": true
   },
   "source": [
    "### Test Eight: Pixel Flags"
   ]
  },
  {
   "cell_type": "code",
   "execution_count": 64,
   "metadata": {
    "hidden": true
   },
   "outputs": [],
   "source": [
    "def build_test_eight_funcs(in_nc, temp_nc):\n",
    "    \"\"\"sets up test eight functions\"\"\"\n",
    "    \n",
    "    # set default params for tool\n",
    "    inputs = {\n",
    "        'in_nc_file': '',                         # input nc (i.e. temp nc)\n",
    "        'out_likelihood_nc_file': '',             # output nc (i.e. t1a nc)\n",
    "        'in_wet_months': '1;2;3',                 # wet months \n",
    "        'in_dry_months': '9;10;11',               # dry months \n",
    "        'in_veg_idx': 'MAVI',                     # vege index name\n",
    "        'in_mst_idx': 'NDMI',                     # moisture index name       \n",
    "        'in_aggregate': False,                    # aggregate output\n",
    "        'in_zscore_pvalue': None,                 # zscore pvalue\n",
    "        'in_stand_qupper': 0.99,                  # upper quantile for standardisation\n",
    "        'in_stand_qlower': 0.05,                  # lower quantile for standardisation\n",
    "        'in_fmask_flags': '',                     # fmask flag values\n",
    "        'in_max_cloud': 10,                       # max cloud percentage\n",
    "        'in_interpolate': True,                   # interpolate missing pixels\n",
    "        'in_add_result_to_map': True,             # add result to map\n",
    "    }\n",
    "    \n",
    "    # set up list\n",
    "    ts = []\n",
    "            \n",
    "    # func: default pixel flags\n",
    "    msg = 'Running Test Eight: pixel flags Valid;Snow;Water.'\n",
    "    params = inputs.copy()\n",
    "    params.update({'in_fmask_flags': 'Valid;Snow;Water'})\n",
    "    ts.append(['t_8_def.nc', arcpy.GDVSpectra_Likelihood_toolbox , params, msg])\n",
    "\n",
    "    # func: pixel flags is ''\n",
    "    msg = 'Running Test Eight: pixel flags is \"\".'\n",
    "    params = inputs.copy()\n",
    "    params.update({'in_fmask_flags': ''})\n",
    "    ts.append(['t_8_a.nc', arcpy.GDVSpectra_Likelihood_toolbox , params, msg])\n",
    "    \n",
    "    # func: pixel flags is NoData;Valid;Cloud;Shadow;Snow;Water\n",
    "    msg = 'Running Test Eight: pixel flags is NoData;Valid;Cloud;Shadow;Snow;Water.'\n",
    "    params = inputs.copy()\n",
    "    params.update({'in_fmask_flags': 'NoData;Valid;Cloud;Shadow;Snow;Water'})\n",
    "    ts.append(['t_8_b.nc', arcpy.GDVSpectra_Likelihood_toolbox , params, msg])    \n",
    "\n",
    "    # func: pixel flags is Valid\n",
    "    msg = 'Running Test Eight: pixel flags is Valid.'\n",
    "    params = inputs.copy()\n",
    "    params.update({'in_fmask_flags': 'Valid'})\n",
    "    ts.append(['t_8_c.nc', arcpy.GDVSpectra_Likelihood_toolbox , params, msg]) \n",
    "\n",
    "    # func: pixel flags is Cloud;Shadow\n",
    "    msg = 'Running Test Eight: pixel flags is Cloud;Shadow.'\n",
    "    params = inputs.copy()\n",
    "    params.update({'in_fmask_flags': 'Cloud;Shadow'})\n",
    "    ts.append(['t_8_d.nc', arcpy.GDVSpectra_Likelihood_toolbox , params, msg]) \n",
    "\n",
    "    # func: pixel flags is Water\n",
    "    msg = 'Running Test Eight: pixel flags is Water.'\n",
    "    params = inputs.copy()\n",
    "    params.update({'in_fmask_flags': 'Water'})\n",
    "    ts.append(['t_8_e.nc', arcpy.GDVSpectra_Likelihood_toolbox , params, msg]) \n",
    "\n",
    "    # func: pixel flags is Water;Water\n",
    "    msg = 'Running Test Eight: pixel flags is Water;Water.'\n",
    "    params = inputs.copy()\n",
    "    params.update({'in_fmask_flags': 'Water;Water'})\n",
    "    ts.append(['t_8_f.nc', arcpy.GDVSpectra_Likelihood_toolbox , params, msg]) \n",
    "\n",
    "    # func: pixel flags is water\n",
    "    msg = 'Running Test Eight: pixel flags is water.'\n",
    "    params = inputs.copy()\n",
    "    params.update({'in_fmask_flags': 'water'})\n",
    "    ts.append(['t_8_g.nc', arcpy.GDVSpectra_Likelihood_toolbox , params, msg]) \n",
    "    \n",
    "    return ts"
   ]
  },
  {
   "cell_type": "markdown",
   "metadata": {},
   "source": [
    "### Test Eight: Run!"
   ]
  },
  {
   "cell_type": "code",
   "execution_count": 65,
   "metadata": {
    "scrolled": true
   },
   "outputs": [
    {
     "name": "stdout",
     "output_type": "stream",
     "text": [
      "Corrupting NetCDF via: nc_default.\n",
      "- - - - - - - - - - - - - - - - - - - - - - - - - - - - - - \n",
      "No changes, setting up for default dataset.\n",
      "Running Test Eight: pixel flags Valid;Snow;Water.\n",
      "Performing test: nc_default_t_8_def.nc.\n",
      "Running Test Eight: pixel flags is \"\".\n",
      "Performing test: nc_default_t_8_a.nc.\n",
      "Failed to execute. Parameters are not valid.\n",
      "ERROR 000735: Include pixels flags: Value is required\n",
      "Failed to execute (GDVSpectra_Likelihood).\n",
      "\n",
      "Running Test Eight: pixel flags is NoData;Valid;Cloud;Shadow;Snow;Water.\n",
      "Performing test: nc_default_t_8_b.nc.\n",
      "Running Test Eight: pixel flags is Valid.\n",
      "Performing test: nc_default_t_8_c.nc.\n",
      "Running Test Eight: pixel flags is Cloud;Shadow.\n",
      "Performing test: nc_default_t_8_d.nc.\n",
      "Input NetCDF needs more years. Expand time range in NetCDF.\n",
      "Failed to execute (GDVSpectra_Likelihood).\n",
      "\n",
      "Running Test Eight: pixel flags is Water.\n",
      "Performing test: nc_default_t_8_e.nc.\n",
      "Could not interpolate dataset.\n",
      "Failed to execute (GDVSpectra_Likelihood).\n",
      "\n",
      "Running Test Eight: pixel flags is Water;Water.\n",
      "Performing test: nc_default_t_8_f.nc.\n",
      "Duplicate pixel flags detected.\n",
      "Failed to execute (GDVSpectra_Likelihood).\n",
      "\n",
      "Running Test Eight: pixel flags is water.\n",
      "Performing test: nc_default_t_8_g.nc.\n",
      "All tests applied to corruptor NetCDF.\n",
      "\n",
      "\n"
     ]
    }
   ],
   "source": [
    "# build lsit of nc corruptors and tests to iterate\n",
    "nc_corrs = build_nc_corruptors(temp_nc)\n",
    "tests = build_test_eight_funcs(in_nc=nc_file, temp_nc=temp_nc)\n",
    "\n",
    "# run!\n",
    "run_corruptors_through_tests(in_nc=nc_file, nc_coors=nc_corrs, tests=tests, verbose=False)"
   ]
  },
  {
   "cell_type": "markdown",
   "metadata": {
    "heading_collapsed": true
   },
   "source": [
    "### Test Nine: Max Cloud Cover"
   ]
  },
  {
   "cell_type": "code",
   "execution_count": 66,
   "metadata": {
    "hidden": true
   },
   "outputs": [],
   "source": [
    "def build_test_nine_funcs(in_nc, temp_nc):\n",
    "    \"\"\"sets up test nine functions\"\"\"\n",
    "    \n",
    "    # set default params for tool\n",
    "    inputs = {\n",
    "        'in_nc_file': '',                         # input nc (i.e. temp nc)\n",
    "        'out_likelihood_nc_file': '',             # output nc (i.e. t1a nc)\n",
    "        'in_wet_months': '1;2;3',                 # wet months \n",
    "        'in_dry_months': '9;10;11',               # dry months \n",
    "        'in_veg_idx': 'MAVI',                     # vege index name\n",
    "        'in_mst_idx': 'NDMI',                     # moisture index name       \n",
    "        'in_aggregate': False,                    # aggregate output\n",
    "        'in_zscore_pvalue': None,                 # zscore pvalue\n",
    "        'in_stand_qupper': 0.99,                  # upper quantile for standardisation\n",
    "        'in_stand_qlower': 0.05,                  # lower quantile for standardisation\n",
    "        'in_fmask_flags': 'Valid;Snow;Water',     # fmask flag values\n",
    "        'in_max_cloud': '',                       # max cloud percentage\n",
    "        'in_interpolate': True,                   # interpolate missing pixels\n",
    "        'in_add_result_to_map': True,             # add result to map\n",
    "    }\n",
    "    \n",
    "    # set up list\n",
    "    ts = []\n",
    "            \n",
    "    # func: default max cloud cover\n",
    "    msg = 'Running Test Nine: default max cloud (10).'\n",
    "    params = inputs.copy()\n",
    "    params.update({'in_max_cloud': 10})\n",
    "    ts.append(['t_9_def.nc', arcpy.GDVSpectra_Likelihood_toolbox , params, msg])\n",
    "\n",
    "    # func: max cloud cover is 0\n",
    "    msg = 'Running Test Nine: max cloud cover is 0.'\n",
    "    params = inputs.copy()\n",
    "    params.update({'in_max_cloud': 0})\n",
    "    ts.append(['t_9_a.nc', arcpy.GDVSpectra_Likelihood_toolbox , params, msg])\n",
    "    \n",
    "    # func: max cloud cover is 50\n",
    "    msg = 'Running Test Nine: max cloud cover is 50.'\n",
    "    params = inputs.copy()\n",
    "    params.update({'in_max_cloud': 50})\n",
    "    ts.append(['t_9_b.nc', arcpy.GDVSpectra_Likelihood_toolbox , params, msg])    \n",
    "\n",
    "    # func: max cloud cover is \"10\"\n",
    "    msg = 'Running Test Nine: max cloud cover is \"10\".'\n",
    "    params = inputs.copy()\n",
    "    params.update({'in_max_cloud': \"10\"})\n",
    "    ts.append(['t_9_c.nc', arcpy.GDVSpectra_Likelihood_toolbox , params, msg])  \n",
    "    \n",
    "    # func: max cloud cover is \"10\"\n",
    "    msg = 'Running Test Nine: max cloud cover is \"10\".'\n",
    "    params = inputs.copy()\n",
    "    params.update({'in_max_cloud': \"10\"})\n",
    "    ts.append(['t_9_d.nc', arcpy.GDVSpectra_Likelihood_toolbox , params, msg])      \n",
    "\n",
    "    # func: max cloud cover is 150\n",
    "    msg = 'Running Test Nine: max cloud cover is 150.'\n",
    "    params = inputs.copy()\n",
    "    params.update({'in_max_cloud': 150})\n",
    "    ts.append(['t_9_e.nc', arcpy.GDVSpectra_Likelihood_toolbox , params, msg])   \n",
    "    \n",
    "    # func: max cloud cover is ''\n",
    "    msg = 'Running Test Nine: max cloud cover is \"\".'\n",
    "    params = inputs.copy()\n",
    "    params.update({'in_max_cloud': ''})\n",
    "    ts.append(['t_9_f.nc', arcpy.GDVSpectra_Likelihood_toolbox , params, msg])   \n",
    "\n",
    "    # func: max cloud cover is None\n",
    "    msg = 'Running Test Nine: max cloud cover is None.'\n",
    "    params = inputs.copy()\n",
    "    params.update({'in_max_cloud': None})\n",
    "    ts.append(['t_9_g.nc', arcpy.GDVSpectra_Likelihood_toolbox , params, msg])  \n",
    "    \n",
    "    return ts"
   ]
  },
  {
   "cell_type": "markdown",
   "metadata": {},
   "source": [
    "### Test Nine: Run!"
   ]
  },
  {
   "cell_type": "code",
   "execution_count": 67,
   "metadata": {
    "scrolled": true
   },
   "outputs": [
    {
     "name": "stdout",
     "output_type": "stream",
     "text": [
      "Corrupting NetCDF via: nc_default.\n",
      "- - - - - - - - - - - - - - - - - - - - - - - - - - - - - - \n",
      "No changes, setting up for default dataset.\n",
      "Running Test Nine: default max cloud (10).\n",
      "Performing test: nc_default_t_9_def.nc.\n",
      "Running Test Nine: max cloud cover is 0.\n",
      "Performing test: nc_default_t_9_a.nc.\n",
      "Running Test Nine: max cloud cover is 50.\n",
      "Performing test: nc_default_t_9_b.nc.\n",
      "Running Test Nine: max cloud cover is \"10\".\n",
      "Performing test: nc_default_t_9_c.nc.\n",
      "Running Test Nine: max cloud cover is \"10\".\n",
      "Performing test: nc_default_t_9_d.nc.\n",
      "Running Test Nine: max cloud cover is 150.\n",
      "Performing test: nc_default_t_9_e.nc.\n",
      "Failed to execute. Parameters are not valid.\n",
      "ERROR 000854: The value is out of the range from 0 to 100.\n",
      "Failed to execute (GDVSpectra_Likelihood).\n",
      "\n",
      "Running Test Nine: max cloud cover is \"\".\n",
      "Performing test: nc_default_t_9_f.nc.\n",
      "Running Test Nine: max cloud cover is None.\n",
      "Performing test: nc_default_t_9_g.nc.\n",
      "All tests applied to corruptor NetCDF.\n",
      "\n",
      "\n"
     ]
    }
   ],
   "source": [
    "# build lsit of nc corruptors and tests to iterate\n",
    "nc_corrs = build_nc_corruptors(temp_nc)\n",
    "tests = build_test_nine_funcs(in_nc=nc_file, temp_nc=temp_nc)\n",
    "\n",
    "# run!\n",
    "run_corruptors_through_tests(in_nc=nc_file, nc_coors=nc_corrs, tests=tests, verbose=False)"
   ]
  },
  {
   "cell_type": "markdown",
   "metadata": {
    "heading_collapsed": true
   },
   "source": [
    "### Test Ten: Interpolate"
   ]
  },
  {
   "cell_type": "code",
   "execution_count": 68,
   "metadata": {
    "hidden": true
   },
   "outputs": [],
   "source": [
    "def build_test_ten_funcs(in_nc, temp_nc):\n",
    "    \"\"\"sets up test ten functions\"\"\"\n",
    "    \n",
    "    # set default params for tool\n",
    "    inputs = {\n",
    "        'in_nc_file': '',                         # input nc (i.e. temp nc)\n",
    "        'out_likelihood_nc_file': '',             # output nc (i.e. t1a nc)\n",
    "        'in_wet_months': '1;2;3',                 # wet months \n",
    "        'in_dry_months': '9;10;11',               # dry months \n",
    "        'in_veg_idx': 'MAVI',                     # vege index name\n",
    "        'in_mst_idx': 'NDMI',                     # moisture index name       \n",
    "        'in_aggregate': False,                    # aggregate output\n",
    "        'in_zscore_pvalue': None,                 # zscore pvalue\n",
    "        'in_stand_qupper': 0.99,                  # upper quantile for standardisation\n",
    "        'in_stand_qlower': 0.05,                  # lower quantile for standardisation\n",
    "        'in_fmask_flags': 'Valid;Snow;Water',     # fmask flag values\n",
    "        'in_max_cloud': 10,                       # max cloud percentage\n",
    "        'in_interpolate': '',                     # interpolate missing pixels\n",
    "        'in_add_result_to_map': True,             # add result to map\n",
    "    }\n",
    "    \n",
    "    # set up list\n",
    "    ts = []\n",
    "            \n",
    "    # func: default interpolate (True)\n",
    "    msg = 'Running Test Ten: default interpolate (True).'\n",
    "    params = inputs.copy()\n",
    "    params.update({'in_interpolate': True})\n",
    "    ts.append(['t_10_def.nc', arcpy.GDVSpectra_Likelihood_toolbox , params, msg])\n",
    "    \n",
    "    # func: interpolate is False\n",
    "    msg = 'Running Test Ten: interpolate is False.'\n",
    "    params = inputs.copy()\n",
    "    params.update({'in_interpolate': False})\n",
    "    ts.append(['t_10_a.nc', arcpy.GDVSpectra_Likelihood_toolbox , params, msg])    \n",
    "\n",
    "    # func: interpolate is None\n",
    "    msg = 'Running Test Ten: interpolate is None (default to True).'\n",
    "    params = inputs.copy()\n",
    "    params.update({'in_interpolate': None})\n",
    "    ts.append(['t_10_b.nc', arcpy.GDVSpectra_Likelihood_toolbox , params, msg])       \n",
    "            \n",
    "    return ts"
   ]
  },
  {
   "cell_type": "markdown",
   "metadata": {},
   "source": [
    "### Test Ten: Run!"
   ]
  },
  {
   "cell_type": "code",
   "execution_count": 69,
   "metadata": {
    "scrolled": true
   },
   "outputs": [
    {
     "name": "stdout",
     "output_type": "stream",
     "text": [
      "Corrupting NetCDF via: nc_default.\n",
      "- - - - - - - - - - - - - - - - - - - - - - - - - - - - - - \n",
      "No changes, setting up for default dataset.\n",
      "Running Test Ten: default interpolate (True).\n",
      "Performing test: nc_default_t_10_def.nc.\n",
      "Running Test Ten: interpolate is False.\n",
      "Performing test: nc_default_t_10_a.nc.\n",
      "Running Test Ten: interpolate is None (default to True).\n",
      "Performing test: nc_default_t_10_b.nc.\n",
      "All tests applied to corruptor NetCDF.\n",
      "\n",
      "\n"
     ]
    }
   ],
   "source": [
    "# build lsit of nc corruptors and tests to iterate\n",
    "nc_corrs = build_nc_corruptors(temp_nc)\n",
    "tests = build_test_ten_funcs(in_nc=nc_file, temp_nc=temp_nc)\n",
    "\n",
    "# run!\n",
    "run_corruptors_through_tests(in_nc=nc_file, nc_coors=nc_corrs, tests=tests, verbose=False)"
   ]
  },
  {
   "cell_type": "markdown",
   "metadata": {
    "heading_collapsed": true
   },
   "source": [
    "### Test Eleven: Add To Map"
   ]
  },
  {
   "cell_type": "code",
   "execution_count": 70,
   "metadata": {
    "hidden": true
   },
   "outputs": [],
   "source": [
    "def build_test_eleven_funcs(in_nc, temp_nc):\n",
    "    \"\"\"sets up test eleven functions\"\"\"\n",
    "    \n",
    "    # set default params for tool\n",
    "    inputs = {\n",
    "        'in_nc_file': '',                         # input nc (i.e. temp nc)\n",
    "        'out_likelihood_nc_file': '',             # output nc (i.e. t1a nc)\n",
    "        'in_wet_months': '1;2;3',                 # wet months \n",
    "        'in_dry_months': '9;10;11',               # dry months \n",
    "        'in_veg_idx': 'MAVI',                     # vege index name\n",
    "        'in_mst_idx': 'NDMI',                     # moisture index name       \n",
    "        'in_aggregate': False,                    # aggregate output\n",
    "        'in_zscore_pvalue': None,                 # zscore pvalue\n",
    "        'in_stand_qupper': 0.99,                  # upper quantile for standardisation\n",
    "        'in_stand_qlower': 0.05,                  # lower quantile for standardisation\n",
    "        'in_fmask_flags': 'Valid;Snow;Water',     # fmask flag values\n",
    "        'in_max_cloud': 10,                       # max cloud percentage\n",
    "        'in_interpolate': True,                   # interpolate missing pixels\n",
    "        'in_add_result_to_map': '',             # add result to map\n",
    "    }\n",
    "    \n",
    "    # set up list\n",
    "    ts = []\n",
    "            \n",
    "    # func: default add result to map (True)\n",
    "    msg = 'Running Test Eleven: default add result to map (True).'\n",
    "    params = inputs.copy()\n",
    "    params.update({'in_add_result_to_map': True})\n",
    "    ts.append(['t_11_def.nc', arcpy.GDVSpectra_Likelihood_toolbox , params, msg])\n",
    "    \n",
    "    # func: add result to map is False\n",
    "    msg = 'Running Test Eleven: add result to map is False.'\n",
    "    params = inputs.copy()\n",
    "    params.update({'in_add_result_to_map': False})\n",
    "    ts.append(['t_11_a.nc', arcpy.GDVSpectra_Likelihood_toolbox , params, msg])    \n",
    "\n",
    "    # func: add result to map is None\n",
    "    msg = 'Running Test Eleven: add result to map is None (default to True).'\n",
    "    params = inputs.copy()\n",
    "    params.update({'in_add_result_to_map': None})\n",
    "    ts.append(['t_11_b.nc', arcpy.GDVSpectra_Likelihood_toolbox , params, msg])       \n",
    "            \n",
    "    return ts"
   ]
  },
  {
   "cell_type": "markdown",
   "metadata": {},
   "source": [
    "### Test Eleven: Run!"
   ]
  },
  {
   "cell_type": "code",
   "execution_count": 71,
   "metadata": {},
   "outputs": [
    {
     "name": "stdout",
     "output_type": "stream",
     "text": [
      "Corrupting NetCDF via: nc_default.\n",
      "- - - - - - - - - - - - - - - - - - - - - - - - - - - - - - \n",
      "No changes, setting up for default dataset.\n",
      "Running Test Eleven: default add result to map (True).\n",
      "Performing test: nc_default_t_11_def.nc.\n",
      "Running Test Eleven: add result to map is False.\n",
      "Performing test: nc_default_t_11_a.nc.\n",
      "Running Test Eleven: add result to map is None (default to True).\n",
      "Performing test: nc_default_t_11_b.nc.\n",
      "All tests applied to corruptor NetCDF.\n",
      "\n",
      "\n"
     ]
    }
   ],
   "source": [
    "# build lsit of nc corruptors and tests to iterate\n",
    "nc_corrs = build_nc_corruptors(temp_nc)\n",
    "tests = build_test_eleven_funcs(in_nc=nc_file, temp_nc=temp_nc)\n",
    "\n",
    "# run!\n",
    "run_corruptors_through_tests(in_nc=nc_file, nc_coors=nc_corrs, tests=tests, verbose=False)"
   ]
  },
  {
   "cell_type": "code",
   "execution_count": null,
   "metadata": {},
   "outputs": [],
   "source": []
  }
 ],
 "metadata": {
  "kernelspec": {
   "display_name": "ArcGISPro",
   "language": "Python",
   "name": "python3"
  },
  "language_info": {
   "file_extension": ".py",
   "name": "python",
   "version": "3"
  }
 },
 "nbformat": 4,
 "nbformat_minor": 2
}

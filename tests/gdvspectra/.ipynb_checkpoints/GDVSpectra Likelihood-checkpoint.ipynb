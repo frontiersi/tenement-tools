{
 "cells": [
  {
   "cell_type": "markdown",
   "metadata": {},
   "source": [
    "# GDVSpectra Likelihood module tests"
   ]
  },
  {
   "cell_type": "markdown",
   "metadata": {},
   "source": [
    "## Globals"
   ]
  },
  {
   "cell_type": "code",
   "execution_count": 97,
   "metadata": {},
   "outputs": [],
   "source": [
    "# globals (dev)\n",
    "FOLDER_MODULES = r'C:\\Users\\Lewis\\Documents\\GitHub\\tenement-tools\\modules'  \n",
    "FOLDER_SHARED = r'C:\\Users\\Lewis\\Documents\\GitHub\\tenement-tools\\shared'\n",
    "TEST_MODULE = r'C:\\Users\\Lewis\\Documents\\GitHub\\tenement-tools\\tests\\code'\n",
    "GRP_LYR_FILE = r'C:\\Users\\Lewis\\Documents\\GitHub\\tenement-tools\\arc\\lyr\\group_template.lyrx'    "
   ]
  },
  {
   "cell_type": "markdown",
   "metadata": {},
   "source": [
    "## Tests"
   ]
  },
  {
   "cell_type": "markdown",
   "metadata": {},
   "source": [
    "### Imports"
   ]
  },
  {
   "cell_type": "code",
   "execution_count": 98,
   "metadata": {},
   "outputs": [
    {
     "data": {
      "text/plain": [
       "<module 'toolbox'>"
      ]
     },
     "execution_count": 98,
     "metadata": {},
     "output_type": "execute_result"
    }
   ],
   "source": [
    "# imports\n",
    "import os\n",
    "import random\n",
    "import numpy as np\n",
    "import xarray as xr\n",
    "\n",
    "# import testing functions\n",
    "sys.path.append(TEST_MODULE)\n",
    "import test_funcs\n",
    "\n",
    "# import toolbox\n",
    "arcpy.ImportToolbox(r\"C:\\Users\\Lewis\\Documents\\GitHub\\tenement-tools\\arc\\toolbox\\tenement-tools-toolbox.pyt\")"
   ]
  },
  {
   "cell_type": "markdown",
   "metadata": {},
   "source": [
    "### Reload libraries"
   ]
  },
  {
   "cell_type": "code",
   "execution_count": 99,
   "metadata": {},
   "outputs": [
    {
     "data": {
      "text/plain": [
       "<module 'test_funcs' from 'C:\\\\Users\\\\Lewis\\\\Documents\\\\GitHub\\\\tenement-tools\\\\tests\\\\code\\\\test_funcs.py'>"
      ]
     },
     "execution_count": 99,
     "metadata": {},
     "output_type": "execute_result"
    }
   ],
   "source": [
    "from importlib import reload\n",
    "reload(test_funcs)"
   ]
  },
  {
   "cell_type": "markdown",
   "metadata": {},
   "source": [
    "### Data setups"
   ]
  },
  {
   "cell_type": "code",
   "execution_count": 100,
   "metadata": {},
   "outputs": [],
   "source": [
    "# setup general io\n",
    "input_folder = r'E:\\Curtin\\GDVII - General\\Work Package 2\\test_data\\gdvspectra_likelihood\\inputs'\n",
    "output_folder = r'E:\\Curtin\\GDVII - General\\Work Package 2\\test_data\\gdvspectra_likelihood\\outputs'\n",
    "temp_nc = os.path.join(input_folder, 'temp_nc.nc')  # temp nc file for use when breaking ncs\n",
    "\n",
    "# setup landsat cubes paths\n",
    "ls_cubes = [\n",
    "    r\"E:\\Curtin\\GDVII - General\\Work Package 2\\test_data\\gdvspectra_likelihood\\inputs\\yandi_1_ls_90_20_raw_odc.nc\",\n",
    "    r\"E:\\Curtin\\GDVII - General\\Work Package 2\\test_data\\gdvspectra_likelihood\\inputs\\yandi_2_ls_90_20_raw_odc.nc\",\n",
    "    r\"E:\\Curtin\\GDVII - General\\Work Package 2\\test_data\\gdvspectra_likelihood\\inputs\\yandi_3_ls_90_20_raw_odc.nc\",\n",
    "    r\"E:\\Curtin\\GDVII - General\\Work Package 2\\test_data\\gdvspectra_likelihood\\inputs\\yandi_4_ls_90_20_raw_odc.nc\",\n",
    "]\n",
    "\n",
    "# setup sentinel2 cubes paths\n",
    "s2_cubes = [\n",
    "    r\"E:\\Curtin\\GDVII - General\\Work Package 2\\test_data\\gdvspectra_likelihood\\inputs\\yandi_1_s2_16_20_raw_odc.nc\",\n",
    "    r\"E:\\Curtin\\GDVII - General\\Work Package 2\\test_data\\gdvspectra_likelihood\\inputs\\yandi_2_s2_16_20_raw_odc.nc\",\n",
    "    r\"E:\\Curtin\\GDVII - General\\Work Package 2\\test_data\\gdvspectra_likelihood\\inputs\\yandi_3_s2_16_20_raw_odc.nc\",\n",
    "    r\"E:\\Curtin\\GDVII - General\\Work Package 2\\test_data\\gdvspectra_likelihood\\inputs\\yandi_4_s2_16_20_raw_odc.nc\",\n",
    "]"
   ]
  },
  {
   "cell_type": "code",
   "execution_count": 59,
   "metadata": {},
   "outputs": [],
   "source": [
    "# inputs\n",
    "\n",
    "# veg and mst index\n",
    "# try only veg\n",
    "# try only mst\n",
    "# try unavailble veg\n",
    "# try unavalble mst\n",
    "# try all veg\n",
    "# try all mst\n",
    "\n",
    "# outlier correction\n",
    "# zscore value is wrong\n",
    "# 0.01, 0.1, 0.05\n",
    "# try none\n",
    "# try 0\n",
    "# try no cube data\n",
    "# try dims\n",
    "\n",
    "# invariant standardisation\n",
    "# upper 0.99, lower 0.05\n",
    "# try none for upper and lower\n",
    "# try 0 for both\n",
    "# try - values"
   ]
  },
  {
   "cell_type": "markdown",
   "metadata": {},
   "source": [
    "### Testing Functions"
   ]
  },
  {
   "cell_type": "code",
   "execution_count": 60,
   "metadata": {},
   "outputs": [],
   "source": [
    "# set current nc\n",
    "#nc_file = ls_cubes[1]"
   ]
  },
  {
   "cell_type": "code",
   "execution_count": 61,
   "metadata": {},
   "outputs": [
    {
     "name": "stdout",
     "output_type": "stream",
     "text": [
      "Duplicating cube: E:\\Curtin\\GDVII - General\\Work Package 2\\test_data\\gdvspectra_likelihood\\inputs\\yandi_2_ls_90_20_raw_odc.nc\n"
     ]
    }
   ],
   "source": [
    "# duplicate a good nc for use in testing\n",
    "#test_funcs.create_temp_nc(in_nc=nc_file, out_nc=temp_nc)"
   ]
  },
  {
   "cell_type": "code",
   "execution_count": 62,
   "metadata": {},
   "outputs": [
    {
     "ename": "RuntimeError",
     "evalue": "No active exception to reraise",
     "output_type": "error",
     "traceback": [
      "\u001b[0;31m---------------------------------------------------------------------------\u001b[0m\n\u001b[0;31mRuntimeError\u001b[0m                              Traceback (most recent call last)",
      "In  \u001b[0;34m[62]\u001b[0m:\nLine \u001b[0;34m1\u001b[0m:     \u001b[34mraise\u001b[39;49;00m\n",
      "\u001b[0;31mRuntimeError\u001b[0m: No active exception to reraise\n\u001b[0;31m---------------------------------------------------------------------------\u001b[0m"
     ]
    }
   ],
   "source": [
    "raise"
   ]
  },
  {
   "cell_type": "code",
   "execution_count": null,
   "metadata": {},
   "outputs": [],
   "source": [
    "# remove coord - e.g. x, y, time, spatial_ref\n",
    "#test_funcs.remove_coord(in_nc=temp_nc, \n",
    "                        #coord='time')"
   ]
  },
  {
   "cell_type": "code",
   "execution_count": null,
   "metadata": {},
   "outputs": [],
   "source": [
    "# remove all var data\n",
    "#test_funcs.remove_all_vars(temp_nc)"
   ]
  },
  {
   "cell_type": "code",
   "execution_count": null,
   "metadata": {},
   "outputs": [],
   "source": [
    "# remove var - e.g. nbart_red, oa_fmask    \n",
    "#test_funcs.remove_var(in_nc=temp_nc, \n",
    "                      #var='oa_fmask')"
   ]
  },
  {
   "cell_type": "code",
   "execution_count": null,
   "metadata": {},
   "outputs": [],
   "source": [
    "# set all vars in nc to nan\n",
    "#test_funcs.set_nc_vars_all_nan(temp_nc)"
   ]
  },
  {
   "cell_type": "code",
   "execution_count": null,
   "metadata": {},
   "outputs": [],
   "source": [
    "# set some images to all nan randomlly    \n",
    "#test_funcs.set_nc_vars_random_all_nan(temp_nc, \n",
    "                                      #num=10)"
   ]
  },
  {
   "cell_type": "code",
   "execution_count": null,
   "metadata": {},
   "outputs": [],
   "source": [
    "# strip attributes from nc   \n",
    "#test_funcs.strip_nc_attributes(temp_nc)"
   ]
  },
  {
   "cell_type": "code",
   "execution_count": null,
   "metadata": {},
   "outputs": [],
   "source": [
    "# set first and last times in nc to all nan      \n",
    "#test_funcs.set_end_times_to_all_nan(temp_nc)"
   ]
  },
  {
   "cell_type": "code",
   "execution_count": null,
   "metadata": {},
   "outputs": [],
   "source": [
    "# reduce whole nc to one random time        \n",
    "#test_funcs.reduce_to_one_scene(temp_nc)"
   ]
  },
  {
   "cell_type": "code",
   "execution_count": null,
   "metadata": {},
   "outputs": [],
   "source": [
    "# set specific season (via months) to nan for every year\n",
    "#test_funcs.set_all_specific_season_nan(temp_nc, \n",
    "                                       #months=[7, 8, 9, 10, 11, 12])"
   ]
  },
  {
   "cell_type": "code",
   "execution_count": null,
   "metadata": {},
   "outputs": [],
   "source": [
    "# remove specific season (via months) to nan for every year\n",
    "#test_funcs.remove_all_specific_season_nan(temp_nc, \n",
    "                                          #months=[1, 2, 3])"
   ]
  },
  {
   "cell_type": "code",
   "execution_count": null,
   "metadata": {},
   "outputs": [],
   "source": [
    "# set specific season (via months) to nan for specific years\n",
    "#test_funcs.set_specific_years_season_nan(temp_nc, \n",
    "                                         #years=[1999, 2000, 2001], \n",
    "                                         #months=[7, 8, 9, 10, 11, 12])"
   ]
  },
  {
   "cell_type": "code",
   "execution_count": null,
   "metadata": {},
   "outputs": [],
   "source": [
    "# set specific season (via months) to nan for specific years\n",
    "#test_funcs.remove_specific_years_season_nan(temp_nc, \n",
    "                                         #years=[1999, 2000, 2001], \n",
    "                                         #months=[7, 8, 9, 10, 11, 12])"
   ]
  },
  {
   "cell_type": "code",
   "execution_count": null,
   "metadata": {},
   "outputs": [],
   "source": [
    "# set specific season (via months) to nan for specific years\n",
    "#test_funcs.remove_specific_years_season_nan(temp_nc, \n",
    "                                            #years=[1999, 2000, 2001], \n",
    "                                            #months=[7, 8, 9, 10, 11, 12])"
   ]
  },
  {
   "cell_type": "code",
   "execution_count": 101,
   "metadata": {},
   "outputs": [],
   "source": [
    "def test_one_wet_months(in_nc, func_name='default'):\n",
    "    \"\"\"tests different set ups of the wet months input\"\"\"\n",
    "\n",
    "    inputs = {\n",
    "        'in_nc': in_nc,                        # input nc (i.e. temp nc)\n",
    "        'out_nc': '',                          # output nc (i.e. t1a nc)\n",
    "        'in_wet_months': '',                   # wet months \n",
    "        'in_dry_months': '9;10;11',            # dry months \n",
    "        'in_veg_idx': 'MAVI',                  # vege index name\n",
    "        'in_mst_idx': 'NDMI',                  # moisture index name       \n",
    "        'in_zscore_pvalue': None,              # zscore pvalue\n",
    "        'in_ivt_qupper': 0.99,                 # upper quantile for standardisation\n",
    "        'in_ivt_qlower': 0.05,                 # lower quantile for standardisation\n",
    "        'in_fmask_flags': 'Valid;Snow;Water',  # fmask flag values\n",
    "        'in_max_cloud': 10,                    # max cloud percentage\n",
    "        'in_interpolate': True,                # interpolate missing pixels\n",
    "        'in_add_result_to_map': True,          # add result to map\n",
    "    }\n",
    "    \n",
    "    out_nc = os.path.join(output_folder, 't1{}_{}.nc')\n",
    "    \n",
    "    try:\n",
    "        print('\\n\\nRunning t1a (test one a). Wet months input is \"\".')\n",
    "        print('- ' * 50)\n",
    "        inputs.update({'out_nc': out_nc.format('a', func_name), 'in_wet_months': ''})\n",
    "        arcpy.GDVSpectra_Likelihood_toolbox(*list(inputs.values()))\n",
    "    except Exception as e:\n",
    "        print(e)\n",
    "        \n",
    "    try:\n",
    "        _ = str(random.randint(1, 5))\n",
    "        print('\\n\\nRunning t1c (test one b). Wet months have 1 month only ({}).'.format(_))\n",
    "        print('- ' * 50)\n",
    "        inputs.update({'out_nc': out_nc.format('b', func_name), 'in_wet_months': _})\n",
    "        arcpy.GDVSpectra_Likelihood_toolbox(*list(inputs.values()))\n",
    "    except Exception as e:\n",
    "        print(e)      \n",
    "        \n",
    "    try:\n",
    "        print('\\n\\nRunning t1d (test one c). Wet months have several months (1, 2, 3).')\n",
    "        print('- ' * 50)\n",
    "        inputs.update({'out_nc': out_nc.format('c', func_name), 'in_wet_months': '1;2;3'})\n",
    "        arcpy.GDVSpectra_Likelihood_toolbox(*list(inputs.values()))\n",
    "    except Exception as e:\n",
    "        print(e)   \n",
    "        \n",
    "    try:\n",
    "        print('\\n\\nRunning t1e (test one d). Wet months contains months in dry (5, 6, 7, 8, 9).')\n",
    "        print('- ' * 50)\n",
    "        inputs.update({'out_nc': out_nc.format('d', func_name), 'in_wet_months': '5;6;7;8;9'})\n",
    "        arcpy.GDVSpectra_Likelihood_toolbox(*list(inputs.values()))\n",
    "    except Exception as e:\n",
    "        print(e)  \n",
    "        \n",
    "    try:\n",
    "        print('\\n\\nRunning t1e (test one e). Wet months contains 1 month in december (12, 1, 2).')\n",
    "        print('- ' * 50)\n",
    "        inputs.update({'out_nc': out_nc.format('e', func_name), 'in_wet_months': '12;1;2'})\n",
    "        arcpy.GDVSpectra_Likelihood_toolbox(*list(inputs.values()))\n",
    "    except Exception as e:\n",
    "        print(e)"
   ]
  },
  {
   "cell_type": "code",
   "execution_count": 104,
   "metadata": {
    "scrolled": false
   },
   "outputs": [
    {
     "name": "stdout",
     "output_type": "stream",
     "text": [
      "\n",
      "\n",
      "Running all data functions on test one.\n",
      "- - - - - - - - - - - - - - - - - - - - - - - - - - - - - - - - - - - - - - - - - - - - - - - - - - \n",
      "\n",
      "\n",
      "Using raw, default cube on test one.\n",
      "Duplicating cube: E:\\Curtin\\GDVII - General\\Work Package 2\\test_data\\gdvspectra_likelihood\\inputs\\yandi_2_ls_90_20_raw_odc.nc\n",
      "\n",
      "\n",
      "Running t1a (test one a). Wet months input is \"\".\n",
      "- - - - - - - - - - - - - - - - - - - - - - - - - - - - - - - - - - - - - - - - - - - - - - - - - - \n",
      "Failed to execute. Parameters are not valid.\n",
      "ERROR 000735: Wet month(s): Value is required\n",
      "Failed to execute (GDVSpectra_Likelihood).\n",
      "\n",
      "\n",
      "\n",
      "Running t1c (test one b). Wet months have 1 month only (3).\n",
      "- - - - - - - - - - - - - - - - - - - - - - - - - - - - - - - - - - - - - - - - - - - - - - - - - - \n"
     ]
    },
    {
     "name": "stderr",
     "output_type": "stream",
     "text": [
      "Traceback (most recent call last):\n",
      "  File \"<string>\", line 1981, in execute\n",
      "UnboundLocalError: local variable 'ds' referenced before assignment\n"
     ]
    },
    {
     "name": "stdout",
     "output_type": "stream",
     "text": [
      "ERROR 000582: Error occurred during execution.\n",
      "\n",
      "\n",
      "\n",
      "Running t1d (test one c). Wet months have several months (1, 2, 3).\n",
      "- - - - - - - - - - - - - - - - - - - - - - - - - - - - - - - - - - - - - - - - - - - - - - - - - - \n"
     ]
    },
    {
     "name": "stderr",
     "output_type": "stream",
     "text": [
      "Traceback (most recent call last):\n",
      "  File \"<string>\", line 1981, in execute\n",
      "UnboundLocalError: local variable 'ds' referenced before assignment\n"
     ]
    },
    {
     "name": "stdout",
     "output_type": "stream",
     "text": [
      "ERROR 000582: Error occurred during execution.\n",
      "\n",
      "\n",
      "\n",
      "Running t1e (test one d). Wet months contains months in dry (5, 6, 7, 8, 9).\n",
      "- - - - - - - - - - - - - - - - - - - - - - - - - - - - - - - - - - - - - - - - - - - - - - - - - - \n"
     ]
    },
    {
     "name": "stderr",
     "output_type": "stream",
     "text": [
      "Traceback (most recent call last):\n",
      "  File \"<string>\", line 1981, in execute\n",
      "UnboundLocalError: local variable 'ds' referenced before assignment\n"
     ]
    },
    {
     "name": "stdout",
     "output_type": "stream",
     "text": [
      "ERROR 000582: Error occurred during execution.\n",
      "\n",
      "\n",
      "\n",
      "Running t1e (test one e). Wet months contains 1 month in december (12, 1, 2).\n",
      "- - - - - - - - - - - - - - - - - - - - - - - - - - - - - - - - - - - - - - - - - - - - - - - - - - \n"
     ]
    },
    {
     "name": "stderr",
     "output_type": "stream",
     "text": [
      "Traceback (most recent call last):\n",
      "  File \"<string>\", line 1981, in execute\n",
      "UnboundLocalError: local variable 'ds' referenced before assignment\n"
     ]
    },
    {
     "name": "stdout",
     "output_type": "stream",
     "text": [
      "ERROR 000582: Error occurred during execution.\n",
      "\n",
      "\n",
      "\n",
      "Removing time coordinate on test one.\n",
      "Duplicating cube: E:\\Curtin\\GDVII - General\\Work Package 2\\test_data\\gdvspectra_likelihood\\inputs\\yandi_2_ls_90_20_raw_odc.nc\n",
      "Removing dim: time\n",
      "\n",
      "\n",
      "Running t1a (test one a). Wet months input is \"\".\n",
      "- - - - - - - - - - - - - - - - - - - - - - - - - - - - - - - - - - - - - - - - - - - - - - - - - - \n",
      "Failed to execute. Parameters are not valid.\n",
      "ERROR 000735: Wet month(s): Value is required\n",
      "Failed to execute (GDVSpectra_Likelihood).\n",
      "\n",
      "\n",
      "\n",
      "Running t1c (test one b). Wet months have 1 month only (2).\n",
      "- - - - - - - - - - - - - - - - - - - - - - - - - - - - - - - - - - - - - - - - - - - - - - - - - - \n"
     ]
    },
    {
     "name": "stderr",
     "output_type": "stream",
     "text": [
      "Traceback (most recent call last):\n",
      "  File \"<string>\", line 1981, in execute\n",
      "UnboundLocalError: local variable 'ds' referenced before assignment\n"
     ]
    },
    {
     "name": "stdout",
     "output_type": "stream",
     "text": [
      "ERROR 000582: Error occurred during execution.\n",
      "\n",
      "\n",
      "\n",
      "Running t1d (test one c). Wet months have several months (1, 2, 3).\n",
      "- - - - - - - - - - - - - - - - - - - - - - - - - - - - - - - - - - - - - - - - - - - - - - - - - - \n"
     ]
    },
    {
     "name": "stderr",
     "output_type": "stream",
     "text": [
      "Traceback (most recent call last):\n",
      "  File \"<string>\", line 1981, in execute\n",
      "UnboundLocalError: local variable 'ds' referenced before assignment\n"
     ]
    },
    {
     "name": "stdout",
     "output_type": "stream",
     "text": [
      "ERROR 000582: Error occurred during execution.\n",
      "\n",
      "\n",
      "\n",
      "Running t1e (test one d). Wet months contains months in dry (5, 6, 7, 8, 9).\n",
      "- - - - - - - - - - - - - - - - - - - - - - - - - - - - - - - - - - - - - - - - - - - - - - - - - - \n"
     ]
    },
    {
     "name": "stderr",
     "output_type": "stream",
     "text": [
      "Traceback (most recent call last):\n",
      "  File \"<string>\", line 1981, in execute\n",
      "UnboundLocalError: local variable 'ds' referenced before assignment\n"
     ]
    },
    {
     "name": "stdout",
     "output_type": "stream",
     "text": [
      "ERROR 000582: Error occurred during execution.\n",
      "\n",
      "\n",
      "\n",
      "Running t1e (test one e). Wet months contains 1 month in december (12, 1, 2).\n",
      "- - - - - - - - - - - - - - - - - - - - - - - - - - - - - - - - - - - - - - - - - - - - - - - - - - \n"
     ]
    },
    {
     "name": "stderr",
     "output_type": "stream",
     "text": [
      "Traceback (most recent call last):\n",
      "  File \"<string>\", line 1981, in execute\n",
      "UnboundLocalError: local variable 'ds' referenced before assignment\n"
     ]
    },
    {
     "name": "stdout",
     "output_type": "stream",
     "text": [
      "ERROR 000582: Error occurred during execution.\n",
      "\n"
     ]
    }
   ],
   "source": [
    "# set current nc\n",
    "nc_file = ls_cubes[1]\n",
    "\n",
    "def run_all_funcs_test_one(in_nc, temp_nc):\n",
    "    \"\"\"test all data corruptions on wet month variations\"\"\"\n",
    "\n",
    "    print('\\n\\nRunning all data functions on test one.')\n",
    "    print('- ' * 50)\n",
    "    \n",
    "    print('\\n\\nUsing raw, default cube on test one.')\n",
    "    test_funcs.create_temp_nc(in_nc=in_nc, out_nc=temp_nc)\n",
    "    test_one_wet_months(temp_nc, func_name='default')    \n",
    "    \n",
    "    print('\\n\\nRemoving time coordinate on test one.')\n",
    "    test_funcs.create_temp_nc(in_nc=in_nc, out_nc=temp_nc)\n",
    "    test_funcs.remove_coord(in_nc=temp_nc, coord='time')\n",
    "    test_one_wet_months(temp_nc, func_name='remove_coord_time')\n",
    "\n",
    "    \n",
    "run_all_funcs_test_one(nc_file, temp_nc)"
   ]
  },
  {
   "cell_type": "code",
   "execution_count": 103,
   "metadata": {},
   "outputs": [],
   "source": [
    "ds.close()"
   ]
  },
  {
   "cell_type": "code",
   "execution_count": null,
   "metadata": {},
   "outputs": [],
   "source": []
  },
  {
   "cell_type": "code",
   "execution_count": null,
   "metadata": {},
   "outputs": [],
   "source": []
  },
  {
   "cell_type": "code",
   "execution_count": null,
   "metadata": {},
   "outputs": [],
   "source": [
    "# test 0 - raw data with all combos of parameters  "
   ]
  },
  {
   "cell_type": "code",
   "execution_count": null,
   "metadata": {},
   "outputs": [],
   "source": [
    "# test 1 - func remove_coord with all combos of parameters"
   ]
  },
  {
   "cell_type": "code",
   "execution_count": null,
   "metadata": {},
   "outputs": [],
   "source": [
    "# test 2 - func remove_all_vars with all combos of parameters"
   ]
  },
  {
   "cell_type": "code",
   "execution_count": null,
   "metadata": {},
   "outputs": [],
   "source": [
    "# test 3 - func remove_var with all combos of parameters"
   ]
  },
  {
   "cell_type": "code",
   "execution_count": null,
   "metadata": {},
   "outputs": [],
   "source": [
    "# test 4 - func set_nc_vars_all_nan with all combos of parameters"
   ]
  },
  {
   "cell_type": "code",
   "execution_count": null,
   "metadata": {},
   "outputs": [],
   "source": [
    "# test 5 - func set_nc_vars_random_all_nan with all combos of parameters"
   ]
  },
  {
   "cell_type": "code",
   "execution_count": null,
   "metadata": {},
   "outputs": [],
   "source": [
    "# test 6 - func strip_nc_attributes with all combos of parameters"
   ]
  },
  {
   "cell_type": "code",
   "execution_count": null,
   "metadata": {},
   "outputs": [],
   "source": [
    "# test 7 - func set_end_times_to_all_nan with all combos of parameters"
   ]
  },
  {
   "cell_type": "code",
   "execution_count": null,
   "metadata": {},
   "outputs": [],
   "source": [
    "# test 8 - func reduce_to_one_scene with all combos of parameters"
   ]
  },
  {
   "cell_type": "code",
   "execution_count": null,
   "metadata": {},
   "outputs": [],
   "source": [
    "# test 9 - func set_all_specific_season_nan with all combos of parameters"
   ]
  },
  {
   "cell_type": "code",
   "execution_count": null,
   "metadata": {},
   "outputs": [],
   "source": [
    "# test 10 - func set_specific_years_season_nan with all combos of parameters"
   ]
  },
  {
   "cell_type": "code",
   "execution_count": null,
   "metadata": {},
   "outputs": [],
   "source": [
    "# test 11 - func remove_all_specific_season_nan with all combos of parameters"
   ]
  },
  {
   "cell_type": "code",
   "execution_count": null,
   "metadata": {},
   "outputs": [],
   "source": [
    "# test 12 - func remove_specific_years_season_nan with all combos of parameters"
   ]
  },
  {
   "cell_type": "code",
   "execution_count": null,
   "metadata": {},
   "outputs": [],
   "source": []
  },
  {
   "cell_type": "code",
   "execution_count": null,
   "metadata": {},
   "outputs": [],
   "source": [
    "def run_all_tests(in_nc):\n",
    "    \n",
    "    funcs = [\n",
    "        #test_funcs.remove_coord(in_nc=temp_nc, coord='time')\n",
    "    ]\n",
    "    \n",
    "    for funcs = \n",
    "    \n",
    "# run for each different data set up\n",
    "funcs = ['']\n",
    "        test_one_wet_months(in_nc=temp_nc)\n",
    "    \n",
    "    # remove coord - e.g. x, y, time, spatial_ref\n",
    "#"
   ]
  },
  {
   "cell_type": "markdown",
   "metadata": {},
   "source": [
    "### Landsat"
   ]
  },
  {
   "cell_type": "code",
   "execution_count": null,
   "metadata": {},
   "outputs": [],
   "source": [
    "# inputs\n",
    "#  sat cube from cog\n",
    "# try dims\n",
    "# try no crs\n",
    "# try no data\n",
    "# try missing attrs\n",
    "# try 1 image\n",
    "# try all nan\n",
    "# try some nan\n",
    "# try very large ds\n",
    "# try very small ds\n",
    "# try wrong bands"
   ]
  },
  {
   "cell_type": "code",
   "execution_count": null,
   "metadata": {},
   "outputs": [],
   "source": [
    "# set testing parameters. these parameters must match arcgis pro input\n",
    "# syntax (i.e. values brought in directly from pro interface controls)\n",
    "\n",
    "# default\n",
    "test_1 = {\n",
    "    'in_nc': r'C:\\Users\\Lewis\\Desktop\\ryan\\ls.nc',        # raw input satellite netcdf\n",
    "    'out_nc': r'C:\\Users\\Lewis\\Desktop\\ryan\\ls_like.nc',  # raw output likelihood netcdf    \n",
    "    'in_wet_months': '1;2;3',                             # wet months \n",
    "    'in_dry_months': '9;10;11',                           # dry months \n",
    "    'in_veg_idx': 'MAVI',                                 # vege index name\n",
    "    'in_mst_idx': 'NDMI',                                 # moisture index name       \n",
    "    'in_zscore_pvalue': None,                             # zscore pvalue\n",
    "    'in_ivt_qupper': 0.99,                                # upper quantile for standardisation\n",
    "    'in_ivt_qlower': 0.05,                                # lower quantile for standardisation\n",
    "    'in_fmask_flags': 'Valid;Snow;Water',                 # fmask flag values\n",
    "    'in_max_cloud': 10,                                   # max cloud percentage\n",
    "    'in_interpolate': True,                               # interpolate missing pixels\n",
    "    'in_add_result_to_map': True,                         # add result to map\n",
    "}\n",
    "\n",
    "#execute(**test_1)"
   ]
  },
  {
   "cell_type": "markdown",
   "metadata": {},
   "source": [
    "### Sentinel"
   ]
  },
  {
   "cell_type": "code",
   "execution_count": null,
   "metadata": {},
   "outputs": [],
   "source": [
    "# default\n",
    "test_2 = {\n",
    "    'in_nc': r'C:\\Users\\Lewis\\Desktop\\ryan\\ls.nc',        # raw input satellite netcdf\n",
    "    'out_nc': r'C:\\Users\\Lewis\\Desktop\\ryan\\ls_like.nc',  # raw output likelihood netcdf    \n",
    "    'in_wet_months': '1;2;3',                             # wet months \n",
    "    'in_dry_months': '9;10;11',                           # dry months \n",
    "    'in_veg_idx': 'MAVI',                                 # vege index name\n",
    "    'in_mst_idx': 'NDMI',                                 # moisture index name       \n",
    "    'in_zscore_pvalue': None,                             # zscore pvalue\n",
    "    'in_ivt_qupper': 0.99,                                # upper quantile for standardisation\n",
    "    'in_ivt_qlower': 0.05,                                # lower quantile for standardisation\n",
    "    'in_fmask_flags': 'Valid;Snow;Water',                 # fmask flag values\n",
    "    'in_max_cloud': 10,                                   # max cloud percentage\n",
    "    'in_interpolate': True,                               # interpolate missing pixels\n",
    "    'in_add_result_to_map': True,                         # add result to map\n",
    "}"
   ]
  }
 ],
 "metadata": {
  "kernelspec": {
   "display_name": "ArcGISPro",
   "language": "Python",
   "name": "python3"
  },
  "language_info": {
   "file_extension": ".py",
   "name": "python",
   "version": "3"
  }
 },
 "nbformat": 4,
 "nbformat_minor": 2
}

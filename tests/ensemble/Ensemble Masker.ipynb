{
 "cells": [
  {
   "cell_type": "markdown",
   "metadata": {},
   "source": [
    "# Nicher/Ensemble Masker module tests"
   ]
  },
  {
   "cell_type": "markdown",
   "metadata": {},
   "source": [
    "## Globals"
   ]
  },
  {
   "cell_type": "code",
   "execution_count": 104,
   "metadata": {
    "ExecuteTime": {
     "end_time": "2022-05-10T16:06:25.871456Z",
     "start_time": "2022-05-10T16:06:25.704028Z"
    }
   },
   "outputs": [],
   "source": [
    "# set globals paths\n",
    "FOLDER_MODULES = r'C:\\Users\\Lewis\\Documents\\GitHub\\tenement-tools\\modules'  \n",
    "FOLDER_SHARED = r'C:\\Users\\Lewis\\Documents\\GitHub\\tenement-tools\\shared'\n",
    "TEST_MODULE = r'C:\\Users\\Lewis\\Documents\\GitHub\\tenement-tools\\tests\\code'\n",
    "GRP_LYR_FILE = r'C:\\Users\\Lewis\\Documents\\GitHub\\tenement-tools\\arc\\lyr\\group_template.lyrx'    "
   ]
  },
  {
   "cell_type": "markdown",
   "metadata": {},
   "source": [
    "## Setup"
   ]
  },
  {
   "cell_type": "markdown",
   "metadata": {},
   "source": [
    "### Imports"
   ]
  },
  {
   "cell_type": "code",
   "execution_count": 105,
   "metadata": {
    "ExecuteTime": {
     "end_time": "2022-05-10T16:06:28.279980Z",
     "start_time": "2022-05-10T16:06:26.519484Z"
    }
   },
   "outputs": [
    {
     "data": {
      "text/plain": [
       "<module 'toolbox'>"
      ]
     },
     "execution_count": 105,
     "metadata": {},
     "output_type": "execute_result"
    }
   ],
   "source": [
    "# imports\n",
    "import os\n",
    "import random\n",
    "import numpy as np\n",
    "import xarray as xr\n",
    "import uuid\n",
    "from IPython.utils import io\n",
    "\n",
    "# import testing functions\n",
    "sys.path.append(TEST_MODULE)\n",
    "import test_funcs\n",
    "\n",
    "# import full arcpy toolbox\n",
    "arcpy.ImportToolbox(r\"C:\\Users\\Lewis\\Documents\\GitHub\\tenement-tools\\arc\\toolbox\\tenement-tools-toolbox.pyt\")"
   ]
  },
  {
   "cell_type": "markdown",
   "metadata": {},
   "source": [
    "### Reload libraries"
   ]
  },
  {
   "cell_type": "code",
   "execution_count": 106,
   "metadata": {
    "ExecuteTime": {
     "end_time": "2022-05-10T16:06:28.281557Z",
     "start_time": "2022-05-10T16:06:28.280149Z"
    }
   },
   "outputs": [
    {
     "data": {
      "text/plain": [
       "<module 'test_funcs' from 'C:\\\\Users\\\\Lewis\\\\Documents\\\\GitHub\\\\tenement-tools\\\\tests\\\\code\\\\test_funcs.py'>"
      ]
     },
     "execution_count": 106,
     "metadata": {},
     "output_type": "execute_result"
    }
   ],
   "source": [
    "# if scripts change, reload\n",
    "from importlib import reload\n",
    "reload(test_funcs)"
   ]
  },
  {
   "cell_type": "markdown",
   "metadata": {},
   "source": [
    "### Set data files and locations"
   ]
  },
  {
   "cell_type": "code",
   "execution_count": 92,
   "metadata": {
    "ExecuteTime": {
     "end_time": "2022-05-10T16:06:48.175368Z",
     "start_time": "2022-05-10T16:06:48.173741Z"
    },
    "code_folding": []
   },
   "outputs": [],
   "source": [
    "# area a (tutorial area)\n",
    "\n",
    "# set up area raw satellite options\n",
    "in_ncs = [\n",
    "    r\"E:\\Curtin\\GDVII - General\\Work Package 2\\test_data\\ensemble_masker\\inputs\\tutorial\\ensemble.nc\"\n",
    "]\n",
    "\n",
    "# set current nc\n",
    "in_nc = in_ncs[0]\n",
    "\n",
    "# set high res geotiff\n",
    "in_masks = [\n",
    "    r\"E:\\Curtin\\GDVII - General\\Work Package 2\\test_data\\ensemble_masker\\inputs\\tutorial\\temp.tif\",\n",
    "    r\"E:\\Curtin\\GDVII - General\\Work Package 2\\test_data\\ensemble_masker\\inputs\\tutorial\\masker_4classes.tif\",\n",
    "    r\"E:\\Curtin\\GDVII - General\\Work Package 2\\test_data\\ensemble_masker\\inputs\\tutorial\\mask_a_10m.tif\",\n",
    "    r\"E:\\Curtin\\GDVII - General\\Work Package 2\\test_data\\ensemble_masker\\inputs\\tutorial\\mask_a_30m_complete_overlap.tif\",\n",
    "    r\"E:\\Curtin\\GDVII - General\\Work Package 2\\test_data\\ensemble_masker\\inputs\\tutorial\\mask_a_30m_not_in.tif\",\n",
    "    r\"E:\\Curtin\\GDVII - General\\Work Package 2\\test_data\\ensemble_masker\\inputs\\tutorial\\mask_a_50m_half_in.tif\"\n",
    "]\n",
    "\n",
    "# set output temp nc, tif\n",
    "out_nc = r\"E:\\Curtin\\GDVII - General\\Work Package 2\\test_data\\ensemble_masker\\outputs\\temp_nc.nc\""
   ]
  },
  {
   "cell_type": "markdown",
   "metadata": {},
   "source": [
    "## Testing"
   ]
  },
  {
   "cell_type": "markdown",
   "metadata": {},
   "source": [
    "### Test: all parameters"
   ]
  },
  {
   "cell_type": "code",
   "execution_count": 93,
   "metadata": {
    "code_folding": [
     32,
     46,
     60,
     75,
     91,
     105,
     123,
     137,
     151,
     166,
     181,
     195,
     210
    ]
   },
   "outputs": [
    {
     "name": "stdout",
     "output_type": "stream",
     "text": [
      "\n",
      "Test: mask veg types 2,4,6,8,10. var 1, binary 2\n",
      "\n",
      "Test: mask veg types 2,4,6,8,10. var 1, binary 10\n",
      "\n",
      "Test: mask veg types 2,4,6,8,10. var 1, binary 11 (not in ds)\n",
      "Binary value not found in mask.\n",
      "Failed to execute (Ensemble_Masker).\n",
      "\n",
      "\n",
      "Test: mask veg types 2,4,6,8,10. var 1, range 2 to 6\n",
      "\n",
      "Test: mask veg types 2,4,6,8,10. var 1, range 0 to 1 (not in ds)\n",
      "\n",
      "Test: mask veg types 2,4,6,8,10 composite. var 2, binary 4\n",
      "\n",
      "Test: mask veg types 2,4,6,8,10 composite. var 2, range 8, 10\n",
      "\n",
      "Test: mask 10m all in. var 1, binary 1\n",
      "\n",
      "Test: mask 10m all in. var 1, binary 10 (not in)\n",
      "Binary value not found in mask.\n",
      "Failed to execute (Ensemble_Masker).\n",
      "\n",
      "\n",
      "Test: mask 10m all in. var 1, range 3, 10 (not in ds)\n",
      "\n",
      "Test: mask 10m all in. var 1, range 0 to 2\n",
      "\n",
      "Test: mask 30m complete overlap in. var 1, binary 4\n",
      "Requested mask value resulted in empty mask.\n",
      "Failed to execute (Ensemble_Masker).\n",
      "\n",
      "\n",
      "Test: mask 30m not in at all. var 1, range 3, 10\n",
      "No values in mask after resample.\n",
      "Failed to execute (Ensemble_Masker).\n",
      "\n",
      "\n",
      "Test: mask 50 half in . var 1, binary 2\n"
     ]
    }
   ],
   "source": [
    "def test():\n",
    "    \n",
    "    inputs = {\n",
    "            'in_ensemble_nc': '',\n",
    "            'out_nc': out_nc,\n",
    "            'in_mask_file': '',\n",
    "            'in_var': '',\n",
    "            'in_type': 'Binary',\n",
    "            'in_binary': None,\n",
    "            'in_range_min': None,\n",
    "            'in_range_max': None,\n",
    "            'in_add_result_to_map': True\n",
    "        }\n",
    "    \n",
    "    arcpy.env.addOutputsToMap = True\n",
    "\n",
    "    try:\n",
    "        print('\\nTest: mask veg types 2,4,6,8,10. var 1, binary 2')\n",
    "        with io.capture_output() as cap:\n",
    "            params = inputs.copy()            \n",
    "            params.update({'in_ensemble_nc': in_nc, \n",
    "                           'in_mask_file': in_masks[0],\n",
    "                           'in_var': '1',\n",
    "                           'in_type': 'Binary',\n",
    "                           'in_binary': 2\n",
    "                           })\n",
    "            arcpy.Ensemble_Masker_toolbox(**params)\n",
    "    except Exception as e:\n",
    "        print(e)\n",
    "        \n",
    "    try:\n",
    "        print('\\nTest: mask veg types 2,4,6,8,10. var 1, binary 10')\n",
    "        with io.capture_output() as cap:\n",
    "            params = inputs.copy()            \n",
    "            params.update({'in_ensemble_nc': in_nc, \n",
    "                           'in_mask_file': in_masks[0],\n",
    "                           'in_var': '1',\n",
    "                           'in_type': 'Binary',\n",
    "                           'in_binary': 10\n",
    "                           })\n",
    "            arcpy.Ensemble_Masker_toolbox(**params)\n",
    "    except Exception as e:\n",
    "        print(e)\n",
    "        \n",
    "    try:\n",
    "        print('\\nTest: mask veg types 2,4,6,8,10. var 1, binary 11 (not in ds)')\n",
    "        with io.capture_output() as cap:\n",
    "            params = inputs.copy()            \n",
    "            params.update({'in_ensemble_nc': in_nc, \n",
    "                           'in_mask_file': in_masks[0],\n",
    "                           'in_var': '1',\n",
    "                           'in_type': 'Binary',\n",
    "                           'in_binary': 11\n",
    "                           })\n",
    "            arcpy.Ensemble_Masker_toolbox(**params)\n",
    "    except Exception as e:\n",
    "        print(e)\n",
    "          \n",
    "    try:\n",
    "        print('\\nTest: mask veg types 2,4,6,8,10. var 1, range 2 to 6')\n",
    "        with io.capture_output() as cap:\n",
    "            params = inputs.copy()            \n",
    "            params.update({'in_ensemble_nc': in_nc, \n",
    "                           'in_mask_file': in_masks[0],\n",
    "                           'in_var': '1',\n",
    "                           'in_type': 'Range',\n",
    "                           'in_range_min': 2,\n",
    "                           'in_range_max': 6,\n",
    "                           })\n",
    "            arcpy.Ensemble_Masker_toolbox(**params)\n",
    "    except Exception as e:\n",
    "        print(e)\n",
    "              \n",
    "    try:\n",
    "        print('\\nTest: mask veg types 2,4,6,8,10. var 1, range 0 to 1 (not in ds)')\n",
    "        with io.capture_output() as cap:\n",
    "            params = inputs.copy()            \n",
    "            params.update({'in_ensemble_nc': in_nc, \n",
    "                           'in_mask_file': in_masks[0],\n",
    "                           'in_var': '1',\n",
    "                           'in_type': 'Range',\n",
    "                           'in_range_min': 0,\n",
    "                           'in_range_max': 1,\n",
    "                           })\n",
    "            arcpy.Ensemble_Masker_toolbox(**params)\n",
    "    except Exception as e:\n",
    "        print(e)\n",
    "              \n",
    "\n",
    "    try:\n",
    "        print('\\nTest: mask veg types 2,4,6,8,10 composite. var 2, binary 4')\n",
    "        with io.capture_output() as cap:\n",
    "            params = inputs.copy()            \n",
    "            params.update({'in_ensemble_nc': in_nc, \n",
    "                           'in_mask_file': in_masks[1],\n",
    "                           'in_var': '2',\n",
    "                           'in_type': 'Binary',\n",
    "                           'in_binary': 4\n",
    "                           })\n",
    "            arcpy.Ensemble_Masker_toolbox(**params)\n",
    "    except Exception as e:\n",
    "        print(e)\n",
    "    \n",
    "    try:\n",
    "        print('\\nTest: mask veg types 2,4,6,8,10 composite. var 2, range 8, 10')\n",
    "        with io.capture_output() as cap:\n",
    "            params = inputs.copy()            \n",
    "            params.update({'in_ensemble_nc': in_nc, \n",
    "                           'in_mask_file': in_masks[1],\n",
    "                           'in_var': '2',\n",
    "                           'in_type': 'Range',\n",
    "                           'in_range_min': 8,\n",
    "                           'in_range_max': 10,\n",
    "                           })\n",
    "            arcpy.Ensemble_Masker_toolbox(**params)\n",
    "    except Exception as e:\n",
    "        print(e)    \n",
    "    \n",
    "    \n",
    "    \n",
    "\n",
    "    try:\n",
    "        print('\\nTest: mask 10m all in. var 1, binary 1')\n",
    "        with io.capture_output() as cap:\n",
    "            params = inputs.copy()            \n",
    "            params.update({'in_ensemble_nc': in_nc, \n",
    "                           'in_mask_file': in_masks[2],\n",
    "                           'in_var': '1',\n",
    "                           'in_type': 'Binary',\n",
    "                           'in_binary': 1\n",
    "                           })\n",
    "            arcpy.Ensemble_Masker_toolbox(**params)\n",
    "    except Exception as e:\n",
    "        print(e)\n",
    "        \n",
    "    try:\n",
    "        print('\\nTest: mask 10m all in. var 1, binary 10 (not in)')\n",
    "        with io.capture_output() as cap:\n",
    "            params = inputs.copy()            \n",
    "            params.update({'in_ensemble_nc': in_nc, \n",
    "                           'in_mask_file': in_masks[2],\n",
    "                           'in_var': '1',\n",
    "                           'in_type': 'Binary',\n",
    "                           'in_binary': 10\n",
    "                           })\n",
    "            arcpy.Ensemble_Masker_toolbox(**params)\n",
    "    except Exception as e:\n",
    "        print(e)\n",
    "        \n",
    "    try:\n",
    "        print('\\nTest: mask 10m all in. var 1, range 3, 10 (not in ds)')\n",
    "        with io.capture_output() as cap:\n",
    "            params = inputs.copy()            \n",
    "            params.update({'in_ensemble_nc': in_nc, \n",
    "                           'in_mask_file': in_masks[2],\n",
    "                           'in_var': '1',\n",
    "                           'in_type': 'Range',\n",
    "                           'in_range_min': 3,\n",
    "                           'in_range_max': 10,\n",
    "                           })\n",
    "            arcpy.Ensemble_Masker_toolbox(**params)\n",
    "    except Exception as e:\n",
    "        print(e)\n",
    "          \n",
    "    try:\n",
    "        print('\\nTest: mask 10m all in. var 1, range 0 to 2')\n",
    "        with io.capture_output() as cap:\n",
    "            params = inputs.copy()            \n",
    "            params.update({'in_ensemble_nc': in_nc, \n",
    "                           'in_mask_file': in_masks[2],\n",
    "                           'in_var': '1',\n",
    "                           'in_type': 'Range',\n",
    "                           'in_range_min': 0,\n",
    "                           'in_range_max': 2,\n",
    "                           })\n",
    "            arcpy.Ensemble_Masker_toolbox(**params)\n",
    "    except Exception as e:\n",
    "        print(e)\n",
    "              \n",
    "    try:\n",
    "        print('\\nTest: mask 30m complete overlap in. var 1, binary 4')\n",
    "        with io.capture_output() as cap:\n",
    "            params = inputs.copy()            \n",
    "            params.update({'in_ensemble_nc': in_nc, \n",
    "                           'in_mask_file': in_masks[3],\n",
    "                           'in_var': '1',\n",
    "                           'in_type': 'Binary',\n",
    "                           'in_binary': 4\n",
    "                           })\n",
    "            arcpy.Ensemble_Masker_toolbox(**params)\n",
    "    except Exception as e:\n",
    "        print(e)\n",
    "        \n",
    "    try:\n",
    "        print('\\nTest: mask 30m not in at all. var 1, range 3, 10')\n",
    "        with io.capture_output() as cap:\n",
    "            params = inputs.copy()            \n",
    "            params.update({'in_ensemble_nc': in_nc, \n",
    "                           'in_mask_file': in_masks[4],\n",
    "                           'in_var': '1',\n",
    "                           'in_type': 'Range',\n",
    "                           'in_range_min': 3,\n",
    "                           'in_range_max': 10,\n",
    "                           })\n",
    "            arcpy.Ensemble_Masker_toolbox(**params)\n",
    "    except Exception as e:\n",
    "        print(e)\n",
    "        \n",
    "    try:\n",
    "        print('\\nTest: mask 50 half in . var 1, binary 2')\n",
    "        with io.capture_output() as cap:\n",
    "            params = inputs.copy()            \n",
    "            params.update({'in_ensemble_nc': in_nc, \n",
    "                           'in_mask_file': in_masks[5],\n",
    "                           'in_var': '1',\n",
    "                           'in_type': 'Binary',\n",
    "                           'in_binary': 2\n",
    "                           })\n",
    "            arcpy.Ensemble_Masker_toolbox(**params)\n",
    "    except Exception as e:\n",
    "        print(e)\n",
    "        \n",
    "    return\n",
    "\n",
    "test()"
   ]
  },
  {
   "cell_type": "markdown",
   "metadata": {},
   "source": [
    "# Quick Check"
   ]
  },
  {
   "cell_type": "code",
   "execution_count": 94,
   "metadata": {},
   "outputs": [
    {
     "name": "stdout",
     "output_type": "stream",
     "text": [
      "\n",
      "Test: ensemble masker, defaults\n",
      "Object: Error in executing tool\n"
     ]
    }
   ],
   "source": [
    "def quick():\n",
    "    \n",
    "    in_nc = r\"E:\\Curtin\\GDVII - General\\Work Package 2\\test_data\\ensemble_masker\\inputs\\tutorial\\ensemble.nc\"\n",
    "    out_nc = r\"E:\\Curtin\\GDVII - General\\Work Package 2\\test_data\\gdvspectra_threshold\\inputs\\temp_nc.nc\"\n",
    "    in_mask = r\"E:\\Curtin\\GDVII - General\\Work Package 2\\test_data\\ensemble_masker\\inputs\\tutorial\\mask_a_10m.tif\",\n",
    "    \n",
    "    inputs = {\n",
    "            'in_ensemble_nc': in_nc,\n",
    "            'out_nc': out_nc,\n",
    "            'in_mask_file': in_mask,\n",
    "            'in_var': '1',\n",
    "            'in_type': 'Binary',\n",
    "            'in_binary': 1,\n",
    "            'in_range_min': 1,\n",
    "            'in_range_max': 1,\n",
    "            'in_replace': 'NoData',\n",
    "            'in_add_result_to_map': True\n",
    "        }\n",
    "    \n",
    "    arcpy.env.addOutputsToMap = True\n",
    "\n",
    "    try:\n",
    "        print('\\nTest: ensemble masker, defaults')\n",
    "        with io.capture_output() as cap:\n",
    "            arcpy.Ensemble_Masker_toolbox(**inputs)\n",
    "    except Exception as e:\n",
    "        print(e)\n",
    "        \n",
    "quick()"
   ]
  },
  {
   "cell_type": "code",
   "execution_count": null,
   "metadata": {},
   "outputs": [],
   "source": []
  },
  {
   "cell_type": "code",
   "execution_count": null,
   "metadata": {},
   "outputs": [],
   "source": []
  }
 ],
 "metadata": {
  "kernelspec": {
   "display_name": "ArcGISPro",
   "language": "Python",
   "name": "python3"
  },
  "language_info": {
   "file_extension": ".py",
   "name": "python",
   "version": "3"
  }
 },
 "nbformat": 4,
 "nbformat_minor": 2
}

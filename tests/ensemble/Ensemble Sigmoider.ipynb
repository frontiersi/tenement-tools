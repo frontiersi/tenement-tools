{
 "cells": [
  {
   "cell_type": "markdown",
   "metadata": {},
   "source": [
    "# Ensemble Sigmoider module tests"
   ]
  },
  {
   "cell_type": "markdown",
   "metadata": {},
   "source": [
    "## Globals"
   ]
  },
  {
   "cell_type": "code",
   "execution_count": 15,
   "metadata": {
    "ExecuteTime": {
     "end_time": "2022-05-10T16:06:25.871456Z",
     "start_time": "2022-05-10T16:06:25.704028Z"
    }
   },
   "outputs": [],
   "source": [
    "# set globals paths\n",
    "FOLDER_MODULES = r'C:\\Users\\Lewis\\Documents\\GitHub\\tenement-tools\\modules'  \n",
    "FOLDER_SHARED = r'C:\\Users\\Lewis\\Documents\\GitHub\\tenement-tools\\shared'\n",
    "TEST_MODULE = r'C:\\Users\\Lewis\\Documents\\GitHub\\tenement-tools\\tests\\code'\n",
    "GRP_LYR_FILE = r'C:\\Users\\Lewis\\Documents\\GitHub\\tenement-tools\\arc\\lyr\\group_template.lyrx'    "
   ]
  },
  {
   "cell_type": "markdown",
   "metadata": {},
   "source": [
    "## Setup"
   ]
  },
  {
   "cell_type": "markdown",
   "metadata": {},
   "source": [
    "### Imports"
   ]
  },
  {
   "cell_type": "code",
   "execution_count": 16,
   "metadata": {
    "ExecuteTime": {
     "end_time": "2022-05-10T16:06:28.279980Z",
     "start_time": "2022-05-10T16:06:26.519484Z"
    }
   },
   "outputs": [
    {
     "data": {
      "text/plain": [
       "<module 'toolbox'>"
      ]
     },
     "execution_count": 16,
     "metadata": {},
     "output_type": "execute_result"
    }
   ],
   "source": [
    "# imports\n",
    "import os\n",
    "import random\n",
    "import numpy as np\n",
    "import xarray as xr\n",
    "import uuid\n",
    "from IPython.utils import io\n",
    "\n",
    "# import testing functions\n",
    "sys.path.append(TEST_MODULE)\n",
    "import test_funcs\n",
    "\n",
    "# import full arcpy toolbox\n",
    "arcpy.ImportToolbox(r\"C:\\Users\\Lewis\\Documents\\GitHub\\tenement-tools\\arc\\toolbox\\tenement-tools-toolbox.pyt\")"
   ]
  },
  {
   "cell_type": "markdown",
   "metadata": {},
   "source": [
    "### Reload libraries"
   ]
  },
  {
   "cell_type": "code",
   "execution_count": 17,
   "metadata": {
    "ExecuteTime": {
     "end_time": "2022-05-10T16:06:28.281557Z",
     "start_time": "2022-05-10T16:06:28.280149Z"
    }
   },
   "outputs": [
    {
     "data": {
      "text/plain": [
       "<module 'test_funcs' from 'C:\\\\Users\\\\Lewis\\\\Documents\\\\GitHub\\\\tenement-tools\\\\tests\\\\code\\\\test_funcs.py'>"
      ]
     },
     "execution_count": 17,
     "metadata": {},
     "output_type": "execute_result"
    }
   ],
   "source": [
    "# if scripts change, reload\n",
    "from importlib import reload\n",
    "reload(test_funcs)"
   ]
  },
  {
   "cell_type": "markdown",
   "metadata": {},
   "source": [
    "### Set data files and locations"
   ]
  },
  {
   "cell_type": "code",
   "execution_count": 20,
   "metadata": {
    "ExecuteTime": {
     "end_time": "2022-05-10T16:06:48.175368Z",
     "start_time": "2022-05-10T16:06:48.173741Z"
    },
    "code_folding": []
   },
   "outputs": [],
   "source": [
    "# area a (tutorial area)\n",
    "\n",
    "# set up area raw satellite options\n",
    "in_files = [\n",
    "    r\"C:\\Users\\Lewis\\Desktop\\test\\test.nc\",\n",
    "    r\"E:\\Curtin\\GDVII - General\\Work Package 2\\test_data\\ensemble_masker\\inputs\\tutorial\\temp.tif\",\n",
    "    r\"E:\\Curtin\\GDVII - General\\Tutorial\\Working\\SDM RAW\\farquhar_10m_curvature.tif\",\n",
    "    r\"E:\\Curtin\\GDVII - General\\Tutorial\\Working\\SDM RAW\\farquhar_10m_air_flow_height.tif\",\n",
    "    r\"E:\\Curtin\\GDVII - General\\Tutorial\\Working\\SDM RAW\\farquhar_10m_analytical_hillshade.tif\",\n",
    "    r\"C:\\Users\\Lewis\\Desktop\\test\\masker_composite.tif\"\n",
    "]\n",
    "\n",
    "# set current file\n",
    "in_file = in_files[0]\n",
    "\n",
    "# set output temp nc, tif\n",
    "out_nc = r\"E:\\Curtin\\GDVII - General\\Work Package 2\\test_data\\ensemble_sigmoider\\output\\temp_nc.nc\""
   ]
  },
  {
   "cell_type": "markdown",
   "metadata": {},
   "source": [
    "## Testing"
   ]
  },
  {
   "cell_type": "markdown",
   "metadata": {},
   "source": [
    "### Test: all parameters"
   ]
  },
  {
   "cell_type": "code",
   "execution_count": 50,
   "metadata": {
    "code_folding": [
     17,
     33,
     49,
     65,
     81,
     97,
     113,
     129,
     143,
     159,
     175
    ]
   },
   "outputs": [
    {
     "name": "stdout",
     "output_type": "stream",
     "text": [
      "\n",
      "Test: file E:\\Curtin\\GDVII - General\\Tutorial\\Working\\SDM RAW\\farquhar_10m_curvature.tif var 2. inc min -63, -60\n",
      "Failed to execute. Parameters are not valid.\n",
      "UpdateParameters error\n",
      "UpdateParameters error\n",
      "UpdateParameters error\n",
      "UpdateParameters error\n",
      "UpdateParameters error\n",
      "UpdateParameters error\n",
      "UpdateParameters error\n",
      "UpdateParameters error\n",
      "Failed to execute (Ensemble_Sigmoider).\n",
      "\n"
     ]
    }
   ],
   "source": [
    "def test():\n",
    "    \n",
    "    inputs = {\n",
    "            'in_file': '',\n",
    "            'out_file': out_nc,\n",
    "            'in_var': '',\n",
    "            'in_type': '',\n",
    "            'in_minimum': None,\n",
    "            'in_middle': None,\n",
    "            'in_maximum': None,\n",
    "            'in_add_result_to_map': True\n",
    "        }\n",
    "    \n",
    "    arcpy.env.addOutputsToMap = True\n",
    "\n",
    "    try:\n",
    "        print('\\nTest: file {} var {}. inc min 0.2, 0.3'.format(in_file, 'vege_avg_all_time'))\n",
    "        with io.capture_output() as cap:\n",
    "            params = inputs.copy()            \n",
    "            params.update({'in_file': in_file, \n",
    "                           'out_file': out_nc,\n",
    "                           'in_var': 'vege_avg_all_time',\n",
    "                           'in_type': 'Increasing',\n",
    "                           'in_minimum': 0.27,\n",
    "                           'in_middle': None,\n",
    "                           'in_maximum': 0.32\n",
    "                           })\n",
    "            arcpy.Ensemble_Sigmoider_toolbox(**params)\n",
    "    except Exception as e:\n",
    "        print(e)\n",
    "        \n",
    "    try:\n",
    "        print('\\nTest: file {} var {}. dec min 0.2, 0.3'.format(in_file, 'vege_avg_all_time'))\n",
    "        with io.capture_output() as cap:\n",
    "            params = inputs.copy()            \n",
    "            params.update({'in_file': in_file, \n",
    "                           'out_file': out_nc,\n",
    "                           'in_var': 'vege_avg_all_time',\n",
    "                           'in_type': 'Decreasing',\n",
    "                           'in_minimum': 0.27,\n",
    "                           'in_middle': None,\n",
    "                           'in_maximum': 0.32\n",
    "                           })\n",
    "            arcpy.Ensemble_Sigmoider_toolbox(**params)\n",
    "    except Exception as e:\n",
    "        print(e)\n",
    "        \n",
    "    try:\n",
    "        print('\\nTest: file {} var {}. sym min 0.2, 0.29, 0.32'.format(in_file, 'vege_avg_all_time'))\n",
    "        with io.capture_output() as cap:\n",
    "            params = inputs.copy()            \n",
    "            params.update({'in_file': in_file, \n",
    "                           'out_file': out_nc,\n",
    "                           'in_var': 'vege_avg_all_time',\n",
    "                           'in_type': 'Symmetric',\n",
    "                           'in_minimum': 0.27,\n",
    "                           'in_middle': 0.29,\n",
    "                           'in_maximum': 0.32\n",
    "                           })\n",
    "            arcpy.Ensemble_Sigmoider_toolbox(**params)\n",
    "    except Exception as e:\n",
    "        print(e)\n",
    "    \n",
    "    try:\n",
    "        print('\\nTest: file {} var {}. sym min 0.2, 0.4, 15'.format(in_file, 'alerts_cnt_all_time_incline'))\n",
    "        with io.capture_output() as cap:\n",
    "            params = inputs.copy()            \n",
    "            params.update({'in_file': in_file, \n",
    "                           'out_file': out_nc,\n",
    "                           'in_var': 'alerts_cnt_all_time_incline',\n",
    "                           'in_type': 'Symmetric',\n",
    "                           'in_minimum': 0.2,\n",
    "                           'in_middle': 0.4,\n",
    "                           'in_maximum': 15\n",
    "                           })\n",
    "            arcpy.Ensemble_Sigmoider_toolbox(**params)\n",
    "    except Exception as e:\n",
    "        print(e)\n",
    "        \n",
    "    try:\n",
    "        print('\\nTest: file {} var {}. inc min 12, 0.3'.format(in_file, 'alerts_cnt_all_time_incline'))\n",
    "        with io.capture_output() as cap:\n",
    "            params = inputs.copy()            \n",
    "            params.update({'in_file': in_file, \n",
    "                           'out_file': out_nc,\n",
    "                           'in_var': 'alerts_cnt_all_time_incline',\n",
    "                           'in_type': 'Increasing',\n",
    "                           'in_minimum': 12,\n",
    "                           'in_middle': None,\n",
    "                           'in_maximum': 0.3\n",
    "                           })\n",
    "            arcpy.Ensemble_Sigmoider_toolbox(**params)\n",
    "    except Exception as e:\n",
    "        print(e)\n",
    "    \n",
    "    try:\n",
    "        print('\\nTest: file {} var {}. inc min 12, None'.format(in_file, 'alerts_cnt_all_time_incline'))\n",
    "        with io.capture_output() as cap:\n",
    "            params = inputs.copy()            \n",
    "            params.update({'in_file': in_file, \n",
    "                           'out_file': out_nc,\n",
    "                           'in_var': 'alerts_cnt_all_time_incline',\n",
    "                           'in_type': 'Increasing',\n",
    "                           'in_minimum': 12,\n",
    "                           'in_middle': None,\n",
    "                           'in_maximum': None\n",
    "                           })\n",
    "            arcpy.Ensemble_Sigmoider_toolbox(**params)\n",
    "    except Exception as e:\n",
    "        print(e)\n",
    "        \n",
    "    try:\n",
    "        print('\\nTest: file {} var {}. inc min 2, 4'.format(in_files[1], 1))\n",
    "        with io.capture_output() as cap:\n",
    "            params = inputs.copy()            \n",
    "            params.update({'in_file': in_files[1], \n",
    "                           'out_file': out_nc,\n",
    "                           'in_var': 1,\n",
    "                           'in_type': 'Increasing',\n",
    "                           'in_minimum': 2,\n",
    "                           'in_middle': None,\n",
    "                           'in_maximum': 4\n",
    "                           })\n",
    "            arcpy.Ensemble_Sigmoider_toolbox(**params)\n",
    "    except Exception as e:\n",
    "        print(e)      \n",
    "    \n",
    "    try:\n",
    "        print('\\nTest: file {} var {}. sym min 4, 4, 4'.format(in_files[1], 1))\n",
    "        with io.capture_output() as cap:\n",
    "            params = inputs.copy()            \n",
    "            params.update({'in_file': in_files[1], \n",
    "                           'out_file': out_nc,\n",
    "                           'in_var': 1,\n",
    "                           'in_type': 'Symmetric',\n",
    "                           'in_minimum': 4,\n",
    "                           'in_middle': 4,\n",
    "                           'in_maximum': 4\n",
    "                           })\n",
    "            arcpy.Ensemble_Sigmoider_toolbox(**params)\n",
    "    except Exception as e:\n",
    "        print(e)  \n",
    "    \n",
    "    try:\n",
    "        print('\\nTest: file {} var {}. sym min -60, 10, 50'.format(in_files[2], 1))\n",
    "        with io.capture_output() as cap:\n",
    "            params = inputs.copy()            \n",
    "            params.update({'in_file': in_files[2], \n",
    "                           'out_file': out_nc,\n",
    "                           'in_var': 1,\n",
    "                           'in_type': 'Symmetric',\n",
    "                           'in_minimum': -60,\n",
    "                           'in_middle': 10,\n",
    "                           'in_maximum': 50\n",
    "                           })\n",
    "            arcpy.Ensemble_Sigmoider_toolbox(**params)\n",
    "    except Exception as e:\n",
    "        print(e)  \n",
    "        \n",
    "    try:\n",
    "        print('\\nTest: file {} var {}. inc min -63, -60'.format(in_files[2], 1))\n",
    "        with io.capture_output() as cap:\n",
    "            params = inputs.copy()            \n",
    "            params.update({'in_file': in_files[2], \n",
    "                           'out_file': out_nc,\n",
    "                           'in_var': 1,\n",
    "                           'in_type': 'Increasing',\n",
    "                           'in_minimum': -63,\n",
    "                           'in_middle': None,\n",
    "                           'in_maximum': -10\n",
    "                           })\n",
    "            arcpy.Ensemble_Sigmoider_toolbox(**params)\n",
    "    except Exception as e:\n",
    "        print(e)\n",
    "        \n",
    "    try:\n",
    "        print('\\nTest: file {} var {}. inc min -63, -60'.format(in_files[2], 2))\n",
    "        with io.capture_output() as cap:\n",
    "            params = inputs.copy()            \n",
    "            params.update({'in_file': in_files[-1], \n",
    "                           'out_file': out_nc,\n",
    "                           'in_var': '2',\n",
    "                           'in_type': 'Decreasing',\n",
    "                           'in_minimum': 2,\n",
    "                           'in_middle': None,\n",
    "                           'in_maximum': 8\n",
    "                           })\n",
    "            arcpy.Ensemble_Sigmoider_toolbox(**params)\n",
    "    except Exception as e:\n",
    "        print(e)  \n",
    "        \n",
    "    return\n",
    "\n",
    "test()"
   ]
  },
  {
   "cell_type": "code",
   "execution_count": null,
   "metadata": {},
   "outputs": [],
   "source": []
  },
  {
   "cell_type": "code",
   "execution_count": null,
   "metadata": {},
   "outputs": [],
   "source": []
  },
  {
   "cell_type": "code",
   "execution_count": null,
   "metadata": {},
   "outputs": [],
   "source": []
  },
  {
   "cell_type": "code",
   "execution_count": null,
   "metadata": {},
   "outputs": [],
   "source": []
  },
  {
   "cell_type": "code",
   "execution_count": null,
   "metadata": {},
   "outputs": [],
   "source": []
  }
 ],
 "metadata": {
  "kernelspec": {
   "display_name": "ArcGISPro",
   "language": "Python",
   "name": "python3"
  },
  "language_info": {
   "file_extension": ".py",
   "name": "python",
   "version": "3"
  }
 },
 "nbformat": 4,
 "nbformat_minor": 2
}

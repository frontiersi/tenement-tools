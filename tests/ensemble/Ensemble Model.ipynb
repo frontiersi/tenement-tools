{
 "cells": [
  {
   "cell_type": "markdown",
   "metadata": {},
   "source": [
    "# Ensemble Model module tests"
   ]
  },
  {
   "cell_type": "markdown",
   "metadata": {},
   "source": [
    "## Globals"
   ]
  },
  {
   "cell_type": "code",
   "execution_count": 76,
   "metadata": {
    "ExecuteTime": {
     "end_time": "2022-05-10T16:06:25.871456Z",
     "start_time": "2022-05-10T16:06:25.704028Z"
    }
   },
   "outputs": [],
   "source": [
    "# set globals paths\n",
    "FOLDER_MODULES = r'C:\\Users\\Lewis\\Documents\\GitHub\\tenement-tools\\modules'  \n",
    "FOLDER_SHARED = r'C:\\Users\\Lewis\\Documents\\GitHub\\tenement-tools\\shared'\n",
    "TEST_MODULE = r'C:\\Users\\Lewis\\Documents\\GitHub\\tenement-tools\\tests\\code'\n",
    "GRP_LYR_FILE = r'C:\\Users\\Lewis\\Documents\\GitHub\\tenement-tools\\arc\\lyr\\group_template.lyrx'    "
   ]
  },
  {
   "cell_type": "markdown",
   "metadata": {},
   "source": [
    "## Setup"
   ]
  },
  {
   "cell_type": "markdown",
   "metadata": {},
   "source": [
    "### Imports"
   ]
  },
  {
   "cell_type": "code",
   "execution_count": 77,
   "metadata": {
    "ExecuteTime": {
     "end_time": "2022-05-10T16:06:28.279980Z",
     "start_time": "2022-05-10T16:06:26.519484Z"
    }
   },
   "outputs": [
    {
     "data": {
      "text/plain": [
       "<module 'toolbox'>"
      ]
     },
     "execution_count": 77,
     "metadata": {},
     "output_type": "execute_result"
    }
   ],
   "source": [
    "# imports\n",
    "import os\n",
    "import random\n",
    "import numpy as np\n",
    "import xarray as xr\n",
    "import uuid\n",
    "from IPython.utils import io\n",
    "\n",
    "# import testing functions\n",
    "sys.path.append(TEST_MODULE)\n",
    "import test_funcs\n",
    "\n",
    "# import full arcpy toolbox\n",
    "arcpy.ImportToolbox(r\"C:\\Users\\Lewis\\Documents\\GitHub\\tenement-tools\\arc\\toolbox\\tenement-tools-toolbox.pyt\")"
   ]
  },
  {
   "cell_type": "markdown",
   "metadata": {},
   "source": [
    "### Reload libraries"
   ]
  },
  {
   "cell_type": "code",
   "execution_count": 78,
   "metadata": {
    "ExecuteTime": {
     "end_time": "2022-05-10T16:06:28.281557Z",
     "start_time": "2022-05-10T16:06:28.280149Z"
    }
   },
   "outputs": [
    {
     "data": {
      "text/plain": [
       "<module 'test_funcs' from 'C:\\\\Users\\\\Lewis\\\\Documents\\\\GitHub\\\\tenement-tools\\\\tests\\\\code\\\\test_funcs.py'>"
      ]
     },
     "execution_count": 78,
     "metadata": {},
     "output_type": "execute_result"
    }
   ],
   "source": [
    "# if scripts change, reload\n",
    "from importlib import reload\n",
    "reload(test_funcs)"
   ]
  },
  {
   "cell_type": "markdown",
   "metadata": {},
   "source": [
    "### Set data files and locations"
   ]
  },
  {
   "cell_type": "code",
   "execution_count": 30,
   "metadata": {
    "ExecuteTime": {
     "end_time": "2022-05-10T16:06:48.175368Z",
     "start_time": "2022-05-10T16:06:48.173741Z"
    },
    "code_folding": []
   },
   "outputs": [],
   "source": [
    "# area a (tutorial area)\n",
    "\n",
    "# set up area raw ensemble options\n",
    "liot_inc = r\"E:\\Curtin\\GDVII - General\\Work Package 2\\test_data\\ensemble_model\\pheno_liot_inc_sig.nc\"\n",
    "vos_inc = r\"E:\\Curtin\\GDVII - General\\Work Package 2\\test_data\\ensemble_model\\pheno_vos_inc_sig.nc\"\n",
    "sdm_inc = r\"E:\\Curtin\\GDVII - General\\Work Package 2\\test_data\\ensemble_model\\sdm_mean_inc_sig.nc\"\n",
    "vfx_dec = r\"E:\\Curtin\\GDVII - General\\Work Package 2\\test_data\\ensemble_model\\vfx_dis_sig.nc\"\n",
    "vty_dec = r\"E:\\Curtin\\GDVII - General\\Work Package 2\\test_data\\ensemble_model\\vtypes_dis_sig.nc\"\n",
    "oph_inc = r\"E:\\Curtin\\GDVII - General\\Work Package 2\\test_data\\ensemble_model\\oph_like_dis_sig.nc\"\n",
    "\n",
    "# set output temp nc, tif\n",
    "out_nc = r\"E:\\Curtin\\GDVII - General\\Work Package 2\\test_data\\ensemble_model\\outputs\\temp_nc.nc\""
   ]
  },
  {
   "cell_type": "markdown",
   "metadata": {
    "heading_collapsed": true
   },
   "source": [
    "## Testing"
   ]
  },
  {
   "cell_type": "markdown",
   "metadata": {
    "hidden": true
   },
   "source": [
    "### Test: all parameters"
   ]
  },
  {
   "cell_type": "code",
   "execution_count": 31,
   "metadata": {
    "code_folding": [
     0,
     15,
     30,
     48,
     63,
     78,
     93,
     107,
     122,
     140,
     156,
     171,
     186
    ],
    "hidden": true,
    "scrolled": true
   },
   "outputs": [
    {
     "name": "stdout",
     "output_type": "stream",
     "text": [
      "\n",
      "Test: liot, vos, sdm, vfx, defaults\n",
      "\n",
      "Test: liot, vos, sdm, vfx, vtypes (small area) defaults\n",
      "\n",
      "Test: liot, vtypes (small area) defaults\n",
      "\n",
      "Test: liot, vos (2 incs) defaults\n",
      "Must provide at least one belief and disbelief type.\n",
      "Failed to execute (Ensemble_Model).\n",
      "\n",
      "\n",
      "Test: vfx, vty (2 decs) defaults\n",
      "Must provide at least one belief and disbelief type.\n",
      "Failed to execute (Ensemble_Model).\n",
      "\n",
      "\n",
      "Test: vos, (1 inc) defaults\n",
      "Must provide at least one belief and disbelief type.\n",
      "Failed to execute (Ensemble_Model).\n",
      "\n",
      "\n",
      "Test: liot, liot (dupes) defaults\n",
      "Duplicate input NetCDFs provided.\n",
      "Failed to execute (Ensemble_Model).\n",
      "\n",
      "\n",
      "Test: liot, vos, sdm, vfx, vtypes (small area) resample high res\n",
      "\n",
      "Test: sdm, vfx, vty (small area), smooth win 3\n",
      "\n",
      "Test: liot, vfx (small area), smooth win 7\n",
      "\n",
      "Test: liot, vfx (small area), smooth win 1\n",
      "Failed to execute. Parameters are not valid.\n",
      "WARNING 000725: Output ensemble NetCDF file: Dataset E:\\Curtin\\GDVII - General\\Work Package 2\\test_data\\ensemble_model\\outputs\\temp_nc.nc already exists.\n",
      "ERROR 000854: The value is out of the range from 3 to 99.\n",
      "Failed to execute (Ensemble_Model).\n",
      "\n",
      "\n",
      "Test: liot, vos, sdm, vfx, oph area (no overlap) defaults\n",
      "Not all input NetCDFs intersect.\n",
      "Failed to execute (Ensemble_Model).\n",
      "\n"
     ]
    }
   ],
   "source": [
    "def test():\n",
    "    \n",
    "    inputs = {\n",
    "            'in_layers': '',\n",
    "            'out_nc': out_nc,\n",
    "            'in_resample': 'Lowest Resolution',\n",
    "            'in_smooth': False,\n",
    "            'in_win_size': None,\n",
    "            'in_add_result_to_map': True\n",
    "        }\n",
    "    \n",
    "    arcpy.env.addOutputsToMap = True\n",
    "\n",
    "    try:\n",
    "        print('\\nTest: liot, vos, sdm, vfx, defaults')\n",
    "        with io.capture_output() as cap:\n",
    "            params = inputs.copy()         \n",
    "            \n",
    "            lyrs = [[liot_inc, 'Belief'], \n",
    "                    [vos_inc, 'Belief'], \n",
    "                    [sdm_inc, 'Belief'],\n",
    "                    [vfx_dec, 'Disbelief']]\n",
    "                    \n",
    "            params.update({'in_layers': lyrs})\n",
    "            arcpy.Ensemble_Model_toolbox(**params)\n",
    "    except Exception as e:\n",
    "        print(e)\n",
    "                \n",
    "    try:\n",
    "        print('\\nTest: liot, vos, sdm, vfx, vtypes (small area) defaults')\n",
    "        with io.capture_output() as cap:\n",
    "            params = inputs.copy()         \n",
    "            \n",
    "            lyrs = [\n",
    "                [liot_inc, 'Belief'], \n",
    "                [vos_inc, 'Belief'], \n",
    "                [sdm_inc, 'Belief'],\n",
    "                [vfx_dec, 'Disbelief'],\n",
    "                [vty_dec, 'Disbelief']\n",
    "            ]\n",
    "                    \n",
    "            params.update({'in_layers': lyrs})\n",
    "            arcpy.Ensemble_Model_toolbox(**params)\n",
    "    except Exception as e:\n",
    "        print(e)\n",
    "        \n",
    "    try:\n",
    "        print('\\nTest: liot, vtypes (small area) defaults')\n",
    "        with io.capture_output() as cap:\n",
    "            params = inputs.copy()         \n",
    "            \n",
    "            lyrs = [\n",
    "                [liot_inc, 'Belief'], \n",
    "                [vty_dec, 'Disbelief']\n",
    "            ]\n",
    "                    \n",
    "            params.update({'in_layers': lyrs})\n",
    "            arcpy.Ensemble_Model_toolbox(**params)\n",
    "    except Exception as e:\n",
    "        print(e)\n",
    "        \n",
    "    try:\n",
    "        print('\\nTest: liot, vos (2 incs) defaults')\n",
    "        with io.capture_output() as cap:\n",
    "            params = inputs.copy()         \n",
    "            \n",
    "            lyrs = [\n",
    "                [liot_inc, 'Belief'], \n",
    "                [vos_inc, 'Belief']\n",
    "            ]\n",
    "                    \n",
    "            params.update({'in_layers': lyrs})\n",
    "            arcpy.Ensemble_Model_toolbox(**params)\n",
    "    except Exception as e:\n",
    "        print(e)\n",
    "        \n",
    "    try:\n",
    "        print('\\nTest: vfx, vty (2 decs) defaults')\n",
    "        with io.capture_output() as cap:\n",
    "            params = inputs.copy()         \n",
    "            \n",
    "            lyrs = [\n",
    "                [vfx_dec, 'Disbelief'],\n",
    "                [vty_dec, 'Disbelief']\n",
    "            ]\n",
    "                    \n",
    "            params.update({'in_layers': lyrs})\n",
    "            arcpy.Ensemble_Model_toolbox(**params)\n",
    "    except Exception as e:\n",
    "        print(e)   \n",
    "        \n",
    "    try:\n",
    "        print('\\nTest: vos, (1 inc) defaults')\n",
    "        with io.capture_output() as cap:\n",
    "            params = inputs.copy()         \n",
    "            \n",
    "            lyrs = [\n",
    "                [vos_inc, 'Disbelief']\n",
    "            ]\n",
    "                    \n",
    "            params.update({'in_layers': lyrs})\n",
    "            arcpy.Ensemble_Model_toolbox(**params)\n",
    "    except Exception as e:\n",
    "        print(e)  \n",
    "    \n",
    "    try:\n",
    "        print('\\nTest: liot, liot (dupes) defaults')\n",
    "        with io.capture_output() as cap:\n",
    "            params = inputs.copy()         \n",
    "            \n",
    "            lyrs = [\n",
    "                [liot_inc, 'Belief'], \n",
    "                [liot_inc, 'Disbelief']\n",
    "            ]\n",
    "                    \n",
    "            params.update({'in_layers': lyrs})\n",
    "            arcpy.Ensemble_Model_toolbox(**params)\n",
    "    except Exception as e:\n",
    "        print(e)\n",
    "\n",
    "    try:\n",
    "        print('\\nTest: liot, vos, sdm, vfx, vtypes (small area) resample high res')\n",
    "        with io.capture_output() as cap:\n",
    "            params = inputs.copy()         \n",
    "            \n",
    "            lyrs = [\n",
    "                [liot_inc, 'Belief'], \n",
    "                [vos_inc, 'Belief'], \n",
    "                [sdm_inc, 'Belief'],\n",
    "                [vfx_dec, 'Disbelief'],\n",
    "                [vty_dec, 'Disbelief']\n",
    "            ]\n",
    "                    \n",
    "            params.update({'in_layers': lyrs, 'in_resample': 'Highest Resolution'})\n",
    "            arcpy.Ensemble_Model_toolbox(**params)\n",
    "    except Exception as e:\n",
    "        print(e)\n",
    "    \n",
    "    try:\n",
    "        print('\\nTest: sdm, vfx, vty (small area), smooth win 3')\n",
    "        with io.capture_output() as cap:\n",
    "            params = inputs.copy()         \n",
    "            \n",
    "            lyrs = [\n",
    "                [sdm_inc, 'Belief'],\n",
    "                [vfx_dec, 'Disbelief'],\n",
    "                [vty_dec, 'Disbelief']\n",
    "            ]\n",
    "                    \n",
    "            params.update({'in_layers': lyrs, 'in_smooth': True, 'in_win_size': 3})\n",
    "            arcpy.Ensemble_Model_toolbox(**params)\n",
    "    except Exception as e:\n",
    "        print(e)\n",
    "    \n",
    "    try:\n",
    "        print('\\nTest: liot, vfx (small area), smooth win 7')\n",
    "        with io.capture_output() as cap:\n",
    "            params = inputs.copy()         \n",
    "\n",
    "            lyrs = [\n",
    "                [liot_inc, 'Belief'],\n",
    "                [vfx_dec, 'Disbelief'],\n",
    "            ]\n",
    "\n",
    "            params.update({'in_layers': lyrs, 'in_smooth': True, 'in_win_size': 7})\n",
    "            arcpy.Ensemble_Model_toolbox(**params)\n",
    "    except Exception as e:\n",
    "        print(e)   \n",
    "\n",
    "    try:\n",
    "        print('\\nTest: liot, vfx (small area), smooth win 1')\n",
    "        with io.capture_output() as cap:\n",
    "            params = inputs.copy()         \n",
    "\n",
    "            lyrs = [\n",
    "                [liot_inc, 'Belief'],\n",
    "                [vfx_dec, 'Disbelief'],\n",
    "            ]\n",
    "\n",
    "            params.update({'in_layers': lyrs, 'in_smooth': True, 'in_win_size': 1})\n",
    "            arcpy.Ensemble_Model_toolbox(**params)\n",
    "    except Exception as e:\n",
    "        print(e)   \n",
    "\n",
    "    try:\n",
    "        print('\\nTest: liot, vos, sdm, vfx, oph area (no overlap) defaults')\n",
    "        with io.capture_output() as cap:\n",
    "            params = inputs.copy()         \n",
    "            \n",
    "            lyrs = [\n",
    "                [liot_inc, 'Belief'], \n",
    "                [vos_inc, 'Belief'], \n",
    "                [sdm_inc, 'Belief'],\n",
    "                [vfx_dec, 'Disbelief'],\n",
    "                [vty_dec, 'Disbelief'],\n",
    "                [oph_inc, 'Belief']\n",
    "            ]\n",
    "                    \n",
    "            params.update({'in_layers': lyrs})\n",
    "            arcpy.Ensemble_Model_toolbox(**params)\n",
    "    except Exception as e:\n",
    "        print(e)\n",
    "\n",
    "    return\n",
    "\n",
    "test()"
   ]
  },
  {
   "cell_type": "markdown",
   "metadata": {},
   "source": [
    "# Quick Check"
   ]
  },
  {
   "cell_type": "code",
   "execution_count": 79,
   "metadata": {
    "code_folding": [
     0
    ]
   },
   "outputs": [
    {
     "name": "stdout",
     "output_type": "stream",
     "text": [
      "\n",
      "Test: liot, vos, sdm, vfx, defaults\n"
     ]
    }
   ],
   "source": [
    "def quick():\n",
    "    \n",
    "    inputs = {\n",
    "            'in_layers': '',\n",
    "            'out_nc': out_nc,\n",
    "            'in_resample': 'Lowest Resolution',\n",
    "            'in_smooth': False,\n",
    "            'in_win_size': None,\n",
    "            'in_add_result_to_map': True\n",
    "        }\n",
    "    \n",
    "    arcpy.env.addOutputsToMap = True\n",
    "\n",
    "    try:\n",
    "        print('\\nTest: liot, vos, sdm, vfx, defaults')\n",
    "        with io.capture_output() as cap:\n",
    "            params = inputs.copy()         \n",
    "            \n",
    "            lyrs = [[liot_inc, 'Belief'], \n",
    "                    [vos_inc, 'Belief'], \n",
    "                    [sdm_inc, 'Belief'],\n",
    "                    [vfx_dec, 'Disbelief']]\n",
    "                    \n",
    "            params.update({'in_layers': lyrs})\n",
    "            arcpy.Ensemble_Model_toolbox(**params)\n",
    "    except Exception as e:\n",
    "        print(e)\n",
    "        \n",
    "quick()"
   ]
  },
  {
   "cell_type": "code",
   "execution_count": null,
   "metadata": {},
   "outputs": [],
   "source": []
  },
  {
   "cell_type": "code",
   "execution_count": null,
   "metadata": {},
   "outputs": [],
   "source": []
  },
  {
   "cell_type": "code",
   "execution_count": null,
   "metadata": {},
   "outputs": [],
   "source": []
  },
  {
   "cell_type": "code",
   "execution_count": null,
   "metadata": {},
   "outputs": [],
   "source": []
  },
  {
   "cell_type": "code",
   "execution_count": null,
   "metadata": {},
   "outputs": [],
   "source": []
  }
 ],
 "metadata": {
  "kernelspec": {
   "display_name": "ArcGISPro",
   "language": "Python",
   "name": "python3"
  },
  "language_info": {
   "file_extension": ".py",
   "name": "python",
   "version": "3"
  }
 },
 "nbformat": 4,
 "nbformat_minor": 2
}

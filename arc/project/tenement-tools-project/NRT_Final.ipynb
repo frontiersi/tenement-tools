{
 "cells": [
  {
   "cell_type": "markdown",
   "metadata": {},
   "source": [
    "### Final EWMACD Method"
   ]
  },
  {
   "cell_type": "code",
   "execution_count": 1,
   "metadata": {
    "ExecuteTime": {
     "end_time": "2022-05-26T07:35:41.694378Z",
     "start_time": "2022-05-26T07:35:41.665777Z"
    },
    "code_folding": [
     143
    ]
   },
   "outputs": [
    {
     "ename": "OSError",
     "evalue": "\"C:\\Users\\Lewis\\Desktop\\nrt_projects\\test2\\monitoring_areas.gdb\\monitoring_areas\" does not exist",
     "output_type": "error",
     "traceback": [
      "\u001b[0;31m---------------------------------------------------------------------------\u001b[0m\n\u001b[0;31mOSError\u001b[0m                                   Traceback (most recent call last)",
      "In  \u001b[0;34m[1]\u001b[0m:\nLine \u001b[0;34m111\u001b[0m:   feat_desc = arcpy.Describe(in_feat)\n",
      "File \u001b[0;34mC:\\Program Files\\ArcGIS\\Pro\\Resources\\ArcPy\\arcpy\\__init__.py\u001b[0m, in \u001b[0;32mDescribe\u001b[0m:\nLine \u001b[0;34m1275\u001b[0m:  \u001b[34mreturn\u001b[39;49;00m gp.describe(value, data_type)\n",
      "File \u001b[0;34mC:\\Program Files\\ArcGIS\\Pro\\Resources\\ArcPy\\arcpy\\geoprocessing\\_base.py\u001b[0m, in \u001b[0;32mdescribe\u001b[0m:\nLine \u001b[0;34m384\u001b[0m:   \u001b[36mself\u001b[39;49;00m._gp.Describe(*gp_fixargs(args, \u001b[34mTrue\u001b[39;49;00m)))\n",
      "\u001b[0;31mOSError\u001b[0m: \"C:\\Users\\Lewis\\Desktop\\nrt_projects\\test2\\monitoring_areas.gdb\\monitoring_areas\" does not exist\n\u001b[0;31m---------------------------------------------------------------------------\u001b[0m"
     ]
    }
   ],
   "source": [
    "# globals (dev)\n",
    "FOLDER_MODULES = r'C:\\Users\\Lewis\\Documents\\GitHub\\tenement-tools\\modules'  \n",
    "FOLDER_SHARED = r'C:\\Users\\Lewis\\Documents\\GitHub\\tenement-tools\\shared'\n",
    "GRP_LYR_FILE = r\"C:\\Users\\Lewis\\Documents\\GitHub\\tenement-tools\\arc\\lyr\\group_template.lyrx\"\n",
    "\n",
    "# set gdal global environ\n",
    "import os\n",
    "os.environ['GDAL_DISABLE_READDIR_ON_OPEN'] = 'EMPTY_DIR'\n",
    "os.environ['CPL_VSIL_CURL_ALLOWED_EXTENSIONS '] = 'tif'\n",
    "os.environ['VSI_CACHE '] = 'TRUE'\n",
    "os.environ['GDAL_HTTP_MULTIRANGE '] = 'YES'\n",
    "os.environ['GDAL_HTTP_MERGE_CONSECUTIVE_RANGES '] = 'YES'\n",
    "\n",
    "# also set rasterio env variables\n",
    "rasterio_env = {\n",
    "    'GDAL_DISABLE_READDIR_ON_OPEN': 'EMPTY_DIR',\n",
    "    'CPL_VSIL_CURL_ALLOWED_EXTENSIONS':'tif',\n",
    "    'VSI_CACHE': True,\n",
    "    'GDAL_HTTP_MULTIRANGE': 'YES',\n",
    "    'GDAL_HTTP_MERGE_CONSECUTIVE_RANGES': 'YES'\n",
    "}\n",
    "\n",
    "# safe imports\n",
    "import sys                      # arcgis comes with these\n",
    "import shutil                   # arcgis comes with these\n",
    "import datetime                 # arcgis comes with these\n",
    "import numpy as np              # arcgis comes with these\n",
    "import pandas as pd             # arcgis comes with these\n",
    "import arcpy                    # arcgis comes with these\n",
    "import tempfile                 # arcgis comes with these\n",
    "#import matplotlib.pyplot as plt\n",
    "import smtplib\n",
    "import mimetypes\n",
    "from datetime import datetime   # arcgis comes with these\n",
    "from email.message import EmailMessage\n",
    "from email.utils import make_msgid\n",
    "\n",
    "\n",
    "\n",
    "# risky imports (not native to arcgis)\n",
    "try:\n",
    "    import xarray as xr\n",
    "    import dask\n",
    "    import rasterio\n",
    "    import pystac_client\n",
    "    import osr\n",
    "    import json\n",
    "    from scipy.signal import savgol_filter\n",
    "    from odc import stac\n",
    "    from osgeo import gdal\n",
    "    from osgeo import ogr\n",
    "    from osgeo import osr\n",
    "except:\n",
    "    arcpy.AddError('Python libraries xarray, dask, rasterio, pystac, or odc not installed.')\n",
    "    raise # return\n",
    "\n",
    "# import tools\n",
    "try:\n",
    "    # shared folder\n",
    "    sys.path.append(FOLDER_SHARED)\n",
    "    import arc, satfetcher, tools\n",
    "\n",
    "    # module folder\n",
    "    sys.path.append(FOLDER_MODULES)\n",
    "    import nrt, cog_odc, cog\n",
    "except:\n",
    "    arcpy.AddError('Could not find tenement tools python scripts (modules, shared).')\n",
    "    raise\n",
    "    \n",
    "# disable future warnings\n",
    "import warnings\n",
    "warnings.simplefilter(action='ignore', category=FutureWarning)\n",
    "warnings.simplefilter(action='ignore', category=RuntimeWarning)\n",
    "warnings.simplefilter(action='ignore', category=UserWarning)\n",
    "warnings.simplefilter(action='ignore', category=dask.array.core.PerformanceWarning)\n",
    "    \n",
    "# grab parameter values \n",
    "in_feat = r\"C:\\Users\\Lewis\\Desktop\\nrt_projects\\test2\\monitoring_areas.gdb\\monitoring_areas\"\n",
    "in_ongoing = False\n",
    "in_time_interval = 24\n",
    "#in_email_from = parameters[3].value                # email from \n",
    "#in_smtp_server = parameters[4].value               # email smtp server \n",
    "#in_smtp_port = parameters[5].value                 # email smtp port \n",
    "#in_smtp_username = parameters[6].value             # email smtp username \n",
    "#in_smtp_password = parameters[7].value             # email smtp password \n",
    "\n",
    "\n",
    "# # # # #\n",
    "# notify user and set up progress bar\n",
    "#arcpy.AddMessage('Beginning NRT Monitoring of areas.')\n",
    "#arcpy.SetProgressor(type='step', \n",
    "                    #message='Preparing parameters...',\n",
    "                    #min_range=0, max_range=20)\n",
    "        \n",
    "# set up initial continous monitoring var\n",
    "continue_monitoring = True\n",
    "\n",
    "# check if time interval is > 0\n",
    "#in_time_interval = in_time_interval * 60 * 60\n",
    "#if in_time_interval <= 0:\n",
    "    #arcpy.AddError('Time interval must be above 0 hours.')\n",
    "    #raise\n",
    "\n",
    "\n",
    "# # # # #\n",
    "# notify and increment progress bar\n",
    "#arcpy.SetProgressorLabel('Preparing parameters...')\n",
    "#arcpy.SetProgressorPosition(1)\n",
    "\n",
    "# get path to monitoring areas feature\n",
    "feat_desc = arcpy.Describe(in_feat)\n",
    "in_feat = os.path.join(feat_desc.path, feat_desc.name)\n",
    "\n",
    "\n",
    "# # # # #\n",
    "# notify and increment progress bar\n",
    "#arcpy.SetProgressorLabel('Validating monitoring areas...')\n",
    "#arcpy.SetProgressorPosition(2)\n",
    "\n",
    "# validate monitoring area feature class\n",
    "try:\n",
    "    nrt.validate_monitoring_areas(in_feat)\n",
    "except:\n",
    "    arcpy.AddError('Monitoring areas feature is invalid.')\n",
    "    raise # return\n",
    "\n",
    "    \n",
    "# # # # #\n",
    "# notify and increment progress bar\n",
    "#arcpy.SetProgressorLabel('Loading monitoring area json data...')\n",
    "#arcpy.SetProgressorPosition(2)\n",
    "    \n",
    "# prepare path to expected json file\n",
    "in_path = os.path.dirname(in_feat)\n",
    "in_path = os.path.splitext(in_path)[0]\n",
    "in_path = os.path.dirname(in_path)\n",
    "#in_data_path = os.path.join(in_path, 'data.json')\n",
    "    \n",
    "    \n",
    "# # # # #\n",
    "# notify and increment progress bar\n",
    "#arcpy.SetProgressorLabel('Loading monitoring area features...')\n",
    "#arcpy.SetProgressorPosition(2)\n",
    "\n",
    "# set required fields\n",
    "fields = [\n",
    "    'area_id', \n",
    "    'platform', \n",
    "    's_year', \n",
    "    'e_year', \n",
    "    'index', \n",
    "    'persistence', \n",
    "    'rule_1_min_conseqs', \n",
    "    'rule_1_inc_plateaus', \n",
    "    'rule_2_min_zone', \n",
    "    'rule_3_num_zones', \n",
    "    'ruleset', \n",
    "    'alert', \n",
    "    'method',\n",
    "    'alert_direction', \n",
    "    'email', \n",
    "    'ignore', \n",
    "    'color_border',\n",
    "    'color_fill',\n",
    "    'global_id', \n",
    "    'SHAPE@'\n",
    "]\n",
    "\n",
    "# get feature count and data\n",
    "try:\n",
    "    #feats = arcpy.da.SearchCursor(in_feat, fields)\n",
    "    feats = []\n",
    "    with arcpy.da.SearchCursor(in_feat, fields) as cursor:\n",
    "        for row in cursor:\n",
    "            feats.append(row)\n",
    "except:\n",
    "    arcpy.AddError('Could not open monitoring areas feature.')\n",
    "    raise # return"
   ]
  },
  {
   "cell_type": "code",
   "execution_count": 2,
   "metadata": {
    "ExecuteTime": {
     "end_time": "2022-05-26T07:35:41.798662Z",
     "start_time": "2022-05-26T07:35:41.796142Z"
    }
   },
   "outputs": [
    {
     "data": {
      "text/plain": [
       "<module 'nrt' from 'C:\\\\Users\\\\Lewis\\\\Documents\\\\GitHub\\\\tenement-tools\\\\modules\\\\nrt.py'>"
      ]
     },
     "execution_count": 2,
     "metadata": {},
     "output_type": "execute_result"
    }
   ],
   "source": [
    "from importlib import reload\n",
    "reload(nrt)"
   ]
  },
  {
   "cell_type": "code",
   "execution_count": 84,
   "metadata": {
    "ExecuteTime": {
     "end_time": "2022-04-30T08:31:08.987680Z",
     "start_time": "2022-04-30T08:31:08.987413Z"
    }
   },
   "outputs": [],
   "source": [
    "# todo:\n",
    "# remove field rule 1 inc plateaus ... ?\n",
    "# remove field rule 2 bidirection. we do this via alert dir now - DONE\n",
    "# change rule 2 min stdv to min zone - DONE\n",
    "# consider a 'negative remover in positive areas' and vice versa. consider during alert?... add as extra alert dirs? - DONE\n",
    "# append all mon area field info to netcdf attr, check at start of run for change, delete cube if change\n",
    "# check if ruleset contains rule without a value entered during area creation (fields accepts nulls) - FORCED REQUIRED!"
   ]
  },
  {
   "cell_type": "code",
   "execution_count": 85,
   "metadata": {
    "ExecuteTime": {
     "end_time": "2022-04-30T08:31:09.151691Z",
     "start_time": "2022-04-30T08:31:09.151436Z"
    }
   },
   "outputs": [],
   "source": [
    "# 'inc_any':      'Incline only (any)', \n",
    "# 'dec_any':      'Decline only (any)', \n",
    "# 'inc_pos':      'Incline only (+ zones only)', \n",
    "# 'dec_neg':      'Decline only (- zones only)', \n",
    "# 'both_any':     'Incline or Decline (any)',\n",
    "# 'both_pos_neg': 'Incline or Decline (+/- zones only)',"
   ]
  },
  {
   "cell_type": "code",
   "execution_count": 86,
   "metadata": {
    "ExecuteTime": {
     "end_time": "2022-04-30T11:09:53.388941Z",
     "start_time": "2022-04-30T11:09:53.388586Z"
    }
   },
   "outputs": [],
   "source": [
    "# tips\n",
    "# use higher persistence for dynamic (1) and lower for static (0.5)\n",
    "# use decline in - or pos in + only for dynamic to avoid new regime shifts triggering alarm\n",
    "# turn off spikes for dynamic"
   ]
  },
  {
   "cell_type": "code",
   "execution_count": null,
   "metadata": {},
   "outputs": [],
   "source": []
  },
  {
   "cell_type": "code",
   "execution_count": null,
   "metadata": {},
   "outputs": [],
   "source": []
  },
  {
   "cell_type": "code",
   "execution_count": null,
   "metadata": {},
   "outputs": [],
   "source": []
  },
  {
   "cell_type": "code",
   "execution_count": null,
   "metadata": {},
   "outputs": [],
   "source": []
  },
  {
   "cell_type": "code",
   "execution_count": null,
   "metadata": {},
   "outputs": [],
   "source": []
  },
  {
   "cell_type": "code",
   "execution_count": null,
   "metadata": {},
   "outputs": [],
   "source": []
  },
  {
   "cell_type": "code",
   "execution_count": 1,
   "metadata": {},
   "outputs": [],
   "source": []
  },
  {
   "cell_type": "code",
   "execution_count": null,
   "metadata": {},
   "outputs": [],
   "source": []
  },
  {
   "cell_type": "code",
   "execution_count": null,
   "metadata": {},
   "outputs": [],
   "source": []
  },
  {
   "cell_type": "code",
   "execution_count": null,
   "metadata": {},
   "outputs": [],
   "source": []
  },
  {
   "cell_type": "code",
   "execution_count": 1,
   "metadata": {},
   "outputs": [],
   "source": [
    "import arcpy"
   ]
  },
  {
   "cell_type": "code",
   "execution_count": 2,
   "metadata": {},
   "outputs": [],
   "source": [
    "in_new_feat = r'C:\\Users\\Lewis\\Documents\\GitHub\\tenement-tools\\arc\\project\\tenement-tools-project\\tenement-tools-project.gdb\\Polygons_45'"
   ]
  },
  {
   "cell_type": "code",
   "execution_count": 4,
   "metadata": {},
   "outputs": [],
   "source": [
    "poly_wgs = arcpy.management.Project(in_dataset=in_new_feat, \n",
    "                                    out_dataset='poly_prj', \n",
    "                                    out_coor_system=4326)\n",
    "\n",
    "cursor = arcpy.da.SearchCursor(poly_wgs, ['SHAPE@WKB'])\n",
    "poly = cursor.next()"
   ]
  },
  {
   "cell_type": "code",
   "execution_count": 6,
   "metadata": {},
   "outputs": [
    {
     "data": {
      "text/plain": [
       "bytearray(b'\\x01\\x03\\x00\\x00\\x00\\x01\\x00\\x00\\x00\\x17\\x00\\x00\\x00\\xc8\\xcc\\x96\\x90\\xb5\\x11]@8\\xa9\\x96w\\x8cU@\\xc0@\\xbb\\xfc!\\xb2\\x11]@X(\\xc8\\x1e\\x8dU@\\xc0\\xa0\\xd1\\xa7l\\xb0\\x11]@x\\xc9\\xdf \\x8eU@\\xc0(\\x03\\x1f\\x07\\xae\\x11]@\\x80\\x95\\x9b\\x8c\\x90U@\\xc0p\\xef\\xf0*\\xad\\x11]@\\xc0V$\\xb4\\x92U@\\xc0\\x90s\\x0b\\xc5\\xac\\x11]@\\xb8\\xe5\\xe7\\x0f\\x98U@\\xc0hr\\x9a\\xa0\\xae\\x11]@\\x10\\x82\\xdaw\\x9eU@\\xc0\\x98\\xe7\\xa7\\xf6\\xb1\\x11]@`:\\x94\\xd1\\xa3U@\\xc0\\xe0\\xfe\\x85\\xb3\\xb5\\x11]@\\xb8S\\x86y\\xa8U@\\xc0pk\\x1a\\xfa\\xb8\\x11]@\\x98y;\\xed\\xa9U@\\xc0 \\xc1\\x01X\\xbd\\x11]@82\\x84\\xd3\\xaaU@\\xc0\\xb0\\xb4\\x9a\\xb5\\xc1\\x11]@8\\x8e\\xcd+\\xaaU@\\xc0x\\xbe\\x07\\xfe\\xc3\\x11]@\\x98W\\xfeG\\xa9U@\\xc0Hn~\\xaa\\xc7\\x11]@\\xb8\\xc8\\xed_\\xa5U@\\xc0\\x90\\xb0\\xc0\\xdb\\xcc\\x11]@\\x08\\x8d\\xab\\xba\\x9cU@\\xc0H\\xf2\\xe1\\xce\\xcf\\x11]@\\xf0\\xe4AJ\\x91U@\\xc0\\x80\\x9dl\\xb4\\xd0\\x11]@\\xa0\\x90\\xc6\\xc9\\x86U@\\xc0x\\xaa\\xd5\\x87\\xd0\\x11]@\\x10\\xdf\\xb2k\\x84U@\\xc0\\xd0\\xbb\\x92\\x00\\xcf\\x11]@8>\\xf2\\xb8|U@\\xc0\\x80\\xee\\xde3\\xcd\\x11]@\\xa0\\xc6\\t\\x1bwU@\\xc0\\x08@\\x91\\xfe\\xc9\\x11]@\\xc0Ph\\x08pU@\\xc0\\xc8\\xb1\\xde\\xdd\\xc7\\x11]@\\x08`OCmU@\\xc0\\xc8\\xcc\\x96\\x90\\xb5\\x11]@8\\xa9\\x96w\\x8cU@\\xc0')"
      ]
     },
     "execution_count": 6,
     "metadata": {},
     "output_type": "execute_result"
    }
   ],
   "source": [
    "poly[0]"
   ]
  }
 ],
 "metadata": {
  "kernelspec": {
   "display_name": "ArcGISPro",
   "language": "Python",
   "name": "python3"
  },
  "language_info": {
   "file_extension": ".py",
   "name": "python",
   "version": "3"
  }
 },
 "nbformat": 4,
 "nbformat_minor": 2
}

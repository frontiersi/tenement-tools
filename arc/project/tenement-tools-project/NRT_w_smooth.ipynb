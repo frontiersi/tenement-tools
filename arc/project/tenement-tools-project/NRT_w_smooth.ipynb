{
 "cells": [
  {
   "cell_type": "markdown",
   "metadata": {},
   "source": [
    "## Imports"
   ]
  },
  {
   "cell_type": "code",
   "execution_count": 1,
   "metadata": {},
   "outputs": [],
   "source": [
    "%matplotlib inline\n",
    "\n",
    "import os\n",
    "import certifi\n",
    "import arcpy\n",
    "\n",
    "# set default gdal and ertifi envs (non-dev)\n",
    "try:\n",
    "    install_dir = arcpy.GetInstallInfo().get('InstallDir')  # get arcgis install dir\n",
    "    os.environ['GDAL_DATA'] = os.path.join(install_dir, 'Resources\\pedata\\gdaldata')  # join to gdal install\n",
    "    os.environ.setdefault(\"CURL_CA_BUNDLE\", certifi.where())  # set certifi\n",
    "except:\n",
    "    arcpy.AddError('Could not get install directory for ArcGIS Pro or set certifi.')\n",
    "    raise\n",
    "    \n",
    "# globals (dev)\n",
    "FOLDER_MODULES = r'C:\\Users\\Lewis\\Documents\\GitHub\\tenement-tools\\modules'  \n",
    "FOLDER_SHARED = r'C:\\Users\\Lewis\\Documents\\GitHub\\tenement-tools\\shared'\n",
    "GRP_LYR_FILE = r\"C:\\Users\\Lewis\\Documents\\GitHub\\tenement-tools\\arc\\lyr\\group_template.lyrx\"\n",
    "\n",
    "# set gdal global environ\n",
    "import os\n",
    "os.environ['GDAL_DISABLE_READDIR_ON_OPEN'] = 'EMPTY_DIR'\n",
    "os.environ['CPL_VSIL_CURL_ALLOWED_EXTENSIONS '] = 'tif'\n",
    "os.environ['VSI_CACHE '] = 'TRUE'\n",
    "os.environ['GDAL_HTTP_MULTIRANGE '] = 'YES'\n",
    "os.environ['GDAL_HTTP_MERGE_CONSECUTIVE_RANGES '] = 'YES'\n",
    "\n",
    "# also set rasterio env variables\n",
    "rasterio_env = {\n",
    "    'GDAL_DISABLE_READDIR_ON_OPEN': 'EMPTY_DIR',\n",
    "    'CPL_VSIL_CURL_ALLOWED_EXTENSIONS': 'tif',\n",
    "    'VSI_CACHE': True,\n",
    "    'GDAL_HTTP_MULTIRANGE': 'YES',\n",
    "    'GDAL_HTTP_MERGE_CONSECUTIVE_RANGES': 'YES'\n",
    "}\n",
    "\n",
    "# disable future warnings\n",
    "import warnings\n",
    "warnings.simplefilter(action='ignore', category=FutureWarning)\n",
    "\n",
    "# safe imports\n",
    "import sys                  # arcgis comes with these\n",
    "import datetime                 # arcgis comes with these\n",
    "import numpy as np              # arcgis comes with these\n",
    "import arcpy                    # arcgis comes with these\n",
    "import matplotlib.pyplot as plt\n",
    "from datetime import datetime   # arcgis comes with these\n",
    "\n",
    "# risky imports (not native to arcgis)\n",
    "try:\n",
    "    from osgeo import gdal\n",
    "    from osgeo import ogr\n",
    "    from osgeo import osr\n",
    "    import tempfile\n",
    "    import xarray as xr\n",
    "    import dask\n",
    "    import rasterio\n",
    "    import pystac_client\n",
    "    from odc import stac\n",
    "except:\n",
    "    arcpy.AddError('Python libraries xarray, dask, rasterio, pystac, or odc not installed.')\n",
    "    raise\n",
    "\n",
    "# import tools\n",
    "try:\n",
    "    # shared folder\n",
    "    sys.path.append(FOLDER_SHARED)\n",
    "    import arc, satfetcher, tools\n",
    "\n",
    "    # module folder\n",
    "    sys.path.append(FOLDER_MODULES)\n",
    "    import nrt, cog_odc, cog\n",
    "except:\n",
    "    arcpy.AddError('Could not find tenement tools python scripts (modules, shared).')\n",
    "    raise"
   ]
  },
  {
   "cell_type": "code",
   "execution_count": 2,
   "metadata": {},
   "outputs": [
    {
     "data": {
      "text/plain": [
       "<module 'nrt' from 'C:\\\\Users\\\\Lewis\\\\Documents\\\\GitHub\\\\tenement-tools\\\\modules\\\\nrt.py'>"
      ]
     },
     "execution_count": 2,
     "metadata": {},
     "output_type": "execute_result"
    }
   ],
   "source": [
    "from importlib import reload\n",
    "reload(nrt)"
   ]
  },
  {
   "cell_type": "markdown",
   "metadata": {
    "heading_collapsed": true
   },
   "source": [
    "## Create monitoring project"
   ]
  },
  {
   "cell_type": "code",
   "execution_count": 9,
   "metadata": {
    "hidden": true
   },
   "outputs": [],
   "source": [
    "# user creates monitoring projects. includes gdb and folders for project structure"
   ]
  },
  {
   "cell_type": "markdown",
   "metadata": {
    "heading_collapsed": true
   },
   "source": [
    "## Create monitoring areas"
   ]
  },
  {
   "cell_type": "code",
   "execution_count": 4,
   "metadata": {
    "hidden": true
   },
   "outputs": [],
   "source": [
    "# user creates monitoring polygons and fills in info in each row of table"
   ]
  },
  {
   "cell_type": "markdown",
   "metadata": {
    "heading_collapsed": true
   },
   "source": [
    "## NRT data Testing"
   ]
  },
  {
   "cell_type": "code",
   "execution_count": null,
   "metadata": {
    "hidden": true
   },
   "outputs": [],
   "source": [
    "# disable future warnings\n",
    "import warnings\n",
    "warnings.simplefilter(action='ignore', category=FutureWarning)\n",
    "warnings.simplefilter(action='ignore', category=RuntimeWarning)\n",
    "warnings.simplefilter(action='ignore', category=UserWarning)\n",
    "warnings.simplefilter(action='ignore', category=dask.array.core.PerformanceWarning)\n",
    "\n",
    "# all provisional + non-provisional landsat\n",
    "out_nc = r\"C:\\Users\\Lewis\\Desktop\\nrt_projects\\ophthalmia_project_cubes\\cube_A01.nc\"\n",
    "s_year = '{}-01-01'.format(1990)\n",
    "e_year = '{}-12-31'.format(datetime.now().year)\n",
    "bbox = [119.85685826326254, -23.31510503211872, 119.85838607621004, -23.31250952051907]\n",
    "in_epsg = 3577\n",
    "\n",
    "# get params\n",
    "params = nrt.get_satellite_params(platform='Landsat')\n",
    "\n",
    "# open existing cube\n",
    "ds_existing = xr.open_dataset(r\"C:\\Users\\Lewis\\Desktop\\nrt_projects\\ophthalmia_project_cubes\\cube_A01.nc\")\n",
    "\n",
    "# sync cube to now\n",
    "ds_ls = nrt.sync_nrt_cube(out_nc=out_nc,\n",
    "                          collections=params.get('collections'),\n",
    "                          bands=params.get('bands'),\n",
    "                          start_dt=s_year,\n",
    "                          end_dt=e_year,\n",
    "                          bbox=bbox,\n",
    "                          in_epsg=in_epsg,\n",
    "                          slc_off=False,\n",
    "                          resolution=params.get('resolution'),\n",
    "                          ds_existing=None,\n",
    "                          chunks={})"
   ]
  },
  {
   "cell_type": "code",
   "execution_count": null,
   "metadata": {
    "hidden": true
   },
   "outputs": [],
   "source": [
    "# disable future warnings\n",
    "import warnings\n",
    "warnings.simplefilter(action='ignore', category=FutureWarning)\n",
    "warnings.simplefilter(action='ignore', category=RuntimeWarning)\n",
    "warnings.simplefilter(action='ignore', category=UserWarning)\n",
    "warnings.simplefilter(action='ignore', category=dask.array.core.PerformanceWarning)\n",
    "\n",
    "# all provisional + non-provisional landsat\n",
    "out_nc = r\"C:\\Users\\Lewis\\Desktop\\nrt_projects\\ophthalmia_project_cubes\\cube_A01.nc\"\n",
    "s_year = '{}-01-01'.format(1990)\n",
    "e_year = '{}-12-31'.format(datetime.now().year)\n",
    "bbox = [119.85685826326254, -23.31510503211872, 119.85838607621004, -23.31250952051907]\n",
    "in_epsg = 3577\n",
    "\n",
    "# get params\n",
    "params = nrt.get_satellite_params(platform='Sentinel')\n",
    "\n",
    "# open existing cube\n",
    "ds_existing = xr.open_dataset(r\"C:\\Users\\Lewis\\Desktop\\nrt_projects\\ophthalmia_project_cubes\\cube_A01.nc\")\n",
    "\n",
    "# sync cube to now\n",
    "ds_s2 = nrt.sync_nrt_cube(out_nc=out_nc,\n",
    "                          collections=params.get('collections'),\n",
    "                          bands=params.get('bands'),\n",
    "                          start_dt=s_year,\n",
    "                          end_dt=e_year,\n",
    "                          bbox=bbox,\n",
    "                          in_epsg=in_epsg,\n",
    "                          slc_off=False,\n",
    "                          resolution=params.get('resolution'),\n",
    "                          ds_existing=None,\n",
    "                          chunks={})"
   ]
  },
  {
   "cell_type": "markdown",
   "metadata": {},
   "source": [
    "## Monitor simulation"
   ]
  },
  {
   "cell_type": "markdown",
   "metadata": {},
   "source": [
    "### Load raw vege, smooth, veg, raw change time series"
   ]
  },
  {
   "cell_type": "code",
   "execution_count": 27,
   "metadata": {},
   "outputs": [
    {
     "data": {
      "image/png": "[encoded data removed]",
      "text/plain": [
       "<Figure size 1080x288 with 1 Axes>"
      ]
     },
     "metadata": {},
     "output_type": "display_data"
    },
    {
     "data": {
      "image/png": "[encoded data removed]",
      "text/plain": [
       "<Figure size 1080x288 with 1 Axes>"
      ]
     },
     "metadata": {},
     "output_type": "display_data"
    },
    {
     "data": {
      "image/png": "[encoded data removed]",
      "text/plain": [
       "<Figure size 1080x288 with 1 Axes>"
      ]
     },
     "metadata": {},
     "output_type": "display_data"
    }
   ],
   "source": [
    "ds_change = xr.open_dataset(r\"C:\\Users\\Lewis\\Desktop\\test_change\\change_A01.nc\")  # big impact 2007 ophtha dam area\n",
    "#ds_change = xr.open_dataset(r\"C:\\Users\\Lewis\\Desktop\\test_change\\change_A02.nc\")  # big impact 2007 ophtha dam area, but training done 2013, so recovery is shown\n",
    "#ds_change = xr.open_dataset(r\"C:\\Users\\Lewis\\Desktop\\test_change\\change_A03.nc\")  # near impact 2007 ophtha dam area, less impact in 2007\n",
    "#ds_change = xr.open_dataset(r\"C:\\Users\\Lewis\\Desktop\\test_change\\change_A04.nc\")  # open shrubland with wo euc? training period bad\n",
    "#ds_change = xr.open_dataset(r\"C:\\Users\\Lewis\\Desktop\\test_change\\change_A05.nc\")  # mulga area on road side? training period bad\n",
    "#ds_change = xr.open_dataset(r\"C:\\Users\\Lewis\\Desktop\\test_change\\change_A06.nc\")  # euc vic east yandi. gradual increasing... odd result? try train period\n",
    "#ds_change = xr.open_dataset(r\"C:\\Users\\Lewis\\Desktop\\test_change\\change_A07.nc\")  # yandi discharge south veg... good, but change in training period?\n",
    "#ds_change = xr.open_dataset(r\"C:\\Users\\Lewis\\Desktop\\test_change\\change_A08.nc\")   # yandi elephatn graveyard. good - 2007 decline\n",
    "\n",
    "vec_summary = ds_change['summary'].median(['x', 'y']).data\n",
    "fig = plt.figure(figsize=(15, 4))\n",
    "plt.plot(vec_summary, color='green')\n",
    "plt.show()\n",
    "\n",
    "vec_static = ds_change['static'].median(['x', 'y']).data\n",
    "fig = plt.figure(figsize=(15, 4))\n",
    "plt.plot(vec_static, color='blue')\n",
    "plt.show()\n",
    "\n",
    "vec_static_smooth = nrt.smooth_change(arr=vec_static)       \n",
    "fig = plt.figure(figsize=(15, 4))\n",
    "plt.plot(vec_static, color='blue')\n",
    "plt.plot(vec_static_smooth, color='red')\n",
    "plt.show()"
   ]
  },
  {
   "cell_type": "markdown",
   "metadata": {
    "heading_collapsed": true
   },
   "source": [
    "## Apply rule 1: consequtives"
   ]
  },
  {
   "cell_type": "code",
   "execution_count": null,
   "metadata": {
    "hidden": true,
    "scrolled": true
   },
   "outputs": [],
   "source": [
    "min_consequtives = 3\n",
    "max_consequtives = 5\n",
    "inc_plateaus_in_runs = True\n",
    "\n",
    "# get inc, dec and stable counts\n",
    "vec_rule_1 = nrt.apply_rule_one(arr=vec_static_smooth, \n",
    "                                direction='decline', \n",
    "                                min_consequtives=3, \n",
    "                                max_consequtives=None,\n",
    "                                inc_plateaus=False)\n",
    "\n",
    "fig = plt.figure(figsize=(15, 4))\n",
    "plt.plot(vec_static_smooth, color='darkblue', marker='o', alpha=0.25)\n",
    "plt.plot(np.where(vec_rule_1 >= 1, vec_static_smooth, np.nan), color='red', marker='o', alpha=0.25)\n",
    "plt.show()"
   ]
  },
  {
   "cell_type": "markdown",
   "metadata": {
    "heading_collapsed": true
   },
   "source": [
    "## Apply rule 2: threshold"
   ]
  },
  {
   "cell_type": "code",
   "execution_count": null,
   "metadata": {
    "hidden": true
   },
   "outputs": [],
   "source": [
    "vec_rule_2 = nrt.apply_rule_two(vec_static_smooth, direction='decline', min_stdv=1, operator='<=')\n",
    "#vec_rule_2_incline = apply_rule_two(yest, min_zone=1, operator='>=')\n",
    "\n",
    "fig = plt.figure(figsize=(15, 4))\n",
    "plt.plot(vec_static_smooth, color='darkblue', marker='o', alpha=0.25)\n",
    "plt.plot(vec_rule_2, color='red', marker='o', alpha=0.25)\n",
    "plt.show()"
   ]
  },
  {
   "cell_type": "markdown",
   "metadata": {
    "heading_collapsed": true
   },
   "source": [
    "## Apply rule 3: jumps"
   ]
  },
  {
   "cell_type": "code",
   "execution_count": null,
   "metadata": {
    "hidden": true
   },
   "outputs": [],
   "source": [
    "# temp - just testing\n",
    "spiked = vec_static_smooth.copy()\n",
    "#spiked[-10: -5] = spiked[-10: -5] - 8\n",
    "#spiked[25: 30] = spiked[25: 30] - 4\n",
    "\n",
    "# get num zones to jump\n",
    "num_stdvs = nrt.get_stdv_from_zone(num_zones=1)\n",
    "\n",
    "vec_rule_3 = nrt.apply_rule_three(spiked, direction='decline', num_stdv_jumped=num_stdvs, min_consequtives=3)\n",
    "# #spike_inc = apply_rule_three(spiked, jump_direction='increase', jump_size=1, min_consequtives=3)\n",
    "\n",
    "fig = plt.figure(figsize=(15, 4))\n",
    "plt.plot(spiked, color='darkblue', marker='o', alpha=0.25)\n",
    "plt.plot(np.where(vec_rule_3 >= 1, spiked, np.nan), color='red', marker='o', alpha=0.25)\n",
    "plt.show()"
   ]
  },
  {
   "cell_type": "markdown",
   "metadata": {
    "heading_collapsed": true
   },
   "source": [
    "## Apply rules 1, 2, 3: combined"
   ]
  },
  {
   "cell_type": "code",
   "execution_count": null,
   "metadata": {
    "hidden": true
   },
   "outputs": [],
   "source": [
    "vec_rules_combo = nrt.apply_rule_combo(arr_r1=vec_rule_1, \n",
    "                                       arr_r2=vec_rule_2, \n",
    "                                       arr_r3=vec_rule_3, \n",
    "                                       ruleset='1&2|3')\n",
    "\n",
    "\n",
    "\n",
    "fig = plt.figure(figsize=(15, 4))\n",
    "plt.plot(spiked, color='darkblue', marker='o', alpha=0.25)\n",
    "plt.plot(np.where(vec_rules_combo >= 1, spiked, np.nan), color='red', marker='o', alpha=0.25)\n",
    "plt.show()"
   ]
  },
  {
   "cell_type": "markdown",
   "metadata": {
    "heading_collapsed": true
   },
   "source": [
    "## Assign zone to rule output"
   ]
  },
  {
   "cell_type": "code",
   "execution_count": null,
   "metadata": {
    "hidden": true
   },
   "outputs": [],
   "source": [
    "# classify smoothed array into zone 0\n",
    "vec_temp = np.abs(vec_static_smooth)\n",
    "\n",
    "# zone 0 - from 0 to 1 (+/-)\n",
    "zone_0 = np.where((vec_temp >= 0) & (vec_temp <= 1), 0, 0)\n",
    "\n",
    "# zone 1 - between 1 and 3 (+/-)\n",
    "zone_1 = np.where((vec_temp > 1) & (vec_temp <= 3), 1, 0)\n",
    "\n",
    "# zone 2 - between 3 and 5 (+/-)\n",
    "zone_2 = np.where((vec_temp > 3) & (vec_temp <= 5), 2, 0)\n",
    "\n",
    "# zone 3 - between 5 and 7 (+/-)\n",
    "zone_3 = np.where((vec_temp > 5) & (vec_temp <= 7), 3, 0)\n",
    "\n",
    "# zone 4 - between 7 and 9 (+/-)\n",
    "zone_4 = np.where((vec_temp > 7) & (vec_temp <= 9), 4, 0)\n",
    "\n",
    "# zone 5 - between 9 and 11 (+/-)\n",
    "zone_5 = np.where((vec_temp > 9) & (vec_temp <= 11), 5, 0)\n",
    "\n",
    "# zone 6 - between 11 and 13 (+/-)\n",
    "zone_6 = np.where((vec_temp > 11) & (vec_temp <= 13), 6, 0)\n",
    "\n",
    "# zone 7 - between 13 and 15 (+/-)\n",
    "zone_7 = np.where((vec_temp > 13) & (vec_temp <= 15), 7, 0)\n",
    "\n",
    "# zone 8 - between 15 and 17 (+/-)\n",
    "zone_8 = np.where((vec_temp > 15) & (vec_temp <= 17), 8, 0)\n",
    "\n",
    "# zone 9 - between 17 and 19 (+/-)\n",
    "zone_9 = np.where((vec_temp > 17) & (vec_temp <= 19), 9, 0)\n",
    "\n",
    "# zone 10 - above 19 (+/-)\n",
    "zone_10 = np.where(vec_temp > 19, 10, 0)"
   ]
  },
  {
   "cell_type": "code",
   "execution_count": null,
   "metadata": {
    "hidden": true
   },
   "outputs": [],
   "source": [
    "# simulate input\n",
    "arr = vec_static_smooth.copy()\n",
    "\n",
    "# set up zone ranges (stdvs)\n",
    "zones = [\n",
    "    [0, 1],    # zone 1 - from 0 to 1 (+/-)\n",
    "    [1, 3],    # zone 2 - between 1 and 3 (+/-)\n",
    "    [3, 5],    # zone 3 - between 3 and 5 (+/-)\n",
    "    [5, 7],    # zone 4 - between 5 and 7 (+/-)\n",
    "    [7, 9],    # zone 5 - between 7 and 9 (+/-)\n",
    "    [9, 11],   # zone 6 - between 9 and 11 (+/-)\n",
    "    [11, 13],  # zone 7 - between 11 and 13 (+/-)\n",
    "    [13, 15],  # zone 8 - between 13 and 15 (+/-)\n",
    "    [15, 17],  # zone 9 - between 15 and 17 (+/-)\n",
    "    [17, 19],  # zone 10 - between 17 and 19 (+/-)\n",
    "    [19]       # zone 11- above 19 (+/-)\n",
    "]\n",
    "\n",
    "# create template vector\n",
    "vec_temp = np.full_like(arr, fill_value=np.nan)\n",
    "\n",
    "# iter zones\n",
    "for i, z in enumerate(zones, start=1):\n",
    "    \n",
    "    # \n",
    "    if i == 1:\n",
    "        vec_temp[np.where((arr >= z[0]) & (arr <= z[1]))] = i\n",
    "        vec_temp[np.where((arr < z[0]) & (arr >= z[1] * -1))] = i * -1\n",
    "            \n",
    "    elif i == 11:       \n",
    "        vec_temp[np.where(arr > z[0])] = i\n",
    "        vec_temp[np.where(arr < z[0] * -1)] = i * -1\n",
    "        \n",
    "    else:\n",
    "        vec_temp[np.where((arr > z[0]) & (arr <= z[1]))] = i\n",
    "        vec_temp[np.where((arr < z[0] * -1) & (arr >= z[1] * -1))] = i * -1\n",
    "        \n",
    "        "
   ]
  },
  {
   "cell_type": "code",
   "execution_count": null,
   "metadata": {
    "hidden": true
   },
   "outputs": [],
   "source": [
    "vec_temp"
   ]
  },
  {
   "cell_type": "code",
   "execution_count": null,
   "metadata": {
    "hidden": true
   },
   "outputs": [],
   "source": []
  },
  {
   "cell_type": "code",
   "execution_count": null,
   "metadata": {
    "hidden": true
   },
   "outputs": [],
   "source": []
  },
  {
   "cell_type": "code",
   "execution_count": null,
   "metadata": {
    "hidden": true
   },
   "outputs": [],
   "source": []
  },
  {
   "cell_type": "code",
   "execution_count": null,
   "metadata": {
    "hidden": true
   },
   "outputs": [],
   "source": [
    "# dont forget, you need second last image when alerting and displaying data"
   ]
  },
  {
   "cell_type": "code",
   "execution_count": null,
   "metadata": {
    "hidden": true
   },
   "outputs": [],
   "source": [
    "def classify_flag(arr):\n",
    "    # classify smoothed array into zone 0\n",
    "    vec_temp = np.abs(vec_static_smooth)\n",
    "\n",
    "    # zone 0 - from 0 to 1 (+/-)\n",
    "    zone_0 = np.where((vec_temp >= 0) & (vec_temp <= 1), 0, 0)\n",
    "\n",
    "    # zone 1 - between 1 and 3 (+/-)\n",
    "    zone_1 = np.where((vec_temp > 1) & (vec_temp <= 3), 1, 0)\n",
    "\n",
    "    # zone 2 - between 3 and 5 (+/-)\n",
    "    zone_2 = np.where((vec_temp > 3) & (vec_temp <= 5), 2, 0)\n",
    "\n",
    "    # zone 3 - between 5 and 7 (+/-)\n",
    "    zone_3 = np.where((vec_temp > 5) & (vec_temp <= 7), 3, 0)\n",
    "\n",
    "    # zone 4 - between 7 and 9 (+/-)\n",
    "    zone_4 = np.where((vec_temp > 7) & (vec_temp <= 9), 4, 0)\n",
    "\n",
    "    # zone 5 - between 9 and 11 (+/-)\n",
    "    zone_5 = np.where((vec_temp > 9) & (vec_temp <= 11), 5, 0)\n",
    "\n",
    "    # zone 6 - between 11 and 13 (+/-)\n",
    "    zone_6 = np.where((vec_temp > 11) & (vec_temp <= 13), 6, 0)\n",
    "\n",
    "    # zone 7 - between 13 and 15 (+/-)\n",
    "    zone_7 = np.where((vec_temp > 13) & (vec_temp <= 15), 7, 0)\n",
    "\n",
    "    # zone 8 - between 15 and 17 (+/-)\n",
    "    zone_8 = np.where((vec_temp > 15) & (vec_temp <= 17), 8, 0)\n",
    "\n",
    "    # zone 9 - between 17 and 19 (+/-)\n",
    "    zone_9 = np.where((vec_temp > 17) & (vec_temp <= 19), 9, 0)\n",
    "\n",
    "    # zone 10 - above 19 (+/-)\n",
    "    zone_10 = np.where(vec_temp > 19, 10, 0)"
   ]
  },
  {
   "cell_type": "code",
   "execution_count": null,
   "metadata": {
    "hidden": true
   },
   "outputs": [],
   "source": []
  },
  {
   "cell_type": "code",
   "execution_count": null,
   "metadata": {
    "hidden": true
   },
   "outputs": [],
   "source": []
  },
  {
   "cell_type": "code",
   "execution_count": null,
   "metadata": {
    "hidden": true
   },
   "outputs": [],
   "source": []
  },
  {
   "cell_type": "code",
   "execution_count": null,
   "metadata": {
    "hidden": true
   },
   "outputs": [],
   "source": []
  },
  {
   "cell_type": "code",
   "execution_count": null,
   "metadata": {
    "hidden": true
   },
   "outputs": [],
   "source": [
    "vec_temp_signed = vec_static_smooth.copy()\n",
    "vec_temp_signed = np.where(np.sign(vec_temp_signed) == 0, 1, np.sign(vec_temp_signed))"
   ]
  },
  {
   "cell_type": "code",
   "execution_count": null,
   "metadata": {
    "hidden": true
   },
   "outputs": [],
   "source": []
  },
  {
   "cell_type": "markdown",
   "metadata": {
    "heading_collapsed": true
   },
   "source": [
    "## Main function"
   ]
  },
  {
   "cell_type": "code",
   "execution_count": null,
   "metadata": {
    "hidden": true
   },
   "outputs": [],
   "source": [
    "# for i in np.arange(0, len(vec_rule_1_decline)):\n",
    "#     if i > 3:\n",
    "    \n",
    "#         vec_smooth = vec_static_smooth[0:i]\n",
    "#         vec_rule = vec_rule_1_decline[0:i]\n",
    "        \n",
    "#         alarm = False\n",
    "#         if vec_rule[-2] >= 1:\n",
    "#             alarm = True\n",
    "            \n",
    "#         fig = plt.figure(figsize=(15, 4))\n",
    "#         plt.plot(vec_smooth, color='darkblue', marker='o', alpha=0.25)\n",
    "        \n",
    "#         if alarm: \n",
    "#             plt.axvline(i - 2, color='black', linestyle='dashed')\n",
    "        \n",
    "#         plt.show()\n",
    "#         plt.close()"
   ]
  },
  {
   "cell_type": "markdown",
   "metadata": {},
   "source": [
    "## Working"
   ]
  },
  {
   "cell_type": "code",
   "execution_count": 14,
   "metadata": {},
   "outputs": [],
   "source": [
    "# set gdal global environ\n",
    "import os\n",
    "os.environ['GDAL_DISABLE_READDIR_ON_OPEN'] = 'EMPTY_DIR'\n",
    "os.environ['CPL_VSIL_CURL_ALLOWED_EXTENSIONS '] = 'tif'\n",
    "os.environ['VSI_CACHE '] = 'TRUE'\n",
    "os.environ['GDAL_HTTP_MULTIRANGE '] = 'YES'\n",
    "os.environ['GDAL_HTTP_MERGE_CONSECUTIVE_RANGES '] = 'YES'\n",
    "\n",
    "# also set rasterio env variables\n",
    "rasterio_env = {\n",
    "    'GDAL_DISABLE_READDIR_ON_OPEN': 'EMPTY_DIR',\n",
    "    'CPL_VSIL_CURL_ALLOWED_EXTENSIONS':'tif',\n",
    "    'VSI_CACHE': True,\n",
    "    'GDAL_HTTP_MULTIRANGE': 'YES',\n",
    "    'GDAL_HTTP_MERGE_CONSECUTIVE_RANGES': 'YES'\n",
    "}\n",
    "\n",
    "# disable future warnings\n",
    "import warnings\n",
    "warnings.simplefilter(action='ignore', category=FutureWarning)\n",
    "\n",
    "# safe imports\n",
    "import sys                      # arcgis comes with these\n",
    "import shutil                   # arcgis comes with these\n",
    "import datetime                 # arcgis comes with these\n",
    "import numpy as np              # arcgis comes with these\n",
    "import arcpy                    # arcgis comes with these\n",
    "import tempfile                 # arcgis comes with these\n",
    "from datetime import datetime   # arcgis comes with these\n",
    "\n",
    "# risky imports (not native to arcgis)\n",
    "try:\n",
    "    import xarray as xr\n",
    "    import dask\n",
    "    import rasterio\n",
    "    import pystac_client\n",
    "    import osr\n",
    "    from odc import stac\n",
    "    from osgeo import gdal\n",
    "    from osgeo import ogr\n",
    "    from osgeo import osr\n",
    "except:\n",
    "    arcpy.AddError('Python libraries xarray, dask, rasterio, pystac, or odc not installed.')\n",
    "    raise\n",
    "\n",
    "# import tools\n",
    "try:\n",
    "    # shared folder\n",
    "    sys.path.append(FOLDER_SHARED)\n",
    "    import arc, satfetcher, tools\n",
    "\n",
    "    # module folder\n",
    "    sys.path.append(FOLDER_MODULES)\n",
    "    import nrt, cog_odc, cog\n",
    "except:\n",
    "    arcpy.AddError('Could not find tenement tools python scripts (modules, shared).')\n",
    "    raise\n",
    "    \n",
    "# grab parameter values \n",
    "in_feat = r\"C:\\Users\\Lewis\\Desktop\\nrt_projects\\ophthalmia.gdb\\monitoring_areas\"\n",
    "in_ongoing = False\n",
    "in_time_interval = 12\n",
    "#in_email_from = parameters[3].value                # email from \n",
    "#in_smtp_server = parameters[4].value               # email smtp server \n",
    "#in_smtp_port = parameters[5].value                 # email smtp port \n",
    "#in_smtp_username = parameters[6].value             # email smtp username \n",
    "#in_smtp_password = parameters[7].value             # email smtp password \n",
    "#in_epsg = parameters[8].value                      # input epsg\n",
    "#in_fmask_flags = parameters[9].valueAsText         # fmask flag values\n",
    "#in_max_cloud = parameters[10].value                # max cloud percentage\n",
    "#in_interpolate = parameters[11].value              # interpolate missing pixels\n",
    "\n",
    "in_persistence = 0.3  # add this. 1 works good now. lower has mor enoise but quickest detection, higher less noise slower response"
   ]
  },
  {
   "cell_type": "code",
   "execution_count": 15,
   "metadata": {},
   "outputs": [],
   "source": [
    "# # # # #\n",
    "# notify user and set up progress bar\n",
    "#arcpy.AddMessage('Beginning NRT Monitoring of areas.')\n",
    "#arcpy.SetProgressor(type='step', \n",
    "                    #message='Preparing parameters...',\n",
    "                    #min_range=0, max_range=20)\n",
    "\n",
    "# convert fmask as text to numeric code equivalents      \n",
    "#in_fmask_flags = [e for e in in_fmask_flags.split(';')]        \n",
    "#in_fmask_flags = arc.convert_fmask_codes(in_fmask_flags)\n",
    "\n",
    "# check if cloud cover is valid\n",
    "#if in_max_cloud < 0 or in_max_cloud > 100:\n",
    "    #arcpy.AddError('Cloud cover must be between 0 and 100.')\n",
    "    #raise\n",
    "\n",
    "# check if time interval is > 0\n",
    "in_time_interval = in_time_interval * 60 * 60\n",
    "if in_time_interval <= 0:\n",
    "    arcpy.AddError('Time interval must be above 0 hours.')\n",
    "    raise\n",
    "\n",
    "\n",
    "# # # # #\n",
    "# notify and increment progress bar\n",
    "#arcpy.SetProgressorLabel('Checking parameters...')\n",
    "#arcpy.SetProgressorPosition(1)\n",
    "\n",
    "# prepare features shapefile\n",
    "shp_desc = arcpy.Describe(in_feat)\n",
    "in_feat = os.path.join(shp_desc.path, shp_desc.name)\n",
    "\n",
    "# validate monitoring area feature class\n",
    "if not nrt.validate_monitoring_areas(in_feat):\n",
    "    arcpy.AddError('Monitoring areas feature is invalid.')\n",
    "    raise\n",
    "\n",
    "# get input featureclass file, get dir and filename\n",
    "in_name = os.path.basename(in_feat)     # name of monitor fc\n",
    "in_gdb = os.path.dirname(in_feat)       # path of gdb\n",
    "\n",
    "# check gdv extension\n",
    "if not in_gdb.endswith('.gdb'):\n",
    "    arcpy.AddError('Feature class is not in a geodatabase.')\n",
    "    raise\n",
    "else:\n",
    "    in_path = os.path.splitext(in_gdb)[0]   # path of gdb without ext\n",
    "    in_data_path = in_path + '_' + 'cubes'  # associated cube data folder\n",
    "\n",
    "# check if cubes folder exists\n",
    "if not os.path.exists(in_data_path):\n",
    "    arcpy.AddError('Could not find cube folder for selected monitoring areas.')\n",
    "    raise"
   ]
  },
  {
   "cell_type": "code",
   "execution_count": 16,
   "metadata": {},
   "outputs": [],
   "source": [
    "# might want soem checks to ensure > 5 years between start and end (ewmacd fails with too few years)\n",
    "# try catch around ewmacd stuff\n",
    "# sortby on \n",
    "# may want a data spike remover before change detection incase s2 jumps around\n",
    "\n",
    "# supress this wanring - it will keep happening every fetch if you dont\n",
    "#C:\\Users\\Lewis\\AppData\\Local\\ESRI\\conda\\envs\\arcgispro-py3-dev-odc\\Lib\\site-packages\\odc\\stac\\_eo3.py:577: UserWarning: Missing asset with name: nbar_nir\n",
    "  #warn(f\"Missing asset with name: {band}\")\n",
    "#C:\\Users\\Lewis\\AppData\\Local\\ESRI\\conda\\envs\\arcgispro-py3-dev-odc\\Lib\\site-packages\\odc\\stac\\_eo3.py:577: UserWarning: Missing asset with name: nbar_red\n",
    "\n",
    "# also supress this warning - happening on area 3\n",
    "#C:\\Users\\Lewis\\Documents\\GitHub\\tenement-tools\\modules\\nrt.py:1404: RuntimeWarning: invalid value encountered in double_scalars\n",
    "  #Rsquared = 1 - np.sum(np.square(Responses_keeps - fits)) / np.sum(np.square(Responses_keeps - np.sum(Responses_keeps) / len(Responses_keeps)))\n",
    "    \n",
    "# check area 3 - when 3 declines from 1 down to 0 (no change), dont warn?\n",
    "\n",
    "# check area 3 - why are flags occuring in 0 when rule 2 is applied? shouldnt these only happen < -1 ?\n",
    "# yeo, def bug with area 3 - conseqs dont appear to be working. investoigate.\n"
   ]
  },
  {
   "cell_type": "code",
   "execution_count": 47,
   "metadata": {},
   "outputs": [],
   "source": [
    "def test(e_year):\n",
    "    \n",
    "    # # # # #\n",
    "    # notify and increment progress bar\n",
    "    #arcpy.SetProgressorLabel('Loading monitoring area features...')\n",
    "    #arcpy.SetProgressorPosition(2)\n",
    "\n",
    "    # get features (will always have at least one, validated earlier)\n",
    "    try:\n",
    "        fields = ['area_id', 'platform', 's_year', 'e_year', 'index', 'SHAPE@']\n",
    "        feats = arcpy.da.SearchCursor(in_feat, fields)\n",
    "        \n",
    "        #feats.next()  # TEMP TESTING        \n",
    "    except:\n",
    "        raise ValueError('Could not open monitoring areas feature.')\n",
    "\n",
    "\n",
    "    # # # # #\n",
    "    # notify and set progress bar to defaukt\n",
    "    #arcpy.SetProgressor(type='default', message='Iterating through monitoring areas...')\n",
    "\n",
    "    # begin monitoring process iteration\n",
    "    continue_monitoring = True\n",
    "    while continue_monitoring:\n",
    "        for feat in feats:\n",
    "\n",
    "            # # # # #\n",
    "            # notify \n",
    "            #arcpy.AddMessage('Preparing parameters for area: {}...'.format(feat[0]))\n",
    "\n",
    "            # set expected cube filepath and start/end (current) date\n",
    "            out_raw_nc = os.path.join(in_data_path, 'cube' + '_' + feat[0] + '.nc')  # is area_id\n",
    "            s_year = '{}-01-01'.format(feat[2])\n",
    "            #e_year = '{}-12-31'.format(datetime.now().year)\n",
    "            #e_year = '2010-05-30' # NOTE TESTING ONLY\n",
    "            print(s_year, e_year) # temp!!\n",
    "\n",
    "\n",
    "            # # # # #\n",
    "            # notify \n",
    "            #arcpy.AddMessage('Checking monitoring area: {}.'.format(feat[0]))\n",
    "\n",
    "            # check if current feat is valid\n",
    "            is_valid = nrt.validate_monitoring_area(area_id=feat[0],   # area_id\n",
    "                                                    platform=feat[1],  # platform\n",
    "                                                    s_year=feat[2],    # s_year\n",
    "                                                    e_year=feat[3],    # e_year\n",
    "                                                    index=feat[4])     # index\n",
    "\n",
    "            # check if monitoring area is valid\n",
    "            if not is_valid:\n",
    "                arcpy.AddWarning('Invalid monitoring area: {}, skipping.'.format(feat[0]))\n",
    "                continue\n",
    "\n",
    "\n",
    "            # # # # #\n",
    "            # notify \n",
    "            #arcpy.AddMessage('Checking if cube exists and syncing with latest data: {}.'.format(feat[0]))     \n",
    "\n",
    "            # perform safe load of existing netcdf, if exists\n",
    "            ds_raw_exist = nrt.safe_load_nc(in_path=out_raw_nc)\n",
    "\n",
    "            # get relevant satellite parameters and geom bbox (in albers)\n",
    "            params = nrt.get_satellite_params(platform=feat[1])    \n",
    "            bbox = arc.get_bbox_from_geom(in_geom=feat[5])\n",
    "\n",
    "            # fetch all available dea data up until now\n",
    "            ds_raw_new = nrt.fetch_cube_data(out_nc=out_raw_nc, \n",
    "                                             collections=params.get('collections'), \n",
    "                                             bands=params.get('bands'), \n",
    "                                             start_dt=s_year, \n",
    "                                             end_dt=e_year, \n",
    "                                             bbox=bbox, \n",
    "                                             resolution=params.get('resolution'), \n",
    "                                             ds_existing=ds_raw_exist)\n",
    "\n",
    "            # create new netcdf if none exist, else combine existing with new\n",
    "            ds_raw = nrt.sync_new_and_old_cubes(ds_exist=ds_raw_exist, \n",
    "                                                ds_new=ds_raw_new, \n",
    "                                                out_nc=out_raw_nc)\n",
    "\n",
    "            # extract dataset attribute information\n",
    "            data_attrs = ds_raw.attrs\n",
    "            band_attrs = ds_raw[list(ds_raw.data_vars)[0]].attrs\n",
    "            sref_attrs = ds_raw['spatial_ref'].attrs\n",
    "\n",
    "            # check if any new data found, if not, move on\n",
    "            if ds_raw_exist is not None:\n",
    "                new_dts, exist_dts = ds_raw['time'], ds_raw_exist['time']\n",
    "                if len(new_dts) != len(exist_dts):\n",
    "                    arcpy.AddMessage('Added {} images to raw cube.'.format(len(new_dts) - len(exist_dts)))\n",
    "                else:\n",
    "                    arcpy.AddMessage('No new raw images found, moving to next monitoring area.')\n",
    "                    #continue       # TODO CHANGE THIS IN TOOLBOX\n",
    "                    raise ## TEM TEMP SOLUTION FOR TESTING\n",
    "\n",
    "\n",
    "            # # # # #\n",
    "            # notify \n",
    "            #arcpy.AddMessage('Removing invalid pixels and empty dates.')\n",
    "\n",
    "            # remove dirty pixels with default parameters\n",
    "            mask_band = arc.get_name_of_mask_band(list(ds_raw.data_vars))\n",
    "            ds_raw = cog.remove_fmask_dates(ds=ds_raw, \n",
    "                                            valid_class=[1, 4, 5],     # valid, snow, water only\n",
    "                                            max_invalid=0,             # 0% cloud cover\n",
    "                                            mask_band=mask_band, \n",
    "                                            nodata_value=np.nan,       # convert dirty to nan\n",
    "                                            drop_fmask=True)\n",
    "\n",
    "\n",
    "            # # # # #\n",
    "            # notify \n",
    "            #arcpy.AddMessage('Calculating vegetation index: {}.'.format(feat[4]))\n",
    "\n",
    "            # conform dea band names and calculate vege index\n",
    "            ds_raw = satfetcher.conform_dea_ard_band_names(ds=ds_raw, platform=feat[1].lower()) \n",
    "            ds_raw = tools.calculate_indices(ds=ds_raw, \n",
    "                                             index=feat[4].lower(), \n",
    "                                             custom_name='veg_idx', \n",
    "                                             rescale=False, \n",
    "                                             drop=True)\n",
    "\n",
    "            # check if dataset is all null\n",
    "            if ds_raw.to_array().isnull().all():\n",
    "                arcpy.AddError('NetCDF is completely null. Moving to next monitoring area.')            \n",
    "                continue \n",
    "\n",
    "\n",
    "            # # # # #\n",
    "            # notify \n",
    "            #arcpy.AddMessage('Creating edge pixel mask.')\n",
    "\n",
    "            try:\n",
    "                # covert arcpy geom to ogr layer for masking via gjson\n",
    "                gjson = arc.convert_arcpy_geom_to_gjson(arcpy_geom=feat[5])\n",
    "                ogr_geom = ogr.Open(gjson, 0)\n",
    "                lyr = ogr_geom.GetLayer()\n",
    "\n",
    "                # generate and apply mask\n",
    "                mask = nrt.mask_xr_via_polygon(ds=ds_raw, geom=lyr, mask_value=1)\n",
    "                ds_raw = ds_raw.where(mask)\n",
    "            except:\n",
    "                arcpy.AddWarning('Could not mask edges of cube. Proceeding without mask.')\n",
    "\n",
    "\n",
    "            # # # # #\n",
    "            # notify \n",
    "            #arcpy.AddMessage('Applying change detection algorithms.')\n",
    "\n",
    "            # set up expected change netcdf file name and path\n",
    "            out_chg_nc = os.path.join(in_data_path, 'cube' + '_' + feat[0] + '_' + 'change.nc')\n",
    "\n",
    "            # perform safe load of existing change netcdf, if exists\n",
    "            ds_chg_exist = nrt.safe_load_nc(in_path=out_chg_nc)\n",
    "\n",
    "            # perform static, dynamic and summary methods on full dataset range\n",
    "            ds_chg_new = nrt.build_change_cube(ds=ds_raw, \n",
    "                                               training_start_year=feat[2],           # s_year\n",
    "                                               training_end_year=feat[3],             # e_year\n",
    "                                               persistence_per_year=in_persistence, \n",
    "                                               add_extra_vars=True)                   # add zone, cands, etc.\n",
    "\n",
    "\n",
    "            # # # # #\n",
    "            # notify \n",
    "            #arcpy.AddMessage('Syncing change detection cube with existing.')\n",
    "\n",
    "            # create new change netcdf if none exist, else combine existing with new\n",
    "            ds_chg = nrt.sync_new_and_old_cubes(ds_exist=ds_chg_exist, \n",
    "                                                ds_new=ds_chg_new, \n",
    "                                                out_nc=out_chg_nc)\n",
    "\n",
    "            # append attrbutes on to dataset and bands\n",
    "            ds_chg.attrs = data_attrs\n",
    "            ds_chg['spatial_ref'].attrs = sref_attrs\n",
    "            for var in list(ds_chg.data_vars):\n",
    "                ds_chg[var].attrs = band_attrs\n",
    "\n",
    "            # check if any new data found, if not, move on\n",
    "            if ds_chg_exist is not None:\n",
    "                new_dts, exist_dts = ds_chg['time'], ds_chg_exist['time']\n",
    "                if len(new_dts) != len(exist_dts):\n",
    "                    arcpy.AddMessage('Added {} images to change cube.'.format(len(new_dts) - len(exist_dts)))\n",
    "                else:\n",
    "                    arcpy.AddMessage('No new change images found, moving to next monitoring area.')\n",
    "                    #continue        # TODO CHANGE THIS IN TOOLBOX\n",
    "                    raise ## TEM TEMP SOLUTION FOR TESTING\n",
    "\n",
    "\n",
    "            # # # # #\n",
    "            # notify \n",
    "            #arcpy.AddMessage('Smoothing static change detection signal.')\n",
    "\n",
    "            # convert to 1d array (mean is safe) and smooth \n",
    "            vec_chg = np.array(ds_chg['static'].mean(['x', 'y']))\n",
    "            vec_chg_smooth = nrt.smooth_change(arr=vec_chg) \n",
    "\n",
    "            # get combined rules for inclines\n",
    "            vec_cnd_inc = nrt.get_candidates(vec=vec_chg_smooth,\n",
    "                                             direction='incline',\n",
    "                                             min_consequtives=3, \n",
    "                                             max_consequtives=None, \n",
    "                                             inc_plateaus=False, \n",
    "                                             min_stdv=1, \n",
    "                                             num_zones=1, \n",
    "                                             bidirectional=False,\n",
    "                                             ruleset='1&2|3',\n",
    "                                             binarise=True)\n",
    "\n",
    "            # get combined rules for declines\n",
    "            vec_cnd_dec = nrt.get_candidates(vec=vec_chg_smooth,\n",
    "                                             direction='decline',\n",
    "                                             min_consequtives=3, \n",
    "                                             max_consequtives=None, \n",
    "                                             inc_plateaus=False, \n",
    "                                             min_stdv=1, \n",
    "                                             num_zones=1, \n",
    "                                             bidirectional=False,\n",
    "                                             ruleset='1&2|3',\n",
    "                                             binarise=True)\n",
    "\n",
    "\n",
    "            # maybe put this into stand alone func?\n",
    "            # # #\n",
    "\n",
    "            # get zones from smoothed signal, then consequtives for inc, dec candidates\n",
    "            vec_chg_zones = nrt.reclassify_signal_to_zones(arr=vec_chg_smooth)\n",
    "            vec_cnq_inc = nrt.count_runs(vec_cnd_inc, vector_value=1)\n",
    "            vec_cnq_dec = nrt.count_runs(vec_cnd_dec, vector_value=1)\n",
    "\n",
    "            # loop each vector element and update in change dataset\n",
    "            for i, dt in enumerate(ds_chg['time']):\n",
    "                ds_chg['zones'].loc[{'time': dt}] = vec_chg_zones[i]\n",
    "                ds_chg['cands_inc'].loc[{'time': dt}] = vec_cnd_inc[i]\n",
    "                ds_chg['cands_dec'].loc[{'time': dt}] = vec_cnd_dec[i]\n",
    "                ds_chg['consq_inc'].loc[{'time': dt}] = vec_cnq_inc[i]\n",
    "                ds_chg['consq_dec'].loc[{'time': dt}] = vec_cnq_dec[i]\n",
    "\n",
    "            # append attrbutes on to dataset and bands\n",
    "            ds_chg.attrs = data_attrs\n",
    "            ds_chg['spatial_ref'].attrs = sref_attrs\n",
    "            for var in list(ds_chg.data_vars):\n",
    "                ds_chg[var].attrs = band_attrs\n",
    "\n",
    "\n",
    "            # # # # #\n",
    "            # notify \n",
    "            #arcpy.AddMessage('Syncing change detection cube with existing.')\n",
    "\n",
    "            # update recently created change cube with new change info\n",
    "            ds_chg = nrt.sync_new_and_old_cubes(ds_exist=None, \n",
    "                                                ds_new=ds_chg, \n",
    "                                                out_nc=out_chg_nc)\n",
    "\n",
    "\n",
    "            # # # # #\n",
    "            # notify \n",
    "            #arcpy.AddMessage('Preparing and sending alerts.')\n",
    "\n",
    "            # get (second) latest date and alert if needed. TODO DO MIN CONEQ PROPERLY\n",
    "            nrt.prepare_and_send_alert(ds=ds_chg, back_idx=-2)\n",
    "\n",
    "            # temp\n",
    "            fig = plt.figure(figsize=[18, 5])\n",
    "            plt.plot(ds_chg['time'], ds_chg['veg_idx'].mean(['x', 'y']), marker='o', color='green')\n",
    "            plt.show()\n",
    "\n",
    "            # temp\n",
    "            fig = plt.figure(figsize=[18, 5])\n",
    "            plt.plot(ds_chg['time'], vec_chg_smooth, marker='o')\n",
    "            plt.plot(ds_chg['time'], np.where(vec_cnd_inc == 1, vec_chg_smooth, np.nan), marker='o', color='blue')\n",
    "            plt.plot(ds_chg['time'], np.where(vec_cnd_dec == 1, vec_chg_smooth, np.nan), marker='o', color='red')\n",
    "            plt.show()\n",
    "\n",
    "            raise\n",
    "        raise"
   ]
  },
  {
   "cell_type": "code",
   "execution_count": 48,
   "metadata": {
    "scrolled": false
   },
   "outputs": [
    {
     "name": "stdout",
     "output_type": "stream",
     "text": [
      "2010-12-01\n",
      "1990-01-01 2010-12-01\n",
      "File does not exist: C:\\Users\\Lewis\\Desktop\\nrt_projects\\ophthalmia_cubes\\cube_A1.nc, returning None.\n",
      "Syncing cube for monitoring area: C:\\Users\\Lewis\\Desktop\\nrt_projects\\ophthalmia_cubes\\cube_A1.nc\n",
      "Beginning STAC search for items. This can take awhile.\n",
      "Searching collection: ga_ls5t_ard_3\n",
      "Searching collection: ga_ls7e_ard_3\n",
      "Excluding SLC-off times.\n",
      "Searching collection: ga_ls8c_ard_3\n",
      "Searching collection: ga_ls8c_ard_provisional_3\n",
      "A total of 759 scenes were found.\n",
      "Replacing url prefix: s3://dea-public-data with https://data.dea.ga.gov.au\n",
      "Converting raw STAC data into xarray dataset via odc-stac.\n",
      "Created xarray dataset via odc-stac successfully.\n",
      "Existing dataset not provided. Creating and loading for first time.\n",
      "Exporting xarray as netcdf file.\n",
      "Exported xarray as netcdf successfully.\n",
      "Removing dates where too many invalid pixels.\n",
      "Filling invalid pixels with requested nodata value.\n",
      "Dropping mask band.\n",
      "Removed invalid images successfully.\n",
      "Conforming DEA ARD satellite band names.\n",
      "Satellite band names conformed successfully.\n",
      "Calculating indices: mavi.\n",
      "Calculating index: mavi\n",
      "Renamed default indices.\n",
      "Calculated indices successfully.\n",
      "File does not exist: C:\\Users\\Lewis\\Desktop\\nrt_projects\\ophthalmia_cubes\\cube_A1_change.nc, returning None.\n",
      "Detecting change via static and dynamic methods.\n"
     ]
    },
    {
     "name": "stderr",
     "output_type": "stream",
     "text": [
      "C:\\Users\\Lewis\\Documents\\GitHub\\tenement-tools\\modules\\nrt.py:1613: RuntimeWarning: invalid value encountered in double_scalars\n",
      "  Rsquared = 1 - np.sum(np.square(Responses_keeps - fits)) / np.sum(np.square(Responses_keeps - np.sum(Responses_keeps) / len(Responses_keeps)))\n",
      "C:\\Users\\Lewis\\Documents\\GitHub\\tenement-tools\\modules\\nrt.py:1613: RuntimeWarning: divide by zero encountered in double_scalars\n",
      "  Rsquared = 1 - np.sum(np.square(Responses_keeps - fits)) / np.sum(np.square(Responses_keeps - np.sum(Responses_keeps) / len(Responses_keeps)))\n",
      "C:\\Users\\Lewis\\Documents\\GitHub\\tenement-tools\\modules\\nrt.py:1692: RuntimeWarning: divide by zero encountered in true_divide\n",
      "  output = (np.sign(ewma) * np.floor(np.abs(ewma / UCL)))\n",
      "C:\\Users\\Lewis\\Documents\\GitHub\\tenement-tools\\modules\\nrt.py:1692: RuntimeWarning: invalid value encountered in true_divide\n",
      "  output = (np.sign(ewma) * np.floor(np.abs(ewma / UCL)))\n"
     ]
    },
    {
     "name": "stdout",
     "output_type": "stream",
     "text": [
      "Successfully created detection cube\n",
      "Existing dataset not provided. Creating and loading for first time.\n",
      "Exporting xarray as netcdf file.\n",
      "Exported xarray as netcdf successfully.\n",
      "Calculating rule one: consequtive runs incline.\n",
      "Calculating rule two: zone threshold incline.\n",
      "Calculating rule three: sharp jump incline.\n",
      "Combining rule 1, 2, 3 via ruleset 1&2|3.\n",
      "Calculating rule one: consequtive runs decline.\n",
      "Calculating rule two: zone threshold decline.\n",
      "Calculating rule three: sharp jump decline.\n",
      "Combining rule 1, 2, 3 via ruleset 1&2|3.\n",
      "Existing dataset not provided. Creating and loading for first time.\n",
      "Exporting xarray as netcdf file.\n",
      "Exported xarray as netcdf successfully.\n",
      "- - - - - - - - - - \n",
      "No alert was triggered for Monitoring Area: <placeholder>.\n",
      "\n"
     ]
    },
    {
     "data": {
      "image/png": "[encoded data removed]",
      "text/plain": [
       "<Figure size 1296x360 with 1 Axes>"
      ]
     },
     "metadata": {},
     "output_type": "display_data"
    },
    {
     "data": {
      "image/png": "[encoded data removed]",
      "text/plain": [
       "<Figure size 1296x360 with 1 Axes>"
      ]
     },
     "metadata": {},
     "output_type": "display_data"
    },
    {
     "ename": "RuntimeError",
     "evalue": "No active exception to reraise",
     "output_type": "error",
     "traceback": [
      "\u001b[0;31m---------------------------------------------------------------------------\u001b[0m\n\u001b[0;31mRuntimeError\u001b[0m                              Traceback (most recent call last)",
      "In  \u001b[0;34m[48]\u001b[0m:\nLine \u001b[0;34m8\u001b[0m:     test(e_year=dt)\n",
      "In  \u001b[0;34m[47]\u001b[0m:\nLine \u001b[0;34m276\u001b[0m:   \u001b[34mraise\u001b[39;49;00m\n",
      "\u001b[0;31mRuntimeError\u001b[0m: No active exception to reraise\n\u001b[0;31m---------------------------------------------------------------------------\u001b[0m"
     ]
    }
   ],
   "source": [
    "# TESTING !!!!!!!!!!!!!!!!\n",
    "dts = np.arange(np.datetime64('2010-12-31'), np.datetime64('2022-12-31'), dtype='datetime64[M]')\n",
    "dts = [dt.strftime('%Y-%m-%d') for dt in dts.astype(datetime)]\n",
    "    \n",
    "for dt in dts:\n",
    "    try:\n",
    "        print(dt)\n",
    "        test(e_year=dt)\n",
    "    except:\n",
    "        #continue\n",
    "        raise"
   ]
  },
  {
   "cell_type": "code",
   "execution_count": null,
   "metadata": {},
   "outputs": [],
   "source": []
  },
  {
   "cell_type": "code",
   "execution_count": null,
   "metadata": {},
   "outputs": [],
   "source": []
  },
  {
   "cell_type": "code",
   "execution_count": null,
   "metadata": {},
   "outputs": [],
   "source": []
  },
  {
   "cell_type": "code",
   "execution_count": null,
   "metadata": {},
   "outputs": [],
   "source": []
  },
  {
   "cell_type": "code",
   "execution_count": 331,
   "metadata": {},
   "outputs": [
    {
     "name": "stdout",
     "output_type": "stream",
     "text": [
      "Calculating rule one: consequtive runs decline.\n",
      "Calculating rule two: zone threshold decline.\n",
      "Bidrectional enabled, ignoring direction.\n",
      "Calculating rule three: sharp jump decline.\n",
      "Combining rule 1, 2, 3 via ruleset 1&2.\n"
     ]
    },
    {
     "data": {
      "image/png": "[encoded data removed]",
      "text/plain": [
       "<Figure size 1296x360 with 1 Axes>"
      ]
     },
     "metadata": {},
     "output_type": "display_data"
    }
   ],
   "source": [
    "from importlib import reload\n",
    "reload(nrt)\n",
    "\n",
    "ds = xr.open_dataset(r\"C:\\Users\\Lewis\\Desktop\\nrt_projects\\ophthalmia_project_cubes\\cube_A03_change.nc\")\n",
    "ds = ds.load()\n",
    "ds.close()\n",
    "\n",
    "vec = np.array(ds['static'].mean(['x', 'y']))\n",
    "vec_smooth = nrt.smooth_change(arr=vec) \n",
    "\n",
    "vec_cnd = nrt.get_candidates(vec=vec_smooth,\n",
    "                             direction='decline',\n",
    "                             min_consequtives=3, \n",
    "                             max_consequtives=None, \n",
    "                             inc_plateaus=False, \n",
    "                             min_stdv=2, \n",
    "                             num_zones=1, \n",
    "                             bidirectional=True,\n",
    "                             ruleset='1&2',\n",
    "                             binarise=True)\n",
    "\n",
    "# temp\n",
    "fig = plt.figure(figsize=[18, 5])\n",
    "plt.plot(vec_smooth, marker='o')\n",
    "plt.plot(np.where(vec_cnd == 1, vec_smooth, np.nan), marker='o', color='red')\n",
    "plt.show()"
   ]
  },
  {
   "cell_type": "code",
   "execution_count": null,
   "metadata": {},
   "outputs": [],
   "source": [
    "#direction inc, dec or both\n",
    "#min conseqs\n",
    "#inc_plateau\n",
    "\n",
    "\n",
    "#min_stdv for each area\n",
    "#\n",
    "\n",
    "\n",
    "# combos\n",
    "# remove rule 2 for very early (but noisy) incs or decs\n",
    "# set rule 2 to bidirectional = true to get all incs or decs regardless of +/i zone, set to false for only one side\n"
   ]
  },
  {
   "cell_type": "code",
   "execution_count": 263,
   "metadata": {},
   "outputs": [
    {
     "data": {
      "text/html": [
       "<h2>Output</h2><h2>Messages</h2>Start Time: Friday, 25 February 2022 3:29:10 PM<br/>Succeeded at Friday, 25 February 2022 3:29:11 PM (Elapsed Time: 0.29 seconds)<br/><style>.rendered_html td, .rendered_html th {text-align: left;}.rendered_html tbody {border: 1px solid black;}</style>"
      ],
      "text/plain": [
       "<Result ''>"
      ]
     },
     "execution_count": 263,
     "metadata": {},
     "output_type": "execute_result"
    }
   ],
   "source": [
    "out_crf = r'C:\\Users\\Lewis\\Desktop\\pandain\\chg.crf'\n",
    "\n",
    "arcpy.env.addOutputsToMap = False\n",
    "\n",
    "arcpy.CopyRaster_management(in_raster=out_chg_nc,\n",
    "                            out_rasterdataset=r'C:\\Users\\Lewis\\Desktop\\pandain\\chg.crf',\n",
    "                            format='CRF',\n",
    "                            process_as_multidimensional='ALL_SLICES',\n",
    "                            build_multidimensional_transpose='TRANSPOSE'\n",
    "                           )\n",
    "\n",
    "\n",
    "arcpy.env.addOutputsToMap = True\n",
    "remove_vars = ['dynamic', 'cands_inc', 'cands_dec', 'consq_inc', 'consq_dec']\n",
    "arcpy.md.ManageMultidimensionalRaster(target_multidimensional_raster=out_crf, \n",
    "                                      manage_mode='DELETE_VARIABLES', \n",
    "                                      variables=remove_vars, \n",
    "                                      #in_multidimensional_rasters, \n",
    "                                      #dimension_name, \n",
    "                                      #dimension_value}, \n",
    "                                      #dimension_description}, \n",
    "                                      #dimension_unit}, \n",
    "                                      update_statistics='UPDATE_STATISTICS', \n",
    "                                      update_transpose='UPDATE_TRANSPOSE')"
   ]
  },
  {
   "cell_type": "code",
   "execution_count": null,
   "metadata": {},
   "outputs": [],
   "source": []
  },
  {
   "cell_type": "code",
   "execution_count": null,
   "metadata": {},
   "outputs": [],
   "source": []
  },
  {
   "cell_type": "code",
   "execution_count": null,
   "metadata": {},
   "outputs": [],
   "source": []
  }
 ],
 "metadata": {
  "kernelspec": {
   "display_name": "ArcGISPro",
   "language": "Python",
   "name": "python3"
  },
  "language_info": {
   "file_extension": ".py",
   "name": "python",
   "version": "3"
  }
 },
 "nbformat": 4,
 "nbformat_minor": 2
}

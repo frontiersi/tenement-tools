{
 "cells": [
  {
   "cell_type": "markdown",
   "metadata": {},
   "source": [
    "## Imports"
   ]
  },
  {
   "cell_type": "code",
   "execution_count": 42,
   "metadata": {},
   "outputs": [],
   "source": [
    "%matplotlib inline\n",
    "\n",
    "import os\n",
    "import certifi\n",
    "import arcpy\n",
    "\n",
    "# set default gdal and ertifi envs (non-dev)\n",
    "try:\n",
    "    install_dir = arcpy.GetInstallInfo().get('InstallDir')  # get arcgis install dir\n",
    "    os.environ['GDAL_DATA'] = os.path.join(install_dir, 'Resources\\pedata\\gdaldata')  # join to gdal install\n",
    "    os.environ.setdefault(\"CURL_CA_BUNDLE\", certifi.where())  # set certifi\n",
    "except:\n",
    "    arcpy.AddError('Could not get install directory for ArcGIS Pro or set certifi.')\n",
    "    raise\n",
    "    \n",
    "# globals (dev)\n",
    "FOLDER_MODULES = r'C:\\Users\\Lewis\\Documents\\GitHub\\tenement-tools\\modules'  \n",
    "FOLDER_SHARED = r'C:\\Users\\Lewis\\Documents\\GitHub\\tenement-tools\\shared'\n",
    "GRP_LYR_FILE = r\"C:\\Users\\Lewis\\Documents\\GitHub\\tenement-tools\\arc\\lyr\\group_template.lyrx\"\n",
    "\n",
    "# set gdal global environ\n",
    "import os\n",
    "os.environ['GDAL_DISABLE_READDIR_ON_OPEN'] = 'EMPTY_DIR'\n",
    "os.environ['CPL_VSIL_CURL_ALLOWED_EXTENSIONS '] = 'tif'\n",
    "os.environ['VSI_CACHE '] = 'TRUE'\n",
    "os.environ['GDAL_HTTP_MULTIRANGE '] = 'YES'\n",
    "os.environ['GDAL_HTTP_MERGE_CONSECUTIVE_RANGES '] = 'YES'\n",
    "\n",
    "# also set rasterio env variables\n",
    "rasterio_env = {\n",
    "    'GDAL_DISABLE_READDIR_ON_OPEN': 'EMPTY_DIR',\n",
    "    'CPL_VSIL_CURL_ALLOWED_EXTENSIONS': 'tif',\n",
    "    'VSI_CACHE': True,\n",
    "    'GDAL_HTTP_MULTIRANGE': 'YES',\n",
    "    'GDAL_HTTP_MERGE_CONSECUTIVE_RANGES': 'YES'\n",
    "}\n",
    "\n",
    "# disable future warnings\n",
    "import warnings\n",
    "warnings.simplefilter(action='ignore', category=FutureWarning)\n",
    "\n",
    "# safe imports\n",
    "import sys                  # arcgis comes with these\n",
    "import datetime                 # arcgis comes with these\n",
    "import numpy as np              # arcgis comes with these\n",
    "import arcpy                    # arcgis comes with these\n",
    "import matplotlib.pyplot as plt\n",
    "from datetime import datetime   # arcgis comes with these\n",
    "\n",
    "# risky imports (not native to arcgis)\n",
    "try:\n",
    "    from osgeo import gdal\n",
    "    from osgeo import ogr\n",
    "    from osgeo import osr\n",
    "    import tempfile\n",
    "    import xarray as xr\n",
    "    import dask\n",
    "    import rasterio\n",
    "    import pystac_client\n",
    "    from odc import stac\n",
    "except:\n",
    "    arcpy.AddError('Python libraries xarray, dask, rasterio, pystac, or odc not installed.')\n",
    "    raise\n",
    "\n",
    "# import tools\n",
    "try:\n",
    "    # shared folder\n",
    "    sys.path.append(FOLDER_SHARED)\n",
    "    import arc, satfetcher, tools\n",
    "\n",
    "    # module folder\n",
    "    sys.path.append(FOLDER_MODULES)\n",
    "    import nrt, cog_odc, cog\n",
    "except:\n",
    "    arcpy.AddError('Could not find tenement tools python scripts (modules, shared).')\n",
    "    raise"
   ]
  },
  {
   "cell_type": "code",
   "execution_count": 43,
   "metadata": {},
   "outputs": [
    {
     "data": {
      "text/plain": [
       "<module 'nrt' from 'C:\\\\Users\\\\Lewis\\\\Documents\\\\GitHub\\\\tenement-tools\\\\modules\\\\nrt.py'>"
      ]
     },
     "execution_count": 43,
     "metadata": {},
     "output_type": "execute_result"
    }
   ],
   "source": [
    "from importlib import reload\n",
    "reload(nrt)"
   ]
  },
  {
   "cell_type": "markdown",
   "metadata": {
    "heading_collapsed": true
   },
   "source": [
    "## Create monitoring project"
   ]
  },
  {
   "cell_type": "code",
   "execution_count": 9,
   "metadata": {
    "hidden": true
   },
   "outputs": [],
   "source": [
    "# user creates monitoring projects. includes gdb and folders for project structure"
   ]
  },
  {
   "cell_type": "markdown",
   "metadata": {
    "heading_collapsed": true
   },
   "source": [
    "## Create monitoring areas"
   ]
  },
  {
   "cell_type": "code",
   "execution_count": 4,
   "metadata": {
    "hidden": true
   },
   "outputs": [],
   "source": [
    "# user creates monitoring polygons and fills in info in each row of table"
   ]
  },
  {
   "cell_type": "markdown",
   "metadata": {
    "heading_collapsed": true
   },
   "source": [
    "## NRT data Testing"
   ]
  },
  {
   "cell_type": "code",
   "execution_count": 6,
   "metadata": {
    "hidden": true
   },
   "outputs": [
    {
     "ename": "OSError",
     "evalue": "[Errno -90] NetCDF: file not found: b'C:\\\\Users\\\\Lewis\\\\Desktop\\\\nrt_projects\\\\ophthalmia_project_cubes\\\\cube_A01.nc'",
     "output_type": "error",
     "traceback": [
      "\u001b[0;31m---------------------------------------------------------------------------\u001b[0m\n\u001b[0;31mOSError\u001b[0m                                   Traceback (most recent call last)",
      "In  \u001b[0;34m[6]\u001b[0m:\nLine \u001b[0;34m19\u001b[0m:    ds_existing = xr.open_dataset(\u001b[33mr\u001b[39;49;00m\u001b[33m\"\u001b[39;49;00m\u001b[33mC:\u001b[39;49;00m\u001b[33m\\\u001b[39;49;00m\u001b[33mUsers\u001b[39;49;00m\u001b[33m\\\u001b[39;49;00m\u001b[33mLewis\u001b[39;49;00m\u001b[33m\\\u001b[39;49;00m\u001b[33mDesktop\u001b[39;49;00m\u001b[33m\\\u001b[39;49;00m\u001b[33mnrt_projects\u001b[39;49;00m\u001b[33m\\\u001b[39;49;00m\u001b[33mophthalmia_project_cubes\u001b[39;49;00m\u001b[33m\\\u001b[39;49;00m\u001b[33mcube_A01.nc\u001b[39;49;00m\u001b[33m\"\u001b[39;49;00m)\n",
      "File \u001b[0;34mC:\\Users\\Lewis\\AppData\\Local\\ESRI\\conda\\envs\\arcgispro-py3-dev-odc\\Lib\\site-packages\\xarray\\backends\\api.py\u001b[0m, in \u001b[0;32mopen_dataset\u001b[0m:\nLine \u001b[0;34m554\u001b[0m:   store = opener(filename_or_obj, **extra_kwargs, **backend_kwargs)\n",
      "File \u001b[0;34mC:\\Users\\Lewis\\AppData\\Local\\ESRI\\conda\\envs\\arcgispro-py3-dev-odc\\Lib\\site-packages\\xarray\\backends\\netCDF4_.py\u001b[0m, in \u001b[0;32mopen\u001b[0m:\nLine \u001b[0;34m378\u001b[0m:   \u001b[34mreturn\u001b[39;49;00m \u001b[36mcls\u001b[39;49;00m(manager, group=group, mode=mode, lock=lock, autoclose=autoclose)\n",
      "File \u001b[0;34mC:\\Users\\Lewis\\AppData\\Local\\ESRI\\conda\\envs\\arcgispro-py3-dev-odc\\Lib\\site-packages\\xarray\\backends\\netCDF4_.py\u001b[0m, in \u001b[0;32m__init__\u001b[0m:\nLine \u001b[0;34m326\u001b[0m:   \u001b[36mself\u001b[39;49;00m.format = \u001b[36mself\u001b[39;49;00m.ds.data_model\n",
      "File \u001b[0;34mC:\\Users\\Lewis\\AppData\\Local\\ESRI\\conda\\envs\\arcgispro-py3-dev-odc\\Lib\\site-packages\\xarray\\backends\\netCDF4_.py\u001b[0m, in \u001b[0;32mds\u001b[0m:\nLine \u001b[0;34m387\u001b[0m:   \u001b[34mreturn\u001b[39;49;00m \u001b[36mself\u001b[39;49;00m._acquire()\n",
      "File \u001b[0;34mC:\\Users\\Lewis\\AppData\\Local\\ESRI\\conda\\envs\\arcgispro-py3-dev-odc\\Lib\\site-packages\\xarray\\backends\\netCDF4_.py\u001b[0m, in \u001b[0;32m_acquire\u001b[0m:\nLine \u001b[0;34m381\u001b[0m:   \u001b[34mwith\u001b[39;49;00m \u001b[36mself\u001b[39;49;00m._manager.acquire_context(needs_lock) \u001b[34mas\u001b[39;49;00m root:\n",
      "File \u001b[0;34mC:\\Users\\Lewis\\AppData\\Local\\ESRI\\conda\\envs\\arcgispro-py3-dev-odc\\Lib\\contextlib.py\u001b[0m, in \u001b[0;32m__enter__\u001b[0m:\nLine \u001b[0;34m112\u001b[0m:   \u001b[34mreturn\u001b[39;49;00m \u001b[36mnext\u001b[39;49;00m(\u001b[36mself\u001b[39;49;00m.gen)\n",
      "File \u001b[0;34mC:\\Users\\Lewis\\AppData\\Local\\ESRI\\conda\\envs\\arcgispro-py3-dev-odc\\Lib\\site-packages\\xarray\\backends\\file_manager.py\u001b[0m, in \u001b[0;32macquire_context\u001b[0m:\nLine \u001b[0;34m187\u001b[0m:   file, cached = \u001b[36mself\u001b[39;49;00m._acquire_with_cache_info(needs_lock)\n",
      "File \u001b[0;34mC:\\Users\\Lewis\\AppData\\Local\\ESRI\\conda\\envs\\arcgispro-py3-dev-odc\\Lib\\site-packages\\xarray\\backends\\file_manager.py\u001b[0m, in \u001b[0;32m_acquire_with_cache_info\u001b[0m:\nLine \u001b[0;34m205\u001b[0m:   file = \u001b[36mself\u001b[39;49;00m._opener(*\u001b[36mself\u001b[39;49;00m._args, **kwargs)\n",
      "File \u001b[0;34mnetCDF4\\_netCDF4.pyx\u001b[0m, in \u001b[0;32mnetCDF4._netCDF4.Dataset.__init__\u001b[0m:\nLine \u001b[0;34m2358\u001b[0m:  \n",
      "File \u001b[0;34mnetCDF4\\_netCDF4.pyx\u001b[0m, in \u001b[0;32mnetCDF4._netCDF4._ensure_nc_success\u001b[0m:\nLine \u001b[0;34m1926\u001b[0m:  \n",
      "\u001b[0;31mOSError\u001b[0m: [Errno -90] NetCDF: file not found: b'C:\\\\Users\\\\Lewis\\\\Desktop\\\\nrt_projects\\\\ophthalmia_project_cubes\\\\cube_A01.nc'\n\u001b[0;31m---------------------------------------------------------------------------\u001b[0m"
     ]
    }
   ],
   "source": [
    "# disable future warnings\n",
    "import warnings\n",
    "warnings.simplefilter(action='ignore', category=FutureWarning)\n",
    "warnings.simplefilter(action='ignore', category=RuntimeWarning)\n",
    "warnings.simplefilter(action='ignore', category=UserWarning)\n",
    "warnings.simplefilter(action='ignore', category=dask.array.core.PerformanceWarning)\n",
    "\n",
    "# all provisional + non-provisional landsat\n",
    "out_nc = r\"C:\\Users\\Lewis\\Desktop\\nrt_projects\\ophthalmia_project_cubes\\cube_A01.nc\"\n",
    "s_year = '{}-01-01'.format(1990)\n",
    "e_year = '{}-12-31'.format(datetime.now().year)\n",
    "bbox = [119.85685826326254, -23.31510503211872, 119.85838607621004, -23.31250952051907]\n",
    "in_epsg = 3577\n",
    "\n",
    "# get params\n",
    "params = nrt.get_satellite_params(platform='Landsat')\n",
    "\n",
    "# open existing cube\n",
    "ds_existing = xr.open_dataset(r\"C:\\Users\\Lewis\\Desktop\\nrt_projects\\ophthalmia_project_cubes\\cube_A01.nc\")\n",
    "\n",
    "# sync cube to now\n",
    "ds_ls = nrt.sync_nrt_cube(out_nc=out_nc,\n",
    "                          collections=params.get('collections'),\n",
    "                          bands=params.get('bands'),\n",
    "                          start_dt=s_year,\n",
    "                          end_dt=e_year,\n",
    "                          bbox=bbox,\n",
    "                          in_epsg=in_epsg,\n",
    "                          slc_off=False,\n",
    "                          resolution=params.get('resolution'),\n",
    "                          ds_existing=None,\n",
    "                          chunks={})"
   ]
  },
  {
   "cell_type": "code",
   "execution_count": null,
   "metadata": {
    "hidden": true
   },
   "outputs": [],
   "source": [
    "# disable future warnings\n",
    "import warnings\n",
    "warnings.simplefilter(action='ignore', category=FutureWarning)\n",
    "warnings.simplefilter(action='ignore', category=RuntimeWarning)\n",
    "warnings.simplefilter(action='ignore', category=UserWarning)\n",
    "warnings.simplefilter(action='ignore', category=dask.array.core.PerformanceWarning)\n",
    "\n",
    "# all provisional + non-provisional landsat\n",
    "out_nc = r\"C:\\Users\\Lewis\\Desktop\\nrt_projects\\ophthalmia_project_cubes\\cube_A01.nc\"\n",
    "s_year = '{}-01-01'.format(1990)\n",
    "e_year = '{}-12-31'.format(datetime.now().year)\n",
    "bbox = [119.85685826326254, -23.31510503211872, 119.85838607621004, -23.31250952051907]\n",
    "in_epsg = 3577\n",
    "\n",
    "# get params\n",
    "params = nrt.get_satellite_params(platform='Sentinel')\n",
    "\n",
    "# open existing cube\n",
    "ds_existing = xr.open_dataset(r\"C:\\Users\\Lewis\\Desktop\\nrt_projects\\ophthalmia_project_cubes\\cube_A01.nc\")\n",
    "\n",
    "# sync cube to now\n",
    "ds_s2 = nrt.sync_nrt_cube(out_nc=out_nc,\n",
    "                          collections=params.get('collections'),\n",
    "                          bands=params.get('bands'),\n",
    "                          start_dt=s_year,\n",
    "                          end_dt=e_year,\n",
    "                          bbox=bbox,\n",
    "                          in_epsg=in_epsg,\n",
    "                          slc_off=False,\n",
    "                          resolution=params.get('resolution'),\n",
    "                          ds_existing=None,\n",
    "                          chunks={})"
   ]
  },
  {
   "cell_type": "markdown",
   "metadata": {
    "heading_collapsed": true
   },
   "source": [
    "## Monitor simulation"
   ]
  },
  {
   "cell_type": "markdown",
   "metadata": {
    "heading_collapsed": true,
    "hidden": true
   },
   "source": [
    "### Load raw vege, smooth, veg, raw change time series"
   ]
  },
  {
   "cell_type": "code",
   "execution_count": 3,
   "metadata": {
    "hidden": true
   },
   "outputs": [
    {
     "ename": "OSError",
     "evalue": "[Errno -90] NetCDF: file not found: b'C:\\\\Users\\\\Lewis\\\\Desktop\\\\test_change\\\\change_A01.nc'",
     "output_type": "error",
     "traceback": [
      "\u001b[0;31m---------------------------------------------------------------------------\u001b[0m\n\u001b[0;31mOSError\u001b[0m                                   Traceback (most recent call last)",
      "In  \u001b[0;34m[3]\u001b[0m:\nLine \u001b[0;34m1\u001b[0m:     ds_change = xr.open_dataset(\u001b[33mr\u001b[39;49;00m\u001b[33m\"\u001b[39;49;00m\u001b[33mC:\u001b[39;49;00m\u001b[33m\\\u001b[39;49;00m\u001b[33mUsers\u001b[39;49;00m\u001b[33m\\\u001b[39;49;00m\u001b[33mLewis\u001b[39;49;00m\u001b[33m\\\u001b[39;49;00m\u001b[33mDesktop\u001b[39;49;00m\u001b[33m\\\u001b[39;49;00m\u001b[33mtest_change\u001b[39;49;00m\u001b[33m\\\u001b[39;49;00m\u001b[33mchange_A01.nc\u001b[39;49;00m\u001b[33m\"\u001b[39;49;00m)  \u001b[37m# big impact 2007 ophtha dam area\u001b[39;49;00m\n",
      "File \u001b[0;34mC:\\Users\\Lewis\\AppData\\Local\\ESRI\\conda\\envs\\arcgispro-py3-dev-odc\\lib\\site-packages\\xarray\\backends\\api.py\u001b[0m, in \u001b[0;32mopen_dataset\u001b[0m:\nLine \u001b[0;34m554\u001b[0m:   store = opener(filename_or_obj, **extra_kwargs, **backend_kwargs)\n",
      "File \u001b[0;34mC:\\Users\\Lewis\\AppData\\Local\\ESRI\\conda\\envs\\arcgispro-py3-dev-odc\\lib\\site-packages\\xarray\\backends\\netCDF4_.py\u001b[0m, in \u001b[0;32mopen\u001b[0m:\nLine \u001b[0;34m378\u001b[0m:   \u001b[34mreturn\u001b[39;49;00m \u001b[36mcls\u001b[39;49;00m(manager, group=group, mode=mode, lock=lock, autoclose=autoclose)\n",
      "File \u001b[0;34mC:\\Users\\Lewis\\AppData\\Local\\ESRI\\conda\\envs\\arcgispro-py3-dev-odc\\lib\\site-packages\\xarray\\backends\\netCDF4_.py\u001b[0m, in \u001b[0;32m__init__\u001b[0m:\nLine \u001b[0;34m326\u001b[0m:   \u001b[36mself\u001b[39;49;00m.format = \u001b[36mself\u001b[39;49;00m.ds.data_model\n",
      "File \u001b[0;34mC:\\Users\\Lewis\\AppData\\Local\\ESRI\\conda\\envs\\arcgispro-py3-dev-odc\\lib\\site-packages\\xarray\\backends\\netCDF4_.py\u001b[0m, in \u001b[0;32mds\u001b[0m:\nLine \u001b[0;34m387\u001b[0m:   \u001b[34mreturn\u001b[39;49;00m \u001b[36mself\u001b[39;49;00m._acquire()\n",
      "File \u001b[0;34mC:\\Users\\Lewis\\AppData\\Local\\ESRI\\conda\\envs\\arcgispro-py3-dev-odc\\lib\\site-packages\\xarray\\backends\\netCDF4_.py\u001b[0m, in \u001b[0;32m_acquire\u001b[0m:\nLine \u001b[0;34m381\u001b[0m:   \u001b[34mwith\u001b[39;49;00m \u001b[36mself\u001b[39;49;00m._manager.acquire_context(needs_lock) \u001b[34mas\u001b[39;49;00m root:\n",
      "File \u001b[0;34mC:\\Users\\Lewis\\AppData\\Local\\ESRI\\conda\\envs\\arcgispro-py3-dev-odc\\lib\\contextlib.py\u001b[0m, in \u001b[0;32m__enter__\u001b[0m:\nLine \u001b[0;34m112\u001b[0m:   \u001b[34mreturn\u001b[39;49;00m \u001b[36mnext\u001b[39;49;00m(\u001b[36mself\u001b[39;49;00m.gen)\n",
      "File \u001b[0;34mC:\\Users\\Lewis\\AppData\\Local\\ESRI\\conda\\envs\\arcgispro-py3-dev-odc\\lib\\site-packages\\xarray\\backends\\file_manager.py\u001b[0m, in \u001b[0;32macquire_context\u001b[0m:\nLine \u001b[0;34m187\u001b[0m:   file, cached = \u001b[36mself\u001b[39;49;00m._acquire_with_cache_info(needs_lock)\n",
      "File \u001b[0;34mC:\\Users\\Lewis\\AppData\\Local\\ESRI\\conda\\envs\\arcgispro-py3-dev-odc\\lib\\site-packages\\xarray\\backends\\file_manager.py\u001b[0m, in \u001b[0;32m_acquire_with_cache_info\u001b[0m:\nLine \u001b[0;34m205\u001b[0m:   file = \u001b[36mself\u001b[39;49;00m._opener(*\u001b[36mself\u001b[39;49;00m._args, **kwargs)\n",
      "File \u001b[0;34mnetCDF4\\_netCDF4.pyx\u001b[0m, in \u001b[0;32mnetCDF4._netCDF4.Dataset.__init__\u001b[0m:\nLine \u001b[0;34m2358\u001b[0m:  \n",
      "File \u001b[0;34mnetCDF4\\_netCDF4.pyx\u001b[0m, in \u001b[0;32mnetCDF4._netCDF4._ensure_nc_success\u001b[0m:\nLine \u001b[0;34m1926\u001b[0m:  \n",
      "\u001b[0;31mOSError\u001b[0m: [Errno -90] NetCDF: file not found: b'C:\\\\Users\\\\Lewis\\\\Desktop\\\\test_change\\\\change_A01.nc'\n\u001b[0;31m---------------------------------------------------------------------------\u001b[0m"
     ]
    }
   ],
   "source": [
    "ds_change = xr.open_dataset(r\"C:\\Users\\Lewis\\Desktop\\test_change\\change_A01.nc\")  # big impact 2007 ophtha dam area\n",
    "#ds_change = xr.open_dataset(r\"C:\\Users\\Lewis\\Desktop\\test_change\\change_A02.nc\")  # big impact 2007 ophtha dam area, but training done 2013, so recovery is shown\n",
    "#ds_change = xr.open_dataset(r\"C:\\Users\\Lewis\\Desktop\\test_change\\change_A03.nc\")  # near impact 2007 ophtha dam area, less impact in 2007\n",
    "#ds_change = xr.open_dataset(r\"C:\\Users\\Lewis\\Desktop\\test_change\\change_A04.nc\")  # open shrubland with wo euc? training period bad\n",
    "#ds_change = xr.open_dataset(r\"C:\\Users\\Lewis\\Desktop\\test_change\\change_A05.nc\")  # mulga area on road side? training period bad\n",
    "#ds_change = xr.open_dataset(r\"C:\\Users\\Lewis\\Desktop\\test_change\\change_A06.nc\")  # euc vic east yandi. gradual increasing... odd result? try train period\n",
    "#ds_change = xr.open_dataset(r\"C:\\Users\\Lewis\\Desktop\\test_change\\change_A07.nc\")  # yandi discharge south veg... good, but change in training period?\n",
    "#ds_change = xr.open_dataset(r\"C:\\Users\\Lewis\\Desktop\\test_change\\change_A08.nc\")   # yandi elephatn graveyard. good - 2007 decline\n",
    "\n",
    "vec_summary = ds_change['summary'].median(['x', 'y']).data\n",
    "fig = plt.figure(figsize=(15, 4))\n",
    "plt.plot(vec_summary, color='green')\n",
    "plt.show()\n",
    "\n",
    "vec_static = ds_change['static'].median(['x', 'y']).data\n",
    "fig = plt.figure(figsize=(15, 4))\n",
    "plt.plot(vec_static, color='blue')\n",
    "plt.show()\n",
    "\n",
    "vec_static_smooth = nrt.smooth_change(arr=vec_static)       \n",
    "fig = plt.figure(figsize=(15, 4))\n",
    "plt.plot(vec_static, color='blue')\n",
    "plt.plot(vec_static_smooth, color='red')\n",
    "plt.show()"
   ]
  },
  {
   "cell_type": "markdown",
   "metadata": {
    "heading_collapsed": true
   },
   "source": [
    "## Apply rule 1: consequtives"
   ]
  },
  {
   "cell_type": "code",
   "execution_count": null,
   "metadata": {
    "hidden": true,
    "scrolled": true
   },
   "outputs": [],
   "source": [
    "min_consequtives = 3\n",
    "max_consequtives = 5\n",
    "inc_plateaus_in_runs = True\n",
    "\n",
    "# get inc, dec and stable counts\n",
    "vec_rule_1 = nrt.apply_rule_one(arr=vec_static_smooth, \n",
    "                                direction='decline', \n",
    "                                min_consequtives=3, \n",
    "                                max_consequtives=None,\n",
    "                                inc_plateaus=False)\n",
    "\n",
    "fig = plt.figure(figsize=(15, 4))\n",
    "plt.plot(vec_static_smooth, color='darkblue', marker='o', alpha=0.25)\n",
    "plt.plot(np.where(vec_rule_1 >= 1, vec_static_smooth, np.nan), color='red', marker='o', alpha=0.25)\n",
    "plt.show()"
   ]
  },
  {
   "cell_type": "markdown",
   "metadata": {
    "heading_collapsed": true
   },
   "source": [
    "## Apply rule 2: threshold"
   ]
  },
  {
   "cell_type": "code",
   "execution_count": null,
   "metadata": {
    "hidden": true
   },
   "outputs": [],
   "source": [
    "vec_rule_2 = nrt.apply_rule_two(vec_static_smooth, direction='decline', min_stdv=1, operator='<=')\n",
    "#vec_rule_2_incline = apply_rule_two(yest, min_zone=1, operator='>=')\n",
    "\n",
    "fig = plt.figure(figsize=(15, 4))\n",
    "plt.plot(vec_static_smooth, color='darkblue', marker='o', alpha=0.25)\n",
    "plt.plot(vec_rule_2, color='red', marker='o', alpha=0.25)\n",
    "plt.show()"
   ]
  },
  {
   "cell_type": "markdown",
   "metadata": {
    "heading_collapsed": true
   },
   "source": [
    "## Apply rule 3: jumps"
   ]
  },
  {
   "cell_type": "code",
   "execution_count": null,
   "metadata": {
    "hidden": true
   },
   "outputs": [],
   "source": [
    "# temp - just testing\n",
    "spiked = vec_static_smooth.copy()\n",
    "#spiked[-10: -5] = spiked[-10: -5] - 8\n",
    "#spiked[25: 30] = spiked[25: 30] - 4\n",
    "\n",
    "# get num zones to jump\n",
    "num_stdvs = nrt.get_stdv_from_zone(num_zones=1)\n",
    "\n",
    "vec_rule_3 = nrt.apply_rule_three(spiked, direction='decline', num_stdv_jumped=num_stdvs, min_consequtives=3)\n",
    "# #spike_inc = apply_rule_three(spiked, jump_direction='increase', jump_size=1, min_consequtives=3)\n",
    "\n",
    "fig = plt.figure(figsize=(15, 4))\n",
    "plt.plot(spiked, color='darkblue', marker='o', alpha=0.25)\n",
    "plt.plot(np.where(vec_rule_3 >= 1, spiked, np.nan), color='red', marker='o', alpha=0.25)\n",
    "plt.show()"
   ]
  },
  {
   "cell_type": "markdown",
   "metadata": {
    "heading_collapsed": true
   },
   "source": [
    "## Apply rules 1, 2, 3: combined"
   ]
  },
  {
   "cell_type": "code",
   "execution_count": null,
   "metadata": {
    "hidden": true
   },
   "outputs": [],
   "source": [
    "vec_rules_combo = nrt.apply_rule_combo(arr_r1=vec_rule_1, \n",
    "                                       arr_r2=vec_rule_2, \n",
    "                                       arr_r3=vec_rule_3, \n",
    "                                       ruleset='1&2|3')\n",
    "\n",
    "\n",
    "\n",
    "fig = plt.figure(figsize=(15, 4))\n",
    "plt.plot(spiked, color='darkblue', marker='o', alpha=0.25)\n",
    "plt.plot(np.where(vec_rules_combo >= 1, spiked, np.nan), color='red', marker='o', alpha=0.25)\n",
    "plt.show()"
   ]
  },
  {
   "cell_type": "markdown",
   "metadata": {
    "heading_collapsed": true
   },
   "source": [
    "## Assign zone to rule output"
   ]
  },
  {
   "cell_type": "code",
   "execution_count": null,
   "metadata": {
    "hidden": true
   },
   "outputs": [],
   "source": [
    "# classify smoothed array into zone 0\n",
    "vec_temp = np.abs(vec_static_smooth)\n",
    "\n",
    "# zone 0 - from 0 to 1 (+/-)\n",
    "zone_0 = np.where((vec_temp >= 0) & (vec_temp <= 1), 0, 0)\n",
    "\n",
    "# zone 1 - between 1 and 3 (+/-)\n",
    "zone_1 = np.where((vec_temp > 1) & (vec_temp <= 3), 1, 0)\n",
    "\n",
    "# zone 2 - between 3 and 5 (+/-)\n",
    "zone_2 = np.where((vec_temp > 3) & (vec_temp <= 5), 2, 0)\n",
    "\n",
    "# zone 3 - between 5 and 7 (+/-)\n",
    "zone_3 = np.where((vec_temp > 5) & (vec_temp <= 7), 3, 0)\n",
    "\n",
    "# zone 4 - between 7 and 9 (+/-)\n",
    "zone_4 = np.where((vec_temp > 7) & (vec_temp <= 9), 4, 0)\n",
    "\n",
    "# zone 5 - between 9 and 11 (+/-)\n",
    "zone_5 = np.where((vec_temp > 9) & (vec_temp <= 11), 5, 0)\n",
    "\n",
    "# zone 6 - between 11 and 13 (+/-)\n",
    "zone_6 = np.where((vec_temp > 11) & (vec_temp <= 13), 6, 0)\n",
    "\n",
    "# zone 7 - between 13 and 15 (+/-)\n",
    "zone_7 = np.where((vec_temp > 13) & (vec_temp <= 15), 7, 0)\n",
    "\n",
    "# zone 8 - between 15 and 17 (+/-)\n",
    "zone_8 = np.where((vec_temp > 15) & (vec_temp <= 17), 8, 0)\n",
    "\n",
    "# zone 9 - between 17 and 19 (+/-)\n",
    "zone_9 = np.where((vec_temp > 17) & (vec_temp <= 19), 9, 0)\n",
    "\n",
    "# zone 10 - above 19 (+/-)\n",
    "zone_10 = np.where(vec_temp > 19, 10, 0)"
   ]
  },
  {
   "cell_type": "code",
   "execution_count": null,
   "metadata": {
    "hidden": true
   },
   "outputs": [],
   "source": [
    "# simulate input\n",
    "arr = vec_static_smooth.copy()\n",
    "\n",
    "# set up zone ranges (stdvs)\n",
    "zones = [\n",
    "    [0, 1],    # zone 1 - from 0 to 1 (+/-)\n",
    "    [1, 3],    # zone 2 - between 1 and 3 (+/-)\n",
    "    [3, 5],    # zone 3 - between 3 and 5 (+/-)\n",
    "    [5, 7],    # zone 4 - between 5 and 7 (+/-)\n",
    "    [7, 9],    # zone 5 - between 7 and 9 (+/-)\n",
    "    [9, 11],   # zone 6 - between 9 and 11 (+/-)\n",
    "    [11, 13],  # zone 7 - between 11 and 13 (+/-)\n",
    "    [13, 15],  # zone 8 - between 13 and 15 (+/-)\n",
    "    [15, 17],  # zone 9 - between 15 and 17 (+/-)\n",
    "    [17, 19],  # zone 10 - between 17 and 19 (+/-)\n",
    "    [19]       # zone 11- above 19 (+/-)\n",
    "]\n",
    "\n",
    "# create template vector\n",
    "vec_temp = np.full_like(arr, fill_value=np.nan)\n",
    "\n",
    "# iter zones\n",
    "for i, z in enumerate(zones, start=1):\n",
    "    \n",
    "    # \n",
    "    if i == 1:\n",
    "        vec_temp[np.where((arr >= z[0]) & (arr <= z[1]))] = i\n",
    "        vec_temp[np.where((arr < z[0]) & (arr >= z[1] * -1))] = i * -1\n",
    "            \n",
    "    elif i == 11:       \n",
    "        vec_temp[np.where(arr > z[0])] = i\n",
    "        vec_temp[np.where(arr < z[0] * -1)] = i * -1\n",
    "        \n",
    "    else:\n",
    "        vec_temp[np.where((arr > z[0]) & (arr <= z[1]))] = i\n",
    "        vec_temp[np.where((arr < z[0] * -1) & (arr >= z[1] * -1))] = i * -1\n",
    "        \n",
    "        "
   ]
  },
  {
   "cell_type": "code",
   "execution_count": null,
   "metadata": {
    "hidden": true
   },
   "outputs": [],
   "source": [
    "vec_temp"
   ]
  },
  {
   "cell_type": "code",
   "execution_count": null,
   "metadata": {
    "hidden": true
   },
   "outputs": [],
   "source": []
  },
  {
   "cell_type": "code",
   "execution_count": null,
   "metadata": {
    "hidden": true
   },
   "outputs": [],
   "source": []
  },
  {
   "cell_type": "code",
   "execution_count": null,
   "metadata": {
    "hidden": true
   },
   "outputs": [],
   "source": []
  },
  {
   "cell_type": "code",
   "execution_count": null,
   "metadata": {
    "hidden": true
   },
   "outputs": [],
   "source": [
    "# dont forget, you need second last image when alerting and displaying data"
   ]
  },
  {
   "cell_type": "code",
   "execution_count": null,
   "metadata": {
    "hidden": true
   },
   "outputs": [],
   "source": [
    "def classify_flag(arr):\n",
    "    # classify smoothed array into zone 0\n",
    "    vec_temp = np.abs(vec_static_smooth)\n",
    "\n",
    "    # zone 0 - from 0 to 1 (+/-)\n",
    "    zone_0 = np.where((vec_temp >= 0) & (vec_temp <= 1), 0, 0)\n",
    "\n",
    "    # zone 1 - between 1 and 3 (+/-)\n",
    "    zone_1 = np.where((vec_temp > 1) & (vec_temp <= 3), 1, 0)\n",
    "\n",
    "    # zone 2 - between 3 and 5 (+/-)\n",
    "    zone_2 = np.where((vec_temp > 3) & (vec_temp <= 5), 2, 0)\n",
    "\n",
    "    # zone 3 - between 5 and 7 (+/-)\n",
    "    zone_3 = np.where((vec_temp > 5) & (vec_temp <= 7), 3, 0)\n",
    "\n",
    "    # zone 4 - between 7 and 9 (+/-)\n",
    "    zone_4 = np.where((vec_temp > 7) & (vec_temp <= 9), 4, 0)\n",
    "\n",
    "    # zone 5 - between 9 and 11 (+/-)\n",
    "    zone_5 = np.where((vec_temp > 9) & (vec_temp <= 11), 5, 0)\n",
    "\n",
    "    # zone 6 - between 11 and 13 (+/-)\n",
    "    zone_6 = np.where((vec_temp > 11) & (vec_temp <= 13), 6, 0)\n",
    "\n",
    "    # zone 7 - between 13 and 15 (+/-)\n",
    "    zone_7 = np.where((vec_temp > 13) & (vec_temp <= 15), 7, 0)\n",
    "\n",
    "    # zone 8 - between 15 and 17 (+/-)\n",
    "    zone_8 = np.where((vec_temp > 15) & (vec_temp <= 17), 8, 0)\n",
    "\n",
    "    # zone 9 - between 17 and 19 (+/-)\n",
    "    zone_9 = np.where((vec_temp > 17) & (vec_temp <= 19), 9, 0)\n",
    "\n",
    "    # zone 10 - above 19 (+/-)\n",
    "    zone_10 = np.where(vec_temp > 19, 10, 0)"
   ]
  },
  {
   "cell_type": "code",
   "execution_count": null,
   "metadata": {
    "hidden": true
   },
   "outputs": [],
   "source": []
  },
  {
   "cell_type": "code",
   "execution_count": null,
   "metadata": {
    "hidden": true
   },
   "outputs": [],
   "source": []
  },
  {
   "cell_type": "code",
   "execution_count": null,
   "metadata": {
    "hidden": true
   },
   "outputs": [],
   "source": []
  },
  {
   "cell_type": "code",
   "execution_count": null,
   "metadata": {
    "hidden": true
   },
   "outputs": [],
   "source": []
  },
  {
   "cell_type": "code",
   "execution_count": null,
   "metadata": {
    "hidden": true
   },
   "outputs": [],
   "source": [
    "vec_temp_signed = vec_static_smooth.copy()\n",
    "vec_temp_signed = np.where(np.sign(vec_temp_signed) == 0, 1, np.sign(vec_temp_signed))"
   ]
  },
  {
   "cell_type": "code",
   "execution_count": null,
   "metadata": {
    "hidden": true
   },
   "outputs": [],
   "source": []
  },
  {
   "cell_type": "markdown",
   "metadata": {
    "heading_collapsed": true
   },
   "source": [
    "## Main function"
   ]
  },
  {
   "cell_type": "code",
   "execution_count": null,
   "metadata": {
    "hidden": true
   },
   "outputs": [],
   "source": [
    "# for i in np.arange(0, len(vec_rule_1_decline)):\n",
    "#     if i > 3:\n",
    "    \n",
    "#         vec_smooth = vec_static_smooth[0:i]\n",
    "#         vec_rule = vec_rule_1_decline[0:i]\n",
    "        \n",
    "#         alarm = False\n",
    "#         if vec_rule[-2] >= 1:\n",
    "#             alarm = True\n",
    "            \n",
    "#         fig = plt.figure(figsize=(15, 4))\n",
    "#         plt.plot(vec_smooth, color='darkblue', marker='o', alpha=0.25)\n",
    "        \n",
    "#         if alarm: \n",
    "#             plt.axvline(i - 2, color='black', linestyle='dashed')\n",
    "        \n",
    "#         plt.show()\n",
    "#         plt.close()"
   ]
  },
  {
   "cell_type": "markdown",
   "metadata": {},
   "source": [
    "## Working"
   ]
  },
  {
   "cell_type": "code",
   "execution_count": 532,
   "metadata": {},
   "outputs": [],
   "source": [
    "# TODOS\n",
    "# might want soem checks to ensure > 5 years between start and end (ewmacd fails with too few years)\n",
    "# try catch around ewmacd stuff\n",
    "# sortby on \n",
    "# may want a data spike remover before change detection incase s2 jumps around\n",
    "# supress this wanring - it will keep happening every fetch if you dont\n",
    "#C:\\Users\\Lewis\\AppData\\Local\\ESRI\\conda\\envs\\arcgispro-py3-dev-odc\\Lib\\site-packages\\odc\\stac\\_eo3.py:577: UserWarning: Missing asset with name: nbar_nir\n",
    "  #warn(f\"Missing asset with name: {band}\")\n",
    "#C:\\Users\\Lewis\\AppData\\Local\\ESRI\\conda\\envs\\arcgispro-py3-dev-odc\\Lib\\site-packages\\odc\\stac\\_eo3.py:577: UserWarning: Missing asset with name: nbar_red\n",
    "# also supress this warning - happening on area 3\n",
    "#C:\\Users\\Lewis\\Documents\\GitHub\\tenement-tools\\modules\\nrt.py:1404: RuntimeWarning: invalid value encountered in double_scalars\n",
    "  #Rsquared = 1 - np.sum(np.square(Responses_keeps - fits)) / np.sum(np.square(Responses_keeps - np.sum(Responses_keeps) / len(Responses_keeps)))\n",
    "# check area 3 - when 3 declines from 1 down to 0 (no change), dont warn?\n",
    "# check area 3 - why are flags occuring in 0 when rule 2 is applied? shouldnt these only happen < -1 ?\n",
    "# yeo, def bug with area 3 - conseqs dont appear to be working. investoigate."
   ]
  },
  {
   "cell_type": "code",
   "execution_count": null,
   "metadata": {},
   "outputs": [],
   "source": [
    "# set gdal global environ\n",
    "import os\n",
    "os.environ['GDAL_DISABLE_READDIR_ON_OPEN'] = 'EMPTY_DIR'\n",
    "os.environ['CPL_VSIL_CURL_ALLOWED_EXTENSIONS '] = 'tif'\n",
    "os.environ['VSI_CACHE '] = 'TRUE'\n",
    "os.environ['GDAL_HTTP_MULTIRANGE '] = 'YES'\n",
    "os.environ['GDAL_HTTP_MERGE_CONSECUTIVE_RANGES '] = 'YES'\n",
    "\n",
    "# also set rasterio env variables\n",
    "rasterio_env = {\n",
    "    'GDAL_DISABLE_READDIR_ON_OPEN': 'EMPTY_DIR',\n",
    "    'CPL_VSIL_CURL_ALLOWED_EXTENSIONS':'tif',\n",
    "    'VSI_CACHE': True,\n",
    "    'GDAL_HTTP_MULTIRANGE': 'YES',\n",
    "    'GDAL_HTTP_MERGE_CONSECUTIVE_RANGES': 'YES'\n",
    "}\n",
    "\n",
    "# safe imports\n",
    "import sys                      # arcgis comes with these\n",
    "import shutil                   # arcgis comes with these\n",
    "import datetime                 # arcgis comes with these\n",
    "import numpy as np              # arcgis comes with these\n",
    "import arcpy                    # arcgis comes with these\n",
    "import tempfile                 # arcgis comes with these\n",
    "from datetime import datetime   # arcgis comes with these\n",
    "\n",
    "# risky imports (not native to arcgis)\n",
    "try:\n",
    "    import xarray as xr\n",
    "    import dask\n",
    "    import rasterio\n",
    "    import pystac_client\n",
    "    import osr\n",
    "    import json\n",
    "    from odc import stac\n",
    "    from osgeo import gdal\n",
    "    from osgeo import ogr\n",
    "    from osgeo import osr\n",
    "except:\n",
    "    arcpy.AddError('Python libraries xarray, dask, rasterio, pystac, or odc not installed.')\n",
    "    raise\n",
    "\n",
    "# import tools\n",
    "try:\n",
    "    # shared folder\n",
    "    sys.path.append(FOLDER_SHARED)\n",
    "    import arc, satfetcher, tools\n",
    "\n",
    "    # module folder\n",
    "    sys.path.append(FOLDER_MODULES)\n",
    "    import nrt, cog_odc, cog\n",
    "except:\n",
    "    arcpy.AddError('Could not find tenement tools python scripts (modules, shared).')\n",
    "    raise\n",
    "    \n",
    "# disable future warnings\n",
    "import warnings\n",
    "warnings.simplefilter(action='ignore', category=FutureWarning)\n",
    "warnings.simplefilter(action='ignore', category=RuntimeWarning)\n",
    "warnings.simplefilter(action='ignore', category=UserWarning)\n",
    "warnings.simplefilter(action='ignore', category=dask.array.core.PerformanceWarning)\n",
    "    \n",
    "# grab parameter values \n",
    "#in_feat = r\"C:\\Users\\Lewis\\Desktop\\nrt_projects\\ophthalmia.gdb\\monitoring_areas\"\n",
    "in_feat = r\"C:\\Users\\Lewis\\Desktop\\nrt_projects\\ophthalmia_projects.gdb\\monitoring_areas\"\n",
    "in_ongoing = False\n",
    "in_time_interval = 24\n",
    "#in_email_from = parameters[3].value                # email from \n",
    "#in_smtp_server = parameters[4].value               # email smtp server \n",
    "#in_smtp_port = parameters[5].value                 # email smtp port \n",
    "#in_smtp_username = parameters[6].value             # email smtp username \n",
    "#in_smtp_password = parameters[7].value             # email smtp password \n",
    "\n",
    "\n",
    "# # # # #\n",
    "# notify user and set up progress bar\n",
    "arcpy.AddMessage('Beginning NRT Monitoring of areas.')\n",
    "arcpy.SetProgressor(type='step', \n",
    "                    message='Preparing parameters...',\n",
    "                    min_range=0, max_range=20)\n",
    "\n",
    "# check if time interval is > 0\n",
    "#in_time_interval = in_time_interval * 60 * 60\n",
    "#if in_time_interval <= 0:\n",
    "    #arcpy.AddError('Time interval must be above 0 hours.')\n",
    "    #raise\n",
    "\n",
    "\n",
    "# # # # #\n",
    "# notify and increment progress bar\n",
    "arcpy.SetProgressorLabel('Preparing parameters...')\n",
    "arcpy.SetProgressorPosition(1)\n",
    "\n",
    "# do some checks\n",
    "# todo!\n",
    "\n",
    "# prepare features shapefile\n",
    "shp_desc = arcpy.Describe(in_feat)\n",
    "in_feat = os.path.join(shp_desc.path, shp_desc.name)\n",
    "\n",
    "\n",
    "# # # # #\n",
    "# notify and increment progress bar\n",
    "arcpy.SetProgressorLabel('Validating monitoring areas...')\n",
    "arcpy.SetProgressorPosition(2)\n",
    "\n",
    "# validate monitoring area feature class\n",
    "if not nrt.validate_monitoring_areas(in_feat):\n",
    "    arcpy.AddError('Monitoring areas feature is invalid.')\n",
    "    raise # return\n",
    "\n",
    "# get input featureclass file, get dir and filename (validated by now)\n",
    "in_name = os.path.basename(in_feat)     # name of monitor fc\n",
    "in_gdb = os.path.dirname(in_feat)       # path of gdb\n",
    "in_path = os.path.splitext(in_gdb)[0]   # path of gdb without ext\n",
    "in_data_path = in_path + '_' + 'cubes'  # associated cube data folder\n",
    "\n",
    "\n",
    "# # # # #\n",
    "# notify and increment progress bar\n",
    "arcpy.SetProgressorLabel('Loading monitoring area features...')\n",
    "arcpy.SetProgressorPosition(2)\n",
    "\n",
    "# set required fields\n",
    "fields = ['area_id', 'platform', 's_year', 'e_year', 'index', 'persistence', \n",
    "          'rule_1_min_conseqs', 'rule_1_inc_plateaus', 'rule_2_min_stdv', \n",
    "          'rule_2_bidirectional', 'rule_3_num_zones', 'ruleset', 'alert', \n",
    "          'alert_direction', 'email', 'ignore', 'SHAPE@']\n",
    "\n",
    "# get feature count and data (will always have at least one, validated earlier)\n",
    "try:\n",
    "    # get num rows and abort if empty\n",
    "    row_count = len(list(f for f in arcpy.da.SearchCursor(in_feat, fields)))\n",
    "    if row_count == 0:\n",
    "        arcpy.AddError('No monitoring areas in input. Require at least one.')\n",
    "        return\n",
    "    else:\n",
    "        feats = arcpy.da.SearchCursor(in_feat, fields)\n",
    "except:\n",
    "    arcpy.AddError('Could not open monitoring areas feature.')\n",
    "    return"
   ]
  },
  {
   "cell_type": "code",
   "execution_count": 426,
   "metadata": {},
   "outputs": [
    {
     "ename": "IndentationError",
     "evalue": "unindent does not match any outer indentation level (<tokenize>, line 293)",
     "output_type": "error",
     "traceback": [
      "\u001b[0;31m---------------------------------------------------------------------------\u001b[0m\n\u001b[0;31mIndentationError\u001b[0m                          Traceback (most recent call last)",
      "File \u001b[0;34mC:\\Users\\Lewis\\AppData\\Local\\ESRI\\conda\\envs\\arcgispro-py3-dev-odc\\Lib\\site-packages\\IPython\\core\\interactiveshell.py\u001b[0m, in \u001b[0;32mtransform_cell\u001b[0m:\nLine \u001b[0;34m3198\u001b[0m:  cell = \u001b[36mself\u001b[39;49;00m.input_transformer_manager.transform_cell(raw_cell)\n",
      "File \u001b[0;34mC:\\Users\\Lewis\\AppData\\Local\\ESRI\\conda\\envs\\arcgispro-py3-dev-odc\\Lib\\site-packages\\IPython\\core\\inputtransformer2.py\u001b[0m, in \u001b[0;32mtransform_cell\u001b[0m:\nLine \u001b[0;34m593\u001b[0m:   lines = \u001b[36mself\u001b[39;49;00m.do_token_transforms(lines)\n",
      "File \u001b[0;34mC:\\Users\\Lewis\\AppData\\Local\\ESRI\\conda\\envs\\arcgispro-py3-dev-odc\\Lib\\site-packages\\IPython\\core\\inputtransformer2.py\u001b[0m, in \u001b[0;32mdo_token_transforms\u001b[0m:\nLine \u001b[0;34m578\u001b[0m:   changed, lines = \u001b[36mself\u001b[39;49;00m.do_one_token_transform(lines)\n",
      "File \u001b[0;34mC:\\Users\\Lewis\\AppData\\Local\\ESRI\\conda\\envs\\arcgispro-py3-dev-odc\\Lib\\site-packages\\IPython\\core\\inputtransformer2.py\u001b[0m, in \u001b[0;32mdo_one_token_transform\u001b[0m:\nLine \u001b[0;34m558\u001b[0m:   tokens_by_line = make_tokens_by_line(lines)\n",
      "File \u001b[0;34mC:\\Users\\Lewis\\AppData\\Local\\ESRI\\conda\\envs\\arcgispro-py3-dev-odc\\Lib\\site-packages\\IPython\\core\\inputtransformer2.py\u001b[0m, in \u001b[0;32mmake_tokens_by_line\u001b[0m:\nLine \u001b[0;34m487\u001b[0m:   \u001b[34mfor\u001b[39;49;00m token \u001b[35min\u001b[39;49;00m tokenize.generate_tokens(\u001b[36miter\u001b[39;49;00m(lines).\u001b[32m__next__\u001b[39;49;00m):\n",
      "File \u001b[0;34mC:\\Users\\Lewis\\AppData\\Local\\ESRI\\conda\\envs\\arcgispro-py3-dev-odc\\Lib\\tokenize.py\u001b[0m, in \u001b[0;32m_tokenize\u001b[0m:\nLine \u001b[0;34m572\u001b[0m:   (\u001b[33m\"\u001b[39;49;00m\u001b[33m<tokenize>\u001b[39;49;00m\u001b[33m\"\u001b[39;49;00m, lnum, pos, line))\n",
      "\u001b[0;31mIndentationError\u001b[0m: unindent does not match any outer indentation level (<tokenize>, line 293)\n\u001b[0;31m---------------------------------------------------------------------------\u001b[0m"
     ]
    }
   ],
   "source": [
    "def test(e_year):\n",
    "\n",
    "    # # # # #\n",
    "    # notify and set progress bar to defaukt\n",
    "    #arcpy.SetProgressor(type='default', \n",
    "                        #message='Iterating through monitoring areas...')\n",
    "    \n",
    "    # begin monitoring process iteration\n",
    "    #continue_monitoring = True\n",
    "    #while continue_monitoring:\n",
    "        \n",
    "        # create email dict\n",
    "        #email_contents = nrt.create_email_dicts(row_count) \n",
    "\n",
    "        #for idx, feat in enumerate(feats):\n",
    "            #arcpy.AddMessage('Preparing parameters for area: {}'.format(feat[0]))\n",
    "                    \n",
    "            # set expected cube filepath and start/end (current) date\n",
    "            #out_raw_nc = os.path.join(in_data_path, 'cube' + '_' + feat[0] + '.nc')\n",
    "            #s_year = '{}-01-01'.format(feat[2])\n",
    "            #e_year = '{}-12-31'.format(datetime.now().year)\n",
    "            #e_year = '2010-05-30' # NOTE TESTING ONLY\n",
    "            #print(s_year, e_year) # temp!!\n",
    "\n",
    "\n",
    "            # # # # #\n",
    "            # notify \n",
    "            #arcpy.AddMessage('Checking monitoring area: {}.'.format(feat[0]))\n",
    "\n",
    "            # check if current feat is valid\n",
    "            #if not nrt.validate_monitoring_area(row):\n",
    "                #arcpy.AddWarning('Invalid monitoring area: {}, skipping.'.format(feat[0]))\n",
    "                #continue\n",
    "\n",
    "            # add validated values to dict\n",
    "            #email_contents[idx].update({\n",
    "                #'area_id': feat[0], \n",
    "                #'s_year': feat[2], \n",
    "                #'e_year': feat[3],\n",
    "                #'index': feat[4],\n",
    "                #'ruleset': feat[11],\n",
    "                #'alert': feat[12],\n",
    "                #'alert_direction': feat[13],\n",
    "                #'email': feat[14],\n",
    "                #'ignore': feat[15],\n",
    "                #'trigger': False\n",
    "            #})\n",
    "\n",
    "            \n",
    "            # # # # #\n",
    "            # notify \n",
    "            #arcpy.AddMessage('Checking if cube exists and syncing with latest data: {}.'.format(feat[0]))     \n",
    "\n",
    "            # perform safe load of existing netcdf, if exists\n",
    "            #ds_raw_exist = nrt.safe_load_nc(in_path=out_raw_nc)\n",
    "\n",
    "            # get relevant satellite parameters and geom bbox (in albers)\n",
    "            #params = nrt.get_satellite_params(platform=feat[1])    \n",
    "            #bbox = arc.get_bbox_from_geom(in_geom=feat[-1])\n",
    "\n",
    "            # fetch all available dea data up until now\n",
    "            #ds_raw_new = nrt.fetch_cube_data(out_nc=out_raw_nc, \n",
    "                                             #collections=params.get('collections'), \n",
    "                                             #bands=params.get('bands'), \n",
    "                                             #start_dt=s_year, \n",
    "                                             #end_dt=e_year, \n",
    "                                             #bbox=bbox, \n",
    "                                             #resolution=params.get('resolution'), \n",
    "                                             #ds_existing=ds_raw_exist)\n",
    "            \n",
    "            # group duplicate times if exist and rechunk\n",
    "            #ds_raw_new = satfetcher.group_dupe_times(ds_raw_new)\n",
    "\n",
    "            # create new netcdf if none exist, else combine existing with new\n",
    "            #ds_raw = nrt.sync_new_and_old_cubes(ds_exist=ds_raw_exist, \n",
    "                                                #ds_new=ds_raw_new, \n",
    "                                                #out_nc=out_raw_nc)\n",
    "\n",
    "            # extract dataset attribute information\n",
    "            data_attrs = ds_raw.attrs\n",
    "            band_attrs = ds_raw[list(ds_raw.data_vars)[0]].attrs\n",
    "            sref_attrs = ds_raw['spatial_ref'].attrs\n",
    "\n",
    "            # check if any new data found, if not, move on\n",
    "            if ds_raw_exist is not None:\n",
    "                new_dts, exist_dts = ds_raw['time'], ds_raw_exist['time']\n",
    "                if len(new_dts) != len(exist_dts):\n",
    "                    arcpy.AddMessage('Added {} images to raw cube.'.format(len(new_dts) - len(exist_dts)))\n",
    "                else:\n",
    "                    arcpy.AddMessage('No new raw images found, moving to next monitoring area.')\n",
    "                    continue\n",
    "                    #raise         # TEM TEMP SOLUTION FOR TESTING\n",
    "\n",
    "\n",
    "            # # # # #\n",
    "            # notify \n",
    "            #arcpy.AddMessage('Removing invalid pixels and empty dates.')\n",
    "\n",
    "            # remove dirty pixels with default parameters\n",
    "            #mask_band = arc.get_name_of_mask_band(list(ds_raw.data_vars))\n",
    "            #ds_raw = cog.remove_fmask_dates(ds=ds_raw, \n",
    "                                            #valid_class=[1, 4, 5],\n",
    "                                            #max_invalid=0,\n",
    "                                            #mask_band=mask_band, \n",
    "                                            #nodata_value=np.nan,\n",
    "                                            #drop_fmask=True)\n",
    "\n",
    "\n",
    "            # # # # #\n",
    "            # notify \n",
    "            #arcpy.AddMessage('Calculating vegetation index: {}.'.format(feat[4]))\n",
    "\n",
    "            # conform dea band names and calculate vege index\n",
    "            #ds_raw = satfetcher.conform_dea_ard_band_names(ds=ds_raw, platform=feat[1].lower()) \n",
    "            #ds_raw = tools.calculate_indices(ds=ds_raw, \n",
    "                                             #index=feat[4].lower(), \n",
    "                                             #custom_name='veg_idx', \n",
    "                                             #rescale=False, \n",
    "                                             #drop=True)\n",
    "\n",
    "            # check if dataset is all null\n",
    "            #if ds_raw.to_array().isnull().all():\n",
    "                #arcpy.AddError('NetCDF is completely null. Moving to next monitoring area.')            \n",
    "                #continue \n",
    "\n",
    "\n",
    "            # # # # #\n",
    "            # notify \n",
    "            #arcpy.AddMessage('Creating edge pixel mask.')\n",
    "\n",
    "            #try:\n",
    "                # covert arcpy geom to ogr layer for masking via gjson\n",
    "                #gjson = arc.convert_arcpy_geom_to_gjson(arcpy_geom=feat[-1])\n",
    "                #ogr_geom = ogr.Open(gjson, 0)\n",
    "                #lyr = ogr_geom.GetLayer()\n",
    "\n",
    "                # generate and apply mask\n",
    "                #mask = nrt.mask_xr_via_polygon(ds=ds_raw, geom=lyr, mask_value=1)\n",
    "                #ds_raw = ds_raw.where(mask)\n",
    "            #except:\n",
    "                #arcpy.AddWarning('Could not mask edges of cube. Proceeding without mask.')\n",
    "            \n",
    "            \n",
    "            # # # # #\n",
    "            # notify \n",
    "            arcpy.AddMessage('Applying change detection algorithms.')\n",
    "\n",
    "            # prepare expected cube folder, safe load cube, perform ewmacd\n",
    "            try:\n",
    "                out_chg_nc = os.path.join(in_data_path, 'cube' + '_' + feat[0] + '_' + 'change.nc')\n",
    "                ds_chg_exist = nrt.safe_load_nc(in_path=out_chg_nc)\n",
    "                ds_chg_new = nrt.build_change_cube(ds=ds_raw, \n",
    "                                                   training_start_year=feat[2],\n",
    "                                                   training_end_year=feat[3],\n",
    "                                                   persistence_per_year=feat[5],\n",
    "                                                   add_extra_vars=True) # add zone, cands, etc.\n",
    "            except Exception as e:\n",
    "                arcpy.AddWarning('Issue during change model. Proceeding to next area.')\n",
    "                arcpy.AddWarning(e)\n",
    "                continue\n",
    "\n",
    "\n",
    "            # # # # #\n",
    "            # notify \n",
    "            arcpy.AddMessage('Syncing change detection cube with existing.')\n",
    "\n",
    "            # create new change netcdf if none exist, else combine existing with new\n",
    "            ds_chg = nrt.sync_new_and_old_cubes(ds_exist=ds_chg_exist, \n",
    "                                                ds_new=ds_chg_new, \n",
    "                                                out_nc=out_chg_nc)\n",
    "\n",
    "            # append attrbutes on to dataset and bands\n",
    "            ds_chg.attrs = data_attrs\n",
    "            ds_chg['spatial_ref'].attrs = sref_attrs\n",
    "            for var in list(ds_chg.data_vars):\n",
    "                ds_chg[var].attrs = band_attrs\n",
    "\n",
    "            # check if any new data found, if not, move on\n",
    "            if ds_chg_exist is not None:\n",
    "                new_dts, exist_dts = ds_chg['time'], ds_chg_exist['time']\n",
    "                if len(new_dts) != len(exist_dts):\n",
    "                    arcpy.AddMessage('Added {} images to change cube.'.format(len(new_dts) - len(exist_dts)))\n",
    "                else:\n",
    "                    arcpy.AddMessage('No new change images found, moving to next monitoring area.')\n",
    "                    continue # raise\n",
    "\n",
    "\n",
    "            # # # # #\n",
    "            # notify \n",
    "            arcpy.AddMessage('Smoothing change detection result.')\n",
    "\n",
    "            # convert to 1d array (mean is safe) and smooth \n",
    "            vec_chg = np.array(ds_chg['static'].mean(['x', 'y']))\n",
    "            vec_chg_smooth = nrt.smooth_change(arr=vec_chg) \n",
    "\n",
    "            # get combined rules for inclines\n",
    "            vec_cnd_inc = nrt.get_candidates(vec=vec_chg_smooth,\n",
    "                                             direction='incline',  \n",
    "                                             min_consequtives=3, \n",
    "                                             max_consequtives=None, \n",
    "                                             inc_plateaus=False, \n",
    "                                             min_stdv=1, \n",
    "                                             num_zones=1, \n",
    "                                             bidirectional=False,\n",
    "                                             ruleset='1&2|3',\n",
    "                                             binarise=True)\n",
    "\n",
    "            # get combined rules for declines\n",
    "            vec_cnd_dec = nrt.get_candidates(vec=vec_chg_smooth,\n",
    "                                             direction='decline',\n",
    "                                             min_consequtives=3, \n",
    "                                             max_consequtives=None, \n",
    "                                             inc_plateaus=False, \n",
    "                                             min_stdv=1, \n",
    "                                             num_zones=1, \n",
    "                                             bidirectional=False,\n",
    "                                             ruleset='1&2|3',\n",
    "                                             binarise=True)\n",
    "\n",
    "\n",
    "            # maybe put this into stand alone func?\n",
    "            # # #\n",
    "\n",
    "            # get zones from smoothed signal, then consequtives for inc, dec candidates\n",
    "            vec_chg_zones = nrt.reclassify_signal_to_zones(arr=vec_chg_smooth)\n",
    "            vec_cnq_inc = nrt.count_runs(vec_cnd_inc, vector_value=1)\n",
    "            vec_cnq_dec = nrt.count_runs(vec_cnd_dec, vector_value=1)\n",
    "\n",
    "            # loop each vector element and update in change dataset\n",
    "            for i, dt in enumerate(ds_chg['time']):\n",
    "                ds_chg['zones'].loc[{'time': dt}] = vec_chg_zones[i]\n",
    "                ds_chg['cands_inc'].loc[{'time': dt}] = vec_cnd_inc[i]\n",
    "                ds_chg['cands_dec'].loc[{'time': dt}] = vec_cnd_dec[i]\n",
    "                ds_chg['consq_inc'].loc[{'time': dt}] = vec_cnq_inc[i]\n",
    "                ds_chg['consq_dec'].loc[{'time': dt}] = vec_cnq_dec[i]\n",
    "\n",
    "            # append attrbutes on to dataset and bands\n",
    "            ds_chg.attrs = data_attrs\n",
    "            ds_chg['spatial_ref'].attrs = sref_attrs\n",
    "            for var in list(ds_chg.data_vars):\n",
    "                ds_chg[var].attrs = band_attrs\n",
    "\n",
    "\n",
    "            # # # # #\n",
    "            # notify \n",
    "            #arcpy.AddMessage('Syncing change detection cube with existing.')\n",
    "\n",
    "            # update recently created change cube with new change info\n",
    "            ds_chg = nrt.sync_new_and_old_cubes(ds_exist=None, \n",
    "                                                ds_new=ds_chg, \n",
    "                                                out_nc=out_chg_nc)\n",
    "\n",
    "\n",
    "            # # # # #\n",
    "            # notify \n",
    "            #arcpy.AddMessage('Preparing and sending alerts.')\n",
    "\n",
    "            # get (second) latest date and alert if needed. TODO DO MIN CONEQ PROPERLY\n",
    "            nrt.prepare_and_send_alert(ds=ds_chg, back_idx=-2)\n",
    "\n",
    "            # temp\n",
    "            fig = plt.figure(figsize=[18, 5])\n",
    "            plt.plot(ds_chg['time'], ds_chg['veg_idx'].mean(['x', 'y']), marker='o', color='green')\n",
    "            plt.show()\n",
    "\n",
    "            # temp\n",
    "            fig = plt.figure(figsize=[18, 5])\n",
    "            plt.plot(ds_chg['time'], vec_chg_smooth, marker='o')\n",
    "            plt.plot(ds_chg['time'], np.where(vec_cnd_inc == 1, vec_chg_smooth, np.nan), marker='o', color='blue')\n",
    "            plt.plot(ds_chg['time'], np.where(vec_cnd_dec == 1, vec_chg_smooth, np.nan), marker='o', color='red')\n",
    "            plt.show()\n",
    "\n",
    "            #raise\n",
    "            continue\n",
    "        \n",
    "        \n",
    "        # when we are done here, we can now start to just count down time\n",
    "        # import arcgisscripting\n",
    "        # https://gis.stackexchange.com/questions/172598/forcing-python-toolbox-tool-to-break-loop-and-do-cleanup-when-user-clicks-cancel\n",
    "        #try:\n",
    "            #arcpy.AddMessage('Going dormant and waiting 12 hours... timestamp is...')\n",
    "        \n",
    "            # for sec in range(secs):\n",
    "                #time.sleep(0.1)  \n",
    "        #except:\n",
    "            #arcpy.AddMessage('canceled by user, please wait...')\n",
    "            #if continue_monitoring == True:\n",
    "                #continue_monitoring = False  # send back out\n",
    "            #else: \n",
    "                #continue_monitoring = False\n",
    "            \n",
    "        \n",
    "        raise"
   ]
  },
  {
   "cell_type": "code",
   "execution_count": null,
   "metadata": {
    "scrolled": false
   },
   "outputs": [],
   "source": [
    "# TESTING !!!!!!!!!!!!!!!!\n",
    "dts = np.arange(np.datetime64('2021-12-31'), np.datetime64('2022-12-31'), dtype='datetime64[M]')\n",
    "dts = [dt.strftime('%Y-%m-%d') for dt in dts.astype(datetime)]\n",
    "\n",
    "# just force 1 for now\n",
    "dts = ['2021-12-31']\n",
    "    \n",
    "for dt in dts:\n",
    "    try:\n",
    "        print(dt)\n",
    "        test(e_year=dt)\n",
    "    except:\n",
    "        #continue\n",
    "        raise"
   ]
  },
  {
   "cell_type": "markdown",
   "metadata": {
    "heading_collapsed": true
   },
   "source": [
    "### Visualise"
   ]
  },
  {
   "cell_type": "code",
   "execution_count": 28,
   "metadata": {
    "hidden": true
   },
   "outputs": [
    {
     "data": {
      "text/html": [
       "<h2>Output</h2>C:\\Users\\Lewis\\Desktop\\crf\\chg_latest.crf<h2>Messages</h2>Start Time: Tuesday, 22 March 2022 3:13:28 PM<br/>Building Pyramids...<br/>Succeeded at Tuesday, 22 March 2022 3:13:28 PM (Elapsed Time: 0.10 seconds)<br/><style>.rendered_html td, .rendered_html th {text-align: left;}.rendered_html tbody {border: 1px solid black;}</style>"
      ],
      "text/plain": [
       "<Result 'C:\\\\Users\\\\Lewis\\\\Desktop\\\\crf\\\\chg_latest.crf'>"
      ]
     },
     "execution_count": 28,
     "metadata": {},
     "output_type": "execute_result"
    }
   ],
   "source": [
    "arcpy.env.addOutputsToMap = True\n",
    "\n",
    "# this is the method suggested by esri\n",
    "arcpy.CopyRaster_management(in_raster=in_nc,\n",
    "                            out_rasterdataset=r'C:\\Users\\Lewis\\Desktop\\crf\\chg.crf',\n",
    "                            format='CRF',\n",
    "                            process_as_multidimensional='ALL_SLICES',\n",
    "                            #build_multidimensional_transpose='TRANSPOSE'\n",
    "                           )\n",
    "\n",
    "#arcpy.env.addOutputsToMap = True\n",
    "\n",
    "# get latest  vars except static?\n",
    "arcpy.md.SubsetMultidimensionalRaster(\"chg.crf\", \n",
    "                                      r\"C:\\Users\\Lewis\\Desktop\\crf\\chg_latest.crf\", \n",
    "                                      \"static\", \n",
    "                                      \"BY_VALUE\", \n",
    "                                      None, \n",
    "                                      \"StdTime 2020-09-16T01:57:08\", \n",
    "                                      '', \n",
    "                                      '', \n",
    "                                      '', \n",
    "                                      None, \n",
    "                                      '')\n",
    "\n",
    "# build multi dim info tool?\n",
    "\n",
    "# now add manually to map\n",
    "# stats colors seem good?\n"
   ]
  },
  {
   "cell_type": "code",
   "execution_count": 18,
   "metadata": {
    "hidden": true
   },
   "outputs": [
    {
     "ename": "ExecuteError",
     "evalue": "Failed to execute. Parameters are not valid.\nERROR 003127: Invalid target multidimensional raster. The target raster should be a multidimensional CRF.\nFailed to execute (ManageMultidimensionalRaster).\n",
     "output_type": "error",
     "traceback": [
      "\u001b[0;31m---------------------------------------------------------------------------\u001b[0m\n\u001b[0;31mExecuteError\u001b[0m                              Traceback (most recent call last)",
      "In  \u001b[0;34m[18]\u001b[0m:\nLine \u001b[0;34m23\u001b[0m:    update_transpose=\u001b[33m'\u001b[39;49;00m\u001b[33mUPDATE_TRANSPOSE\u001b[39;49;00m\u001b[33m'\u001b[39;49;00m)\n",
      "File \u001b[0;34mC:\\Program Files\\ArcGIS\\Pro\\Resources\\ArcPy\\arcpy\\md.py\u001b[0m, in \u001b[0;32mManageMultidimensionalRaster\u001b[0m:\nLine \u001b[0;34m352\u001b[0m:   \u001b[34mraise\u001b[39;49;00m e\n",
      "File \u001b[0;34mC:\\Program Files\\ArcGIS\\Pro\\Resources\\ArcPy\\arcpy\\md.py\u001b[0m, in \u001b[0;32mManageMultidimensionalRaster\u001b[0m:\nLine \u001b[0;34m349\u001b[0m:   retval = convertArcObjectToPythonObject(gp.ManageMultidimensionalRaster_md(*gp_fixargs((target_multidimensional_raster, manage_mode, variables, in_multidimensional_rasters, dimension_name, dimension_value, dimension_description, dimension_unit, update_statistics, update_transpose), \u001b[34mTrue\u001b[39;49;00m)))\n",
      "File \u001b[0;34mC:\\Program Files\\ArcGIS\\Pro\\Resources\\ArcPy\\arcpy\\geoprocessing\\_base.py\u001b[0m, in \u001b[0;32m<lambda>\u001b[0m:\nLine \u001b[0;34m512\u001b[0m:   \u001b[34mreturn\u001b[39;49;00m \u001b[34mlambda\u001b[39;49;00m *args: val(*gp_fixargs(args, \u001b[34mTrue\u001b[39;49;00m))\n",
      "\u001b[0;31mExecuteError\u001b[0m: Failed to execute. Parameters are not valid.\nERROR 003127: Invalid target multidimensional raster. The target raster should be a multidimensional CRF.\nFailed to execute (ManageMultidimensionalRaster).\n\n\u001b[0;31m---------------------------------------------------------------------------\u001b[0m"
     ]
    }
   ],
   "source": [
    "arcpy.env.addOutputsToMap = True\n",
    "#remove_vars = ['dynamic', 'cands_inc', 'cands_dec', 'consq_inc', 'consq_dec']\n",
    "remove_vars = ['cands_inc', 'cands_dec', 'consq_inc', 'consq_dec']\n",
    "arcpy.md.ManageMultidimensionalRaster(target_multidimensional_raster=out_crf, \n",
    "                                      manage_mode='DELETE_VARIABLES', \n",
    "                                      variables=remove_vars, \n",
    "                                      #in_multidimensional_rasters, \n",
    "                                      #dimension_name, \n",
    "                                      #dimension_value}, \n",
    "                                      #dimension_description}, \n",
    "                                      #dimension_unit}, \n",
    "                                      update_statistics='UPDATE_STATISTICS', \n",
    "                                      update_transpose='UPDATE_TRANSPOSE')"
   ]
  },
  {
   "cell_type": "code",
   "execution_count": 6,
   "metadata": {
    "hidden": true
   },
   "outputs": [
    {
     "name": "stdout",
     "output_type": "stream",
     "text": [
      "(5, (-1227473.0000970964, -2571262.7041066354), 352.99807922276, 6945.531965371438, 'A01', 'Landsat', 2000, 2005, 'MAVI', 0.5, 2, 'No', 1, 'No', 1, '1 and 2 or 3', 'No', 'Both', None, 'No', 0, 'c29159f5a3104476b80816479d6eaf09')\n",
      "(6, (-1227870.703210408, -2572249.817429371), 463.828871206431, 12453.129203758936, 'A02', 'Landsat', 2000, 2005, 'MAVI', 0.5, 2, 'No', 1, 'No', 1, '1 and 2 or 3', 'No', 'Both', None, 'No', 0, '935e4844e9e34490a5cd866cc49aa00c')\n"
     ]
    }
   ],
   "source": [
    "# apply matplotlib to selected poly\n",
    "p = arcpy.mp.ArcGISProject('CURRENT')\n",
    "m = p.activeMap\n",
    "\n",
    "layer = m.listLayers('monitoring_areas')[0]\n",
    "\n",
    "with arcpy.da.SearchCursor(layer, field_names=['*']) as cursor:\n",
    "    for row in cursor:\n",
    "        print(row)"
   ]
  },
  {
   "cell_type": "code",
   "execution_count": 100,
   "metadata": {
    "hidden": true
   },
   "outputs": [
    {
     "name": "stdout",
     "output_type": "stream",
     "text": [
      "one poly selected\n"
     ]
    }
   ],
   "source": [
    "# apply matplotlib to selected poly\n",
    "p = arcpy.mp.ArcGISProject('CURRENT')\n",
    "m = p.activeMap\n",
    "\n",
    "try:\n",
    "    layer = m.listLayers('monitoring_areas')[0]\n",
    "    if layer is not None:\n",
    "        \n",
    "        # get folders and cubes\n",
    "        in_name = os.path.basename(layer.dataSource)     # name of monitor fc\n",
    "        in_gdb = os.path.dirname(layer.dataSource)                # path of gdb\n",
    "\n",
    "        # check gdv extension\n",
    "        if in_gdb.endswith('.gdb'):\n",
    "            in_path = os.path.splitext(in_gdb)[0]   # path of gdb without ext\n",
    "            in_data_path = in_path + '_' + 'cubes'  # associated cube data folder\n",
    "            in_graph_path = in_path + '_' + 'graphs'\n",
    "            in_chg_cube_path = os.path.join(in_data_path, 'cube' + '_' + row[0] + '_' + 'change' + '.nc')\n",
    "        \n",
    "            # get currently selected records\n",
    "            sel = layer.getSelectionSet()\n",
    "\n",
    "            if sel is not None and len(sel) == 1:\n",
    "                print('one poly selected')\n",
    "                with arcpy.da.SearchCursor(layer.name, field_names=['area_id']) as cursor:\n",
    "                    row = cursor.next()\n",
    "                    area_id = row[0]\n",
    "\n",
    "                    if area_id is not None:\n",
    "                        if os.path.exists(in_chg_cube_path):\n",
    "                            ds_chg = nrt.safe_load_nc(in_chg_cube_path)\n",
    "                            ds_chg = ds_chg.mean(['x', 'y'])\n",
    "                            dts = ds_chg['time'].dt.strftime('%Y-%m-%d').values\n",
    "                            veg_vals = ds_chg['veg_idx'].values\n",
    "                            chg_vals = ds_chg['static'].values\n",
    "                            zne_vals = ds_chg['zones'].values\n",
    "                            \n",
    "                            fig = plt.figure(figsize=[20, 8])\n",
    "                            plt.plot(dts, veg_vals, color='green')\n",
    "                            plt.xticks(dts[::4], rotation=90)\n",
    "\n",
    "                            out_svg = os.path.join(in_graph_path, 'graph_veg_{}.svg'.format(area_id))\n",
    "                            plt.savefig(out_svg)\n",
    "                            \n",
    "                            \n",
    "\n",
    "            else:\n",
    "                print('multi poly selected')\n",
    "                \n",
    "        else:\n",
    "            print('not in a gdb')\n",
    "            \n",
    "except:\n",
    "    print('No monitoring areas layer in table of contents.')\n",
    "    \n"
   ]
  },
  {
   "cell_type": "code",
   "execution_count": null,
   "metadata": {
    "hidden": true
   },
   "outputs": [],
   "source": []
  },
  {
   "cell_type": "code",
   "execution_count": 41,
   "metadata": {
    "hidden": true
   },
   "outputs": [],
   "source": [
    "# apply symbology to monitoring areas layer\n",
    "\n",
    "p = arcpy.mp.ArcGISProject('CURRENT')\n",
    "m = p.activeMap\n",
    "\n",
    "layers = m.listLayers()\n",
    "for layer in layers:\n",
    "    if layer.name == 'testing': # temp name\n",
    "\n",
    "        # apply layer symbology to monitoring areas\n",
    "        lyr = arcpy.management.ApplySymbologyFromLayer(layer.name, \n",
    "                                                       r\"C:\\Users\\Lewis\\Documents\\GitHub\\tenement-tools\\arc\\lyr\\monitoring_zones_template.lyrx\", \n",
    "                                                       \"VALUE_FIELD Zone Zone\", \n",
    "                                                       \"DEFAULT\")\n",
    "\n"
   ]
  },
  {
   "cell_type": "code",
   "execution_count": null,
   "metadata": {
    "hidden": true
   },
   "outputs": [],
   "source": []
  },
  {
   "cell_type": "code",
   "execution_count": null,
   "metadata": {
    "hidden": true
   },
   "outputs": [],
   "source": []
  },
  {
   "cell_type": "code",
   "execution_count": null,
   "metadata": {
    "hidden": true
   },
   "outputs": [],
   "source": []
  },
  {
   "cell_type": "code",
   "execution_count": null,
   "metadata": {
    "hidden": true
   },
   "outputs": [],
   "source": []
  },
  {
   "cell_type": "markdown",
   "metadata": {},
   "source": [
    "### Final EWMACD Method"
   ]
  },
  {
   "cell_type": "code",
   "execution_count": 57,
   "metadata": {},
   "outputs": [],
   "source": [
    "# set gdal global environ\n",
    "import os\n",
    "os.environ['GDAL_DISABLE_READDIR_ON_OPEN'] = 'EMPTY_DIR'\n",
    "os.environ['CPL_VSIL_CURL_ALLOWED_EXTENSIONS '] = 'tif'\n",
    "os.environ['VSI_CACHE '] = 'TRUE'\n",
    "os.environ['GDAL_HTTP_MULTIRANGE '] = 'YES'\n",
    "os.environ['GDAL_HTTP_MERGE_CONSECUTIVE_RANGES '] = 'YES'\n",
    "\n",
    "# also set rasterio env variables\n",
    "rasterio_env = {\n",
    "    'GDAL_DISABLE_READDIR_ON_OPEN': 'EMPTY_DIR',\n",
    "    'CPL_VSIL_CURL_ALLOWED_EXTENSIONS':'tif',\n",
    "    'VSI_CACHE': True,\n",
    "    'GDAL_HTTP_MULTIRANGE': 'YES',\n",
    "    'GDAL_HTTP_MERGE_CONSECUTIVE_RANGES': 'YES'\n",
    "}\n",
    "\n",
    "# safe imports\n",
    "import sys                      # arcgis comes with these\n",
    "import shutil                   # arcgis comes with these\n",
    "import datetime                 # arcgis comes with these\n",
    "import numpy as np              # arcgis comes with these\n",
    "import arcpy                    # arcgis comes with these\n",
    "import tempfile                 # arcgis comes with these\n",
    "from datetime import datetime   # arcgis comes with these\n",
    "\n",
    "# risky imports (not native to arcgis)\n",
    "try:\n",
    "    import xarray as xr\n",
    "    import dask\n",
    "    import rasterio\n",
    "    import pystac_client\n",
    "    import osr\n",
    "    import json\n",
    "    from odc import stac\n",
    "    from osgeo import gdal\n",
    "    from osgeo import ogr\n",
    "    from osgeo import osr\n",
    "except:\n",
    "    arcpy.AddError('Python libraries xarray, dask, rasterio, pystac, or odc not installed.')\n",
    "    raise # return\n",
    "\n",
    "# import tools\n",
    "try:\n",
    "    # shared folder\n",
    "    sys.path.append(FOLDER_SHARED)\n",
    "    import arc, satfetcher, tools\n",
    "\n",
    "    # module folder\n",
    "    sys.path.append(FOLDER_MODULES)\n",
    "    import nrt, cog_odc, cog\n",
    "except:\n",
    "    arcpy.AddError('Could not find tenement tools python scripts (modules, shared).')\n",
    "    raise\n",
    "    \n",
    "# disable future warnings\n",
    "import warnings\n",
    "warnings.simplefilter(action='ignore', category=FutureWarning)\n",
    "warnings.simplefilter(action='ignore', category=RuntimeWarning)\n",
    "warnings.simplefilter(action='ignore', category=UserWarning)\n",
    "warnings.simplefilter(action='ignore', category=dask.array.core.PerformanceWarning)\n",
    "    \n",
    "# grab parameter values \n",
    "in_feat = r\"C:\\Users\\Lewis\\Desktop\\nrt_projects\\ophthalmia\\monitoring_areas.gdb\\monitoring_areas\"\n",
    "in_ongoing = False\n",
    "in_time_interval = 24\n",
    "#in_email_from = parameters[3].value                # email from \n",
    "#in_smtp_server = parameters[4].value               # email smtp server \n",
    "#in_smtp_port = parameters[5].value                 # email smtp port \n",
    "#in_smtp_username = parameters[6].value             # email smtp username \n",
    "#in_smtp_password = parameters[7].value             # email smtp password \n",
    "\n",
    "\n",
    "# # # # #\n",
    "# notify user and set up progress bar\n",
    "#arcpy.AddMessage('Beginning NRT Monitoring of areas.')\n",
    "#arcpy.SetProgressor(type='step', \n",
    "                    #message='Preparing parameters...',\n",
    "                    #min_range=0, max_range=20)\n",
    "        \n",
    "# set up initial continous monitoring var\n",
    "continue_monitoring = True\n",
    "\n",
    "# check if time interval is > 0\n",
    "#in_time_interval = in_time_interval * 60 * 60\n",
    "#if in_time_interval <= 0:\n",
    "    #arcpy.AddError('Time interval must be above 0 hours.')\n",
    "    #raise\n",
    "\n",
    "\n",
    "# # # # #\n",
    "# notify and increment progress bar\n",
    "#arcpy.SetProgressorLabel('Preparing parameters...')\n",
    "#arcpy.SetProgressorPosition(1)\n",
    "\n",
    "# get path to monitoring areas feature\n",
    "feat_desc = arcpy.Describe(in_feat)\n",
    "in_feat = os.path.join(feat_desc.path, feat_desc.name)\n",
    "\n",
    "\n",
    "# # # # #\n",
    "# notify and increment progress bar\n",
    "#arcpy.SetProgressorLabel('Validating monitoring areas...')\n",
    "#arcpy.SetProgressorPosition(2)\n",
    "\n",
    "# validate monitoring area feature class\n",
    "if not nrt.validate_monitoring_areas(in_feat):\n",
    "    arcpy.AddError('Monitoring areas feature is invalid.')\n",
    "    raise # return\n",
    "\n",
    "    \n",
    "# # # # #\n",
    "# notify and increment progress bar\n",
    "#arcpy.SetProgressorLabel('Loading monitoring area json data...')\n",
    "#arcpy.SetProgressorPosition(2)\n",
    "    \n",
    "# prepare path to expected json file\n",
    "in_path = os.path.dirname(in_feat)\n",
    "in_path = os.path.splitext(in_path)[0]\n",
    "in_path = os.path.dirname(in_path)\n",
    "#in_data_path = os.path.join(in_path, 'data.json')\n",
    "    \n",
    "    \n",
    "# # # # #\n",
    "# notify and increment progress bar\n",
    "#arcpy.SetProgressorLabel('Loading monitoring area features...')\n",
    "#arcpy.SetProgressorPosition(2)\n",
    "\n",
    "# set required fields\n",
    "fields = ['area_id', 'platform', 's_year', 'e_year', 'index', 'persistence', \n",
    "          'rule_1_min_conseqs', 'rule_1_inc_plateaus', 'rule_2_min_stdv', \n",
    "          'rule_2_bidirectional', 'rule_3_num_zones', 'ruleset', 'alert', \n",
    "          'alert_direction', 'email', 'ignore', 'color', 'global_id', 'SHAPE@']\n",
    "\n",
    "# get feature count and data\n",
    "try:\n",
    "    #feats = arcpy.da.SearchCursor(in_feat, fields)\n",
    "    feats = []\n",
    "    with arcpy.da.SearchCursor(in_feat, fields) as cursor:\n",
    "        for row in cursor:\n",
    "            feats.append(row)\n",
    "except:\n",
    "    arcpy.AddError('Could not open monitoring areas feature.')\n",
    "    raise # return"
   ]
  },
  {
   "cell_type": "code",
   "execution_count": 66,
   "metadata": {},
   "outputs": [
    {
     "name": "stdout",
     "output_type": "stream",
     "text": [
      "File does not exist: C:\\Users\\Lewis\\Desktop\\nrt_projects\\ophthalmia\\c29159f5a3104476b80816479d6eaf09.nc, returning None.\n",
      "Obtaining all satellite data for monitoring area.\n",
      "Beginning STAC search for items. This can take awhile.\n",
      "Searching collection: ga_ls5t_ard_3\n",
      "Searching collection: ga_ls7e_ard_3\n",
      "Excluding SLC-off times.\n",
      "Searching collection: ga_ls8c_ard_3\n",
      "Searching collection: ga_ls8c_ard_provisional_3\n",
      "A total of 707 scenes were found.\n",
      "Replacing url prefix: s3://dea-public-data with https://data.dea.ga.gov.au\n",
      "Converting raw STAC data into xarray dataset via odc-stac.\n",
      "Created xarray dataset via odc-stac successfully.\n",
      "Removing dates where too many invalid pixels.\n",
      "Mask band is currently dask. Computing, please wait.\n",
      "Filling invalid pixels with requested nodata value.\n",
      "Dropping mask band.\n",
      "Removed invalid images successfully.\n",
      "Conforming DEA ARD satellite band names.\n",
      "Satellite band names conformed successfully.\n",
      "Calculating indices: mavi.\n",
      "Calculating index: mavi\n",
      "Renamed default indices.\n",
      "Calculated indices successfully.\n",
      "Old dataset is empty, returning new.\n",
      "Removing spike outliers.\n",
      "Spike removal completed successfully.\n",
      "Beginning change detection (static).\n"
     ]
    },
    {
     "ename": "RuntimeError",
     "evalue": "No active exception to reraise",
     "output_type": "error",
     "traceback": [
      "\u001b[0;31m---------------------------------------------------------------------------\u001b[0m\n\u001b[0;31mRuntimeError\u001b[0m                              Traceback (most recent call last)",
      "In  \u001b[0;34m[66]\u001b[0m:\nLine \u001b[0;34m187\u001b[0m:   \u001b[34mraise\u001b[39;49;00m\n",
      "\u001b[0;31mRuntimeError\u001b[0m: No active exception to reraise\n\u001b[0;31m---------------------------------------------------------------------------\u001b[0m"
     ]
    }
   ],
   "source": [
    "# # # # #\n",
    "# notify and set progress bar to defaukt\n",
    "#arcpy.SetProgressor(type='default', \n",
    "                    #message='Iterating through monitoring areas...')\n",
    "\n",
    "# begin monitoring process iteration\n",
    "while continue_monitoring:\n",
    "    for feat in feats:\n",
    "        \n",
    "        # # # # #\n",
    "        # notify and set progress bar to defaukt\n",
    "        arcpy.AddMessage('Setting up monitoring for area: {}...'.format(feat[0]))\n",
    "\n",
    "        # check if current feat is valid\n",
    "        if not nrt.validate_monitoring_area(feat):\n",
    "            arcpy.AddWarning('Monitoring area is invalid, skipping.'.format(feat[0]))\n",
    "            raise #continue\n",
    "\n",
    "            \n",
    "            \n",
    "        # # # # #\n",
    "        # notify \n",
    "        arcpy.AddMessage('Fetching new and existing satellite data for monitoring area.')     \n",
    "        \n",
    "        # get old dataset if exists, else return none\n",
    "        in_cube_path = os.path.join(in_path, feat[-2] + '.nc')\n",
    "        ds_old = nrt.safe_load_nc(in_cube_path)\n",
    "        \n",
    "        try:\n",
    "            # get satellite parameters, bbox from geometry, then lazy load\n",
    "            params = nrt.get_satellite_params(platform=feat[1])\n",
    "            bbox = arc.get_bbox_from_geom(in_geom=feat[-1])\n",
    "            ds_new = nrt.fetch_cube_data(collections=params.get('collections'), \n",
    "                                         bands=params.get('bands'), \n",
    "                                         start_dt='1980-01-01', \n",
    "                                         #end_dt='2050-12-31',  use this when happy \n",
    "                                         end_dt='2005-12-31',\n",
    "                                         bbox=bbox, \n",
    "                                         resolution=10, \n",
    "                                         ds_existing=None)\n",
    "\n",
    "        except:\n",
    "            arcpy.AddWarning('Could not obtain latest satellite data, skipping area.')\n",
    "            raise # continue\n",
    "            \n",
    "\n",
    "            \n",
    "        # # # # #\n",
    "        # notify \n",
    "        arcpy.AddMessage('Reducing satellite data down to only new images.')\n",
    "        \n",
    "        # get latest dates from new xr, if no new, sets to none\n",
    "        if ds_old is not None:\n",
    "            ds_new = nrt.extract_new_xr_dates(ds_old, ds_new)\n",
    "        \n",
    "        # do quick check if new times were returned\n",
    "        if ds_new is None:\n",
    "            arcpy.AddMessage('No new satellite images found, moving to next area.')\n",
    "            continue\n",
    "        else:\n",
    "            arcpy.AddMessage('New satellite images found: {}.'.format(len(ds_new['time'])))\n",
    "        \n",
    "\n",
    "        \n",
    "        # # # # #\n",
    "        # notify \n",
    "        arcpy.AddMessage('Cleaning satellite data and calculating vegetation.')\n",
    "            \n",
    "        # group duplicate times if exist and rechunk\n",
    "        ds = satfetcher.group_dupe_times(ds_new)\n",
    "        \n",
    "        # remove invalid pixels       \n",
    "        mask_band = arc.get_name_of_mask_band(list(ds_new))\n",
    "        ds_new = cog.remove_fmask_dates(ds=ds_new, \n",
    "                                        valid_class=[1, 4, 5],   # valid, water, snow\n",
    "                                        max_invalid=0,           # 0% cloud\n",
    "                                        mask_band=mask_band, \n",
    "                                        nodata_value=np.nan,\n",
    "                                        drop_fmask=True)     \n",
    "\n",
    "        # conform dea band names and calc vegetation index\n",
    "        ds_new = satfetcher.conform_dea_ard_band_names(ds=ds_new, platform=feat[1].lower()) \n",
    "        ds_new = tools.calculate_indices(ds=ds_new, \n",
    "                                         index=feat[4].lower(), \n",
    "                                         custom_name='veg_idx', \n",
    "                                         rescale=False, \n",
    "                                         drop=True)\n",
    "        \n",
    "        \n",
    "        \n",
    "        # # # # #\n",
    "        # notify \n",
    "        arcpy.AddMessage('Downloading satellite data - hold tight.')\n",
    "        \n",
    "        # safe load/download dataset and check output\n",
    "        ds_new = nrt.safe_load_ds(ds_new)\n",
    "        if ds_new is None or len(ds_new['time']) == 0 or ds_new.to_array().isnull().all():\n",
    "            arcpy.AddError('Satellite download returned no data, skipping area.')  \n",
    "            raise # continue\n",
    "\n",
    "            \n",
    "            \n",
    "        # # # # #\n",
    "        # notify \n",
    "        arcpy.AddMessage('Masking out edge pixels of monitoring area boundary.')\n",
    "\n",
    "        try:\n",
    "            # covert arcpy geom to ogr layer for masking via gjson\n",
    "            gjson = arc.convert_arcpy_geom_to_gjson(arcpy_geom=feat[-1])\n",
    "            ogr_geom = ogr.Open(gjson, 0)\n",
    "            lyr = ogr_geom.GetLayer()\n",
    "\n",
    "            # generate and apply mask\n",
    "            mask = nrt.mask_xr_via_polygon(ds=ds_new, geom=lyr, mask_value=1)\n",
    "            ds_new = ds_new.where(mask)\n",
    "        except:\n",
    "            arcpy.AddWarning('Could not mask edges, proceeding without mask.')\n",
    "            raise #pass \n",
    "        \n",
    "        \n",
    "        \n",
    "        # # # # #\n",
    "        # notify \n",
    "        arcpy.AddMessage('Preparing old and new satellite data for analysis.')    \n",
    "        \n",
    "        # reduce data to temporal means, interp nans, add needed vars\n",
    "        ds_new = ds_new.sortby('time').mean(['x', 'y'])\n",
    "        ds_new = nrt.interp_nans(ds_new, drop_edge_nans=True)\n",
    "        ds_new = nrt.add_required_vars(ds_new)\n",
    "\n",
    "        # check if anything exists once again...\n",
    "        if ds_new is None or len(ds_new['time']) == 0 or ds_new.to_array().isnull().all():\n",
    "            arcpy.AddError('No satellite data exists after clean, skipping area.')  \n",
    "            raise # continue\n",
    "            \n",
    "        # combine old xr with new xr, also a temporary copy for working\n",
    "        ds_cmb = nrt.combine_old_new_xrs(ds_old, ds_new)       \n",
    "        ds_tmp = ds_cmb.copy(deep=True)\n",
    "        \n",
    "        # remove spikes, interp nan, smooth across all time for veg\n",
    "        # TODO MAKE OWN CLEANER FUNC?\n",
    "        ds_tmp['veg_clean'] = nrt.remove_spikes(ds_tmp['veg_idx'], user_factor=1, win_size=3)\n",
    "        ds_tmp['veg_clean'] = nrt.interp_nans(ds_tmp['veg_clean'], drop_edge_nans=False)\n",
    "        ds_tmp['veg_clean'] = nrt.smooth_signal(ds_tmp['veg_clean']) \n",
    "\n",
    "        \n",
    "        \n",
    "        # # # # #\n",
    "        # notify \n",
    "        arcpy.AddMessage('Performing change detection (static).')   \n",
    "        \n",
    "        try:  \n",
    "            # remove dates before training year\n",
    "            ds_tmp = ds_tmp.where(ds['time.year'] >= feat[2], drop=True)\n",
    "        \n",
    "            # perform change detection (add to current tmp xr)\n",
    "            ds_tmp = nrt.detect_change(ds=ds_tmp,\n",
    "                                       method='dynamic',\n",
    "                                       var='veg_clean', \n",
    "                                       train_start=feat[2], \n",
    "                                       train_end=feat[3], \n",
    "                                       persistence=2,\n",
    "                                       add_to_ds=True)\n",
    "            \n",
    "            # smooth change detection signal\n",
    "            ds_tmp['change_clean'] = nrt.smooth_signal(ds_tmp['change_raw']) \n",
    "            \n",
    "        except:\n",
    "            arcpy.AddError('Could not perform change detection, skipping to next area.')\n",
    "            raise # continue \n",
    "            \n",
    "                  \n",
    "        # candidates\n",
    "        #\n",
    "        \n",
    "        # consequtives\n",
    "        #\n",
    "        \n",
    "        # \n",
    "        \n",
    "        \n",
    "        \n",
    "        \n",
    "        # TEMP!\n",
    "        #ds_cmb.to_netcdf(in_cube_path)\n",
    "                \n",
    "        \n",
    "        raise\n",
    "        \n",
    "    #feats.reset()\n",
    "    raise"
   ]
  },
  {
   "cell_type": "code",
   "execution_count": 67,
   "metadata": {},
   "outputs": [
    {
     "data": {
      "image/png": "[encoded data removed]",
      "text/plain": [
       "<Figure size 1080x360 with 1 Axes>"
      ]
     },
     "metadata": {},
     "output_type": "display_data"
    },
    {
     "data": {
      "image/png": "[encoded data removed]",
      "text/plain": [
       "<Figure size 1080x360 with 1 Axes>"
      ]
     },
     "metadata": {},
     "output_type": "display_data"
    }
   ],
   "source": [
    "fig = plt.figure(figsize=[15, 5])\n",
    "ds_tmp['veg_idx'].plot()\n",
    "ds_tmp['veg_clean'].plot()\n",
    "plt.show()\n",
    "\n",
    "fig = plt.figure(figsize=[15, 5])\n",
    "ds_tmp['change_raw'].plot()\n",
    "ds_tmp['change_clean'].plot()\n",
    "plt.show()"
   ]
  },
  {
   "cell_type": "code",
   "execution_count": null,
   "metadata": {},
   "outputs": [],
   "source": []
  },
  {
   "cell_type": "code",
   "execution_count": null,
   "metadata": {},
   "outputs": [],
   "source": []
  },
  {
   "cell_type": "code",
   "execution_count": null,
   "metadata": {},
   "outputs": [],
   "source": []
  },
  {
   "cell_type": "code",
   "execution_count": null,
   "metadata": {},
   "outputs": [],
   "source": []
  },
  {
   "cell_type": "code",
   "execution_count": null,
   "metadata": {},
   "outputs": [],
   "source": []
  },
  {
   "cell_type": "code",
   "execution_count": null,
   "metadata": {},
   "outputs": [],
   "source": []
  },
  {
   "cell_type": "code",
   "execution_count": null,
   "metadata": {},
   "outputs": [],
   "source": []
  },
  {
   "cell_type": "code",
   "execution_count": null,
   "metadata": {},
   "outputs": [],
   "source": []
  },
  {
   "cell_type": "code",
   "execution_count": null,
   "metadata": {},
   "outputs": [],
   "source": []
  },
  {
   "cell_type": "code",
   "execution_count": null,
   "metadata": {},
   "outputs": [],
   "source": []
  },
  {
   "cell_type": "code",
   "execution_count": null,
   "metadata": {},
   "outputs": [],
   "source": []
  },
  {
   "cell_type": "code",
   "execution_count": null,
   "metadata": {},
   "outputs": [],
   "source": []
  },
  {
   "cell_type": "code",
   "execution_count": null,
   "metadata": {},
   "outputs": [],
   "source": []
  },
  {
   "cell_type": "code",
   "execution_count": null,
   "metadata": {},
   "outputs": [],
   "source": []
  },
  {
   "cell_type": "code",
   "execution_count": null,
   "metadata": {},
   "outputs": [],
   "source": []
  },
  {
   "cell_type": "code",
   "execution_count": null,
   "metadata": {},
   "outputs": [],
   "source": []
  },
  {
   "cell_type": "code",
   "execution_count": null,
   "metadata": {},
   "outputs": [],
   "source": []
  },
  {
   "cell_type": "code",
   "execution_count": null,
   "metadata": {},
   "outputs": [],
   "source": []
  },
  {
   "cell_type": "code",
   "execution_count": null,
   "metadata": {},
   "outputs": [],
   "source": []
  },
  {
   "cell_type": "code",
   "execution_count": null,
   "metadata": {
    "scrolled": false
   },
   "outputs": [],
   "source": []
  },
  {
   "cell_type": "code",
   "execution_count": null,
   "metadata": {},
   "outputs": [],
   "source": []
  },
  {
   "cell_type": "code",
   "execution_count": null,
   "metadata": {},
   "outputs": [],
   "source": []
  },
  {
   "cell_type": "code",
   "execution_count": null,
   "metadata": {},
   "outputs": [],
   "source": []
  },
  {
   "cell_type": "code",
   "execution_count": null,
   "metadata": {
    "scrolled": false
   },
   "outputs": [],
   "source": []
  },
  {
   "cell_type": "code",
   "execution_count": null,
   "metadata": {},
   "outputs": [],
   "source": []
  },
  {
   "cell_type": "code",
   "execution_count": null,
   "metadata": {},
   "outputs": [],
   "source": []
  },
  {
   "cell_type": "code",
   "execution_count": null,
   "metadata": {},
   "outputs": [],
   "source": []
  }
 ],
 "metadata": {
  "kernelspec": {
   "display_name": "ArcGISPro",
   "language": "Python",
   "name": "python3"
  },
  "language_info": {
   "file_extension": ".py",
   "name": "python",
   "version": "3"
  }
 },
 "nbformat": 4,
 "nbformat_minor": 2
}

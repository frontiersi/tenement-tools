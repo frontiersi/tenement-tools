{
 "cells": [
  {
   "cell_type": "code",
   "execution_count": 1,
   "metadata": {},
   "outputs": [],
   "source": [
    "import xarray as xr\n",
    "import arcpy\n",
    "from arcpy.sa import *\n",
    "import uuid\n",
    "\n",
    "in_cube = r\"C:\\Users\\Lewis\\Desktop\\test\\cube.nc\"\n",
    "\n",
    "ds = xr.open_dataset(in_cube)\n",
    "ds= ds.load()\n",
    "ds.close()\n",
    "\n",
    "ds =  (ds['nbart_nir'] - ds['nbart_red']) / (ds['nbart_nir'] + ds['nbart_red'])\n",
    "ds = ds.to_dataset(name='veg_idx')\n",
    "\n",
    "ds = xr.where(ds['veg_idx'] > 0.6, 1, 0)\n",
    "\n",
    "ds = ds.sum('time')\n",
    "\n",
    "df = ds.to_dataframe().to_records()\n",
    "\n",
    "arcpy.env.addOutputsToMap = False\n",
    "\n",
    "out_fc = 'temp'\n",
    "srs = arcpy.SpatialReference(3577)\n",
    "tmp_feat = arcpy.management.CreateFeatureclass(out_path='in_memory', \n",
    "                                               out_name=out_fc, \n",
    "                                               geometry_type='POINT', \n",
    "                                               spatial_reference=srs)\n",
    "\n",
    "arcpy.AddField_management(in_table=tmp_feat, \n",
    "                          field_name='samples', \n",
    "                          field_type='LONG')\n",
    "\n",
    "fields = ['samples', 'SHAPE@XY']\n",
    "with arcpy.da.InsertCursor(tmp_feat, fields) as cursor:\n",
    "    for point in df:\n",
    "        row = [point[3], (point[1], point[0])]\n",
    "        cursor.insertRow(row)\n",
    "        \n",
    "\n",
    "try:\n",
    "    if arcpy.CheckExtension('Spatial') == 'Available':\n",
    "        arcpy.CheckOutExtension('Spatial')\n",
    "        \n",
    "        arcpy.env.addOutputsToMap = True\n",
    "        kdense = KernelDensity(in_features=tmp_feat, \n",
    "                               population_field='samples', \n",
    "                               search_radius=30,\n",
    "                               area_unit_scale_factor='SQUARE_METERS')\n",
    "\n",
    "        arcpy.CheckInExtension('Spatial')\n",
    "        \n",
    "    else:\n",
    "        arcpy.AddError('Spatial Analyst extension could not be checked out.')\n",
    "        raise #return\n",
    "\n",
    "except:\n",
    "    arcpy.AddError('Could not generate kernel density.')\n",
    "    raise # return\n",
    "    "
   ]
  },
  {
   "cell_type": "code",
   "execution_count": 166,
   "metadata": {},
   "outputs": [],
   "source": []
  },
  {
   "cell_type": "code",
   "execution_count": null,
   "metadata": {},
   "outputs": [],
   "source": []
  },
  {
   "cell_type": "code",
   "execution_count": null,
   "metadata": {},
   "outputs": [],
   "source": []
  }
 ],
 "metadata": {
  "kernelspec": {
   "display_name": "ArcGISPro",
   "language": "Python",
   "name": "python3"
  },
  "language_info": {
   "file_extension": ".py",
   "name": "python",
   "version": "3"
  }
 },
 "nbformat": 4,
 "nbformat_minor": 2
}

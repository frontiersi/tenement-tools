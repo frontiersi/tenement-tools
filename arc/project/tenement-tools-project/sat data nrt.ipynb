{
 "cells": [
  {
   "cell_type": "markdown",
   "metadata": {},
   "source": [
    "## Imports"
   ]
  },
  {
   "cell_type": "code",
   "execution_count": 120,
   "metadata": {},
   "outputs": [],
   "source": [
    "%matplotlib inline\n",
    "\n",
    "import os\n",
    "import certifi\n",
    "import arcpy\n",
    "\n",
    "# set default gdal and ertifi envs (non-dev)\n",
    "try:\n",
    "    install_dir = arcpy.GetInstallInfo().get('InstallDir')  # get arcgis install dir\n",
    "    os.environ['GDAL_DATA'] = os.path.join(install_dir, 'Resources\\pedata\\gdaldata')  # join to gdal install\n",
    "    os.environ.setdefault(\"CURL_CA_BUNDLE\", certifi.where())  # set certifi\n",
    "except:\n",
    "    arcpy.AddError('Could not get install directory for ArcGIS Pro or set certifi.')\n",
    "    raise\n",
    "    \n",
    "# globals (dev)\n",
    "FOLDER_MODULES = r'C:\\Users\\Lewis\\Documents\\GitHub\\tenement-tools\\modules'  \n",
    "FOLDER_SHARED = r'C:\\Users\\Lewis\\Documents\\GitHub\\tenement-tools\\shared'\n",
    "GRP_LYR_FILE = r\"C:\\Users\\Lewis\\Documents\\GitHub\\tenement-tools\\arc\\lyr\\group_template.lyrx\"\n",
    "\n",
    "# set gdal global environ\n",
    "import os\n",
    "os.environ['GDAL_DISABLE_READDIR_ON_OPEN'] = 'EMPTY_DIR'\n",
    "os.environ['CPL_VSIL_CURL_ALLOWED_EXTENSIONS '] = 'tif'\n",
    "os.environ['VSI_CACHE '] = 'TRUE'\n",
    "os.environ['GDAL_HTTP_MULTIRANGE '] = 'YES'\n",
    "os.environ['GDAL_HTTP_MERGE_CONSECUTIVE_RANGES '] = 'YES'\n",
    "\n",
    "# also set rasterio env variables\n",
    "rasterio_env = {\n",
    "    'GDAL_DISABLE_READDIR_ON_OPEN': 'EMPTY_DIR',\n",
    "    'CPL_VSIL_CURL_ALLOWED_EXTENSIONS': 'tif',\n",
    "    'VSI_CACHE': True,\n",
    "    'GDAL_HTTP_MULTIRANGE': 'YES',\n",
    "    'GDAL_HTTP_MERGE_CONSECUTIVE_RANGES': 'YES'\n",
    "}\n",
    "\n",
    "# disable future warnings\n",
    "import warnings\n",
    "warnings.simplefilter(action='ignore', category=FutureWarning)\n",
    "\n",
    "# safe imports\n",
    "import sys                  # arcgis comes with these\n",
    "import datetime                 # arcgis comes with these\n",
    "import numpy as np              # arcgis comes with these\n",
    "import arcpy                    # arcgis comes with these\n",
    "import matplotlib.pyplot as plt\n",
    "from datetime import datetime   # arcgis comes with these\n",
    "\n",
    "# risky imports (not native to arcgis)\n",
    "try:\n",
    "    from osgeo import gdal\n",
    "    from osgeo import ogr\n",
    "    from osgeo import osr\n",
    "    import tempfile\n",
    "    import xarray as xr\n",
    "    import dask\n",
    "    import rasterio\n",
    "    import pystac_client\n",
    "    from odc import stac\n",
    "except:\n",
    "    arcpy.AddError('Python libraries xarray, dask, rasterio, pystac, or odc not installed.')\n",
    "    raise\n",
    "\n",
    "# import tools\n",
    "try:\n",
    "    # shared folder\n",
    "    sys.path.append(FOLDER_SHARED)\n",
    "    import arc, satfetcher, tools\n",
    "\n",
    "    # module folder\n",
    "    sys.path.append(FOLDER_MODULES)\n",
    "    import nrt, cog_odc, cog\n",
    "except:\n",
    "    arcpy.AddError('Could not find tenement tools python scripts (modules, shared).')\n",
    "    raise"
   ]
  },
  {
   "cell_type": "code",
   "execution_count": null,
   "metadata": {},
   "outputs": [],
   "source": []
  },
  {
   "cell_type": "code",
   "execution_count": null,
   "metadata": {},
   "outputs": [],
   "source": []
  },
  {
   "cell_type": "code",
   "execution_count": 73,
   "metadata": {
    "ExecuteTime": {
     "end_time": "2022-06-20T13:54:56.543676Z",
     "start_time": "2022-06-20T13:54:56.542015Z"
    }
   },
   "outputs": [],
   "source": [
    "import pyproj\n",
    "\n",
    "env_dir = Path(pyproj.__file__).parents[3]\n",
    "prj_dir = os.path.join(env_dir, 'Library', 'share', 'proj')\n",
    "pyproj.datadir.set_data_dir(prj_dir)"
   ]
  },
  {
   "cell_type": "code",
   "execution_count": 71,
   "metadata": {},
   "outputs": [
    {
     "data": {
      "text/plain": [
       "'C:\\\\Users\\\\Lewis\\\\AppData\\\\Local\\\\ESRI\\\\conda\\\\envs\\\\arcgispro-py3-dev-tool\\\\Library\\\\share\\\\proj'"
      ]
     },
     "execution_count": 71,
     "metadata": {},
     "output_type": "execute_result"
    }
   ],
   "source": [
    "prj_dir"
   ]
  },
  {
   "cell_type": "code",
   "execution_count": null,
   "metadata": {},
   "outputs": [],
   "source": []
  },
  {
   "cell_type": "code",
   "execution_count": null,
   "metadata": {},
   "outputs": [],
   "source": []
  },
  {
   "cell_type": "code",
   "execution_count": 58,
   "metadata": {},
   "outputs": [],
   "source": []
  },
  {
   "cell_type": "code",
   "execution_count": 59,
   "metadata": {},
   "outputs": [
    {
     "data": {
      "text/plain": [
       "'C:\\\\Users\\\\Lewis\\\\AppData\\\\Local\\\\ESRI\\\\conda\\\\envs\\\\arcgispro-py3-dev-tool'"
      ]
     },
     "execution_count": 59,
     "metadata": {},
     "output_type": "execute_result"
    }
   ],
   "source": [
    "env"
   ]
  },
  {
   "cell_type": "code",
   "execution_count": null,
   "metadata": {},
   "outputs": [],
   "source": []
  },
  {
   "cell_type": "code",
   "execution_count": 121,
   "metadata": {},
   "outputs": [
    {
     "data": {
      "text/plain": [
       "<module 'nrt' from 'C:\\\\Users\\\\Lewis\\\\Documents\\\\GitHub\\\\tenement-tools\\\\modules\\\\nrt.py'>"
      ]
     },
     "execution_count": 121,
     "metadata": {},
     "output_type": "execute_result"
    }
   ],
   "source": [
    "from importlib import reload\n",
    "reload(nrt)"
   ]
  },
  {
   "cell_type": "markdown",
   "metadata": {},
   "source": [
    "## Create monitoring project"
   ]
  },
  {
   "cell_type": "code",
   "execution_count": 2,
   "metadata": {},
   "outputs": [],
   "source": [
    "# user creates monitoring projects. includes gdb and folders for project structure"
   ]
  },
  {
   "cell_type": "markdown",
   "metadata": {},
   "source": [
    "## Create monitoring areas"
   ]
  },
  {
   "cell_type": "code",
   "execution_count": 3,
   "metadata": {},
   "outputs": [],
   "source": [
    "# user creates monitoring polygons and fills in info in each row of table"
   ]
  },
  {
   "cell_type": "markdown",
   "metadata": {},
   "source": [
    "### Provisional working"
   ]
  },
  {
   "cell_type": "code",
   "execution_count": 160,
   "metadata": {},
   "outputs": [
    {
     "name": "stdout",
     "output_type": "stream",
     "text": [
      "Syncing cube for monitoring area: C:\\Users\\Lewis\\Desktop\\nrt_projects\\ophthalmia_project_cubes\\cube_A01.nc\n",
      "Beginning STAC search for items. This can take awhile.\n",
      "Searching collection: ga_ls5t_ard_3\n",
      "Searching collection: ga_ls7e_ard_3\n",
      "Excluding SLC-off times.\n",
      "Searching collection: ga_ls8c_ard_3\n",
      "Searching collection: ga_ls8c_ard_provisional_3\n",
      "A total of 1195 scenes were found.\n",
      "Replacing url prefix: s3://dea-public-data with https://data.dea.ga.gov.au\n",
      "Converting raw STAC data into xarray dataset via odc-stac.\n",
      "Created xarray dataset via odc-stac successfully.\n"
     ]
    }
   ],
   "source": [
    "# disable future warnings\n",
    "import warnings\n",
    "warnings.simplefilter(action='ignore', category=FutureWarning)\n",
    "warnings.simplefilter(action='ignore', category=RuntimeWarning)\n",
    "warnings.simplefilter(action='ignore', category=UserWarning)\n",
    "warnings.simplefilter(action='ignore', category=dask.array.core.PerformanceWarning)\n",
    "\n",
    "# all provisional + non-provisional landsat\n",
    "out_nc = r\"C:\\Users\\Lewis\\Desktop\\nrt_projects\\ophthalmia_project_cubes\\cube_A01.nc\"\n",
    "s_year = '{}-01-01'.format(1990)\n",
    "e_year = '{}-12-31'.format(datetime.now().year)\n",
    "bbox = [119.85685826326254, -23.31510503211872, 119.85838607621004, -23.31250952051907]\n",
    "in_epsg = 3577\n",
    "\n",
    "# get params\n",
    "params = nrt.get_satellite_params(platform='Landsat')\n",
    "\n",
    "# open existing cube\n",
    "ds_existing = xr.open_dataset(r\"C:\\Users\\Lewis\\Desktop\\nrt_projects\\ophthalmia_project_cubes\\cube_A01.nc\")\n",
    "\n",
    "# sync cube to now\n",
    "ds_ls = nrt.sync_nrt_cube(out_nc=out_nc,\n",
    "                          collections=params.get('collections'),\n",
    "                          bands=params.get('bands'),\n",
    "                          start_dt=s_year,\n",
    "                          end_dt=e_year,\n",
    "                          bbox=bbox,\n",
    "                          in_epsg=in_epsg,\n",
    "                          slc_off=False,\n",
    "                          resolution=params.get('resolution'),\n",
    "                          ds_existing=None,\n",
    "                          chunks={})"
   ]
  },
  {
   "cell_type": "code",
   "execution_count": 4,
   "metadata": {},
   "outputs": [],
   "source": [
    "# # non-provis\n",
    "# out_nc = r\"C:\\Users\\Lewis\\Desktop\\nrt_projects\\ophthalmia_project_cubes\\cube_A01.nc\"\n",
    "# s_year = '{}-01-01'.format(2000)\n",
    "# e_year = '{}-12-31'.format(datetime.now().year)\n",
    "# bbox = [119.85685826326254, -23.31510503211872, 119.85838607621004, -23.31250952051907]\n",
    "# in_epsg = 3577\n",
    "\n",
    "# params = nrt.get_satellite_params(platform='Landsat')  "
   ]
  },
  {
   "cell_type": "code",
   "execution_count": 5,
   "metadata": {},
   "outputs": [],
   "source": [
    "# ds_existing = xr.open_dataset(r\"C:\\Users\\Lewis\\Desktop\\nrt_projects\\ophthalmia_project_cubes\\cube_A01.nc\")"
   ]
  },
  {
   "cell_type": "code",
   "execution_count": 7,
   "metadata": {},
   "outputs": [],
   "source": [
    "# # sync cube to now\n",
    "# ds_np = nrt.sync_nrt_cube(out_nc=out_nc,\n",
    "#                           collections=params.get('collections'),\n",
    "#                           bands=params.get('bands'),\n",
    "#                           start_dt=s_year,\n",
    "#                           end_dt=e_year,\n",
    "#                           bbox=bbox,\n",
    "#                           in_epsg=in_epsg,\n",
    "#                           slc_off=False,\n",
    "#                           resolution=params.get('resolution'),\n",
    "#                           ds_existing=None,\n",
    "#                           chunks={})"
   ]
  },
  {
   "cell_type": "code",
   "execution_count": 163,
   "metadata": {},
   "outputs": [],
   "source": [
    "# # provis\n",
    "# out_nc = r\"C:\\Users\\Lewis\\Desktop\\nrt_projects\\ophthalmia_project_cubes\\cube_A01.nc\"\n",
    "# s_year = '{}-01-01'.format(2000)\n",
    "# e_year = '{}-12-31'.format(datetime.now().year)\n",
    "# bbox = [119.85685826326254, -23.31510503211872, 119.85838607621004, -23.31250952051907]\n",
    "# in_epsg = 3577\n",
    "\n",
    "# params = nrt.get_satellite_params(platform='Landsat')  \n",
    "# params.update({'collections': ['ga_ls7e_ard_provisional_3', 'ga_ls8c_ard_provisional_3']})"
   ]
  },
  {
   "cell_type": "code",
   "execution_count": 15,
   "metadata": {},
   "outputs": [],
   "source": [
    "# # # sync cube to now\n",
    "# ds_p = nrt.sync_nrt_cube(out_nc=out_nc,\n",
    "#                          collections=params.get('collections'),\n",
    "#                          bands=params.get('bands'),\n",
    "#                          start_dt=s_year,\n",
    "#                          end_dt=e_year,\n",
    "#                          bbox=bbox,\n",
    "#                          in_epsg=in_epsg,\n",
    "#                          slc_off=False,\n",
    "#                          resolution=params.get('resolution'),\n",
    "#                          ds_existing=None,\n",
    "#                          chunks={})"
   ]
  },
  {
   "cell_type": "code",
   "execution_count": 18,
   "metadata": {},
   "outputs": [],
   "source": [
    "# ds_p.isel(time=-4).load().astype('int16')"
   ]
  },
  {
   "cell_type": "code",
   "execution_count": 117,
   "metadata": {},
   "outputs": [],
   "source": [
    "# # provis\n",
    "# out_nc = r\"C:\\Users\\Lewis\\Desktop\\nrt_projects\\ophthalmia_project_cubes\\cube_A01.nc\"\n",
    "# s_year = '{}-01-01'.format(2000)\n",
    "# e_year = '{}-12-31'.format(datetime.now().year)\n",
    "# bbox = [119.85685826326254, -23.31510503211872, 119.85838607621004, -23.31250952051907]\n",
    "# in_epsg = 3577\n",
    "\n",
    "# params = nrt.get_satellite_params(platform='Landsat')  \n",
    "# params.update({'collections': ['ga_ls5t_ard_3', 'ga_ls7e_ard_3', 'ga_ls8c_ard_3', 'ga_ls8c_ard_provisional_3']})"
   ]
  },
  {
   "cell_type": "code",
   "execution_count": 19,
   "metadata": {},
   "outputs": [],
   "source": [
    "# # sync cube to now\n",
    "# ds_b = nrt.sync_nrt_cube(out_nc=out_nc,\n",
    "#                          collections=params.get('collections'),\n",
    "#                          bands=params.get('bands'),\n",
    "#                          start_dt=s_year,\n",
    "#                          end_dt=e_year,\n",
    "#                          bbox=bbox,\n",
    "#                          in_epsg=in_epsg,\n",
    "#                          slc_off=False,\n",
    "#                          resolution=params.get('resolution'),\n",
    "#                          ds_existing=ds_existing,\n",
    "#                          chunks={})"
   ]
  },
  {
   "cell_type": "code",
   "execution_count": 148,
   "metadata": {},
   "outputs": [],
   "source": [
    "# ds_np['ndvi'] = (ds_np['nbart_nir'] - ds_np['nbart_red']) / (ds_np['nbart_nir'] + ds_np['nbart_red'])\n",
    "# ds_p['ndvi'] = (ds_p['nbart_nir'] - ds_p['nbart_red']) / (ds_p['nbart_nir'] + ds_p['nbart_red'])\n",
    "# ds_b['ndvi'] = (ds_b['nbart_nir'] - ds_b['nbart_red']) / (ds_b['nbart_nir'] + ds_b['nbart_red'])"
   ]
  },
  {
   "cell_type": "code",
   "execution_count": 20,
   "metadata": {},
   "outputs": [],
   "source": [
    "#ds_np['time'].values"
   ]
  },
  {
   "cell_type": "code",
   "execution_count": 21,
   "metadata": {},
   "outputs": [],
   "source": [
    "#ds_p['time'].values"
   ]
  },
  {
   "cell_type": "code",
   "execution_count": 22,
   "metadata": {},
   "outputs": [],
   "source": [
    "#ds_b['time'].values"
   ]
  },
  {
   "cell_type": "code",
   "execution_count": 23,
   "metadata": {},
   "outputs": [],
   "source": [
    "# ds_np['ndvi'].isel(time=-2).compute().astype('float32')\n",
    "# ds_np['ndvi'].isel(time=-2).plot()\n",
    "# plt.show()"
   ]
  },
  {
   "cell_type": "code",
   "execution_count": 24,
   "metadata": {},
   "outputs": [],
   "source": [
    "# ds_p['ndvi'].isel(time=-4).compute().astype('float32')\n",
    "# ds_p['ndvi'].isel(time=-4).plot()\n",
    "# plt.show()"
   ]
  },
  {
   "cell_type": "code",
   "execution_count": 25,
   "metadata": {},
   "outputs": [],
   "source": [
    "# ds_b['ndvi'].isel(time=-4).compute().astype('float32')\n",
    "# ds_b['ndvi'].isel(time=-4).plot()\n",
    "# plt.show()"
   ]
  },
  {
   "cell_type": "code",
   "execution_count": 130,
   "metadata": {},
   "outputs": [],
   "source": [
    "# non-provis\n",
    "out_nc = r\"C:\\Users\\Lewis\\Desktop\\nrt_projects\\ophthalmia_project_cubes\\cube_A01.nc\"\n",
    "s_year = '{}-01-01'.format(2000)\n",
    "e_year = '{}-12-31'.format(datetime.now().year)\n",
    "bbox = [119.85685826326254, -23.31510503211872, 119.85838607621004, -23.31250952051907]\n",
    "in_epsg = 3577\n",
    "\n",
    "params = nrt.get_satellite_params(platform='Sentinel') \n",
    "params.update({'collections': ['s2a_ard_granule', 's2b_ard_granule']})"
   ]
  },
  {
   "cell_type": "code",
   "execution_count": 131,
   "metadata": {},
   "outputs": [],
   "source": [
    "ds_existing = xr.open_dataset(r\"C:\\Users\\Lewis\\Desktop\\pandain\\s2_np.nc\")"
   ]
  },
  {
   "cell_type": "code",
   "execution_count": 132,
   "metadata": {},
   "outputs": [
    {
     "name": "stdout",
     "output_type": "stream",
     "text": [
      "Syncing cube for monitoring area: C:\\Users\\Lewis\\Desktop\\nrt_projects\\ophthalmia_project_cubes\\cube_A01.nc\n",
      "Beginning STAC search for items. This can take awhile.\n",
      "Searching collection: s2a_ard_granule\n",
      "Searching collection: s2b_ard_granule\n",
      "A total of 350 scenes were found.\n",
      "Replacing url prefix: s3://dea-public-data with https://data.dea.ga.gov.au\n",
      "Converting raw STAC data into xarray dataset via odc-stac.\n",
      "Created xarray dataset via odc-stac successfully.\n"
     ]
    }
   ],
   "source": [
    "# sync cube to now\n",
    "ds_np = nrt.sync_nrt_cube(out_nc=out_nc,\n",
    "                          collections=params.get('collections'),\n",
    "                          bands=params.get('bands'),\n",
    "                          start_dt=s_year,\n",
    "                          end_dt=e_year,\n",
    "                          bbox=bbox,\n",
    "                          in_epsg=in_epsg,\n",
    "                          slc_off=False,\n",
    "                          resolution=params.get('resolution'),\n",
    "                          ds_existing=None,\n",
    "                          chunks={})"
   ]
  },
  {
   "cell_type": "code",
   "execution_count": 133,
   "metadata": {},
   "outputs": [
    {
     "data": {
      "text/plain": [
       "array(['2015-10-22T02:08:10.000000000', '2015-11-21T02:11:49.000000000',\n",
       "       '2015-12-21T02:17:51.000000000', '2016-01-20T02:17:47.000000000',\n",
       "       '2016-02-19T02:06:40.000000000', '2016-03-20T02:12:13.000000000',\n",
       "       '2016-04-19T02:07:58.000000000', '2016-04-29T02:12:00.000000000',\n",
       "       '2016-05-09T02:10:18.000000000', '2016-05-29T02:10:18.000000000',\n",
       "       '2016-06-18T02:10:15.000000000', '2016-07-08T02:10:16.000000000',\n",
       "       '2016-07-28T02:10:17.000000000', '2016-08-17T02:10:15.000000000',\n",
       "       '2016-09-06T02:10:12.000000000', '2016-09-26T02:10:08.000000000',\n",
       "       '2016-10-16T02:10:08.000000000', '2016-10-26T02:09:44.000000000',\n",
       "       '2016-11-05T02:09:53.000000000', '2016-11-15T02:04:43.000000000',\n",
       "       '2016-12-05T02:06:19.000000000', '2016-12-15T02:08:49.000000000',\n",
       "       '2016-12-25T02:06:56.000000000', '2017-01-14T02:04:53.000000000',\n",
       "       '2017-01-24T02:05:42.000000000', '2017-02-03T02:11:40.000000000',\n",
       "       '2017-02-13T02:07:46.000000000', '2017-03-05T02:07:45.000000000',\n",
       "       '2017-03-25T02:08:25.000000000', '2017-04-14T02:08:34.000000000',\n",
       "       '2017-05-04T02:08:37.000000000', '2017-05-24T02:08:34.000000000',\n",
       "       '2017-06-13T02:13:06.000000000', '2017-07-03T02:13:16.000000000',\n",
       "       '2017-07-18T02:08:32.000000000', '2017-07-23T02:08:36.000000000',\n",
       "       '2017-08-07T02:08:33.000000000', '2017-08-12T02:10:50.000000000',\n",
       "       '2017-08-27T02:10:44.000000000', '2017-09-01T02:10:44.000000000',\n",
       "       '2017-09-16T02:10:38.000000000', '2017-09-21T02:10:44.000000000',\n",
       "       '2017-10-06T02:10:29.000000000', '2017-10-11T02:10:47.000000000',\n",
       "       '2017-10-26T02:11:25.000000000', '2017-10-31T02:12:00.000000000',\n",
       "       '2017-11-05T02:07:39.000000000', '2017-11-15T02:10:36.000000000',\n",
       "       '2017-11-20T02:11:28.000000000', '2017-11-25T02:07:37.000000000',\n",
       "       '2017-12-05T02:10:37.000000000', '2017-12-10T02:12:24.000000000',\n",
       "       '2017-12-15T02:07:37.000000000', '2017-12-25T02:10:37.000000000',\n",
       "       '2017-12-30T02:12:34.000000000', '2018-01-04T02:07:43.000000000',\n",
       "       '2018-01-14T02:10:41.000000000', '2018-01-19T02:11:03.000000000',\n",
       "       '2018-01-24T02:07:42.000000000', '2018-02-03T02:10:42.000000000',\n",
       "       '2018-02-08T02:10:45.000000000', '2018-02-13T02:13:42.000000000',\n",
       "       '2018-02-18T02:12:05.000000000', '2018-02-23T02:10:38.000000000',\n",
       "       '2018-02-28T02:08:46.000000000', '2018-03-05T02:12:06.000000000',\n",
       "       '2018-03-10T02:09:48.000000000', '2018-03-15T02:09:58.000000000',\n",
       "       '2018-03-20T02:07:46.000000000', '2018-03-25T02:09:10.000000000',\n",
       "       '2018-03-30T02:09:33.000000000', '2018-04-04T02:10:13.000000000',\n",
       "       '2018-04-09T02:10:31.000000000', '2018-04-14T02:10:40.000000000',\n",
       "       '2018-04-19T02:10:43.000000000', '2018-04-24T02:11:02.000000000',\n",
       "       '2018-04-29T02:10:08.000000000', '2018-05-04T02:13:41.000000000',\n",
       "       '2018-05-09T02:04:47.000000000', '2018-05-14T02:13:22.000000000',\n",
       "       '2018-05-19T02:10:33.000000000', '2018-05-24T02:13:21.000000000',\n",
       "       '2018-05-29T02:09:24.000000000', '2018-06-03T02:10:10.000000000',\n",
       "       '2018-06-08T02:10:20.000000000', '2018-06-13T02:13:22.000000000',\n",
       "       '2018-06-18T02:07:34.000000000', '2018-06-23T02:13:22.000000000',\n",
       "       '2018-06-28T02:10:06.000000000', '2018-07-03T02:08:24.000000000',\n",
       "       '2018-07-08T02:10:21.000000000', '2018-07-13T02:10:15.000000000',\n",
       "       '2018-07-18T02:12:49.000000000', '2018-07-23T02:10:57.000000000',\n",
       "       '2018-07-28T02:10:21.000000000', '2018-08-02T02:08:21.000000000',\n",
       "       '2018-08-07T02:10:42.000000000', '2018-08-12T02:11:45.000000000',\n",
       "       '2018-08-17T02:10:30.000000000', '2018-08-22T02:08:17.000000000',\n",
       "       '2018-08-27T02:10:29.000000000', '2018-09-01T02:05:18.000000000',\n",
       "       '2018-09-06T02:10:28.000000000', '2018-09-11T02:11:45.000000000',\n",
       "       '2018-09-21T02:10:23.000000000', '2018-09-26T02:12:55.000000000',\n",
       "       '2018-10-01T02:08:19.000000000', '2018-10-06T02:10:38.000000000',\n",
       "       '2018-10-11T02:11:47.000000000', '2018-10-16T02:10:28.000000000',\n",
       "       '2018-10-21T02:08:40.000000000', '2018-10-26T02:11:08.000000000',\n",
       "       '2018-10-31T02:09:52.000000000', '2018-11-05T02:08:57.000000000',\n",
       "       '2018-11-10T02:14:03.000000000', '2018-11-15T02:14:00.000000000',\n",
       "       '2018-11-20T02:14:02.000000000', '2018-11-25T02:13:58.000000000',\n",
       "       '2018-11-30T02:14:01.000000000', '2018-12-10T02:13:59.000000000',\n",
       "       '2018-12-15T02:13:57.000000000', '2018-12-20T02:14:00.000000000',\n",
       "       '2018-12-25T02:13:58.000000000', '2018-12-30T02:14:02.000000000',\n",
       "       '2019-01-04T02:14:00.000000000', '2019-01-09T02:14:07.000000000',\n",
       "       '2019-01-14T02:14:01.000000000', '2019-01-19T02:14:05.000000000',\n",
       "       '2019-01-24T02:14:02.000000000', '2019-01-29T02:14:06.000000000',\n",
       "       '2019-02-03T02:14:02.000000000', '2019-02-08T02:14:06.000000000',\n",
       "       '2019-02-13T02:14:02.000000000', '2019-02-18T02:14:05.000000000',\n",
       "       '2019-02-23T02:14:01.000000000', '2019-02-28T02:14:04.000000000',\n",
       "       '2019-03-05T02:14:00.000000000', '2019-03-10T02:14:03.000000000',\n",
       "       '2019-03-15T02:14:02.000000000', '2019-03-20T02:14:04.000000000',\n",
       "       '2019-03-25T02:14:04.000000000', '2019-03-30T02:14:07.000000000',\n",
       "       '2019-04-04T02:14:06.000000000', '2019-04-09T02:14:09.000000000',\n",
       "       '2019-04-14T02:14:08.000000000', '2019-04-19T02:14:11.000000000',\n",
       "       '2019-04-24T02:14:09.000000000', '2019-04-29T02:14:13.000000000',\n",
       "       '2019-05-04T02:14:09.000000000', '2019-05-09T02:14:14.000000000',\n",
       "       '2019-05-14T02:14:09.000000000', '2019-05-19T02:14:14.000000000',\n",
       "       '2019-05-24T02:14:09.000000000', '2019-05-29T02:14:14.000000000',\n",
       "       '2019-06-03T02:14:08.000000000', '2019-06-08T02:14:13.000000000',\n",
       "       '2019-06-13T02:14:08.000000000', '2019-06-23T02:14:09.000000000',\n",
       "       '2019-07-03T02:14:10.000000000', '2019-07-08T02:14:14.000000000',\n",
       "       '2019-07-13T02:14:10.000000000', '2019-07-18T02:14:14.000000000',\n",
       "       '2019-07-23T02:14:10.000000000', '2019-07-28T02:14:14.000000000',\n",
       "       '2019-08-02T02:14:10.000000000', '2019-08-17T02:14:11.000000000',\n",
       "       '2019-08-27T02:14:10.000000000', '2019-09-01T02:14:06.000000000',\n",
       "       '2019-09-06T02:14:08.000000000', '2019-09-11T02:14:04.000000000',\n",
       "       '2019-09-16T02:14:05.000000000', '2019-09-21T02:14:05.000000000',\n",
       "       '2019-09-26T02:14:05.000000000', '2019-10-01T02:14:07.000000000',\n",
       "       '2019-10-06T02:14:06.000000000', '2019-10-11T02:14:08.000000000',\n",
       "       '2019-10-16T02:14:07.000000000', '2019-10-21T02:14:09.000000000',\n",
       "       '2019-10-26T02:14:06.000000000', '2019-10-31T02:14:09.000000000',\n",
       "       '2019-11-05T02:14:05.000000000', '2019-11-10T02:14:08.000000000',\n",
       "       '2019-11-15T02:14:04.000000000', '2019-11-20T02:14:06.000000000',\n",
       "       '2019-11-25T02:14:02.000000000', '2019-11-30T02:14:04.000000000',\n",
       "       '2019-12-05T02:14:01.000000000', '2019-12-10T02:14:02.000000000',\n",
       "       '2019-12-15T02:14:00.000000000', '2019-12-20T02:13:59.000000000',\n",
       "       '2019-12-25T02:14:00.000000000', '2019-12-30T02:14:00.000000000',\n",
       "       '2020-01-04T02:14:00.000000000', '2020-01-09T02:14:00.000000000',\n",
       "       '2020-01-14T02:14:00.000000000', '2020-01-19T02:13:59.000000000',\n",
       "       '2020-01-24T02:13:58.000000000', '2020-01-29T02:13:58.000000000',\n",
       "       '2020-02-03T02:13:59.000000000', '2020-02-08T02:13:57.000000000',\n",
       "       '2020-02-13T02:14:01.000000000', '2020-02-18T02:13:59.000000000',\n",
       "       '2020-02-23T02:14:02.000000000', '2020-02-28T02:14:01.000000000',\n",
       "       '2020-03-04T02:14:03.000000000', '2020-03-09T02:14:01.000000000',\n",
       "       '2020-03-14T02:14:03.000000000', '2020-03-19T02:14:02.000000000',\n",
       "       '2020-03-24T02:14:03.000000000', '2020-03-29T02:14:01.000000000',\n",
       "       '2020-04-03T02:14:03.000000000', '2020-04-08T02:14:03.000000000',\n",
       "       '2020-04-13T02:14:01.000000000', '2020-04-18T02:14:06.000000000',\n",
       "       '2020-04-23T02:14:00.000000000', '2020-04-28T02:14:08.000000000',\n",
       "       '2020-05-03T02:14:02.000000000', '2020-05-08T02:14:09.000000000',\n",
       "       '2020-05-13T02:14:04.000000000', '2020-05-18T02:14:11.000000000',\n",
       "       '2020-05-23T02:14:06.000000000', '2020-05-28T02:14:11.000000000',\n",
       "       '2020-06-02T02:14:07.000000000', '2020-06-07T02:14:12.000000000',\n",
       "       '2020-06-12T02:14:08.000000000', '2020-06-17T02:14:11.000000000',\n",
       "       '2020-06-22T02:14:08.000000000', '2020-06-27T02:14:11.000000000',\n",
       "       '2020-07-02T02:14:08.000000000', '2020-07-07T02:14:10.000000000',\n",
       "       '2020-07-12T02:14:07.000000000', '2020-07-17T02:14:10.000000000',\n",
       "       '2020-07-22T02:14:07.000000000', '2020-07-27T02:14:11.000000000',\n",
       "       '2020-08-01T02:14:08.000000000', '2020-08-06T02:14:11.000000000',\n",
       "       '2020-08-11T02:14:09.000000000', '2020-08-16T02:14:11.000000000',\n",
       "       '2020-08-21T02:14:09.000000000', '2020-08-26T02:14:11.000000000',\n",
       "       '2020-08-31T02:14:09.000000000', '2020-09-05T02:14:10.000000000',\n",
       "       '2020-09-10T02:14:08.000000000', '2020-09-15T02:14:10.000000000',\n",
       "       '2020-09-20T02:14:07.000000000', '2020-09-25T02:14:11.000000000',\n",
       "       '2020-09-30T02:14:08.000000000', '2020-10-05T02:14:11.000000000',\n",
       "       '2020-10-10T02:14:09.000000000', '2020-10-15T02:14:11.000000000',\n",
       "       '2020-10-20T02:14:09.000000000', '2020-10-25T02:14:11.000000000',\n",
       "       '2020-10-30T02:14:08.000000000', '2020-11-04T02:14:10.000000000',\n",
       "       '2020-11-09T02:14:07.000000000', '2020-11-14T02:14:09.000000000',\n",
       "       '2020-11-19T02:14:06.000000000', '2020-11-24T02:14:07.000000000',\n",
       "       '2020-11-29T02:14:05.000000000', '2020-12-04T02:14:04.000000000',\n",
       "       '2020-12-09T02:14:03.000000000', '2020-12-14T02:14:02.000000000',\n",
       "       '2020-12-19T02:14:01.000000000', '2020-12-24T02:14:04.000000000',\n",
       "       '2020-12-29T02:14:03.000000000', '2021-01-03T02:14:06.000000000',\n",
       "       '2021-01-08T02:14:04.000000000', '2021-01-13T02:14:06.000000000',\n",
       "       '2021-01-18T02:14:05.000000000', '2021-01-23T02:14:06.000000000',\n",
       "       '2021-01-28T02:14:05.000000000', '2021-02-02T02:14:05.000000000',\n",
       "       '2021-02-07T02:14:04.000000000', '2021-02-12T02:14:04.000000000',\n",
       "       '2021-02-17T02:14:03.000000000', '2021-02-22T02:14:05.000000000',\n",
       "       '2021-02-27T02:14:04.000000000', '2021-03-04T02:14:05.000000000',\n",
       "       '2021-03-09T02:14:05.000000000', '2021-03-14T02:14:05.000000000',\n",
       "       '2021-03-19T02:14:05.000000000', '2021-03-24T02:14:04.000000000',\n",
       "       '2021-03-29T02:14:04.000000000', '2021-04-03T02:14:02.000000000',\n",
       "       '2021-04-08T02:14:03.000000000', '2021-04-13T02:14:00.000000000',\n",
       "       '2021-04-18T02:14:01.000000000', '2021-04-23T02:14:01.000000000',\n",
       "       '2021-04-28T02:14:01.000000000', '2021-05-03T02:14:03.000000000',\n",
       "       '2021-05-08T02:14:03.000000000', '2021-05-13T02:14:05.000000000',\n",
       "       '2021-05-18T02:14:05.000000000', '2021-05-23T02:14:06.000000000',\n",
       "       '2021-05-28T02:14:06.000000000', '2021-06-02T02:14:06.000000000',\n",
       "       '2021-06-07T02:14:06.000000000', '2021-06-17T02:14:06.000000000',\n",
       "       '2021-06-22T02:14:06.000000000', '2021-06-27T02:14:06.000000000',\n",
       "       '2021-07-02T02:14:07.000000000', '2021-07-07T02:14:07.000000000',\n",
       "       '2021-07-12T02:14:08.000000000', '2021-07-17T02:14:07.000000000',\n",
       "       '2021-07-22T02:14:09.000000000', '2021-07-27T02:14:07.000000000',\n",
       "       '2021-08-01T02:14:09.000000000', '2021-08-06T02:14:07.000000000',\n",
       "       '2021-08-11T02:14:08.000000000', '2021-08-16T02:14:05.000000000',\n",
       "       '2021-08-21T02:14:08.000000000', '2021-08-26T02:14:04.000000000',\n",
       "       '2021-08-31T02:14:07.000000000', '2021-09-05T02:14:02.000000000',\n",
       "       '2021-09-10T02:14:05.000000000', '2021-09-15T02:14:01.000000000',\n",
       "       '2021-09-20T02:14:08.000000000', '2021-09-25T02:14:04.000000000',\n",
       "       '2021-09-30T02:14:10.000000000', '2021-10-05T02:14:05.000000000',\n",
       "       '2021-10-10T02:14:11.000000000', '2021-10-15T02:14:07.000000000',\n",
       "       '2021-10-20T02:14:11.000000000', '2021-10-25T02:14:07.000000000',\n",
       "       '2021-10-30T02:14:10.000000000', '2021-11-04T02:14:06.000000000',\n",
       "       '2021-11-14T02:14:04.000000000', '2021-11-19T02:14:05.000000000',\n",
       "       '2021-11-24T02:13:58.000000000', '2021-11-29T02:14:05.000000000',\n",
       "       '2021-12-04T02:14:01.000000000', '2021-12-09T02:14:04.000000000',\n",
       "       '2021-12-19T02:14:06.000000000', '2021-12-24T02:14:00.000000000',\n",
       "       '2021-12-29T02:14:07.000000000', '2022-01-03T02:14:01.000000000',\n",
       "       '2022-01-08T02:14:07.000000000', '2022-01-13T02:14:01.000000000',\n",
       "       '2022-01-18T02:14:06.000000000', '2022-01-21T01:33:37.000000000',\n",
       "       '2022-01-23T02:14:00.000000000', '2022-01-28T02:14:05.000000000',\n",
       "       '2022-02-02T02:14:00.000000000', '2022-02-07T02:14:05.000000000',\n",
       "       '2022-02-12T02:13:59.000000000'], dtype='datetime64[ns]')"
      ]
     },
     "execution_count": 133,
     "metadata": {},
     "output_type": "execute_result"
    }
   ],
   "source": [
    "ds_np['time'].values"
   ]
  },
  {
   "cell_type": "code",
   "execution_count": 134,
   "metadata": {},
   "outputs": [],
   "source": [
    "# provis\n",
    "out_nc = r\"C:\\Users\\Lewis\\Desktop\\nrt_projects\\ophthalmia_project_cubes\\cube_A01.nc\"\n",
    "s_year = '{}-01-01'.format(2000)\n",
    "e_year = '{}-12-31'.format(datetime.now().year)\n",
    "bbox = [119.85685826326254, -23.31510503211872, 119.85838607621004, -23.31250952051907]\n",
    "in_epsg = 3577\n",
    "\n",
    "params = nrt.get_satellite_params(platform='Sentinel_Provisional')  \n",
    "params.update({'collections': ['ga_s2am_ard_provisional_3', 'ga_s2bm_ard_provisional_3']})"
   ]
  },
  {
   "cell_type": "code",
   "execution_count": 135,
   "metadata": {},
   "outputs": [
    {
     "name": "stdout",
     "output_type": "stream",
     "text": [
      "Syncing cube for monitoring area: C:\\Users\\Lewis\\Desktop\\nrt_projects\\ophthalmia_project_cubes\\cube_A01.nc\n",
      "Beginning STAC search for items. This can take awhile.\n",
      "Searching collection: ga_s2am_ard_provisional_3\n",
      "Searching collection: ga_s2bm_ard_provisional_3\n",
      "A total of 34 scenes were found.\n",
      "Replacing url prefix: s3://dea-public-data with https://data.dea.ga.gov.au\n",
      "Converting raw STAC data into xarray dataset via odc-stac.\n",
      "Created xarray dataset via odc-stac successfully.\n"
     ]
    }
   ],
   "source": [
    "# sync cube to now\n",
    "ds_p = nrt.sync_nrt_cube(out_nc=out_nc,\n",
    "                         collections=params.get('collections'),\n",
    "                         bands=params.get('bands'),\n",
    "                         start_dt=s_year,\n",
    "                         end_dt=e_year,\n",
    "                         bbox=bbox,\n",
    "                         in_epsg=in_epsg,\n",
    "                         slc_off=False,\n",
    "                         resolution=params.get('resolution'),\n",
    "                         ds_existing=None,\n",
    "                         chunks={})"
   ]
  },
  {
   "cell_type": "code",
   "execution_count": 136,
   "metadata": {},
   "outputs": [
    {
     "data": {
      "text/plain": [
       "array(['2021-08-31T02:14:07.000000000', '2021-09-05T02:14:02.000000000',\n",
       "       '2021-09-10T02:14:05.000000000', '2021-09-15T02:14:01.000000000',\n",
       "       '2021-09-20T02:14:08.000000000', '2021-09-25T02:14:04.000000000',\n",
       "       '2021-09-30T02:14:10.000000000', '2021-10-05T02:14:05.000000000',\n",
       "       '2021-10-10T02:14:11.000000000', '2021-10-15T02:14:07.000000000',\n",
       "       '2021-10-20T02:14:11.000000000', '2021-10-25T02:14:07.000000000',\n",
       "       '2021-10-30T02:14:10.000000000', '2021-11-04T02:14:06.000000000',\n",
       "       '2021-11-14T02:14:04.000000000', '2021-11-19T02:14:05.000000000',\n",
       "       '2021-11-24T02:13:58.000000000', '2021-11-29T02:14:05.000000000',\n",
       "       '2021-12-04T02:14:01.000000000', '2021-12-09T02:14:04.000000000',\n",
       "       '2021-12-19T02:14:06.000000000', '2021-12-24T02:14:00.000000000',\n",
       "       '2021-12-29T02:14:07.000000000', '2022-01-03T02:14:01.000000000',\n",
       "       '2022-01-08T02:14:07.000000000', '2022-01-18T02:14:06.000000000',\n",
       "       '2022-01-23T02:14:00.000000000', '2022-01-28T02:14:05.000000000',\n",
       "       '2022-02-02T02:14:00.000000000', '2022-02-07T02:14:05.000000000',\n",
       "       '2022-02-12T02:13:59.000000000', '2022-02-17T02:14:06.000000000'],\n",
       "      dtype='datetime64[ns]')"
      ]
     },
     "execution_count": 136,
     "metadata": {},
     "output_type": "execute_result"
    }
   ],
   "source": [
    "ds_p['time'].values"
   ]
  },
  {
   "cell_type": "code",
   "execution_count": 96,
   "metadata": {},
   "outputs": [],
   "source": [
    "# ds_np['ndvi'] = (ds_np['nbart_nir_1'] - ds_np['nbart_red']) / (ds_np['nbart_nir_1'] + ds_np['nbart_red'])\n",
    "# ds_p['ndvi'] = (ds_p['nbart_nir_1'] - ds_p['nbart_red']) / (ds_p['nbart_nir_1'] + ds_p['nbart_red'])"
   ]
  },
  {
   "cell_type": "code",
   "execution_count": 95,
   "metadata": {},
   "outputs": [],
   "source": [
    "# ds_np['time'].values"
   ]
  },
  {
   "cell_type": "code",
   "execution_count": 92,
   "metadata": {},
   "outputs": [],
   "source": [
    "# ds_np['ndvi'].isel(time=-10).compute().astype('float32')\n",
    "# ds_np['ndvi'].isel(time=-10).plot()\n",
    "# plt.show()"
   ]
  },
  {
   "cell_type": "code",
   "execution_count": 93,
   "metadata": {},
   "outputs": [],
   "source": [
    "# ds_p['ndvi'].isel(time=-9).compute().astype('float32')\n",
    "# ds_p['ndvi'].isel(time=-9).plot()\n",
    "# plt.show()"
   ]
  },
  {
   "cell_type": "code",
   "execution_count": 94,
   "metadata": {},
   "outputs": [],
   "source": [
    "# ds_p['time']"
   ]
  },
  {
   "cell_type": "code",
   "execution_count": 59,
   "metadata": {},
   "outputs": [
    {
     "name": "stdout",
     "output_type": "stream",
     "text": [
      "Syncing cube for monitoring area: C:\\Users\\Lewis\\Desktop\\nrt_projects\\ophthalmia_project_cubes\\cube_A01.nc\n",
      "Beginning STAC search for items. This can take awhile.\n",
      "Searching collection: s2a_ard_granule\n",
      "Searching collection: s2b_ard_granule\n",
      "A total of 350 scenes were found.\n",
      "Replacing url prefix: s3://dea-public-data with https://data.dea.ga.gov.au\n",
      "Converting raw STAC data into xarray dataset via odc-stac.\n",
      "Created xarray dataset via odc-stac successfully.\n"
     ]
    }
   ],
   "source": [
    "# sync cube to now\n",
    "ds = nrt.sync_nrt_cube(out_nc=out_nc,\n",
    "                       collections=params.get('collections'),\n",
    "                       bands=params.get('bands'),\n",
    "                       start_dt=s_year,\n",
    "                       end_dt=e_year,\n",
    "                       bbox=bbox,\n",
    "                       in_epsg=in_epsg,\n",
    "                       slc_off=False,\n",
    "                       resolution=params.get('resolution'),\n",
    "                       ds_existing=ds_existing,\n",
    "                       chunks={})"
   ]
  },
  {
   "cell_type": "code",
   "execution_count": 113,
   "metadata": {},
   "outputs": [
    {
     "name": "stdout",
     "output_type": "stream",
     "text": [
      "Beginning STAC search for items. This can take awhile.\n",
      "Searching collection: ga_s2am_ard_provisional_3\n",
      "Searching collection: ga_s2bm_ard_provisional_3\n",
      "A total of 34 scenes were found.\n"
     ]
    }
   ],
   "source": [
    "# query stac endpoint\n",
    "items = cog_odc.fetch_stac_items_odc(stac_endpoint='https://explorer.sandbox.dea.ga.gov.au/stac', \n",
    "                                     collections=['ga_s2am_ard_provisional_3', 'ga_s2bm_ard_provisional_3'], \n",
    "                                     #collections=['ga_ls8c_ard_3'], \n",
    "                                     start_dt='2021-01-01', \n",
    "                                     end_dt='2023-01-01', \n",
    "                                     bbox=bbox,\n",
    "                                     slc_off=False,\n",
    "                                     limit=250)"
   ]
  },
  {
   "cell_type": "code",
   "execution_count": 114,
   "metadata": {},
   "outputs": [
    {
     "name": "stdout",
     "output_type": "stream",
     "text": [
      "Replacing url prefix: s3://dea-public-data with https://data.dea.ga.gov.au\n"
     ]
    }
   ],
   "source": [
    "# replace s3 prefix with https for each band - arcgis doesnt like s3\n",
    "items = cog_odc.replace_items_s3_to_https(items=items, \n",
    "                                          from_prefix='s3://dea-public-data', \n",
    "                                          to_prefix='https://data.dea.ga.gov.au')"
   ]
  },
  {
   "cell_type": "code",
   "execution_count": 115,
   "metadata": {},
   "outputs": [],
   "source": [
    "config = {\n",
    "    \"ga_s2am_ard_provisional_3\": {\"aliases\": {\"fmask\": \"oa_fmask\",}},\n",
    "    \"ga_s2bm_ard_provisional_3\": {\"aliases\": {\"fmask\": \"oa_fmask\",}},\n",
    "}"
   ]
  },
  {
   "cell_type": "code",
   "execution_count": 116,
   "metadata": {},
   "outputs": [],
   "source": [
    "ds = stac.stac_load(\n",
    "    items,\n",
    "    bands=(\"nbart_red\", \"fmask\"),\n",
    "    crs='EPSG:3577',\n",
    "    resolution=10,\n",
    "    chunks={},\n",
    "    groupby=\"solar_day\",\n",
    "    stac_cfg=config,\n",
    "    bbox=bbox,\n",
    "    group_by='solar_day',\n",
    "    skip_broken_datasets=True,\n",
    ")"
   ]
  },
  {
   "cell_type": "code",
   "execution_count": 117,
   "metadata": {},
   "outputs": [
    {
     "name": "stderr",
     "output_type": "stream",
     "text": [
      "Error opening source dataset: https://data.dea.ga.gov.au/baseline/ga_s2bm_ard_provisional_3/50/KQV/2021/11/04_interim/20211108T122547/ga_s2bm_oa_provisional_3-2-1_50KQV_2021-11-04_interim_fmask.tif\n",
      "Ignoring Exception: '/vsicurl/https://data.dea.ga.gov.au/baseline/ga_s2bm_ard_provisional_3/50/KQV/2021/11/04_interim/20211108T122547/ga_s2bm_oa_provisional_3-2-1_50KQV_2021-11-04_interim_fmask.tif' not recognized as a supported file format.\n",
      "Error opening source dataset: https://data.dea.ga.gov.au/baseline/ga_s2bm_ard_provisional_3/50/KQV/2021/11/04_interim/20211108T122547/ga_s2bm_nbart_provisional_3-2-1_50KQV_2021-11-04_interim_band04.tif\n",
      "Ignoring Exception: '/vsicurl/https://data.dea.ga.gov.au/baseline/ga_s2bm_ard_provisional_3/50/KQV/2021/11/04_interim/20211108T122547/ga_s2bm_nbart_provisional_3-2-1_50KQV_2021-11-04_interim_band04.tif' not recognized as a supported file format.\n",
      "Error opening source dataset: https://data.dea.ga.gov.au/baseline/ga_s2bm_ard_provisional_3/50/KQV/2021/10/05_nrt/20211005T053217/ga_s2bm_nbart_provisional_3-2-1_50KQV_2021-10-05_nrt_band04.tif\n",
      "Ignoring Exception: '/vsicurl/https://data.dea.ga.gov.au/baseline/ga_s2bm_ard_provisional_3/50/KQV/2021/10/05_nrt/20211005T053217/ga_s2bm_nbart_provisional_3-2-1_50KQV_2021-10-05_nrt_band04.tif' not recognized as a supported file format.\n",
      "Error opening source dataset: https://data.dea.ga.gov.au/baseline/ga_s2bm_ard_provisional_3/50/KQV/2021/11/04_interim/20211108T122547/ga_s2bm_oa_provisional_3-2-1_50KQV_2021-11-04_interim_fmask.tif\n",
      "Ignoring Exception: '/vsicurl/https://data.dea.ga.gov.au/baseline/ga_s2bm_ard_provisional_3/50/KQV/2021/11/04_interim/20211108T122547/ga_s2bm_oa_provisional_3-2-1_50KQV_2021-11-04_interim_fmask.tif' not recognized as a supported file format.\n",
      "Error opening source dataset: https://data.dea.ga.gov.au/baseline/ga_s2bm_ard_provisional_3/50/KQV/2021/11/04_interim/20211108T122547/ga_s2bm_nbart_provisional_3-2-1_50KQV_2021-11-04_interim_band04.tif\n",
      "Ignoring Exception: '/vsicurl/https://data.dea.ga.gov.au/baseline/ga_s2bm_ard_provisional_3/50/KQV/2021/11/04_interim/20211108T122547/ga_s2bm_nbart_provisional_3-2-1_50KQV_2021-11-04_interim_band04.tif' not recognized as a supported file format.\n",
      "Error opening source dataset: https://data.dea.ga.gov.au/baseline/ga_s2bm_ard_provisional_3/50/KQV/2021/10/25_nrt/20211025T053628/ga_s2bm_nbart_provisional_3-2-1_50KQV_2021-10-25_nrt_band04.tif\n",
      "Ignoring Exception: '/vsicurl/https://data.dea.ga.gov.au/baseline/ga_s2bm_ard_provisional_3/50/KQV/2021/10/25_nrt/20211025T053628/ga_s2bm_nbart_provisional_3-2-1_50KQV_2021-10-25_nrt_band04.tif' not recognized as a supported file format.\n",
      "Error opening source dataset: https://data.dea.ga.gov.au/baseline/ga_s2bm_ard_provisional_3/50/KQV/2021/10/05_nrt/20211005T053217/ga_s2bm_oa_provisional_3-2-1_50KQV_2021-10-05_nrt_fmask.tif\n",
      "Ignoring Exception: '/vsicurl/https://data.dea.ga.gov.au/baseline/ga_s2bm_ard_provisional_3/50/KQV/2021/10/05_nrt/20211005T053217/ga_s2bm_oa_provisional_3-2-1_50KQV_2021-10-05_nrt_fmask.tif' not recognized as a supported file format.\n",
      "Error opening source dataset: https://data.dea.ga.gov.au/baseline/ga_s2bm_ard_provisional_3/50/KQV/2021/10/25_nrt/20211025T053628/ga_s2bm_oa_provisional_3-2-1_50KQV_2021-10-25_nrt_fmask.tif\n",
      "Ignoring Exception: '/vsicurl/https://data.dea.ga.gov.au/baseline/ga_s2bm_ard_provisional_3/50/KQV/2021/10/25_nrt/20211025T053628/ga_s2bm_oa_provisional_3-2-1_50KQV_2021-10-25_nrt_fmask.tif' not recognized as a supported file format.\n",
      "Error opening source dataset: https://data.dea.ga.gov.au/baseline/ga_s2bm_ard_provisional_3/50/KQV/2021/09/15_nrt/20210915T034822/ga_s2bm_nbart_provisional_3-2-1_50KQV_2021-09-15_nrt_band04.tif\n",
      "Ignoring Exception: '/vsicurl/https://data.dea.ga.gov.au/baseline/ga_s2bm_ard_provisional_3/50/KQV/2021/09/15_nrt/20210915T034822/ga_s2bm_nbart_provisional_3-2-1_50KQV_2021-09-15_nrt_band04.tif' not recognized as a supported file format.\n",
      "Error opening source dataset: https://data.dea.ga.gov.au/baseline/ga_s2bm_ard_provisional_3/50/KQV/2021/09/05_nrt/20210905T053133/ga_s2bm_oa_provisional_3-2-1_50KQV_2021-09-05_nrt_fmask.tif\n",
      "Ignoring Exception: '/vsicurl/https://data.dea.ga.gov.au/baseline/ga_s2bm_ard_provisional_3/50/KQV/2021/09/05_nrt/20210905T053133/ga_s2bm_oa_provisional_3-2-1_50KQV_2021-09-05_nrt_fmask.tif' not recognized as a supported file format.\n",
      "Error opening source dataset: https://data.dea.ga.gov.au/baseline/ga_s2bm_ard_provisional_3/50/KQV/2021/09/15_nrt/20210915T034822/ga_s2bm_oa_provisional_3-2-1_50KQV_2021-09-15_nrt_fmask.tif\n",
      "Ignoring Exception: '/vsicurl/https://data.dea.ga.gov.au/baseline/ga_s2bm_ard_provisional_3/50/KQV/2021/09/15_nrt/20210915T034822/ga_s2bm_oa_provisional_3-2-1_50KQV_2021-09-15_nrt_fmask.tif' not recognized as a supported file format.\n",
      "Error opening source dataset: https://data.dea.ga.gov.au/baseline/ga_s2bm_ard_provisional_3/50/KQV/2021/09/05_nrt/20210905T053133/ga_s2bm_nbart_provisional_3-2-1_50KQV_2021-09-05_nrt_band04.tif\n",
      "Ignoring Exception: '/vsicurl/https://data.dea.ga.gov.au/baseline/ga_s2bm_ard_provisional_3/50/KQV/2021/09/05_nrt/20210905T053133/ga_s2bm_nbart_provisional_3-2-1_50KQV_2021-09-05_nrt_band04.tif' not recognized as a supported file format.\n",
      "Error opening source dataset: https://data.dea.ga.gov.au/baseline/ga_s2am_ard_provisional_3/50/KQV/2021/10/20_nrt/20211020T054032/ga_s2am_nbart_provisional_3-2-1_50KQV_2021-10-20_nrt_band04.tif\n",
      "Ignoring Exception: '/vsicurl/https://data.dea.ga.gov.au/baseline/ga_s2am_ard_provisional_3/50/KQV/2021/10/20_nrt/20211020T054032/ga_s2am_nbart_provisional_3-2-1_50KQV_2021-10-20_nrt_band04.tif' not recognized as a supported file format.\n",
      "Error opening source dataset: https://data.dea.ga.gov.au/baseline/ga_s2am_ard_provisional_3/50/KQV/2021/10/20_nrt/20211020T054032/ga_s2am_oa_provisional_3-2-1_50KQV_2021-10-20_nrt_fmask.tif\n",
      "Ignoring Exception: '/vsicurl/https://data.dea.ga.gov.au/baseline/ga_s2am_ard_provisional_3/50/KQV/2021/10/20_nrt/20211020T054032/ga_s2am_oa_provisional_3-2-1_50KQV_2021-10-20_nrt_fmask.tif' not recognized as a supported file format.\n",
      "Error opening source dataset: https://data.dea.ga.gov.au/baseline/ga_s2am_ard_provisional_3/50/KQV/2021/10/10_nrt/20211010T053309/ga_s2am_oa_provisional_3-2-1_50KQV_2021-10-10_nrt_fmask.tif\n",
      "Ignoring Exception: '/vsicurl/https://data.dea.ga.gov.au/baseline/ga_s2am_ard_provisional_3/50/KQV/2021/10/10_nrt/20211010T053309/ga_s2am_oa_provisional_3-2-1_50KQV_2021-10-10_nrt_fmask.tif' not recognized as a supported file format.\n",
      "Error opening source dataset: https://data.dea.ga.gov.au/baseline/ga_s2am_ard_provisional_3/50/KQV/2021/09/30_nrt/20210930T053128/ga_s2am_nbart_provisional_3-2-1_50KQV_2021-09-30_nrt_band04.tif\n",
      "Ignoring Exception: '/vsicurl/https://data.dea.ga.gov.au/baseline/ga_s2am_ard_provisional_3/50/KQV/2021/09/30_nrt/20210930T053128/ga_s2am_nbart_provisional_3-2-1_50KQV_2021-09-30_nrt_band04.tif' not recognized as a supported file format.\n",
      "Error opening source dataset: https://data.dea.ga.gov.au/baseline/ga_s2am_ard_provisional_3/50/KQV/2021/10/10_nrt/20211010T053309/ga_s2am_nbart_provisional_3-2-1_50KQV_2021-10-10_nrt_band04.tif\n",
      "Ignoring Exception: '/vsicurl/https://data.dea.ga.gov.au/baseline/ga_s2am_ard_provisional_3/50/KQV/2021/10/10_nrt/20211010T053309/ga_s2am_nbart_provisional_3-2-1_50KQV_2021-10-10_nrt_band04.tif' not recognized as a supported file format.\n",
      "Error opening source dataset: https://data.dea.ga.gov.au/baseline/ga_s2am_ard_provisional_3/50/KQV/2021/09/30_nrt/20210930T053128/ga_s2am_oa_provisional_3-2-1_50KQV_2021-09-30_nrt_fmask.tif\n",
      "Ignoring Exception: '/vsicurl/https://data.dea.ga.gov.au/baseline/ga_s2am_ard_provisional_3/50/KQV/2021/09/30_nrt/20210930T053128/ga_s2am_oa_provisional_3-2-1_50KQV_2021-09-30_nrt_fmask.tif' not recognized as a supported file format.\n",
      "Error opening source dataset: https://data.dea.ga.gov.au/baseline/ga_s2am_ard_provisional_3/50/KQV/2021/11/19_nrt/20211119T034902/ga_s2am_nbart_provisional_3-2-1_50KQV_2021-11-19_nrt_band04.tif\n",
      "Ignoring Exception: '/vsicurl/https://data.dea.ga.gov.au/baseline/ga_s2am_ard_provisional_3/50/KQV/2021/11/19_nrt/20211119T034902/ga_s2am_nbart_provisional_3-2-1_50KQV_2021-11-19_nrt_band04.tif' not recognized as a supported file format.\n"
     ]
    },
    {
     "name": "stderr",
     "output_type": "stream",
     "text": [
      "Error opening source dataset: https://data.dea.ga.gov.au/baseline/ga_s2am_ard_provisional_3/50/KQV/2021/08/31_nrt/20210831T053320/ga_s2am_oa_provisional_3-2-1_50KQV_2021-08-31_nrt_fmask.tif\n",
      "Ignoring Exception: '/vsicurl/https://data.dea.ga.gov.au/baseline/ga_s2am_ard_provisional_3/50/KQV/2021/08/31_nrt/20210831T053320/ga_s2am_oa_provisional_3-2-1_50KQV_2021-08-31_nrt_fmask.tif' not recognized as a supported file format.\n",
      "Error opening source dataset: https://data.dea.ga.gov.au/baseline/ga_s2am_ard_provisional_3/50/KQV/2021/08/31_nrt/20210831T053320/ga_s2am_nbart_provisional_3-2-1_50KQV_2021-08-31_nrt_band04.tif\n",
      "Ignoring Exception: '/vsicurl/https://data.dea.ga.gov.au/baseline/ga_s2am_ard_provisional_3/50/KQV/2021/08/31_nrt/20210831T053320/ga_s2am_nbart_provisional_3-2-1_50KQV_2021-08-31_nrt_band04.tif' not recognized as a supported file format.\n",
      "Error opening source dataset: https://data.dea.ga.gov.au/baseline/ga_s2am_ard_provisional_3/50/KQV/2021/11/19_nrt/20211119T034902/ga_s2am_oa_provisional_3-2-1_50KQV_2021-11-19_nrt_fmask.tif\n",
      "Ignoring Exception: '/vsicurl/https://data.dea.ga.gov.au/baseline/ga_s2am_ard_provisional_3/50/KQV/2021/11/19_nrt/20211119T034902/ga_s2am_oa_provisional_3-2-1_50KQV_2021-11-19_nrt_fmask.tif' not recognized as a supported file format.\n",
      "Error opening source dataset: https://data.dea.ga.gov.au/baseline/ga_s2am_ard_provisional_3/50/KQV/2021/10/30_nrt/20211030T053046/ga_s2am_oa_provisional_3-2-1_50KQV_2021-10-30_nrt_fmask.tif\n",
      "Ignoring Exception: '/vsicurl/https://data.dea.ga.gov.au/baseline/ga_s2am_ard_provisional_3/50/KQV/2021/10/30_nrt/20211030T053046/ga_s2am_oa_provisional_3-2-1_50KQV_2021-10-30_nrt_fmask.tif' not recognized as a supported file format.\n",
      "Error opening source dataset: https://data.dea.ga.gov.au/baseline/ga_s2am_ard_provisional_3/50/KQV/2021/10/30_nrt/20211030T053046/ga_s2am_nbart_provisional_3-2-1_50KQV_2021-10-30_nrt_band04.tif\n",
      "Ignoring Exception: '/vsicurl/https://data.dea.ga.gov.au/baseline/ga_s2am_ard_provisional_3/50/KQV/2021/10/30_nrt/20211030T053046/ga_s2am_nbart_provisional_3-2-1_50KQV_2021-10-30_nrt_band04.tif' not recognized as a supported file format.\n",
      "Error opening source dataset: https://data.dea.ga.gov.au/baseline/ga_s2bm_ard_provisional_3/50/KQV/2021/10/15_nrt/20211015T035008/ga_s2bm_oa_provisional_3-2-1_50KQV_2021-10-15_nrt_fmask.tif\n",
      "Ignoring Exception: '/vsicurl/https://data.dea.ga.gov.au/baseline/ga_s2bm_ard_provisional_3/50/KQV/2021/10/15_nrt/20211015T035008/ga_s2bm_oa_provisional_3-2-1_50KQV_2021-10-15_nrt_fmask.tif' not recognized as a supported file format.\n",
      "Error opening source dataset: https://data.dea.ga.gov.au/baseline/ga_s2bm_ard_provisional_3/50/KQV/2021/09/25_nrt/20210925T053657/ga_s2bm_oa_provisional_3-2-1_50KQV_2021-09-25_nrt_fmask.tif\n",
      "Ignoring Exception: '/vsicurl/https://data.dea.ga.gov.au/baseline/ga_s2bm_ard_provisional_3/50/KQV/2021/09/25_nrt/20210925T053657/ga_s2bm_oa_provisional_3-2-1_50KQV_2021-09-25_nrt_fmask.tif' not recognized as a supported file format.\n",
      "Error opening source dataset: https://data.dea.ga.gov.au/baseline/ga_s2bm_ard_provisional_3/50/KQV/2021/10/15_nrt/20211015T035008/ga_s2bm_nbart_provisional_3-2-1_50KQV_2021-10-15_nrt_band04.tif\n",
      "Ignoring Exception: '/vsicurl/https://data.dea.ga.gov.au/baseline/ga_s2bm_ard_provisional_3/50/KQV/2021/10/15_nrt/20211015T035008/ga_s2bm_nbart_provisional_3-2-1_50KQV_2021-10-15_nrt_band04.tif' not recognized as a supported file format.\n",
      "Error opening source dataset: https://data.dea.ga.gov.au/baseline/ga_s2bm_ard_provisional_3/50/KQV/2021/09/25_nrt/20210925T053657/ga_s2bm_nbart_provisional_3-2-1_50KQV_2021-09-25_nrt_band04.tif\n",
      "Ignoring Exception: '/vsicurl/https://data.dea.ga.gov.au/baseline/ga_s2bm_ard_provisional_3/50/KQV/2021/09/25_nrt/20210925T053657/ga_s2bm_nbart_provisional_3-2-1_50KQV_2021-09-25_nrt_band04.tif' not recognized as a supported file format.\n",
      "Error opening source dataset: https://data.dea.ga.gov.au/baseline/ga_s2am_ard_provisional_3/50/KQV/2021/09/10_nrt/20210910T053344/ga_s2am_oa_provisional_3-2-1_50KQV_2021-09-10_nrt_fmask.tif\n",
      "Ignoring Exception: '/vsicurl/https://data.dea.ga.gov.au/baseline/ga_s2am_ard_provisional_3/50/KQV/2021/09/10_nrt/20210910T053344/ga_s2am_oa_provisional_3-2-1_50KQV_2021-09-10_nrt_fmask.tif' not recognized as a supported file format.\n",
      "Error opening source dataset: https://data.dea.ga.gov.au/baseline/ga_s2am_ard_provisional_3/50/KQV/2021/09/10_nrt/20210910T053344/ga_s2am_nbart_provisional_3-2-1_50KQV_2021-09-10_nrt_band04.tif\n",
      "Ignoring Exception: '/vsicurl/https://data.dea.ga.gov.au/baseline/ga_s2am_ard_provisional_3/50/KQV/2021/09/10_nrt/20210910T053344/ga_s2am_nbart_provisional_3-2-1_50KQV_2021-09-10_nrt_band04.tif' not recognized as a supported file format.\n",
      "Error opening source dataset: https://data.dea.ga.gov.au/baseline/ga_s2bm_ard_provisional_3/50/KQV/2021/11/14_nrt/20211114T034832/ga_s2bm_oa_provisional_3-2-1_50KQV_2021-11-14_nrt_fmask.tif\n",
      "Ignoring Exception: '/vsicurl/https://data.dea.ga.gov.au/baseline/ga_s2bm_ard_provisional_3/50/KQV/2021/11/14_nrt/20211114T034832/ga_s2bm_oa_provisional_3-2-1_50KQV_2021-11-14_nrt_fmask.tif' not recognized as a supported file format.\n",
      "Error opening source dataset: https://data.dea.ga.gov.au/baseline/ga_s2bm_ard_provisional_3/50/KQV/2021/11/14_nrt/20211114T034832/ga_s2bm_nbart_provisional_3-2-1_50KQV_2021-11-14_nrt_band04.tif\n",
      "Ignoring Exception: '/vsicurl/https://data.dea.ga.gov.au/baseline/ga_s2bm_ard_provisional_3/50/KQV/2021/11/14_nrt/20211114T034832/ga_s2bm_nbart_provisional_3-2-1_50KQV_2021-11-14_nrt_band04.tif' not recognized as a supported file format.\n",
      "Error opening source dataset: https://data.dea.ga.gov.au/baseline/ga_s2am_ard_provisional_3/50/KQV/2021/09/20_nrt/20210920T053414/ga_s2am_oa_provisional_3-2-1_50KQV_2021-09-20_nrt_fmask.tif\n",
      "Ignoring Exception: '/vsicurl/https://data.dea.ga.gov.au/baseline/ga_s2am_ard_provisional_3/50/KQV/2021/09/20_nrt/20210920T053414/ga_s2am_oa_provisional_3-2-1_50KQV_2021-09-20_nrt_fmask.tif' not recognized as a supported file format.\n",
      "Error opening source dataset: https://data.dea.ga.gov.au/baseline/ga_s2am_ard_provisional_3/50/KQV/2021/09/20_nrt/20210920T053414/ga_s2am_nbart_provisional_3-2-1_50KQV_2021-09-20_nrt_band04.tif\n",
      "Ignoring Exception: '/vsicurl/https://data.dea.ga.gov.au/baseline/ga_s2am_ard_provisional_3/50/KQV/2021/09/20_nrt/20210920T053414/ga_s2am_nbart_provisional_3-2-1_50KQV_2021-09-20_nrt_band04.tif' not recognized as a supported file format.\n"
     ]
    }
   ],
   "source": [
    "ds = ds.compute()"
   ]
  },
  {
   "cell_type": "code",
   "execution_count": 112,
   "metadata": {},
   "outputs": [
    {
     "data": {
      "text/html": [
       "<div><svg style=\"position: absolute; width: 0; height: 0; overflow: hidden\">\n",
       "<defs>\n",
       "<symbol id=\"icon-database\" viewBox=\"0 0 32 32\">\n",
       "<path d=\"M16 0c-8.837 0-16 2.239-16 5v4c0 2.761 7.163 5 16 5s16-2.239 16-5v-4c0-2.761-7.163-5-16-5z\"></path>\n",
       "<path d=\"M16 17c-8.837 0-16-2.239-16-5v6c0 2.761 7.163 5 16 5s16-2.239 16-5v-6c0 2.761-7.163 5-16 5z\"></path>\n",
       "<path d=\"M16 26c-8.837 0-16-2.239-16-5v6c0 2.761 7.163 5 16 5s16-2.239 16-5v-6c0 2.761-7.163 5-16 5z\"></path>\n",
       "</symbol>\n",
       "<symbol id=\"icon-file-text2\" viewBox=\"0 0 32 32\">\n",
       "<path d=\"M28.681 7.159c-0.694-0.947-1.662-2.053-2.724-3.116s-2.169-2.030-3.116-2.724c-1.612-1.182-2.393-1.319-2.841-1.319h-15.5c-1.378 0-2.5 1.121-2.5 2.5v27c0 1.378 1.122 2.5 2.5 2.5h23c1.378 0 2.5-1.122 2.5-2.5v-19.5c0-0.448-0.137-1.23-1.319-2.841zM24.543 5.457c0.959 0.959 1.712 1.825 2.268 2.543h-4.811v-4.811c0.718 0.556 1.584 1.309 2.543 2.268zM28 29.5c0 0.271-0.229 0.5-0.5 0.5h-23c-0.271 0-0.5-0.229-0.5-0.5v-27c0-0.271 0.229-0.5 0.5-0.5 0 0 15.499-0 15.5 0v7c0 0.552 0.448 1 1 1h7v19.5z\"></path>\n",
       "<path d=\"M23 26h-14c-0.552 0-1-0.448-1-1s0.448-1 1-1h14c0.552 0 1 0.448 1 1s-0.448 1-1 1z\"></path>\n",
       "<path d=\"M23 22h-14c-0.552 0-1-0.448-1-1s0.448-1 1-1h14c0.552 0 1 0.448 1 1s-0.448 1-1 1z\"></path>\n",
       "<path d=\"M23 18h-14c-0.552 0-1-0.448-1-1s0.448-1 1-1h14c0.552 0 1 0.448 1 1s-0.448 1-1 1z\"></path>\n",
       "</symbol>\n",
       "</defs>\n",
       "</svg>\n",
       "<style>/* CSS stylesheet for displaying xarray objects in jupyterlab.\n",
       " *\n",
       " */\n",
       "\n",
       ":root {\n",
       "  --xr-font-color0: var(--jp-content-font-color0, rgba(0, 0, 0, 1));\n",
       "  --xr-font-color2: var(--jp-content-font-color2, rgba(0, 0, 0, 0.54));\n",
       "  --xr-font-color3: var(--jp-content-font-color3, rgba(0, 0, 0, 0.38));\n",
       "  --xr-border-color: var(--jp-border-color2, #e0e0e0);\n",
       "  --xr-disabled-color: var(--jp-layout-color3, #bdbdbd);\n",
       "  --xr-background-color: var(--jp-layout-color0, white);\n",
       "  --xr-background-color-row-even: var(--jp-layout-color1, white);\n",
       "  --xr-background-color-row-odd: var(--jp-layout-color2, #eeeeee);\n",
       "}\n",
       "\n",
       "html[theme=dark],\n",
       "body.vscode-dark {\n",
       "  --xr-font-color0: rgba(255, 255, 255, 1);\n",
       "  --xr-font-color2: rgba(255, 255, 255, 0.54);\n",
       "  --xr-font-color3: rgba(255, 255, 255, 0.38);\n",
       "  --xr-border-color: #1F1F1F;\n",
       "  --xr-disabled-color: #515151;\n",
       "  --xr-background-color: #111111;\n",
       "  --xr-background-color-row-even: #111111;\n",
       "  --xr-background-color-row-odd: #313131;\n",
       "}\n",
       "\n",
       ".xr-wrap {\n",
       "  display: block;\n",
       "  min-width: 300px;\n",
       "  max-width: 700px;\n",
       "}\n",
       "\n",
       ".xr-text-repr-fallback {\n",
       "  /* fallback to plain text repr when CSS is not injected (untrusted notebook) */\n",
       "  display: none;\n",
       "}\n",
       "\n",
       ".xr-header {\n",
       "  padding-top: 6px;\n",
       "  padding-bottom: 6px;\n",
       "  margin-bottom: 4px;\n",
       "  border-bottom: solid 1px var(--xr-border-color);\n",
       "}\n",
       "\n",
       ".xr-header > div,\n",
       ".xr-header > ul {\n",
       "  display: inline;\n",
       "  margin-top: 0;\n",
       "  margin-bottom: 0;\n",
       "}\n",
       "\n",
       ".xr-obj-type,\n",
       ".xr-array-name {\n",
       "  margin-left: 2px;\n",
       "  margin-right: 10px;\n",
       "}\n",
       "\n",
       ".xr-obj-type {\n",
       "  color: var(--xr-font-color2);\n",
       "}\n",
       "\n",
       ".xr-sections {\n",
       "  padding-left: 0 !important;\n",
       "  display: grid;\n",
       "  grid-template-columns: 150px auto auto 1fr 20px 20px;\n",
       "}\n",
       "\n",
       ".xr-section-item {\n",
       "  display: contents;\n",
       "}\n",
       "\n",
       ".xr-section-item input {\n",
       "  display: none;\n",
       "}\n",
       "\n",
       ".xr-section-item input + label {\n",
       "  color: var(--xr-disabled-color);\n",
       "}\n",
       "\n",
       ".xr-section-item input:enabled + label {\n",
       "  cursor: pointer;\n",
       "  color: var(--xr-font-color2);\n",
       "}\n",
       "\n",
       ".xr-section-item input:enabled + label:hover {\n",
       "  color: var(--xr-font-color0);\n",
       "}\n",
       "\n",
       ".xr-section-summary {\n",
       "  grid-column: 1;\n",
       "  color: var(--xr-font-color2);\n",
       "  font-weight: 500;\n",
       "}\n",
       "\n",
       ".xr-section-summary > span {\n",
       "  display: inline-block;\n",
       "  padding-left: 0.5em;\n",
       "}\n",
       "\n",
       ".xr-section-summary-in:disabled + label {\n",
       "  color: var(--xr-font-color2);\n",
       "}\n",
       "\n",
       ".xr-section-summary-in + label:before {\n",
       "  display: inline-block;\n",
       "  content: '►';\n",
       "  font-size: 11px;\n",
       "  width: 15px;\n",
       "  text-align: center;\n",
       "}\n",
       "\n",
       ".xr-section-summary-in:disabled + label:before {\n",
       "  color: var(--xr-disabled-color);\n",
       "}\n",
       "\n",
       ".xr-section-summary-in:checked + label:before {\n",
       "  content: '▼';\n",
       "}\n",
       "\n",
       ".xr-section-summary-in:checked + label > span {\n",
       "  display: none;\n",
       "}\n",
       "\n",
       ".xr-section-summary,\n",
       ".xr-section-inline-details {\n",
       "  padding-top: 4px;\n",
       "  padding-bottom: 4px;\n",
       "}\n",
       "\n",
       ".xr-section-inline-details {\n",
       "  grid-column: 2 / -1;\n",
       "}\n",
       "\n",
       ".xr-section-details {\n",
       "  display: none;\n",
       "  grid-column: 1 / -1;\n",
       "  margin-bottom: 5px;\n",
       "}\n",
       "\n",
       ".xr-section-summary-in:checked ~ .xr-section-details {\n",
       "  display: contents;\n",
       "}\n",
       "\n",
       ".xr-array-wrap {\n",
       "  grid-column: 1 / -1;\n",
       "  display: grid;\n",
       "  grid-template-columns: 20px auto;\n",
       "}\n",
       "\n",
       ".xr-array-wrap > label {\n",
       "  grid-column: 1;\n",
       "  vertical-align: top;\n",
       "}\n",
       "\n",
       ".xr-preview {\n",
       "  color: var(--xr-font-color3);\n",
       "}\n",
       "\n",
       ".xr-array-preview,\n",
       ".xr-array-data {\n",
       "  padding: 0 5px !important;\n",
       "  grid-column: 2;\n",
       "}\n",
       "\n",
       ".xr-array-data,\n",
       ".xr-array-in:checked ~ .xr-array-preview {\n",
       "  display: none;\n",
       "}\n",
       "\n",
       ".xr-array-in:checked ~ .xr-array-data,\n",
       ".xr-array-preview {\n",
       "  display: inline-block;\n",
       "}\n",
       "\n",
       ".xr-dim-list {\n",
       "  display: inline-block !important;\n",
       "  list-style: none;\n",
       "  padding: 0 !important;\n",
       "  margin: 0;\n",
       "}\n",
       "\n",
       ".xr-dim-list li {\n",
       "  display: inline-block;\n",
       "  padding: 0;\n",
       "  margin: 0;\n",
       "}\n",
       "\n",
       ".xr-dim-list:before {\n",
       "  content: '(';\n",
       "}\n",
       "\n",
       ".xr-dim-list:after {\n",
       "  content: ')';\n",
       "}\n",
       "\n",
       ".xr-dim-list li:not(:last-child):after {\n",
       "  content: ',';\n",
       "  padding-right: 5px;\n",
       "}\n",
       "\n",
       ".xr-has-index {\n",
       "  font-weight: bold;\n",
       "}\n",
       "\n",
       ".xr-var-list,\n",
       ".xr-var-item {\n",
       "  display: contents;\n",
       "}\n",
       "\n",
       ".xr-var-item > div,\n",
       ".xr-var-item label,\n",
       ".xr-var-item > .xr-var-name span {\n",
       "  background-color: var(--xr-background-color-row-even);\n",
       "  margin-bottom: 0;\n",
       "}\n",
       "\n",
       ".xr-var-item > .xr-var-name:hover span {\n",
       "  padding-right: 5px;\n",
       "}\n",
       "\n",
       ".xr-var-list > li:nth-child(odd) > div,\n",
       ".xr-var-list > li:nth-child(odd) > label,\n",
       ".xr-var-list > li:nth-child(odd) > .xr-var-name span {\n",
       "  background-color: var(--xr-background-color-row-odd);\n",
       "}\n",
       "\n",
       ".xr-var-name {\n",
       "  grid-column: 1;\n",
       "}\n",
       "\n",
       ".xr-var-dims {\n",
       "  grid-column: 2;\n",
       "}\n",
       "\n",
       ".xr-var-dtype {\n",
       "  grid-column: 3;\n",
       "  text-align: right;\n",
       "  color: var(--xr-font-color2);\n",
       "}\n",
       "\n",
       ".xr-var-preview {\n",
       "  grid-column: 4;\n",
       "}\n",
       "\n",
       ".xr-var-name,\n",
       ".xr-var-dims,\n",
       ".xr-var-dtype,\n",
       ".xr-preview,\n",
       ".xr-attrs dt {\n",
       "  white-space: nowrap;\n",
       "  overflow: hidden;\n",
       "  text-overflow: ellipsis;\n",
       "  padding-right: 10px;\n",
       "}\n",
       "\n",
       ".xr-var-name:hover,\n",
       ".xr-var-dims:hover,\n",
       ".xr-var-dtype:hover,\n",
       ".xr-attrs dt:hover {\n",
       "  overflow: visible;\n",
       "  width: auto;\n",
       "  z-index: 1;\n",
       "}\n",
       "\n",
       ".xr-var-attrs,\n",
       ".xr-var-data {\n",
       "  display: none;\n",
       "  background-color: var(--xr-background-color) !important;\n",
       "  padding-bottom: 5px !important;\n",
       "}\n",
       "\n",
       ".xr-var-attrs-in:checked ~ .xr-var-attrs,\n",
       ".xr-var-data-in:checked ~ .xr-var-data {\n",
       "  display: block;\n",
       "}\n",
       "\n",
       ".xr-var-data > table {\n",
       "  float: right;\n",
       "}\n",
       "\n",
       ".xr-var-name span,\n",
       ".xr-var-data,\n",
       ".xr-attrs {\n",
       "  padding-left: 25px !important;\n",
       "}\n",
       "\n",
       ".xr-attrs,\n",
       ".xr-var-attrs,\n",
       ".xr-var-data {\n",
       "  grid-column: 1 / -1;\n",
       "}\n",
       "\n",
       "dl.xr-attrs {\n",
       "  padding: 0;\n",
       "  margin: 0;\n",
       "  display: grid;\n",
       "  grid-template-columns: 125px auto;\n",
       "}\n",
       "\n",
       ".xr-attrs dt,\n",
       ".xr-attrs dd {\n",
       "  padding: 0;\n",
       "  margin: 0;\n",
       "  float: left;\n",
       "  padding-right: 10px;\n",
       "  width: auto;\n",
       "}\n",
       "\n",
       ".xr-attrs dt {\n",
       "  font-weight: normal;\n",
       "  grid-column: 1;\n",
       "}\n",
       "\n",
       ".xr-attrs dt:hover span {\n",
       "  display: inline-block;\n",
       "  background: var(--xr-background-color);\n",
       "  padding-right: 10px;\n",
       "}\n",
       "\n",
       ".xr-attrs dd {\n",
       "  grid-column: 2;\n",
       "  white-space: pre-wrap;\n",
       "  word-break: break-all;\n",
       "}\n",
       "\n",
       ".xr-icon-database,\n",
       ".xr-icon-file-text2 {\n",
       "  display: inline-block;\n",
       "  vertical-align: middle;\n",
       "  width: 1em;\n",
       "  height: 1.5em !important;\n",
       "  stroke-width: 0;\n",
       "  stroke: currentColor;\n",
       "  fill: currentColor;\n",
       "}\n",
       "</style><pre class='xr-text-repr-fallback'>&lt;xarray.Dataset&gt;\n",
       "Dimensions:      (time: 23, x: 19, y: 31)\n",
       "Coordinates:\n",
       "  * time         (time) datetime64[ns] 2021-08-31T02:14:07.180225 ... 2021-12...\n",
       "  * y            (y) float64 -2.572e+06 -2.572e+06 ... -2.572e+06 -2.572e+06\n",
       "  * x            (x) float64 -1.228e+06 -1.228e+06 ... -1.228e+06 -1.228e+06\n",
       "    spatial_ref  int32 3577\n",
       "Data variables:\n",
       "    nbart_red    (time, y, x) uint16 0 0 0 0 0 0 ... 4027 4037 4154 4313 4350\n",
       "    fmask        (time, y, x) uint16 0 0 0 0 0 0 0 0 0 0 ... 2 2 2 2 2 2 2 2 2 2\n",
       "Attributes:\n",
       "    crs:           EPSG:3577\n",
       "    grid_mapping:  spatial_ref</pre><div class='xr-wrap' hidden><div class='xr-header'><div class='xr-obj-type'>xarray.Dataset</div></div><ul class='xr-sections'><li class='xr-section-item'><input id='section-b5b0cd4f-5efc-4360-9259-bdd045ab6788' class='xr-section-summary-in' type='checkbox' disabled ><label for='section-b5b0cd4f-5efc-4360-9259-bdd045ab6788' class='xr-section-summary'  title='Expand/collapse section'>Dimensions:</label><div class='xr-section-inline-details'><ul class='xr-dim-list'><li><span class='xr-has-index'>time</span>: 23</li><li><span class='xr-has-index'>x</span>: 19</li><li><span class='xr-has-index'>y</span>: 31</li></ul></div><div class='xr-section-details'></div></li><li class='xr-section-item'><input id='section-a0768a8b-eceb-4b8b-b31e-6be2e2fd37e8' class='xr-section-summary-in' type='checkbox'  checked><label for='section-a0768a8b-eceb-4b8b-b31e-6be2e2fd37e8' class='xr-section-summary' >Coordinates: <span>(4)</span></label><div class='xr-section-inline-details'></div><div class='xr-section-details'><ul class='xr-var-list'><li class='xr-var-item'><div class='xr-var-name'><span class='xr-has-index'>time</span></div><div class='xr-var-dims'>(time)</div><div class='xr-var-dtype'>datetime64[ns]</div><div class='xr-var-preview xr-preview'>2021-08-31T02:14:07.180225 ... 2...</div><input id='attrs-f6d6865d-4882-4c14-8ced-f3cd82a5ab98' class='xr-var-attrs-in' type='checkbox' ><label for='attrs-f6d6865d-4882-4c14-8ced-f3cd82a5ab98' title='Show/Hide attributes'><svg class='icon xr-icon-file-text2'><use xlink:href='#icon-file-text2'></use></svg></label><input id='data-d13ef9b0-9871-4251-84ea-492c4a982fe1' class='xr-var-data-in' type='checkbox'><label for='data-d13ef9b0-9871-4251-84ea-492c4a982fe1' title='Show/Hide data repr'><svg class='icon xr-icon-database'><use xlink:href='#icon-database'></use></svg></label><div class='xr-var-attrs'><dl class='xr-attrs'><dt><span>units :</span></dt><dd>seconds since 1970-01-01 00:00:00</dd></dl></div><div class='xr-var-data'><pre>array([&#x27;2021-08-31T02:14:07.180225000&#x27;, &#x27;2021-09-05T02:14:02.316804000&#x27;,\n",
       "       &#x27;2021-09-10T02:14:05.924871000&#x27;, &#x27;2021-09-15T02:14:01.941567000&#x27;,\n",
       "       &#x27;2021-09-20T02:14:08.332501000&#x27;, &#x27;2021-09-25T02:14:04.058057000&#x27;,\n",
       "       &#x27;2021-09-30T02:14:10.086034000&#x27;, &#x27;2021-10-05T02:14:05.989611000&#x27;,\n",
       "       &#x27;2021-10-10T02:14:11.079500000&#x27;, &#x27;2021-10-15T02:14:07.068620000&#x27;,\n",
       "       &#x27;2021-10-20T02:14:11.199260000&#x27;, &#x27;2021-10-25T02:14:07.318687000&#x27;,\n",
       "       &#x27;2021-10-30T02:14:10.457644000&#x27;, &#x27;2021-11-04T02:14:06.608591000&#x27;,\n",
       "       &#x27;2021-11-14T02:14:04.696547000&#x27;, &#x27;2021-11-19T02:14:05.872129000&#x27;,\n",
       "       &#x27;2021-11-24T02:13:58.915811000&#x27;, &#x27;2021-11-29T02:14:05.640175000&#x27;,\n",
       "       &#x27;2021-12-04T02:14:01.119612000&#x27;, &#x27;2021-12-09T02:14:04.470478000&#x27;,\n",
       "       &#x27;2021-12-19T02:14:06.432871000&#x27;, &#x27;2021-12-24T02:14:00.968321000&#x27;,\n",
       "       &#x27;2021-12-29T02:14:07.431323000&#x27;], dtype=&#x27;datetime64[ns]&#x27;)</pre></div></li><li class='xr-var-item'><div class='xr-var-name'><span class='xr-has-index'>y</span></div><div class='xr-var-dims'>(y)</div><div class='xr-var-dtype'>float64</div><div class='xr-var-preview xr-preview'>-2.572e+06 ... -2.572e+06</div><input id='attrs-24d3f88b-42b9-45c6-89c5-2e5926f12cd5' class='xr-var-attrs-in' type='checkbox' ><label for='attrs-24d3f88b-42b9-45c6-89c5-2e5926f12cd5' title='Show/Hide attributes'><svg class='icon xr-icon-file-text2'><use xlink:href='#icon-file-text2'></use></svg></label><input id='data-236c1bdf-4503-4786-a89a-98dc47ad9487' class='xr-var-data-in' type='checkbox'><label for='data-236c1bdf-4503-4786-a89a-98dc47ad9487' title='Show/Hide data repr'><svg class='icon xr-icon-database'><use xlink:href='#icon-database'></use></svg></label><div class='xr-var-attrs'><dl class='xr-attrs'><dt><span>units :</span></dt><dd>metre</dd><dt><span>resolution :</span></dt><dd>-10.0</dd><dt><span>crs :</span></dt><dd>EPSG:3577</dd></dl></div><div class='xr-var-data'><pre>array([-2572025., -2572035., -2572045., -2572055., -2572065., -2572075.,\n",
       "       -2572085., -2572095., -2572105., -2572115., -2572125., -2572135.,\n",
       "       -2572145., -2572155., -2572165., -2572175., -2572185., -2572195.,\n",
       "       -2572205., -2572215., -2572225., -2572235., -2572245., -2572255.,\n",
       "       -2572265., -2572275., -2572285., -2572295., -2572305., -2572315.,\n",
       "       -2572325.])</pre></div></li><li class='xr-var-item'><div class='xr-var-name'><span class='xr-has-index'>x</span></div><div class='xr-var-dims'>(x)</div><div class='xr-var-dtype'>float64</div><div class='xr-var-preview xr-preview'>-1.228e+06 ... -1.228e+06</div><input id='attrs-ede113ee-f42d-4892-953a-b9d29a3180a6' class='xr-var-attrs-in' type='checkbox' ><label for='attrs-ede113ee-f42d-4892-953a-b9d29a3180a6' title='Show/Hide attributes'><svg class='icon xr-icon-file-text2'><use xlink:href='#icon-file-text2'></use></svg></label><input id='data-0082cd35-b45e-4728-b262-87b4718ed64a' class='xr-var-data-in' type='checkbox'><label for='data-0082cd35-b45e-4728-b262-87b4718ed64a' title='Show/Hide data repr'><svg class='icon xr-icon-database'><use xlink:href='#icon-database'></use></svg></label><div class='xr-var-attrs'><dl class='xr-attrs'><dt><span>units :</span></dt><dd>metre</dd><dt><span>resolution :</span></dt><dd>10.0</dd><dt><span>crs :</span></dt><dd>EPSG:3577</dd></dl></div><div class='xr-var-data'><pre>array([-1227955., -1227945., -1227935., -1227925., -1227915., -1227905.,\n",
       "       -1227895., -1227885., -1227875., -1227865., -1227855., -1227845.,\n",
       "       -1227835., -1227825., -1227815., -1227805., -1227795., -1227785.,\n",
       "       -1227775.])</pre></div></li><li class='xr-var-item'><div class='xr-var-name'><span>spatial_ref</span></div><div class='xr-var-dims'>()</div><div class='xr-var-dtype'>int32</div><div class='xr-var-preview xr-preview'>3577</div><input id='attrs-959886aa-00a9-4179-bbdb-b0410cc1df5e' class='xr-var-attrs-in' type='checkbox' ><label for='attrs-959886aa-00a9-4179-bbdb-b0410cc1df5e' title='Show/Hide attributes'><svg class='icon xr-icon-file-text2'><use xlink:href='#icon-file-text2'></use></svg></label><input id='data-0cfd6336-2359-4d36-8b1b-8bb28e81ce37' class='xr-var-data-in' type='checkbox'><label for='data-0cfd6336-2359-4d36-8b1b-8bb28e81ce37' title='Show/Hide data repr'><svg class='icon xr-icon-database'><use xlink:href='#icon-database'></use></svg></label><div class='xr-var-attrs'><dl class='xr-attrs'><dt><span>spatial_ref :</span></dt><dd>PROJCS[&quot;GDA94 / Australian Albers&quot;,GEOGCS[&quot;GDA94&quot;,DATUM[&quot;Geocentric_Datum_of_Australia_1994&quot;,SPHEROID[&quot;GRS 1980&quot;,6378137,298.257222101,AUTHORITY[&quot;EPSG&quot;,&quot;7019&quot;]],AUTHORITY[&quot;EPSG&quot;,&quot;6283&quot;]],PRIMEM[&quot;Greenwich&quot;,0,AUTHORITY[&quot;EPSG&quot;,&quot;8901&quot;]],UNIT[&quot;degree&quot;,0.0174532925199433,AUTHORITY[&quot;EPSG&quot;,&quot;9122&quot;]],AUTHORITY[&quot;EPSG&quot;,&quot;4283&quot;]],PROJECTION[&quot;Albers_Conic_Equal_Area&quot;],PARAMETER[&quot;latitude_of_center&quot;,0],PARAMETER[&quot;longitude_of_center&quot;,132],PARAMETER[&quot;standard_parallel_1&quot;,-18],PARAMETER[&quot;standard_parallel_2&quot;,-36],PARAMETER[&quot;false_easting&quot;,0],PARAMETER[&quot;false_northing&quot;,0],UNIT[&quot;metre&quot;,1,AUTHORITY[&quot;EPSG&quot;,&quot;9001&quot;]],AXIS[&quot;Easting&quot;,EAST],AXIS[&quot;Northing&quot;,NORTH],AUTHORITY[&quot;EPSG&quot;,&quot;3577&quot;]]</dd><dt><span>grid_mapping_name :</span></dt><dd>albers_conical_equal_area</dd></dl></div><div class='xr-var-data'><pre>array(3577)</pre></div></li></ul></div></li><li class='xr-section-item'><input id='section-f4050431-8214-4721-9730-2ef18c16fcd3' class='xr-section-summary-in' type='checkbox'  checked><label for='section-f4050431-8214-4721-9730-2ef18c16fcd3' class='xr-section-summary' >Data variables: <span>(2)</span></label><div class='xr-section-inline-details'></div><div class='xr-section-details'><ul class='xr-var-list'><li class='xr-var-item'><div class='xr-var-name'><span>nbart_red</span></div><div class='xr-var-dims'>(time, y, x)</div><div class='xr-var-dtype'>uint16</div><div class='xr-var-preview xr-preview'>0 0 0 0 0 ... 4037 4154 4313 4350</div><input id='attrs-60d93b91-f1e6-443a-ae6b-cf0fc8148b41' class='xr-var-attrs-in' type='checkbox' ><label for='attrs-60d93b91-f1e6-443a-ae6b-cf0fc8148b41' title='Show/Hide attributes'><svg class='icon xr-icon-file-text2'><use xlink:href='#icon-file-text2'></use></svg></label><input id='data-8c63027f-8dd1-4fdd-99ab-92e0ff23d695' class='xr-var-data-in' type='checkbox'><label for='data-8c63027f-8dd1-4fdd-99ab-92e0ff23d695' title='Show/Hide data repr'><svg class='icon xr-icon-database'><use xlink:href='#icon-database'></use></svg></label><div class='xr-var-attrs'><dl class='xr-attrs'><dt><span>nodata :</span></dt><dd>0</dd><dt><span>units :</span></dt><dd>1</dd><dt><span>crs :</span></dt><dd>EPSG:3577</dd><dt><span>grid_mapping :</span></dt><dd>spatial_ref</dd></dl></div><div class='xr-var-data'><pre>array([[[   0,    0,    0, ...,    0,    0,    0],\n",
       "        [   0,    0,    0, ...,    0,    0,    0],\n",
       "        [   0,    0,    0, ...,    0,    0,    0],\n",
       "        ...,\n",
       "        [   0,    0,    0, ...,    0,    0,    0],\n",
       "        [   0,    0,    0, ...,    0,    0,    0],\n",
       "        [   0,    0,    0, ...,    0,    0,    0]],\n",
       "\n",
       "       [[   0,    0,    0, ...,    0,    0,    0],\n",
       "        [   0,    0,    0, ...,    0,    0,    0],\n",
       "        [   0,    0,    0, ...,    0,    0,    0],\n",
       "        ...,\n",
       "        [   0,    0,    0, ...,    0,    0,    0],\n",
       "        [   0,    0,    0, ...,    0,    0,    0],\n",
       "        [   0,    0,    0, ...,    0,    0,    0]],\n",
       "\n",
       "       [[   0,    0,    0, ...,    0,    0,    0],\n",
       "        [   0,    0,    0, ...,    0,    0,    0],\n",
       "        [   0,    0,    0, ...,    0,    0,    0],\n",
       "        ...,\n",
       "...\n",
       "        ...,\n",
       "        [1745, 1864,  929, ..., 1354,  868,  608],\n",
       "        [1805, 1670,  966, ..., 1366,  929,  575],\n",
       "        [1876, 1597, 1076, ..., 1088,  961,  878]],\n",
       "\n",
       "       [[1179, 1210, 1026, ...,  925,  846,  905],\n",
       "        [1149, 1172, 1082, ...,  906,  851,  842],\n",
       "        [1192, 1153, 1131, ..., 1119, 1007,  957],\n",
       "        ...,\n",
       "        [1735, 1744,  907, ..., 1281,  812,  618],\n",
       "        [1755, 1562,  908, ..., 1285,  829,  579],\n",
       "        [1809, 1465,  976, ..., 1108,  941,  866]],\n",
       "\n",
       "       [[1858, 1907, 2102, ..., 3054, 3270, 3457],\n",
       "        [2111, 2187, 2356, ..., 3211, 3448, 3609],\n",
       "        [2353, 2412, 2456, ..., 3230, 3512, 3669],\n",
       "        ...,\n",
       "        [3074, 2665, 2666, ..., 4172, 4273, 4395],\n",
       "        [3182, 2707, 2809, ..., 4197, 4307, 4390],\n",
       "        [3344, 2993, 3009, ..., 4154, 4313, 4350]]], dtype=uint16)</pre></div></li><li class='xr-var-item'><div class='xr-var-name'><span>fmask</span></div><div class='xr-var-dims'>(time, y, x)</div><div class='xr-var-dtype'>uint16</div><div class='xr-var-preview xr-preview'>0 0 0 0 0 0 0 0 ... 2 2 2 2 2 2 2 2</div><input id='attrs-7a18aaf7-699a-4d29-b4e0-5f3154844539' class='xr-var-attrs-in' type='checkbox' ><label for='attrs-7a18aaf7-699a-4d29-b4e0-5f3154844539' title='Show/Hide attributes'><svg class='icon xr-icon-file-text2'><use xlink:href='#icon-file-text2'></use></svg></label><input id='data-4a229e94-50cb-492f-b12d-0a37e2e12a20' class='xr-var-data-in' type='checkbox'><label for='data-4a229e94-50cb-492f-b12d-0a37e2e12a20' title='Show/Hide data repr'><svg class='icon xr-icon-database'><use xlink:href='#icon-database'></use></svg></label><div class='xr-var-attrs'><dl class='xr-attrs'><dt><span>nodata :</span></dt><dd>0</dd><dt><span>units :</span></dt><dd>1</dd><dt><span>crs :</span></dt><dd>EPSG:3577</dd><dt><span>grid_mapping :</span></dt><dd>spatial_ref</dd></dl></div><div class='xr-var-data'><pre>array([[[0, 0, 0, ..., 0, 0, 0],\n",
       "        [0, 0, 0, ..., 0, 0, 0],\n",
       "        [0, 0, 0, ..., 0, 0, 0],\n",
       "        ...,\n",
       "        [0, 0, 0, ..., 0, 0, 0],\n",
       "        [0, 0, 0, ..., 0, 0, 0],\n",
       "        [0, 0, 0, ..., 0, 0, 0]],\n",
       "\n",
       "       [[0, 0, 0, ..., 0, 0, 0],\n",
       "        [0, 0, 0, ..., 0, 0, 0],\n",
       "        [0, 0, 0, ..., 0, 0, 0],\n",
       "        ...,\n",
       "        [0, 0, 0, ..., 0, 0, 0],\n",
       "        [0, 0, 0, ..., 0, 0, 0],\n",
       "        [0, 0, 0, ..., 0, 0, 0]],\n",
       "\n",
       "       [[0, 0, 0, ..., 0, 0, 0],\n",
       "        [0, 0, 0, ..., 0, 0, 0],\n",
       "        [0, 0, 0, ..., 0, 0, 0],\n",
       "        ...,\n",
       "...\n",
       "        ...,\n",
       "        [1, 1, 1, ..., 1, 1, 1],\n",
       "        [1, 1, 1, ..., 1, 1, 1],\n",
       "        [1, 1, 1, ..., 1, 1, 1]],\n",
       "\n",
       "       [[1, 1, 1, ..., 1, 1, 1],\n",
       "        [1, 1, 1, ..., 1, 1, 1],\n",
       "        [1, 1, 1, ..., 1, 1, 1],\n",
       "        ...,\n",
       "        [1, 1, 1, ..., 1, 1, 1],\n",
       "        [1, 1, 1, ..., 1, 1, 1],\n",
       "        [1, 1, 1, ..., 1, 1, 1]],\n",
       "\n",
       "       [[2, 2, 2, ..., 2, 2, 2],\n",
       "        [2, 2, 2, ..., 2, 2, 2],\n",
       "        [2, 2, 2, ..., 2, 2, 2],\n",
       "        ...,\n",
       "        [2, 2, 2, ..., 2, 2, 2],\n",
       "        [2, 2, 2, ..., 2, 2, 2],\n",
       "        [2, 2, 2, ..., 2, 2, 2]]], dtype=uint16)</pre></div></li></ul></div></li><li class='xr-section-item'><input id='section-4a6717d1-c5e4-4480-a4e1-318f28ede193' class='xr-section-summary-in' type='checkbox'  checked><label for='section-4a6717d1-c5e4-4480-a4e1-318f28ede193' class='xr-section-summary' >Attributes: <span>(2)</span></label><div class='xr-section-inline-details'></div><div class='xr-section-details'><dl class='xr-attrs'><dt><span>crs :</span></dt><dd>EPSG:3577</dd><dt><span>grid_mapping :</span></dt><dd>spatial_ref</dd></dl></div></li></ul></div></div>"
      ],
      "text/plain": [
       "<xarray.Dataset>\n",
       "Dimensions:      (time: 23, x: 19, y: 31)\n",
       "Coordinates:\n",
       "  * time         (time) datetime64[ns] 2021-08-31T02:14:07.180225 ... 2021-12...\n",
       "  * y            (y) float64 -2.572e+06 -2.572e+06 ... -2.572e+06 -2.572e+06\n",
       "  * x            (x) float64 -1.228e+06 -1.228e+06 ... -1.228e+06 -1.228e+06\n",
       "    spatial_ref  int32 3577\n",
       "Data variables:\n",
       "    nbart_red    (time, y, x) uint16 0 0 0 0 0 0 ... 4027 4037 4154 4313 4350\n",
       "    fmask        (time, y, x) uint16 0 0 0 0 0 0 0 0 0 0 ... 2 2 2 2 2 2 2 2 2 2\n",
       "Attributes:\n",
       "    crs:           EPSG:3577\n",
       "    grid_mapping:  spatial_ref"
      ]
     },
     "execution_count": 112,
     "metadata": {},
     "output_type": "execute_result"
    }
   ],
   "source": [
    "ds"
   ]
  },
  {
   "cell_type": "code",
   "execution_count": null,
   "metadata": {},
   "outputs": [],
   "source": []
  },
  {
   "cell_type": "markdown",
   "metadata": {},
   "source": [
    "## Monitor simulation"
   ]
  },
  {
   "cell_type": "markdown",
   "metadata": {},
   "source": [
    "### Load raw vege, smooth, veg, raw change time series"
   ]
  },
  {
   "cell_type": "code",
   "execution_count": 7,
   "metadata": {},
   "outputs": [
    {
     "data": {
      "image/png": "[encoded data removed]",
      "text/plain": [
       "<Figure size 1080x288 with 1 Axes>"
      ]
     },
     "metadata": {},
     "output_type": "display_data"
    },
    {
     "data": {
      "image/png": "[encoded data removed]",
      "text/plain": [
       "<Figure size 1080x288 with 1 Axes>"
      ]
     },
     "metadata": {},
     "output_type": "display_data"
    },
    {
     "data": {
      "image/png": "[encoded data removed]",
      "text/plain": [
       "<Figure size 1080x288 with 1 Axes>"
      ]
     },
     "metadata": {},
     "output_type": "display_data"
    }
   ],
   "source": [
    "ds_change = xr.open_dataset(r\"C:\\Users\\Lewis\\Desktop\\test_change\\change_A01.nc\")  # big impact 2007 ophtha dam area\n",
    "#ds_change = xr.open_dataset(r\"C:\\Users\\Lewis\\Desktop\\test_change\\change_A02.nc\")  # big impact 2007 ophtha dam area, but training done 2013, so recovery is shown\n",
    "#ds_change = xr.open_dataset(r\"C:\\Users\\Lewis\\Desktop\\test_change\\change_A03.nc\")  # near impact 2007 ophtha dam area, less impact in 2007\n",
    "#ds_change = xr.open_dataset(r\"C:\\Users\\Lewis\\Desktop\\test_change\\change_A04.nc\")  # open shrubland with wo euc? training period bad\n",
    "#ds_change = xr.open_dataset(r\"C:\\Users\\Lewis\\Desktop\\test_change\\change_A05.nc\")  # mulga area on road side? training period bad\n",
    "#ds_change = xr.open_dataset(r\"C:\\Users\\Lewis\\Desktop\\test_change\\change_A06.nc\")  # euc vic east yandi. gradual increasing... odd result? try train period\n",
    "#ds_change = xr.open_dataset(r\"C:\\Users\\Lewis\\Desktop\\test_change\\change_A07.nc\")  # yandi discharge south veg... good, but change in training period?\n",
    "#ds_change = xr.open_dataset(r\"C:\\Users\\Lewis\\Desktop\\test_change\\change_A08.nc\")   # yandi elephatn graveyard. good - 2007 decline\n",
    "\n",
    "vec_summary = ds_change['summary'].median(['x', 'y']).data\n",
    "fig = plt.figure(figsize=(15, 4))\n",
    "plt.plot(vec_summary, color='green')\n",
    "plt.show()\n",
    "\n",
    "vec_static = ds_change['static'].median(['x', 'y']).data\n",
    "fig = plt.figure(figsize=(15, 4))\n",
    "plt.plot(vec_static, color='blue')\n",
    "plt.show()\n",
    "\n",
    "vec_static_smooth = nrt.smooth_change(arr=vec_static)       \n",
    "fig = plt.figure(figsize=(15, 4))\n",
    "plt.plot(vec_static, color='blue')\n",
    "plt.plot(vec_static_smooth, color='red')\n",
    "plt.show()"
   ]
  },
  {
   "cell_type": "code",
   "execution_count": 273,
   "metadata": {},
   "outputs": [
    {
     "data": {
      "text/plain": [
       "<module 'nrt' from 'C:\\\\Users\\\\Lewis\\\\Documents\\\\GitHub\\\\tenement-tools\\\\modules\\\\nrt.py'>"
      ]
     },
     "execution_count": 273,
     "metadata": {},
     "output_type": "execute_result"
    }
   ],
   "source": [
    "from importlib import reload\n",
    "reload(nrt)"
   ]
  },
  {
   "cell_type": "markdown",
   "metadata": {},
   "source": [
    "## Apply rule 1: consequtives"
   ]
  },
  {
   "cell_type": "code",
   "execution_count": 9,
   "metadata": {
    "scrolled": true
   },
   "outputs": [
    {
     "data": {
      "image/png": "[encoded data removed]",
      "text/plain": [
       "<Figure size 1080x288 with 1 Axes>"
      ]
     },
     "metadata": {},
     "output_type": "display_data"
    }
   ],
   "source": [
    "min_consequtives = 3\n",
    "max_consequtives = 5\n",
    "inc_plateaus_in_runs = True\n",
    "\n",
    "# get inc, dec and stable counts\n",
    "vec_rule_1 = nrt.apply_rule_one(arr=vec_static_smooth, \n",
    "                                direction='decline', \n",
    "                                min_consequtives=3, \n",
    "                                max_consequtives=None,\n",
    "                                inc_plateaus=False)\n",
    "\n",
    "fig = plt.figure(figsize=(15, 4))\n",
    "plt.plot(vec_static_smooth, color='darkblue', marker='o', alpha=0.25)\n",
    "plt.plot(np.where(vec_rule_1 >= 1, vec_static_smooth, np.nan), color='red', marker='o', alpha=0.25)\n",
    "plt.show()"
   ]
  },
  {
   "cell_type": "markdown",
   "metadata": {},
   "source": [
    "## Apply rule 2: threshold"
   ]
  },
  {
   "cell_type": "code",
   "execution_count": 10,
   "metadata": {},
   "outputs": [
    {
     "data": {
      "image/png": "[encoded data removed]",
      "text/plain": [
       "<Figure size 1080x288 with 1 Axes>"
      ]
     },
     "metadata": {},
     "output_type": "display_data"
    }
   ],
   "source": [
    "vec_rule_2 = nrt.apply_rule_two(vec_static_smooth, direction='decline', min_stdv=1, operator='<=')\n",
    "#vec_rule_2_incline = apply_rule_two(yest, min_zone=1, operator='>=')\n",
    "\n",
    "fig = plt.figure(figsize=(15, 4))\n",
    "plt.plot(vec_static_smooth, color='darkblue', marker='o', alpha=0.25)\n",
    "plt.plot(vec_rule_2, color='red', marker='o', alpha=0.25)\n",
    "plt.show()"
   ]
  },
  {
   "cell_type": "markdown",
   "metadata": {},
   "source": [
    "## Apply rule 3: jumps"
   ]
  },
  {
   "cell_type": "code",
   "execution_count": 11,
   "metadata": {},
   "outputs": [
    {
     "data": {
      "image/png": "[encoded data removed]",
      "text/plain": [
       "<Figure size 1080x288 with 1 Axes>"
      ]
     },
     "metadata": {},
     "output_type": "display_data"
    }
   ],
   "source": [
    "# temp - just testing\n",
    "spiked = vec_static_smooth.copy()\n",
    "#spiked[-10: -5] = spiked[-10: -5] - 8\n",
    "#spiked[25: 30] = spiked[25: 30] - 4\n",
    "\n",
    "# get num zones to jump\n",
    "num_stdvs = nrt.get_stdv_from_zone(num_zones=1)\n",
    "\n",
    "vec_rule_3 = nrt.apply_rule_three(spiked, direction='decline', num_stdv_jumped=num_stdvs, min_consequtives=3)\n",
    "# #spike_inc = apply_rule_three(spiked, jump_direction='increase', jump_size=1, min_consequtives=3)\n",
    "\n",
    "fig = plt.figure(figsize=(15, 4))\n",
    "plt.plot(spiked, color='darkblue', marker='o', alpha=0.25)\n",
    "plt.plot(np.where(vec_rule_3 >= 1, spiked, np.nan), color='red', marker='o', alpha=0.25)\n",
    "plt.show()"
   ]
  },
  {
   "cell_type": "markdown",
   "metadata": {},
   "source": [
    "## Apply rules 1, 2, 3: combined"
   ]
  },
  {
   "cell_type": "code",
   "execution_count": 14,
   "metadata": {},
   "outputs": [
    {
     "data": {
      "image/png": "[encoded data removed]",
      "text/plain": [
       "<Figure size 1080x288 with 1 Axes>"
      ]
     },
     "metadata": {},
     "output_type": "display_data"
    }
   ],
   "source": [
    "vec_rules_combo = nrt.apply_rule_combo(arr_r1=vec_rule_1, \n",
    "                                       arr_r2=vec_rule_2, \n",
    "                                       arr_r3=vec_rule_3, \n",
    "                                       ruleset='1&2|3')\n",
    "\n",
    "\n",
    "\n",
    "fig = plt.figure(figsize=(15, 4))\n",
    "plt.plot(spiked, color='darkblue', marker='o', alpha=0.25)\n",
    "plt.plot(np.where(vec_rules_combo >= 1, spiked, np.nan), color='red', marker='o', alpha=0.25)\n",
    "plt.show()"
   ]
  },
  {
   "cell_type": "markdown",
   "metadata": {},
   "source": [
    "## Assign zone to rule output"
   ]
  },
  {
   "cell_type": "code",
   "execution_count": 16,
   "metadata": {},
   "outputs": [],
   "source": [
    "# classify smoothed array into zone 0\n",
    "vec_temp = np.abs(vec_static_smooth)\n",
    "\n",
    "# zone 0 - from 0 to 1 (+/-)\n",
    "zone_0 = np.where((vec_temp >= 0) & (vec_temp <= 1), 0, 0)\n",
    "\n",
    "# zone 1 - between 1 and 3 (+/-)\n",
    "zone_1 = np.where((vec_temp > 1) & (vec_temp <= 3), 1, 0)\n",
    "\n",
    "# zone 2 - between 3 and 5 (+/-)\n",
    "zone_2 = np.where((vec_temp > 3) & (vec_temp <= 5), 2, 0)\n",
    "\n",
    "# zone 3 - between 5 and 7 (+/-)\n",
    "zone_3 = np.where((vec_temp > 5) & (vec_temp <= 7), 3, 0)\n",
    "\n",
    "# zone 4 - between 7 and 9 (+/-)\n",
    "zone_4 = np.where((vec_temp > 7) & (vec_temp <= 9), 4, 0)\n",
    "\n",
    "# zone 5 - between 9 and 11 (+/-)\n",
    "zone_5 = np.where((vec_temp > 9) & (vec_temp <= 11), 5, 0)\n",
    "\n",
    "# zone 6 - between 11 and 13 (+/-)\n",
    "zone_6 = np.where((vec_temp > 11) & (vec_temp <= 13), 6, 0)\n",
    "\n",
    "# zone 7 - between 13 and 15 (+/-)\n",
    "zone_7 = np.where((vec_temp > 13) & (vec_temp <= 15), 7, 0)\n",
    "\n",
    "# zone 8 - between 15 and 17 (+/-)\n",
    "zone_8 = np.where((vec_temp > 15) & (vec_temp <= 17), 8, 0)\n",
    "\n",
    "# zone 9 - between 17 and 19 (+/-)\n",
    "zone_9 = np.where((vec_temp > 17) & (vec_temp <= 19), 9, 0)\n",
    "\n",
    "# zone 10 - above 19 (+/-)\n",
    "zone_10 = np.where(vec_temp > 19, 10, 0)"
   ]
  },
  {
   "cell_type": "code",
   "execution_count": 17,
   "metadata": {},
   "outputs": [],
   "source": [
    "# simulate input\n",
    "arr = vec_static_smooth.copy()\n",
    "\n",
    "# set up zone ranges (stdvs)\n",
    "zones = [\n",
    "    [0, 1],    # zone 1 - from 0 to 1 (+/-)\n",
    "    [1, 3],    # zone 2 - between 1 and 3 (+/-)\n",
    "    [3, 5],    # zone 3 - between 3 and 5 (+/-)\n",
    "    [5, 7],    # zone 4 - between 5 and 7 (+/-)\n",
    "    [7, 9],    # zone 5 - between 7 and 9 (+/-)\n",
    "    [9, 11],   # zone 6 - between 9 and 11 (+/-)\n",
    "    [11, 13],  # zone 7 - between 11 and 13 (+/-)\n",
    "    [13, 15],  # zone 8 - between 13 and 15 (+/-)\n",
    "    [15, 17],  # zone 9 - between 15 and 17 (+/-)\n",
    "    [17, 19],  # zone 10 - between 17 and 19 (+/-)\n",
    "    [19]       # zone 11- above 19 (+/-)\n",
    "]\n",
    "\n",
    "# create template vector\n",
    "vec_temp = np.full_like(arr, fill_value=np.nan)\n",
    "\n",
    "# iter zones\n",
    "for i, z in enumerate(zones, start=1):\n",
    "    \n",
    "    # \n",
    "    if i == 1:\n",
    "        vec_temp[np.where((arr >= z[0]) & (arr <= z[1]))] = i\n",
    "        vec_temp[np.where((arr < z[0]) & (arr >= z[1] * -1))] = i * -1\n",
    "            \n",
    "    elif i == 11:       \n",
    "        vec_temp[np.where(arr > z[0])] = i\n",
    "        vec_temp[np.where(arr < z[0] * -1)] = i * -1\n",
    "        \n",
    "    else:\n",
    "        vec_temp[np.where((arr > z[0]) & (arr <= z[1]))] = i\n",
    "        vec_temp[np.where((arr < z[0] * -1) & (arr >= z[1] * -1))] = i * -1\n",
    "        \n",
    "        "
   ]
  },
  {
   "cell_type": "code",
   "execution_count": 18,
   "metadata": {},
   "outputs": [
    {
     "data": {
      "text/plain": [
       "array([ 1.,  1.,  1.,  1.,  1.,  1.,  1.,  1.,  1.,  1.,  1.,  1.,  1.,\n",
       "        1.,  1.,  1.,  1.,  1.,  1.,  1.,  2.,  2.,  2.,  2.,  2.,  2.,\n",
       "        2.,  2.,  2.,  1.,  1.,  2.,  2.,  2.,  2.,  2.,  2.,  2.,  2.,\n",
       "        2.,  2.,  2.,  2.,  2.,  2.,  2.,  2.,  2.,  1.,  1.,  1.,  1.,\n",
       "        1.,  1.,  1.,  1.,  1.,  1.,  1.,  1.,  1.,  1.,  1.,  1.,  1.,\n",
       "        1.,  1.,  1.,  1.,  1.,  2.,  2.,  2.,  3.,  3.,  3.,  3.,  3.,\n",
       "        3.,  3.,  2.,  2.,  2.,  2.,  2.,  2.,  2.,  2.,  2.,  2.,  2.,\n",
       "        2.,  2.,  2.,  2.,  2.,  2.,  2.,  2.,  2.,  2.,  2.,  2.,  2.,\n",
       "        2.,  2.,  2.,  2.,  2.,  2.,  2.,  2.,  2.,  2.,  2.,  2.,  2.,\n",
       "        2.,  1., -1., -2., -2., -3., -3., -3., -3., -3., -3., -3., -3.,\n",
       "       -4., -4., -4., -4., -5., -5., -5., -6., -6., -6., -6., -6., -6.,\n",
       "       -6., -6., -6., -6., -7., -7., -7., -7., -6., -6., -5., -5., -5.,\n",
       "       -5., -5., -5., -5., -5., -6., -6., -6., -6., -6., -6., -6., -6.,\n",
       "       -6., -6., -5., -5., -5., -4., -4., -4., -4., -3., -3., -3., -3.,\n",
       "       -4., -4., -4., -4., -4., -3., -3., -2., -2., -2., -1., -1., -1.,\n",
       "       -1., -1., -2., -2., -2., -2., -3., -3., -3., -3., -4., -4., -3.,\n",
       "       -3., -2., -2., -2., -2., -2., -2., -2., -2., -2., -2., -2., -2.,\n",
       "       -2., -2., -2., -2., -2., -2., -2., -1., -2., -2., -2., -2., -2.,\n",
       "       -3., -3., -3., -2., -2., -2., -2., -2., -2., -2., -2., -2., -2.,\n",
       "       -2., -2., -2., -2., -2., -2., -1., -1., -1., -1., -1., -1., -1.,\n",
       "       -1., -1., -2., -2., -2., -2., -2., -3., -3., -3., -3., -3., -3.,\n",
       "       -3., -2., -2., -2., -2., -2., -2., -3., -3., -3., -4., -3., -3.,\n",
       "       -3., -3., -2., -2., -2., -2., -2., -2., -2., -2., -2., -2., -2.,\n",
       "       -2., -2., -2., -2., -2., -2., -2., -2., -2., -2., -2., -2., -2.,\n",
       "       -2., -2., -2., -2., -2.], dtype=float32)"
      ]
     },
     "execution_count": 18,
     "metadata": {},
     "output_type": "execute_result"
    }
   ],
   "source": [
    "vec_temp"
   ]
  },
  {
   "cell_type": "code",
   "execution_count": null,
   "metadata": {},
   "outputs": [],
   "source": []
  },
  {
   "cell_type": "code",
   "execution_count": null,
   "metadata": {},
   "outputs": [],
   "source": []
  },
  {
   "cell_type": "code",
   "execution_count": null,
   "metadata": {},
   "outputs": [],
   "source": []
  },
  {
   "cell_type": "code",
   "execution_count": null,
   "metadata": {},
   "outputs": [],
   "source": [
    "# dont forget, you need second last image when alerting and displaying data"
   ]
  },
  {
   "cell_type": "code",
   "execution_count": null,
   "metadata": {},
   "outputs": [],
   "source": []
  },
  {
   "cell_type": "code",
   "execution_count": null,
   "metadata": {},
   "outputs": [],
   "source": []
  },
  {
   "cell_type": "code",
   "execution_count": null,
   "metadata": {},
   "outputs": [],
   "source": []
  },
  {
   "cell_type": "code",
   "execution_count": null,
   "metadata": {},
   "outputs": [],
   "source": []
  },
  {
   "cell_type": "code",
   "execution_count": 190,
   "metadata": {},
   "outputs": [],
   "source": []
  },
  {
   "cell_type": "code",
   "execution_count": 200,
   "metadata": {},
   "outputs": [],
   "source": [
    "vec_temp_signed = vec_static_smooth.copy()\n",
    "vec_temp_signed = np.where(np.sign(vec_temp_signed) == 0, 1, np.sign(vec_temp_signed))"
   ]
  },
  {
   "cell_type": "code",
   "execution_count": 202,
   "metadata": {},
   "outputs": [
    {
     "data": {
      "text/plain": [
       "array([ 0.,  0.,  0.,  0.,  0.,  0.,  0.,  0.,  0.,  0.,  0.,  0.,  0.,\n",
       "        0.,  0.,  0.,  0.,  0.,  0.,  0.,  1.,  1.,  1.,  1.,  1.,  1.,\n",
       "        1.,  1.,  1.,  0.,  0.,  1.,  1.,  1.,  1.,  1.,  1.,  1.,  1.,\n",
       "        1.,  1.,  1.,  1.,  1.,  1.,  1.,  1.,  1.,  0.,  0.,  0.,  0.,\n",
       "        0.,  0.,  0.,  0.,  0.,  0.,  0.,  0.,  0.,  0.,  0.,  0.,  0.,\n",
       "        0.,  0.,  0.,  0.,  0.,  1.,  1.,  1.,  2.,  2.,  2.,  2.,  2.,\n",
       "        2.,  2.,  1.,  1.,  1.,  1.,  1.,  1.,  1.,  1.,  1.,  1.,  1.,\n",
       "        1.,  1.,  1.,  1.,  1.,  1.,  1.,  1.,  1.,  1.,  1.,  1.,  1.,\n",
       "        1.,  1.,  1.,  1.,  1.,  1.,  1.,  1.,  1.,  1.,  1.,  1.,  1.,\n",
       "        1.,  0., -0., -1., -1., -2., -2., -2., -2., -2., -2., -2., -2.,\n",
       "       -3., -3., -3., -3., -4., -4., -4., -5., -5., -5., -5., -5., -5.,\n",
       "       -5., -5., -5., -5., -6., -6., -6., -6., -5., -5., -4., -4., -4.,\n",
       "       -4., -4., -4., -4., -4., -5., -5., -5., -5., -5., -5., -5., -5.,\n",
       "       -5., -5., -4., -4., -4., -3., -3., -3., -3., -2., -2., -2., -2.,\n",
       "       -3., -3., -3., -3., -3., -2., -2., -1., -1., -1., -0., -0., -0.,\n",
       "       -0., -0., -1., -1., -1., -1., -2., -2., -2., -2., -3., -3., -2.,\n",
       "       -2., -1., -1., -1., -1., -1., -1., -1., -1., -1., -1., -1., -1.,\n",
       "       -1., -1., -1., -1., -1., -1., -1., -0., -1., -1., -1., -1., -1.,\n",
       "       -2., -2., -2., -1., -1., -1., -1., -1., -1., -1., -1., -1., -1.,\n",
       "       -1., -1., -1., -1., -1., -1., -0., -0., -0., -0., -0., -0., -0.,\n",
       "       -0., -0., -1., -1., -1., -1., -1., -2., -2., -2., -2., -2., -2.,\n",
       "       -2., -1., -1., -1., -1., -1., -1., -2., -2., -2., -3., -2., -2.,\n",
       "       -2., -2., -1., -1., -1., -1., -1., -1., -1., -1., -1., -1., -1.,\n",
       "       -1., -1., -1., -1., -1., -1., -1., -1., -1., -1., -1., -1., -1.,\n",
       "       -1., -1., -1., -1., -1.])"
      ]
     },
     "execution_count": 202,
     "metadata": {},
     "output_type": "execute_result"
    }
   ],
   "source": [
    "vec_temp_signed * zones"
   ]
  },
  {
   "cell_type": "markdown",
   "metadata": {},
   "source": [
    "## Main function"
   ]
  },
  {
   "cell_type": "code",
   "execution_count": null,
   "metadata": {},
   "outputs": [],
   "source": [
    "# bring it all together"
   ]
  },
  {
   "cell_type": "code",
   "execution_count": null,
   "metadata": {},
   "outputs": [],
   "source": []
  },
  {
   "cell_type": "code",
   "execution_count": null,
   "metadata": {},
   "outputs": [],
   "source": []
  },
  {
   "cell_type": "code",
   "execution_count": null,
   "metadata": {},
   "outputs": [],
   "source": [
    "# for i in np.arange(0, len(vec_rule_1_decline)):\n",
    "#     if i > 3:\n",
    "    \n",
    "#         vec_smooth = vec_static_smooth[0:i]\n",
    "#         vec_rule = vec_rule_1_decline[0:i]\n",
    "        \n",
    "#         alarm = False\n",
    "#         if vec_rule[-2] >= 1:\n",
    "#             alarm = True\n",
    "            \n",
    "#         fig = plt.figure(figsize=(15, 4))\n",
    "#         plt.plot(vec_smooth, color='darkblue', marker='o', alpha=0.25)\n",
    "        \n",
    "#         if alarm: \n",
    "#             plt.axvline(i - 2, color='black', linestyle='dashed')\n",
    "        \n",
    "#         plt.show()\n",
    "#         plt.close()"
   ]
  },
  {
   "cell_type": "code",
   "execution_count": null,
   "metadata": {},
   "outputs": [],
   "source": []
  }
 ],
 "metadata": {
  "kernelspec": {
   "display_name": "ArcGISPro",
   "language": "Python",
   "name": "python3"
  },
  "language_info": {
   "file_extension": ".py",
   "name": "python",
   "version": "3"
  }
 },
 "nbformat": 4,
 "nbformat_minor": 2
}
